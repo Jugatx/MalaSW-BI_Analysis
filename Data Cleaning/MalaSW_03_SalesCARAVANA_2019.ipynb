{
 "cells": [
  {
   "cell_type": "code",
   "execution_count": 1,
   "metadata": {},
   "outputs": [],
   "source": [
    "import seaborn as sns\n",
    "import matplotlib.pyplot as plt\n",
    "\n",
    "import pandas as pd\n",
    "import numpy as np\n"
   ]
  },
  {
   "cell_type": "code",
   "execution_count": 2,
   "metadata": {},
   "outputs": [
    {
     "data": {
      "text/html": [
       "        <script type=\"text/javascript\">\n",
       "        window.PlotlyConfig = {MathJaxConfig: 'local'};\n",
       "        if (window.MathJax) {MathJax.Hub.Config({SVG: {font: \"STIX-Web\"}});}\n",
       "        if (typeof require !== 'undefined') {\n",
       "        require.undef(\"plotly\");\n",
       "        requirejs.config({\n",
       "            paths: {\n",
       "                'plotly': ['https://cdn.plot.ly/plotly-latest.min']\n",
       "            }\n",
       "        });\n",
       "        require(['plotly'], function(Plotly) {\n",
       "            window._Plotly = Plotly;\n",
       "        });\n",
       "        }\n",
       "        </script>\n",
       "        "
      ]
     },
     "metadata": {},
     "output_type": "display_data"
    },
    {
     "data": {
      "text/html": [
       "        <script type=\"text/javascript\">\n",
       "        window.PlotlyConfig = {MathJaxConfig: 'local'};\n",
       "        if (window.MathJax) {MathJax.Hub.Config({SVG: {font: \"STIX-Web\"}});}\n",
       "        if (typeof require !== 'undefined') {\n",
       "        require.undef(\"plotly\");\n",
       "        requirejs.config({\n",
       "            paths: {\n",
       "                'plotly': ['https://cdn.plot.ly/plotly-latest.min']\n",
       "            }\n",
       "        });\n",
       "        require(['plotly'], function(Plotly) {\n",
       "            window._Plotly = Plotly;\n",
       "        });\n",
       "        }\n",
       "        </script>\n",
       "        "
      ]
     },
     "metadata": {},
     "output_type": "display_data"
    },
    {
     "data": {
      "text/html": [
       "        <script type=\"text/javascript\">\n",
       "        window.PlotlyConfig = {MathJaxConfig: 'local'};\n",
       "        if (window.MathJax) {MathJax.Hub.Config({SVG: {font: \"STIX-Web\"}});}\n",
       "        if (typeof require !== 'undefined') {\n",
       "        require.undef(\"plotly\");\n",
       "        requirejs.config({\n",
       "            paths: {\n",
       "                'plotly': ['https://cdn.plot.ly/plotly-latest.min']\n",
       "            }\n",
       "        });\n",
       "        require(['plotly'], function(Plotly) {\n",
       "            window._Plotly = Plotly;\n",
       "        });\n",
       "        }\n",
       "        </script>\n",
       "        "
      ]
     },
     "metadata": {},
     "output_type": "display_data"
    }
   ],
   "source": [
    "import sys  \n",
    "sys.path.insert(0, r'C:/Users/jugat/Documents/a_JUGATX/FORMACION/DATA SCIENCE/Functions')\n",
    "\n",
    "from fx_OUTLIERS import *\n",
    "from functions_plot_EDA import *\n",
    "from My_EDA_Functions_library import*\n",
    "from My_EDA_Visualisation_Functions_library import*"
   ]
  },
  {
   "cell_type": "code",
   "execution_count": 1,
   "metadata": {},
   "outputs": [],
   "source": [
    "# Analysis of sales in the CARAVANA fashion fair in June 2019.\n",
    "# Two spreadsheets to work with: 1.inventory of items taken to the fair \n",
    "#                                2.inventory of items returned from the fair\n",
    "# Both these datasets will need to be substracted to figure out how many items were sold"
   ]
  },
  {
   "cell_type": "markdown",
   "metadata": {},
   "source": [
    "# Import inventory"
   ]
  },
  {
   "cell_type": "code",
   "execution_count": 3,
   "metadata": {},
   "outputs": [],
   "source": [
    "df_inventoryCARAVANA_JUN2019 = pd.read_excel('../datasets/Sales/Caravana/INVENTARIO_CONTROL_INTERNO_CARAVANA RESORT .xlsx', skiprows=np.arange(0,3),\n",
    "            usecols= 'B:E')"
   ]
  },
  {
   "cell_type": "code",
   "execution_count": 4,
   "metadata": {},
   "outputs": [
    {
     "data": {
      "text/html": [
       "<div>\n",
       "<style scoped>\n",
       "    .dataframe tbody tr th:only-of-type {\n",
       "        vertical-align: middle;\n",
       "    }\n",
       "\n",
       "    .dataframe tbody tr th {\n",
       "        vertical-align: top;\n",
       "    }\n",
       "\n",
       "    .dataframe thead th {\n",
       "        text-align: right;\n",
       "    }\n",
       "</style>\n",
       "<table border=\"1\" class=\"dataframe\">\n",
       "  <thead>\n",
       "    <tr style=\"text-align: right;\">\n",
       "      <th></th>\n",
       "      <th>MODELO</th>\n",
       "      <th>COLOR</th>\n",
       "      <th>TALLA</th>\n",
       "      <th>CANTIDAD</th>\n",
       "    </tr>\n",
       "  </thead>\n",
       "  <tbody>\n",
       "    <tr>\n",
       "      <th>0</th>\n",
       "      <td>NaN</td>\n",
       "      <td>NaN</td>\n",
       "      <td>NaN</td>\n",
       "      <td>NaN</td>\n",
       "    </tr>\n",
       "    <tr>\n",
       "      <th>1</th>\n",
       "      <td>3GRACIAS BODYSUIT</td>\n",
       "      <td>LAVENDER / ASH / CORAL</td>\n",
       "      <td>CH</td>\n",
       "      <td>1.0</td>\n",
       "    </tr>\n",
       "    <tr>\n",
       "      <th>2</th>\n",
       "      <td>3GRACIAS BODYSUIT</td>\n",
       "      <td>LAVENDER / ASH / CORAL</td>\n",
       "      <td>M</td>\n",
       "      <td>1.0</td>\n",
       "    </tr>\n",
       "    <tr>\n",
       "      <th>3</th>\n",
       "      <td>3GRACIAS BODYSUIT</td>\n",
       "      <td>LAVENDER / ASH / CORAL</td>\n",
       "      <td>G</td>\n",
       "      <td>1.0</td>\n",
       "    </tr>\n",
       "    <tr>\n",
       "      <th>4</th>\n",
       "      <td>GRACIA BODYSUIT</td>\n",
       "      <td>LAVENDER</td>\n",
       "      <td>CH</td>\n",
       "      <td>2.0</td>\n",
       "    </tr>\n",
       "    <tr>\n",
       "      <th>...</th>\n",
       "      <td>...</td>\n",
       "      <td>...</td>\n",
       "      <td>...</td>\n",
       "      <td>...</td>\n",
       "    </tr>\n",
       "    <tr>\n",
       "      <th>112</th>\n",
       "      <td>CONSUELO BODYSUIT</td>\n",
       "      <td>NEGRO</td>\n",
       "      <td>M</td>\n",
       "      <td>1.0</td>\n",
       "    </tr>\n",
       "    <tr>\n",
       "      <th>113</th>\n",
       "      <td>CONSUELO BODYSUIT</td>\n",
       "      <td>NEGRO</td>\n",
       "      <td>G</td>\n",
       "      <td>1.0</td>\n",
       "    </tr>\n",
       "    <tr>\n",
       "      <th>114</th>\n",
       "      <td>CAÑA BODYSUIT</td>\n",
       "      <td>BLANCO</td>\n",
       "      <td>CH</td>\n",
       "      <td>2.0</td>\n",
       "    </tr>\n",
       "    <tr>\n",
       "      <th>115</th>\n",
       "      <td>CAÑA BODYSUIT</td>\n",
       "      <td>BLANCO</td>\n",
       "      <td>M</td>\n",
       "      <td>1.0</td>\n",
       "    </tr>\n",
       "    <tr>\n",
       "      <th>116</th>\n",
       "      <td>CAÑA BODYSUIT</td>\n",
       "      <td>BLANCO</td>\n",
       "      <td>G</td>\n",
       "      <td>2.0</td>\n",
       "    </tr>\n",
       "  </tbody>\n",
       "</table>\n",
       "<p>117 rows × 4 columns</p>\n",
       "</div>"
      ],
      "text/plain": [
       "                MODELO                   COLOR TALLA  CANTIDAD\n",
       "0                  NaN                     NaN   NaN       NaN\n",
       "1    3GRACIAS BODYSUIT  LAVENDER / ASH / CORAL    CH       1.0\n",
       "2    3GRACIAS BODYSUIT  LAVENDER / ASH / CORAL    M        1.0\n",
       "3    3GRACIAS BODYSUIT  LAVENDER / ASH / CORAL     G       1.0\n",
       "4      GRACIA BODYSUIT                LAVENDER    CH       2.0\n",
       "..                 ...                     ...   ...       ...\n",
       "112  CONSUELO BODYSUIT                   NEGRO     M       1.0\n",
       "113  CONSUELO BODYSUIT                   NEGRO     G       1.0\n",
       "114      CAÑA BODYSUIT                  BLANCO    CH       2.0\n",
       "115      CAÑA BODYSUIT                  BLANCO     M       1.0\n",
       "116      CAÑA BODYSUIT                  BLANCO     G       2.0\n",
       "\n",
       "[117 rows x 4 columns]"
      ]
     },
     "execution_count": 4,
     "metadata": {},
     "output_type": "execute_result"
    }
   ],
   "source": [
    "df_inventoryCARAVANA_JUN2019"
   ]
  },
  {
   "cell_type": "code",
   "execution_count": 5,
   "metadata": {},
   "outputs": [
    {
     "name": "stdout",
     "output_type": "stream",
     "text": [
      "<class 'pandas.core.frame.DataFrame'>\n",
      "RangeIndex: 117 entries, 0 to 116\n",
      "Data columns (total 4 columns):\n",
      " #   Column    Non-Null Count  Dtype  \n",
      "---  ------    --------------  -----  \n",
      " 0   MODELO    109 non-null    object \n",
      " 1   COLOR     109 non-null    object \n",
      " 2   TALLA     106 non-null    object \n",
      " 3   CANTIDAD  109 non-null    float64\n",
      "dtypes: float64(1), object(3)\n",
      "memory usage: 3.8+ KB\n"
     ]
    }
   ],
   "source": [
    "df_inventoryCARAVANA_JUN2019.info()"
   ]
  },
  {
   "cell_type": "code",
   "execution_count": null,
   "metadata": {},
   "outputs": [],
   "source": [
    "# IMPORTANT NOTE: there are no prices associated to the items\n",
    "# The models and colors are written with no consistency with B2C sales datasets already analysed\n",
    "# Will need additional value transformations to compare datasets and to add prices to items."
   ]
  },
  {
   "cell_type": "markdown",
   "metadata": {},
   "source": [
    "## Data Cleansing"
   ]
  },
  {
   "cell_type": "code",
   "execution_count": 6,
   "metadata": {},
   "outputs": [],
   "source": [
    "def percentage_nullValues(data):\n",
    "    null_perc = round(data.isnull().sum() / data.shape[0],3) * 100.00\n",
    "    null_perc = pd.DataFrame(null_perc, columns=['Percentage_NaN'])\n",
    "    null_perc= null_perc.sort_values(by = ['Percentage_NaN'], ascending = False)\n",
    "    return null_perc"
   ]
  },
  {
   "cell_type": "code",
   "execution_count": 7,
   "metadata": {},
   "outputs": [
    {
     "data": {
      "text/html": [
       "<div>\n",
       "<style scoped>\n",
       "    .dataframe tbody tr th:only-of-type {\n",
       "        vertical-align: middle;\n",
       "    }\n",
       "\n",
       "    .dataframe tbody tr th {\n",
       "        vertical-align: top;\n",
       "    }\n",
       "\n",
       "    .dataframe thead th {\n",
       "        text-align: right;\n",
       "    }\n",
       "</style>\n",
       "<table border=\"1\" class=\"dataframe\">\n",
       "  <thead>\n",
       "    <tr style=\"text-align: right;\">\n",
       "      <th></th>\n",
       "      <th>Percentage_NaN</th>\n",
       "    </tr>\n",
       "  </thead>\n",
       "  <tbody>\n",
       "    <tr>\n",
       "      <th>TALLA</th>\n",
       "      <td>9.4</td>\n",
       "    </tr>\n",
       "    <tr>\n",
       "      <th>MODELO</th>\n",
       "      <td>6.8</td>\n",
       "    </tr>\n",
       "    <tr>\n",
       "      <th>COLOR</th>\n",
       "      <td>6.8</td>\n",
       "    </tr>\n",
       "    <tr>\n",
       "      <th>CANTIDAD</th>\n",
       "      <td>6.8</td>\n",
       "    </tr>\n",
       "  </tbody>\n",
       "</table>\n",
       "</div>"
      ],
      "text/plain": [
       "          Percentage_NaN\n",
       "TALLA                9.4\n",
       "MODELO               6.8\n",
       "COLOR                6.8\n",
       "CANTIDAD             6.8"
      ]
     },
     "execution_count": 7,
     "metadata": {},
     "output_type": "execute_result"
    }
   ],
   "source": [
    "percentage_nullValues(df_inventoryCARAVANA_JUN2019)"
   ]
  },
  {
   "cell_type": "code",
   "execution_count": 8,
   "metadata": {},
   "outputs": [
    {
     "data": {
      "text/html": [
       "<div>\n",
       "<style scoped>\n",
       "    .dataframe tbody tr th:only-of-type {\n",
       "        vertical-align: middle;\n",
       "    }\n",
       "\n",
       "    .dataframe tbody tr th {\n",
       "        vertical-align: top;\n",
       "    }\n",
       "\n",
       "    .dataframe thead th {\n",
       "        text-align: right;\n",
       "    }\n",
       "</style>\n",
       "<table border=\"1\" class=\"dataframe\">\n",
       "  <thead>\n",
       "    <tr style=\"text-align: right;\">\n",
       "      <th></th>\n",
       "      <th>MODELO</th>\n",
       "      <th>COLOR</th>\n",
       "      <th>TALLA</th>\n",
       "      <th>CANTIDAD</th>\n",
       "    </tr>\n",
       "  </thead>\n",
       "  <tbody>\n",
       "    <tr>\n",
       "      <th>0</th>\n",
       "      <td>NaN</td>\n",
       "      <td>NaN</td>\n",
       "      <td>NaN</td>\n",
       "      <td>NaN</td>\n",
       "    </tr>\n",
       "    <tr>\n",
       "      <th>41</th>\n",
       "      <td>NaN</td>\n",
       "      <td>NaN</td>\n",
       "      <td>NaN</td>\n",
       "      <td>NaN</td>\n",
       "    </tr>\n",
       "    <tr>\n",
       "      <th>42</th>\n",
       "      <td>NaN</td>\n",
       "      <td>NaN</td>\n",
       "      <td>NaN</td>\n",
       "      <td>NaN</td>\n",
       "    </tr>\n",
       "    <tr>\n",
       "      <th>61</th>\n",
       "      <td>NaN</td>\n",
       "      <td>NaN</td>\n",
       "      <td>NaN</td>\n",
       "      <td>NaN</td>\n",
       "    </tr>\n",
       "    <tr>\n",
       "      <th>62</th>\n",
       "      <td>NaN</td>\n",
       "      <td>NaN</td>\n",
       "      <td>NaN</td>\n",
       "      <td>NaN</td>\n",
       "    </tr>\n",
       "    <tr>\n",
       "      <th>81</th>\n",
       "      <td>NaN</td>\n",
       "      <td>NaN</td>\n",
       "      <td>NaN</td>\n",
       "      <td>NaN</td>\n",
       "    </tr>\n",
       "    <tr>\n",
       "      <th>82</th>\n",
       "      <td>NaN</td>\n",
       "      <td>NaN</td>\n",
       "      <td>NaN</td>\n",
       "      <td>NaN</td>\n",
       "    </tr>\n",
       "    <tr>\n",
       "      <th>83</th>\n",
       "      <td>NaN</td>\n",
       "      <td>NaN</td>\n",
       "      <td>NaN</td>\n",
       "      <td>NaN</td>\n",
       "    </tr>\n",
       "  </tbody>\n",
       "</table>\n",
       "</div>"
      ],
      "text/plain": [
       "   MODELO COLOR TALLA  CANTIDAD\n",
       "0     NaN   NaN   NaN       NaN\n",
       "41    NaN   NaN   NaN       NaN\n",
       "42    NaN   NaN   NaN       NaN\n",
       "61    NaN   NaN   NaN       NaN\n",
       "62    NaN   NaN   NaN       NaN\n",
       "81    NaN   NaN   NaN       NaN\n",
       "82    NaN   NaN   NaN       NaN\n",
       "83    NaN   NaN   NaN       NaN"
      ]
     },
     "execution_count": 8,
     "metadata": {},
     "output_type": "execute_result"
    }
   ],
   "source": [
    "df_inventoryCARAVANA_JUN2019[df_inventoryCARAVANA_JUN2019['MODELO'].isna()]"
   ]
  },
  {
   "cell_type": "code",
   "execution_count": 9,
   "metadata": {},
   "outputs": [],
   "source": [
    "df_inventoryCARAVANA_JUN2019 = df_inventoryCARAVANA_JUN2019.dropna()"
   ]
  },
  {
   "cell_type": "code",
   "execution_count": 10,
   "metadata": {},
   "outputs": [
    {
     "name": "stdout",
     "output_type": "stream",
     "text": [
      "<class 'pandas.core.frame.DataFrame'>\n",
      "Int64Index: 106 entries, 1 to 116\n",
      "Data columns (total 4 columns):\n",
      " #   Column    Non-Null Count  Dtype  \n",
      "---  ------    --------------  -----  \n",
      " 0   MODELO    106 non-null    object \n",
      " 1   COLOR     106 non-null    object \n",
      " 2   TALLA     106 non-null    object \n",
      " 3   CANTIDAD  106 non-null    float64\n",
      "dtypes: float64(1), object(3)\n",
      "memory usage: 4.1+ KB\n"
     ]
    }
   ],
   "source": [
    "df_inventoryCARAVANA_JUN2019.info()"
   ]
  },
  {
   "cell_type": "code",
   "execution_count": 11,
   "metadata": {},
   "outputs": [
    {
     "name": "stdout",
     "output_type": "stream",
     "text": [
      "MODELO\n",
      "COLOR\n",
      "TALLA\n"
     ]
    }
   ],
   "source": [
    "# Separating categorical variables\n",
    "cat = df_inventoryCARAVANA_JUN2019.select_dtypes(include=['object'])\n",
    "\n",
    "for item in cat:\n",
    "    print (item)\n",
    "    df_inventoryCARAVANA_JUN2019[item] = df_inventoryCARAVANA_JUN2019[item].str.lower()"
   ]
  },
  {
   "cell_type": "markdown",
   "metadata": {},
   "source": [
    "## Value transformations"
   ]
  },
  {
   "cell_type": "code",
   "execution_count": 12,
   "metadata": {},
   "outputs": [],
   "source": [
    "df_inventoryCARAVANA_JUN2019.MODELO = df_inventoryCARAVANA_JUN2019.MODELO.str.rstrip()"
   ]
  },
  {
   "cell_type": "code",
   "execution_count": 13,
   "metadata": {},
   "outputs": [
    {
     "data": {
      "text/plain": [
       "array(['3gracias bodysuit', 'gracia bodysuit', 'naranjo bodysuit',\n",
       "       'venus bodysuit', 'eros top', 'aries top', 'geminis top',\n",
       "       'geminis bottom', 'lola bottom', 'apolo bottom', 'maca bottom',\n",
       "       'florencia bodysuit', 'jeronimo bottom', 'piscis top',\n",
       "       'emilia bodysuit', 'pastora bodysuit', 'consuelo bodysuit',\n",
       "       'caña bodysuit'], dtype=object)"
      ]
     },
     "execution_count": 13,
     "metadata": {},
     "output_type": "execute_result"
    }
   ],
   "source": [
    "df_inventoryCARAVANA_JUN2019.MODELO.unique()"
   ]
  },
  {
   "cell_type": "code",
   "execution_count": 14,
   "metadata": {},
   "outputs": [],
   "source": [
    "#Saving inventory dataset\n",
    "df_inventoryCARAVANA_JUN2019.to_csv('Inventory.csv')"
   ]
  },
  {
   "cell_type": "markdown",
   "metadata": {},
   "source": [
    "# Import Returned items"
   ]
  },
  {
   "cell_type": "code",
   "execution_count": 15,
   "metadata": {},
   "outputs": [],
   "source": [
    "df_returnCARAVANA_JUN2019 = pd.read_excel('../datasets/Sales/Caravana/REGRESÓ DE CARAVANA.xlsx', skiprows=np.arange(0,2),\n",
    "            usecols= 'A,C:F')"
   ]
  },
  {
   "cell_type": "code",
   "execution_count": 16,
   "metadata": {},
   "outputs": [
    {
     "data": {
      "text/html": [
       "<div>\n",
       "<style scoped>\n",
       "    .dataframe tbody tr th:only-of-type {\n",
       "        vertical-align: middle;\n",
       "    }\n",
       "\n",
       "    .dataframe tbody tr th {\n",
       "        vertical-align: top;\n",
       "    }\n",
       "\n",
       "    .dataframe thead th {\n",
       "        text-align: right;\n",
       "    }\n",
       "</style>\n",
       "<table border=\"1\" class=\"dataframe\">\n",
       "  <thead>\n",
       "    <tr style=\"text-align: right;\">\n",
       "      <th></th>\n",
       "      <th>TIPO</th>\n",
       "      <th>MODELO</th>\n",
       "      <th>COLOR</th>\n",
       "      <th>TALLA</th>\n",
       "      <th>CANTIDAD</th>\n",
       "    </tr>\n",
       "  </thead>\n",
       "  <tbody>\n",
       "    <tr>\n",
       "      <th>0</th>\n",
       "      <td>BODIES</td>\n",
       "      <td>Caña</td>\n",
       "      <td>Blanco</td>\n",
       "      <td>ch</td>\n",
       "      <td>1</td>\n",
       "    </tr>\n",
       "    <tr>\n",
       "      <th>1</th>\n",
       "      <td>NaN</td>\n",
       "      <td>Consuelo</td>\n",
       "      <td>Negro</td>\n",
       "      <td>g</td>\n",
       "      <td>1</td>\n",
       "    </tr>\n",
       "    <tr>\n",
       "      <th>2</th>\n",
       "      <td>NaN</td>\n",
       "      <td>Florencia</td>\n",
       "      <td>Bicolor</td>\n",
       "      <td>ch</td>\n",
       "      <td>1</td>\n",
       "    </tr>\n",
       "    <tr>\n",
       "      <th>3</th>\n",
       "      <td>NaN</td>\n",
       "      <td>Florencia</td>\n",
       "      <td>Bicolor</td>\n",
       "      <td>m</td>\n",
       "      <td>1</td>\n",
       "    </tr>\n",
       "    <tr>\n",
       "      <th>4</th>\n",
       "      <td>NaN</td>\n",
       "      <td>Florencia</td>\n",
       "      <td>Bicolor</td>\n",
       "      <td>g</td>\n",
       "      <td>1</td>\n",
       "    </tr>\n",
       "    <tr>\n",
       "      <th>...</th>\n",
       "      <td>...</td>\n",
       "      <td>...</td>\n",
       "      <td>...</td>\n",
       "      <td>...</td>\n",
       "      <td>...</td>\n",
       "    </tr>\n",
       "    <tr>\n",
       "      <th>77</th>\n",
       "      <td>NaN</td>\n",
       "      <td>Geminis</td>\n",
       "      <td>Lavanda/Ash</td>\n",
       "      <td>g</td>\n",
       "      <td>2</td>\n",
       "    </tr>\n",
       "    <tr>\n",
       "      <th>78</th>\n",
       "      <td>NaN</td>\n",
       "      <td>Jeronimo</td>\n",
       "      <td>Coral</td>\n",
       "      <td>ch</td>\n",
       "      <td>1</td>\n",
       "    </tr>\n",
       "    <tr>\n",
       "      <th>79</th>\n",
       "      <td>NaN</td>\n",
       "      <td>Jeronimo</td>\n",
       "      <td>Coral</td>\n",
       "      <td>g</td>\n",
       "      <td>1</td>\n",
       "    </tr>\n",
       "    <tr>\n",
       "      <th>80</th>\n",
       "      <td>NaN</td>\n",
       "      <td>Jeronimo</td>\n",
       "      <td>Negro</td>\n",
       "      <td>ch</td>\n",
       "      <td>1</td>\n",
       "    </tr>\n",
       "    <tr>\n",
       "      <th>81</th>\n",
       "      <td>NaN</td>\n",
       "      <td>Jeronimo</td>\n",
       "      <td>Negro</td>\n",
       "      <td>g</td>\n",
       "      <td>1</td>\n",
       "    </tr>\n",
       "  </tbody>\n",
       "</table>\n",
       "<p>82 rows × 5 columns</p>\n",
       "</div>"
      ],
      "text/plain": [
       "      TIPO     MODELO        COLOR TALLA  CANTIDAD\n",
       "0   BODIES       Caña       Blanco    ch         1\n",
       "1      NaN   Consuelo        Negro     g         1\n",
       "2      NaN  Florencia      Bicolor    ch         1\n",
       "3      NaN  Florencia      Bicolor     m         1\n",
       "4      NaN  Florencia      Bicolor     g         1\n",
       "..     ...        ...          ...   ...       ...\n",
       "77     NaN    Geminis  Lavanda/Ash     g         2\n",
       "78     NaN   Jeronimo        Coral    ch         1\n",
       "79     NaN   Jeronimo        Coral     g         1\n",
       "80     NaN   Jeronimo        Negro    ch         1\n",
       "81     NaN   Jeronimo        Negro     g         1\n",
       "\n",
       "[82 rows x 5 columns]"
      ]
     },
     "execution_count": 16,
     "metadata": {},
     "output_type": "execute_result"
    }
   ],
   "source": [
    "df_returnCARAVANA_JUN2019"
   ]
  },
  {
   "cell_type": "code",
   "execution_count": null,
   "metadata": {},
   "outputs": [],
   "source": [
    "#Value mapping replacing for consistency accross datasets"
   ]
  },
  {
   "cell_type": "code",
   "execution_count": 17,
   "metadata": {},
   "outputs": [],
   "source": [
    "df_returnCARAVANA_JUN2019 = df_returnCARAVANA_JUN2019.replace(['BODIES'],['bodysuit']) "
   ]
  },
  {
   "cell_type": "code",
   "execution_count": 18,
   "metadata": {},
   "outputs": [],
   "source": [
    "df_returnCARAVANA_JUN2019 = df_returnCARAVANA_JUN2019.replace(['TOPS'],['top']) "
   ]
  },
  {
   "cell_type": "code",
   "execution_count": 19,
   "metadata": {},
   "outputs": [],
   "source": [
    "df_returnCARAVANA_JUN2019 = df_returnCARAVANA_JUN2019.replace(['BOTTOMS'],['bottom']) "
   ]
  },
  {
   "cell_type": "code",
   "execution_count": 20,
   "metadata": {},
   "outputs": [],
   "source": [
    "#Fill value with data in previous row\n",
    "df_returnCARAVANA_JUN2019['TIPO'] = df_returnCARAVANA_JUN2019.TIPO.fillna(method='ffill')"
   ]
  },
  {
   "cell_type": "code",
   "execution_count": 21,
   "metadata": {},
   "outputs": [
    {
     "name": "stdout",
     "output_type": "stream",
     "text": [
      "<class 'pandas.core.frame.DataFrame'>\n",
      "RangeIndex: 82 entries, 0 to 81\n",
      "Data columns (total 5 columns):\n",
      " #   Column    Non-Null Count  Dtype \n",
      "---  ------    --------------  ----- \n",
      " 0   TIPO      82 non-null     object\n",
      " 1   MODELO    82 non-null     object\n",
      " 2   COLOR     82 non-null     object\n",
      " 3   TALLA     82 non-null     object\n",
      " 4   CANTIDAD  82 non-null     int64 \n",
      "dtypes: int64(1), object(4)\n",
      "memory usage: 3.3+ KB\n"
     ]
    }
   ],
   "source": [
    "df_returnCARAVANA_JUN2019.info()"
   ]
  },
  {
   "cell_type": "code",
   "execution_count": 22,
   "metadata": {},
   "outputs": [
    {
     "data": {
      "text/plain": [
       "bodysuit    32\n",
       "bottom      26\n",
       "top         24\n",
       "Name: TIPO, dtype: int64"
      ]
     },
     "execution_count": 22,
     "metadata": {},
     "output_type": "execute_result"
    }
   ],
   "source": [
    "df_returnCARAVANA_JUN2019.TIPO.value_counts()"
   ]
  },
  {
   "cell_type": "markdown",
   "metadata": {},
   "source": [
    "## Value transformations"
   ]
  },
  {
   "cell_type": "code",
   "execution_count": 23,
   "metadata": {},
   "outputs": [],
   "source": [
    "type_list = df_returnCARAVANA_JUN2019.get ('TIPO').tolist()"
   ]
  },
  {
   "cell_type": "code",
   "execution_count": 24,
   "metadata": {},
   "outputs": [],
   "source": [
    "df_returnCARAVANA_JUN2019['MODELO'] = df_returnCARAVANA_JUN2019['MODELO'].astype(str) + ' ' + type_list"
   ]
  },
  {
   "cell_type": "code",
   "execution_count": 25,
   "metadata": {},
   "outputs": [
    {
     "name": "stdout",
     "output_type": "stream",
     "text": [
      "TIPO\n",
      "MODELO\n",
      "COLOR\n",
      "TALLA\n"
     ]
    }
   ],
   "source": [
    "# Separating categorical variables\n",
    "cat = df_returnCARAVANA_JUN2019.select_dtypes(include=['object'])\n",
    "\n",
    "for item in cat:\n",
    "    print (item)\n",
    "    df_returnCARAVANA_JUN2019[item] = df_returnCARAVANA_JUN2019[item].str.lower()"
   ]
  },
  {
   "cell_type": "code",
   "execution_count": 26,
   "metadata": {},
   "outputs": [
    {
     "data": {
      "text/html": [
       "<div>\n",
       "<style scoped>\n",
       "    .dataframe tbody tr th:only-of-type {\n",
       "        vertical-align: middle;\n",
       "    }\n",
       "\n",
       "    .dataframe tbody tr th {\n",
       "        vertical-align: top;\n",
       "    }\n",
       "\n",
       "    .dataframe thead th {\n",
       "        text-align: right;\n",
       "    }\n",
       "</style>\n",
       "<table border=\"1\" class=\"dataframe\">\n",
       "  <thead>\n",
       "    <tr style=\"text-align: right;\">\n",
       "      <th></th>\n",
       "      <th>TIPO</th>\n",
       "      <th>MODELO</th>\n",
       "      <th>COLOR</th>\n",
       "      <th>TALLA</th>\n",
       "      <th>CANTIDAD</th>\n",
       "    </tr>\n",
       "  </thead>\n",
       "  <tbody>\n",
       "    <tr>\n",
       "      <th>0</th>\n",
       "      <td>bodysuit</td>\n",
       "      <td>caña bodysuit</td>\n",
       "      <td>blanco</td>\n",
       "      <td>ch</td>\n",
       "      <td>1</td>\n",
       "    </tr>\n",
       "    <tr>\n",
       "      <th>1</th>\n",
       "      <td>bodysuit</td>\n",
       "      <td>consuelo bodysuit</td>\n",
       "      <td>negro</td>\n",
       "      <td>g</td>\n",
       "      <td>1</td>\n",
       "    </tr>\n",
       "    <tr>\n",
       "      <th>2</th>\n",
       "      <td>bodysuit</td>\n",
       "      <td>florencia bodysuit</td>\n",
       "      <td>bicolor</td>\n",
       "      <td>ch</td>\n",
       "      <td>1</td>\n",
       "    </tr>\n",
       "    <tr>\n",
       "      <th>3</th>\n",
       "      <td>bodysuit</td>\n",
       "      <td>florencia bodysuit</td>\n",
       "      <td>bicolor</td>\n",
       "      <td>m</td>\n",
       "      <td>1</td>\n",
       "    </tr>\n",
       "    <tr>\n",
       "      <th>4</th>\n",
       "      <td>bodysuit</td>\n",
       "      <td>florencia bodysuit</td>\n",
       "      <td>bicolor</td>\n",
       "      <td>g</td>\n",
       "      <td>1</td>\n",
       "    </tr>\n",
       "    <tr>\n",
       "      <th>...</th>\n",
       "      <td>...</td>\n",
       "      <td>...</td>\n",
       "      <td>...</td>\n",
       "      <td>...</td>\n",
       "      <td>...</td>\n",
       "    </tr>\n",
       "    <tr>\n",
       "      <th>77</th>\n",
       "      <td>bottom</td>\n",
       "      <td>geminis bottom</td>\n",
       "      <td>lavanda/ash</td>\n",
       "      <td>g</td>\n",
       "      <td>2</td>\n",
       "    </tr>\n",
       "    <tr>\n",
       "      <th>78</th>\n",
       "      <td>bottom</td>\n",
       "      <td>jeronimo bottom</td>\n",
       "      <td>coral</td>\n",
       "      <td>ch</td>\n",
       "      <td>1</td>\n",
       "    </tr>\n",
       "    <tr>\n",
       "      <th>79</th>\n",
       "      <td>bottom</td>\n",
       "      <td>jeronimo bottom</td>\n",
       "      <td>coral</td>\n",
       "      <td>g</td>\n",
       "      <td>1</td>\n",
       "    </tr>\n",
       "    <tr>\n",
       "      <th>80</th>\n",
       "      <td>bottom</td>\n",
       "      <td>jeronimo bottom</td>\n",
       "      <td>negro</td>\n",
       "      <td>ch</td>\n",
       "      <td>1</td>\n",
       "    </tr>\n",
       "    <tr>\n",
       "      <th>81</th>\n",
       "      <td>bottom</td>\n",
       "      <td>jeronimo bottom</td>\n",
       "      <td>negro</td>\n",
       "      <td>g</td>\n",
       "      <td>1</td>\n",
       "    </tr>\n",
       "  </tbody>\n",
       "</table>\n",
       "<p>82 rows × 5 columns</p>\n",
       "</div>"
      ],
      "text/plain": [
       "        TIPO              MODELO        COLOR TALLA  CANTIDAD\n",
       "0   bodysuit       caña bodysuit       blanco    ch         1\n",
       "1   bodysuit   consuelo bodysuit        negro     g         1\n",
       "2   bodysuit  florencia bodysuit      bicolor    ch         1\n",
       "3   bodysuit  florencia bodysuit      bicolor     m         1\n",
       "4   bodysuit  florencia bodysuit      bicolor     g         1\n",
       "..       ...                 ...          ...   ...       ...\n",
       "77    bottom      geminis bottom  lavanda/ash     g         2\n",
       "78    bottom     jeronimo bottom        coral    ch         1\n",
       "79    bottom     jeronimo bottom        coral     g         1\n",
       "80    bottom     jeronimo bottom        negro    ch         1\n",
       "81    bottom     jeronimo bottom        negro     g         1\n",
       "\n",
       "[82 rows x 5 columns]"
      ]
     },
     "execution_count": 26,
     "metadata": {},
     "output_type": "execute_result"
    }
   ],
   "source": [
    "df_returnCARAVANA_JUN2019"
   ]
  },
  {
   "cell_type": "code",
   "execution_count": 27,
   "metadata": {},
   "outputs": [],
   "source": [
    "df_returnCARAVANA_JUN2019.drop(columns = ['TIPO'], inplace=True)"
   ]
  },
  {
   "cell_type": "code",
   "execution_count": 28,
   "metadata": {},
   "outputs": [
    {
     "data": {
      "text/html": [
       "<div>\n",
       "<style scoped>\n",
       "    .dataframe tbody tr th:only-of-type {\n",
       "        vertical-align: middle;\n",
       "    }\n",
       "\n",
       "    .dataframe tbody tr th {\n",
       "        vertical-align: top;\n",
       "    }\n",
       "\n",
       "    .dataframe thead th {\n",
       "        text-align: right;\n",
       "    }\n",
       "</style>\n",
       "<table border=\"1\" class=\"dataframe\">\n",
       "  <thead>\n",
       "    <tr style=\"text-align: right;\">\n",
       "      <th></th>\n",
       "      <th>MODELO</th>\n",
       "      <th>COLOR</th>\n",
       "      <th>TALLA</th>\n",
       "      <th>CANTIDAD</th>\n",
       "    </tr>\n",
       "  </thead>\n",
       "  <tbody>\n",
       "    <tr>\n",
       "      <th>0</th>\n",
       "      <td>caña bodysuit</td>\n",
       "      <td>blanco</td>\n",
       "      <td>ch</td>\n",
       "      <td>1</td>\n",
       "    </tr>\n",
       "    <tr>\n",
       "      <th>1</th>\n",
       "      <td>consuelo bodysuit</td>\n",
       "      <td>negro</td>\n",
       "      <td>g</td>\n",
       "      <td>1</td>\n",
       "    </tr>\n",
       "    <tr>\n",
       "      <th>2</th>\n",
       "      <td>florencia bodysuit</td>\n",
       "      <td>bicolor</td>\n",
       "      <td>ch</td>\n",
       "      <td>1</td>\n",
       "    </tr>\n",
       "    <tr>\n",
       "      <th>3</th>\n",
       "      <td>florencia bodysuit</td>\n",
       "      <td>bicolor</td>\n",
       "      <td>m</td>\n",
       "      <td>1</td>\n",
       "    </tr>\n",
       "    <tr>\n",
       "      <th>4</th>\n",
       "      <td>florencia bodysuit</td>\n",
       "      <td>bicolor</td>\n",
       "      <td>g</td>\n",
       "      <td>1</td>\n",
       "    </tr>\n",
       "  </tbody>\n",
       "</table>\n",
       "</div>"
      ],
      "text/plain": [
       "               MODELO    COLOR TALLA  CANTIDAD\n",
       "0       caña bodysuit   blanco    ch         1\n",
       "1   consuelo bodysuit    negro     g         1\n",
       "2  florencia bodysuit  bicolor    ch         1\n",
       "3  florencia bodysuit  bicolor     m         1\n",
       "4  florencia bodysuit  bicolor     g         1"
      ]
     },
     "execution_count": 28,
     "metadata": {},
     "output_type": "execute_result"
    }
   ],
   "source": [
    "df_returnCARAVANA_JUN2019.head()"
   ]
  },
  {
   "cell_type": "code",
   "execution_count": 29,
   "metadata": {},
   "outputs": [],
   "source": [
    "#Saving returned inventory dataset\n",
    "df_returnCARAVANA_JUN2019.to_csv('Return.csv')"
   ]
  }
 ],
 "metadata": {
  "hide_input": false,
  "kernelspec": {
   "display_name": "Python 3",
   "language": "python",
   "name": "python3"
  },
  "language_info": {
   "codemirror_mode": {
    "name": "ipython",
    "version": 3
   },
   "file_extension": ".py",
   "mimetype": "text/x-python",
   "name": "python",
   "nbconvert_exporter": "python",
   "pygments_lexer": "ipython3",
   "version": "3.7.9"
  },
  "toc": {
   "base_numbering": 1,
   "nav_menu": {},
   "number_sections": true,
   "sideBar": true,
   "skip_h1_title": false,
   "title_cell": "Table of Contents",
   "title_sidebar": "Contents",
   "toc_cell": false,
   "toc_position": {},
   "toc_section_display": true,
   "toc_window_display": false
  }
 },
 "nbformat": 4,
 "nbformat_minor": 4
}
