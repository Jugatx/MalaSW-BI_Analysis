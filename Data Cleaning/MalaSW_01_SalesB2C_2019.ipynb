{
 "cells": [
  {
   "cell_type": "code",
   "execution_count": 86,
   "metadata": {},
   "outputs": [],
   "source": [
    "import seaborn as sns\n",
    "import matplotlib.pyplot as plt\n",
    "\n",
    "import pandas as pd\n",
    "import numpy as np"
   ]
  },
  {
   "cell_type": "code",
   "execution_count": 87,
   "metadata": {},
   "outputs": [],
   "source": [
    "import sys  \n",
    "sys.path.insert(0, r'C:/Users/jugat/Documents/a_JUGATX/FORMACION/DATA SCIENCE/Functions')\n",
    "\n",
    "from fx_OUTLIERS import *\n",
    "from functions_plot_EDA import *\n",
    "from My_EDA_Functions_library import*\n",
    "from My_EDA_Visualisation_Functions_library import*\n"
   ]
  },
  {
   "cell_type": "code",
   "execution_count": 88,
   "metadata": {},
   "outputs": [],
   "source": [
    "#Instagram page for ref\n",
    "#url= https://www.instagram.com/malaswimwear/?hl=es"
   ]
  },
  {
   "cell_type": "markdown",
   "metadata": {},
   "source": [
    "# IMPORT 2019 B2C SALES"
   ]
  },
  {
   "cell_type": "code",
   "execution_count": 89,
   "metadata": {},
   "outputs": [],
   "source": [
    "usecols_ =['FECHA','CLIENTE', 'CANTIDAD','MODELO', 'COLOR', 'TALLA','PRECIO','DESCUENTO','TOTAL','PUNTO DE VENTA']"
   ]
  },
  {
   "cell_type": "code",
   "execution_count": 90,
   "metadata": {},
   "outputs": [],
   "source": [
    "df_salesB2C_2019 = pd.concat(pd.read_excel('../datasets/Sales/B2C/2019_VENTAS_INVENTARIO_PRODUCCION.xlsx', skiprows=np.arange(0,2),\n",
    "            usecols= usecols_,\n",
    "            sheet_name= None), ignore_index = True)"
   ]
  },
  {
   "cell_type": "code",
   "execution_count": 91,
   "metadata": {},
   "outputs": [
    {
     "data": {
      "text/html": [
       "<div>\n",
       "<style scoped>\n",
       "    .dataframe tbody tr th:only-of-type {\n",
       "        vertical-align: middle;\n",
       "    }\n",
       "\n",
       "    .dataframe tbody tr th {\n",
       "        vertical-align: top;\n",
       "    }\n",
       "\n",
       "    .dataframe thead th {\n",
       "        text-align: right;\n",
       "    }\n",
       "</style>\n",
       "<table border=\"1\" class=\"dataframe\">\n",
       "  <thead>\n",
       "    <tr style=\"text-align: right;\">\n",
       "      <th></th>\n",
       "      <th>FECHA</th>\n",
       "      <th>CLIENTE</th>\n",
       "      <th>CANTIDAD</th>\n",
       "      <th>MODELO</th>\n",
       "      <th>COLOR</th>\n",
       "      <th>TALLA</th>\n",
       "      <th>PRECIO</th>\n",
       "      <th>DESCUENTO</th>\n",
       "      <th>TOTAL</th>\n",
       "      <th>PUNTO DE VENTA</th>\n",
       "    </tr>\n",
       "  </thead>\n",
       "  <tbody>\n",
       "    <tr>\n",
       "      <th>0</th>\n",
       "      <td>2019-06-05</td>\n",
       "      <td>KAREN (OAXACA)</td>\n",
       "      <td>1.0</td>\n",
       "      <td>LOLA</td>\n",
       "      <td>VERDE</td>\n",
       "      <td>M</td>\n",
       "      <td>490.0</td>\n",
       "      <td>0.15</td>\n",
       "      <td>416.5</td>\n",
       "      <td>SHOWROOM</td>\n",
       "    </tr>\n",
       "    <tr>\n",
       "      <th>1</th>\n",
       "      <td>2019-06-12</td>\n",
       "      <td>MA. FERNANDA ORTIZ</td>\n",
       "      <td>1.0</td>\n",
       "      <td>EROS</td>\n",
       "      <td>LAVANDA</td>\n",
       "      <td>S</td>\n",
       "      <td>750.0</td>\n",
       "      <td>0.10</td>\n",
       "      <td>675.0</td>\n",
       "      <td>SHOWROOM</td>\n",
       "    </tr>\n",
       "    <tr>\n",
       "      <th>2</th>\n",
       "      <td>NaT</td>\n",
       "      <td>NaN</td>\n",
       "      <td>1.0</td>\n",
       "      <td>LOLA</td>\n",
       "      <td>LAVANDA</td>\n",
       "      <td>M</td>\n",
       "      <td>650.0</td>\n",
       "      <td>0.10</td>\n",
       "      <td>585.0</td>\n",
       "      <td>SHOWROOM</td>\n",
       "    </tr>\n",
       "    <tr>\n",
       "      <th>3</th>\n",
       "      <td>2019-06-13</td>\n",
       "      <td>IRMA VILLANUEVA</td>\n",
       "      <td>1.0</td>\n",
       "      <td>EROS</td>\n",
       "      <td>LAVANDA</td>\n",
       "      <td>L</td>\n",
       "      <td>750.0</td>\n",
       "      <td>NaN</td>\n",
       "      <td>750.0</td>\n",
       "      <td>SHOWROOM</td>\n",
       "    </tr>\n",
       "    <tr>\n",
       "      <th>4</th>\n",
       "      <td>NaT</td>\n",
       "      <td>NaN</td>\n",
       "      <td>1.0</td>\n",
       "      <td>COSUELO</td>\n",
       "      <td>CHERRY</td>\n",
       "      <td>L</td>\n",
       "      <td>1450.0</td>\n",
       "      <td>NaN</td>\n",
       "      <td>1450.0</td>\n",
       "      <td>SHOWROOM</td>\n",
       "    </tr>\n",
       "    <tr>\n",
       "      <th>...</th>\n",
       "      <td>...</td>\n",
       "      <td>...</td>\n",
       "      <td>...</td>\n",
       "      <td>...</td>\n",
       "      <td>...</td>\n",
       "      <td>...</td>\n",
       "      <td>...</td>\n",
       "      <td>...</td>\n",
       "      <td>...</td>\n",
       "      <td>...</td>\n",
       "    </tr>\n",
       "    <tr>\n",
       "      <th>250</th>\n",
       "      <td>2019-12-18</td>\n",
       "      <td>andrea fuga</td>\n",
       "      <td>1.0</td>\n",
       "      <td>pastora</td>\n",
       "      <td>negro</td>\n",
       "      <td>M</td>\n",
       "      <td>1290.0</td>\n",
       "      <td>0.20</td>\n",
       "      <td>1032.0</td>\n",
       "      <td>INSTAGRAM</td>\n",
       "    </tr>\n",
       "    <tr>\n",
       "      <th>251</th>\n",
       "      <td>2019-12-18</td>\n",
       "      <td>Camila</td>\n",
       "      <td>NaN</td>\n",
       "      <td>NaN</td>\n",
       "      <td>NaN</td>\n",
       "      <td>NaN</td>\n",
       "      <td>412.0</td>\n",
       "      <td>NaN</td>\n",
       "      <td>412.0</td>\n",
       "      <td>NaN</td>\n",
       "    </tr>\n",
       "    <tr>\n",
       "      <th>252</th>\n",
       "      <td>2019-12-19</td>\n",
       "      <td>Pina</td>\n",
       "      <td>1.0</td>\n",
       "      <td>caña set</td>\n",
       "      <td>blanco</td>\n",
       "      <td>S</td>\n",
       "      <td>1800.0</td>\n",
       "      <td>0.30</td>\n",
       "      <td>1260.0</td>\n",
       "      <td>SHOWROOM</td>\n",
       "    </tr>\n",
       "    <tr>\n",
       "      <th>253</th>\n",
       "      <td>2019-12-20</td>\n",
       "      <td>PAU PLMR</td>\n",
       "      <td>1.0</td>\n",
       "      <td>EMILIA</td>\n",
       "      <td>MARSALA</td>\n",
       "      <td>M</td>\n",
       "      <td>1565.0</td>\n",
       "      <td>NaN</td>\n",
       "      <td>1565.0</td>\n",
       "      <td>SHOWROOM</td>\n",
       "    </tr>\n",
       "    <tr>\n",
       "      <th>254</th>\n",
       "      <td>2019-12-20</td>\n",
       "      <td>MARIANA</td>\n",
       "      <td>1.0</td>\n",
       "      <td>CONSUELO</td>\n",
       "      <td>CHERRY</td>\n",
       "      <td>M</td>\n",
       "      <td>1450.0</td>\n",
       "      <td>0.10</td>\n",
       "      <td>1305.0</td>\n",
       "      <td>SHOWROOM</td>\n",
       "    </tr>\n",
       "  </tbody>\n",
       "</table>\n",
       "<p>255 rows × 10 columns</p>\n",
       "</div>"
      ],
      "text/plain": [
       "         FECHA             CLIENTE  CANTIDAD    MODELO    COLOR TALLA  PRECIO  \\\n",
       "0   2019-06-05      KAREN (OAXACA)       1.0      LOLA    VERDE     M   490.0   \n",
       "1   2019-06-12  MA. FERNANDA ORTIZ       1.0      EROS  LAVANDA     S   750.0   \n",
       "2          NaT                 NaN       1.0      LOLA  LAVANDA     M   650.0   \n",
       "3   2019-06-13     IRMA VILLANUEVA       1.0      EROS  LAVANDA     L   750.0   \n",
       "4          NaT                 NaN       1.0   COSUELO   CHERRY     L  1450.0   \n",
       "..         ...                 ...       ...       ...      ...   ...     ...   \n",
       "250 2019-12-18         andrea fuga       1.0   pastora    negro     M  1290.0   \n",
       "251 2019-12-18              Camila       NaN       NaN      NaN   NaN   412.0   \n",
       "252 2019-12-19                Pina       1.0  caña set   blanco     S  1800.0   \n",
       "253 2019-12-20            PAU PLMR       1.0    EMILIA  MARSALA     M  1565.0   \n",
       "254 2019-12-20             MARIANA       1.0  CONSUELO   CHERRY     M  1450.0   \n",
       "\n",
       "     DESCUENTO   TOTAL PUNTO DE VENTA  \n",
       "0         0.15   416.5       SHOWROOM  \n",
       "1         0.10   675.0       SHOWROOM  \n",
       "2         0.10   585.0       SHOWROOM  \n",
       "3          NaN   750.0       SHOWROOM  \n",
       "4          NaN  1450.0       SHOWROOM  \n",
       "..         ...     ...            ...  \n",
       "250       0.20  1032.0      INSTAGRAM  \n",
       "251        NaN   412.0            NaN  \n",
       "252       0.30  1260.0       SHOWROOM  \n",
       "253        NaN  1565.0       SHOWROOM  \n",
       "254       0.10  1305.0       SHOWROOM  \n",
       "\n",
       "[255 rows x 10 columns]"
      ]
     },
     "execution_count": 91,
     "metadata": {},
     "output_type": "execute_result"
    }
   ],
   "source": [
    "df_salesB2C_2019"
   ]
  },
  {
   "cell_type": "markdown",
   "metadata": {},
   "source": [
    "# DATA CLEANSING"
   ]
  },
  {
   "cell_type": "code",
   "execution_count": 92,
   "metadata": {},
   "outputs": [
    {
     "name": "stdout",
     "output_type": "stream",
     "text": [
      "<class 'pandas.core.frame.DataFrame'>\n",
      "RangeIndex: 255 entries, 0 to 254\n",
      "Data columns (total 10 columns):\n",
      " #   Column          Non-Null Count  Dtype         \n",
      "---  ------          --------------  -----         \n",
      " 0   FECHA           160 non-null    datetime64[ns]\n",
      " 1   CLIENTE         162 non-null    object        \n",
      " 2   CANTIDAD        246 non-null    float64       \n",
      " 3   MODELO          245 non-null    object        \n",
      " 4   COLOR           245 non-null    object        \n",
      " 5   TALLA           245 non-null    object        \n",
      " 6   PRECIO          243 non-null    float64       \n",
      " 7   DESCUENTO       113 non-null    float64       \n",
      " 8   TOTAL           250 non-null    float64       \n",
      " 9   PUNTO DE VENTA  224 non-null    object        \n",
      "dtypes: datetime64[ns](1), float64(4), object(5)\n",
      "memory usage: 20.0+ KB\n"
     ]
    }
   ],
   "source": [
    "df_salesB2C_2019.info()"
   ]
  },
  {
   "cell_type": "code",
   "execution_count": 93,
   "metadata": {},
   "outputs": [],
   "source": [
    "def percentage_nullValues(data):\n",
    "    null_perc = round(data.isnull().sum() / data.shape[0],3) * 100.00\n",
    "    null_perc = pd.DataFrame(null_perc, columns=['Percentage_NaN'])\n",
    "    null_perc= null_perc.sort_values(by = ['Percentage_NaN'], ascending = False)\n",
    "    return null_perc"
   ]
  },
  {
   "cell_type": "code",
   "execution_count": 94,
   "metadata": {},
   "outputs": [
    {
     "data": {
      "text/html": [
       "<div>\n",
       "<style scoped>\n",
       "    .dataframe tbody tr th:only-of-type {\n",
       "        vertical-align: middle;\n",
       "    }\n",
       "\n",
       "    .dataframe tbody tr th {\n",
       "        vertical-align: top;\n",
       "    }\n",
       "\n",
       "    .dataframe thead th {\n",
       "        text-align: right;\n",
       "    }\n",
       "</style>\n",
       "<table border=\"1\" class=\"dataframe\">\n",
       "  <thead>\n",
       "    <tr style=\"text-align: right;\">\n",
       "      <th></th>\n",
       "      <th>Percentage_NaN</th>\n",
       "    </tr>\n",
       "  </thead>\n",
       "  <tbody>\n",
       "    <tr>\n",
       "      <th>DESCUENTO</th>\n",
       "      <td>55.7</td>\n",
       "    </tr>\n",
       "    <tr>\n",
       "      <th>FECHA</th>\n",
       "      <td>37.3</td>\n",
       "    </tr>\n",
       "    <tr>\n",
       "      <th>CLIENTE</th>\n",
       "      <td>36.5</td>\n",
       "    </tr>\n",
       "    <tr>\n",
       "      <th>PUNTO DE VENTA</th>\n",
       "      <td>12.2</td>\n",
       "    </tr>\n",
       "    <tr>\n",
       "      <th>PRECIO</th>\n",
       "      <td>4.7</td>\n",
       "    </tr>\n",
       "    <tr>\n",
       "      <th>MODELO</th>\n",
       "      <td>3.9</td>\n",
       "    </tr>\n",
       "    <tr>\n",
       "      <th>COLOR</th>\n",
       "      <td>3.9</td>\n",
       "    </tr>\n",
       "    <tr>\n",
       "      <th>TALLA</th>\n",
       "      <td>3.9</td>\n",
       "    </tr>\n",
       "    <tr>\n",
       "      <th>CANTIDAD</th>\n",
       "      <td>3.5</td>\n",
       "    </tr>\n",
       "    <tr>\n",
       "      <th>TOTAL</th>\n",
       "      <td>2.0</td>\n",
       "    </tr>\n",
       "  </tbody>\n",
       "</table>\n",
       "</div>"
      ],
      "text/plain": [
       "                Percentage_NaN\n",
       "DESCUENTO                 55.7\n",
       "FECHA                     37.3\n",
       "CLIENTE                   36.5\n",
       "PUNTO DE VENTA            12.2\n",
       "PRECIO                     4.7\n",
       "MODELO                     3.9\n",
       "COLOR                      3.9\n",
       "TALLA                      3.9\n",
       "CANTIDAD                   3.5\n",
       "TOTAL                      2.0"
      ]
     },
     "execution_count": 94,
     "metadata": {},
     "output_type": "execute_result"
    }
   ],
   "source": [
    "percentage_nullValues(df_salesB2C_2019)"
   ]
  },
  {
   "cell_type": "markdown",
   "metadata": {},
   "source": [
    "## Replace NaT and NaN in date and Client"
   ]
  },
  {
   "cell_type": "code",
   "execution_count": 95,
   "metadata": {},
   "outputs": [],
   "source": [
    "#For items bought by same client on the same date, fill NaT and Nans with ffil method:\n",
    "#fills value with that in previous row"
   ]
  },
  {
   "cell_type": "code",
   "execution_count": 96,
   "metadata": {},
   "outputs": [],
   "source": [
    "df_salesB2C_2019['CLIENTE'] = df_salesB2C_2019.CLIENTE.fillna(method='ffill')"
   ]
  },
  {
   "cell_type": "code",
   "execution_count": 97,
   "metadata": {},
   "outputs": [],
   "source": [
    "df_salesB2C_2019['FECHA'] = df_salesB2C_2019.FECHA.fillna(method='ffill')"
   ]
  },
  {
   "cell_type": "code",
   "execution_count": 98,
   "metadata": {},
   "outputs": [
    {
     "data": {
      "text/html": [
       "<div>\n",
       "<style scoped>\n",
       "    .dataframe tbody tr th:only-of-type {\n",
       "        vertical-align: middle;\n",
       "    }\n",
       "\n",
       "    .dataframe tbody tr th {\n",
       "        vertical-align: top;\n",
       "    }\n",
       "\n",
       "    .dataframe thead th {\n",
       "        text-align: right;\n",
       "    }\n",
       "</style>\n",
       "<table border=\"1\" class=\"dataframe\">\n",
       "  <thead>\n",
       "    <tr style=\"text-align: right;\">\n",
       "      <th></th>\n",
       "      <th>FECHA</th>\n",
       "      <th>CLIENTE</th>\n",
       "      <th>CANTIDAD</th>\n",
       "      <th>MODELO</th>\n",
       "      <th>COLOR</th>\n",
       "      <th>TALLA</th>\n",
       "      <th>PRECIO</th>\n",
       "      <th>DESCUENTO</th>\n",
       "      <th>TOTAL</th>\n",
       "      <th>PUNTO DE VENTA</th>\n",
       "    </tr>\n",
       "  </thead>\n",
       "  <tbody>\n",
       "    <tr>\n",
       "      <th>0</th>\n",
       "      <td>2019-06-05</td>\n",
       "      <td>KAREN (OAXACA)</td>\n",
       "      <td>1.0</td>\n",
       "      <td>LOLA</td>\n",
       "      <td>VERDE</td>\n",
       "      <td>M</td>\n",
       "      <td>490.0</td>\n",
       "      <td>0.15</td>\n",
       "      <td>416.5</td>\n",
       "      <td>SHOWROOM</td>\n",
       "    </tr>\n",
       "    <tr>\n",
       "      <th>1</th>\n",
       "      <td>2019-06-12</td>\n",
       "      <td>MA. FERNANDA ORTIZ</td>\n",
       "      <td>1.0</td>\n",
       "      <td>EROS</td>\n",
       "      <td>LAVANDA</td>\n",
       "      <td>S</td>\n",
       "      <td>750.0</td>\n",
       "      <td>0.10</td>\n",
       "      <td>675.0</td>\n",
       "      <td>SHOWROOM</td>\n",
       "    </tr>\n",
       "    <tr>\n",
       "      <th>2</th>\n",
       "      <td>2019-06-12</td>\n",
       "      <td>MA. FERNANDA ORTIZ</td>\n",
       "      <td>1.0</td>\n",
       "      <td>LOLA</td>\n",
       "      <td>LAVANDA</td>\n",
       "      <td>M</td>\n",
       "      <td>650.0</td>\n",
       "      <td>0.10</td>\n",
       "      <td>585.0</td>\n",
       "      <td>SHOWROOM</td>\n",
       "    </tr>\n",
       "    <tr>\n",
       "      <th>3</th>\n",
       "      <td>2019-06-13</td>\n",
       "      <td>IRMA VILLANUEVA</td>\n",
       "      <td>1.0</td>\n",
       "      <td>EROS</td>\n",
       "      <td>LAVANDA</td>\n",
       "      <td>L</td>\n",
       "      <td>750.0</td>\n",
       "      <td>NaN</td>\n",
       "      <td>750.0</td>\n",
       "      <td>SHOWROOM</td>\n",
       "    </tr>\n",
       "    <tr>\n",
       "      <th>4</th>\n",
       "      <td>2019-06-13</td>\n",
       "      <td>IRMA VILLANUEVA</td>\n",
       "      <td>1.0</td>\n",
       "      <td>COSUELO</td>\n",
       "      <td>CHERRY</td>\n",
       "      <td>L</td>\n",
       "      <td>1450.0</td>\n",
       "      <td>NaN</td>\n",
       "      <td>1450.0</td>\n",
       "      <td>SHOWROOM</td>\n",
       "    </tr>\n",
       "  </tbody>\n",
       "</table>\n",
       "</div>"
      ],
      "text/plain": [
       "       FECHA             CLIENTE  CANTIDAD   MODELO    COLOR TALLA  PRECIO  \\\n",
       "0 2019-06-05      KAREN (OAXACA)       1.0     LOLA    VERDE     M   490.0   \n",
       "1 2019-06-12  MA. FERNANDA ORTIZ       1.0     EROS  LAVANDA     S   750.0   \n",
       "2 2019-06-12  MA. FERNANDA ORTIZ       1.0     LOLA  LAVANDA     M   650.0   \n",
       "3 2019-06-13     IRMA VILLANUEVA       1.0     EROS  LAVANDA     L   750.0   \n",
       "4 2019-06-13     IRMA VILLANUEVA       1.0  COSUELO   CHERRY     L  1450.0   \n",
       "\n",
       "   DESCUENTO   TOTAL PUNTO DE VENTA  \n",
       "0       0.15   416.5       SHOWROOM  \n",
       "1       0.10   675.0       SHOWROOM  \n",
       "2       0.10   585.0       SHOWROOM  \n",
       "3        NaN   750.0       SHOWROOM  \n",
       "4        NaN  1450.0       SHOWROOM  "
      ]
     },
     "execution_count": 98,
     "metadata": {},
     "output_type": "execute_result"
    }
   ],
   "source": [
    "df_salesB2C_2019.head()"
   ]
  },
  {
   "cell_type": "code",
   "execution_count": 99,
   "metadata": {},
   "outputs": [
    {
     "name": "stdout",
     "output_type": "stream",
     "text": [
      "<class 'pandas.core.frame.DataFrame'>\n",
      "RangeIndex: 255 entries, 0 to 254\n",
      "Data columns (total 10 columns):\n",
      " #   Column          Non-Null Count  Dtype         \n",
      "---  ------          --------------  -----         \n",
      " 0   FECHA           255 non-null    datetime64[ns]\n",
      " 1   CLIENTE         255 non-null    object        \n",
      " 2   CANTIDAD        246 non-null    float64       \n",
      " 3   MODELO          245 non-null    object        \n",
      " 4   COLOR           245 non-null    object        \n",
      " 5   TALLA           245 non-null    object        \n",
      " 6   PRECIO          243 non-null    float64       \n",
      " 7   DESCUENTO       113 non-null    float64       \n",
      " 8   TOTAL           250 non-null    float64       \n",
      " 9   PUNTO DE VENTA  224 non-null    object        \n",
      "dtypes: datetime64[ns](1), float64(4), object(5)\n",
      "memory usage: 20.0+ KB\n"
     ]
    }
   ],
   "source": [
    "df_salesB2C_2019.info()"
   ]
  },
  {
   "cell_type": "code",
   "execution_count": 100,
   "metadata": {},
   "outputs": [],
   "source": [
    "#Delete rows with 0.0 in total (exchanges or presents: no revenue generated)"
   ]
  },
  {
   "cell_type": "code",
   "execution_count": 101,
   "metadata": {},
   "outputs": [],
   "source": [
    "df_salesB2C_2019.drop(df_salesB2C_2019[df_salesB2C_2019['TOTAL'] == 0].index, inplace = True) "
   ]
  },
  {
   "cell_type": "code",
   "execution_count": 102,
   "metadata": {},
   "outputs": [
    {
     "data": {
      "text/plain": [
       "(246, 10)"
      ]
     },
     "execution_count": 102,
     "metadata": {},
     "output_type": "execute_result"
    }
   ],
   "source": [
    "df_salesB2C_2019.shape"
   ]
  },
  {
   "cell_type": "markdown",
   "metadata": {},
   "source": [
    "## Dealing with remaining NaN values "
   ]
  },
  {
   "cell_type": "code",
   "execution_count": 103,
   "metadata": {},
   "outputs": [],
   "source": [
    "#Checking for NaN values in TOTAL"
   ]
  },
  {
   "cell_type": "code",
   "execution_count": 104,
   "metadata": {},
   "outputs": [
    {
     "data": {
      "text/html": [
       "<div>\n",
       "<style scoped>\n",
       "    .dataframe tbody tr th:only-of-type {\n",
       "        vertical-align: middle;\n",
       "    }\n",
       "\n",
       "    .dataframe tbody tr th {\n",
       "        vertical-align: top;\n",
       "    }\n",
       "\n",
       "    .dataframe thead th {\n",
       "        text-align: right;\n",
       "    }\n",
       "</style>\n",
       "<table border=\"1\" class=\"dataframe\">\n",
       "  <thead>\n",
       "    <tr style=\"text-align: right;\">\n",
       "      <th></th>\n",
       "      <th>FECHA</th>\n",
       "      <th>CLIENTE</th>\n",
       "      <th>CANTIDAD</th>\n",
       "      <th>MODELO</th>\n",
       "      <th>COLOR</th>\n",
       "      <th>TALLA</th>\n",
       "      <th>PRECIO</th>\n",
       "      <th>DESCUENTO</th>\n",
       "      <th>TOTAL</th>\n",
       "      <th>PUNTO DE VENTA</th>\n",
       "    </tr>\n",
       "  </thead>\n",
       "  <tbody>\n",
       "    <tr>\n",
       "      <th>53</th>\n",
       "      <td>2019-07-09</td>\n",
       "      <td>Mercedes Bernal</td>\n",
       "      <td>1.0</td>\n",
       "      <td>LOLA</td>\n",
       "      <td>CORAL</td>\n",
       "      <td>L</td>\n",
       "      <td>NaN</td>\n",
       "      <td>NaN</td>\n",
       "      <td>NaN</td>\n",
       "      <td>SHOPIFY</td>\n",
       "    </tr>\n",
       "    <tr>\n",
       "      <th>80</th>\n",
       "      <td>2019-07-23</td>\n",
       "      <td>Daniela Gutierrez</td>\n",
       "      <td>1.0</td>\n",
       "      <td>MACA</td>\n",
       "      <td>LAVANDA</td>\n",
       "      <td>S</td>\n",
       "      <td>NaN</td>\n",
       "      <td>NaN</td>\n",
       "      <td>NaN</td>\n",
       "      <td>SHOPIFY</td>\n",
       "    </tr>\n",
       "    <tr>\n",
       "      <th>86</th>\n",
       "      <td>2019-07-24</td>\n",
       "      <td>Karen Tavenner</td>\n",
       "      <td>1.0</td>\n",
       "      <td>APOLO</td>\n",
       "      <td>LAVANDA</td>\n",
       "      <td>L</td>\n",
       "      <td>NaN</td>\n",
       "      <td>NaN</td>\n",
       "      <td>NaN</td>\n",
       "      <td>SHOPIFY</td>\n",
       "    </tr>\n",
       "    <tr>\n",
       "      <th>150</th>\n",
       "      <td>2019-10-03</td>\n",
       "      <td>Sarah Bajramovic</td>\n",
       "      <td>1.0</td>\n",
       "      <td>GEMINIS TOP</td>\n",
       "      <td>ASH/BLACK</td>\n",
       "      <td>S</td>\n",
       "      <td>790.0</td>\n",
       "      <td>NaN</td>\n",
       "      <td>NaN</td>\n",
       "      <td>SHOPIFY</td>\n",
       "    </tr>\n",
       "    <tr>\n",
       "      <th>160</th>\n",
       "      <td>2019-10-21</td>\n",
       "      <td>Natalie Baur</td>\n",
       "      <td>1.0</td>\n",
       "      <td>ARIES</td>\n",
       "      <td>ASH</td>\n",
       "      <td>M</td>\n",
       "      <td>850.0</td>\n",
       "      <td>NaN</td>\n",
       "      <td>NaN</td>\n",
       "      <td>SHOPIFY</td>\n",
       "    </tr>\n",
       "  </tbody>\n",
       "</table>\n",
       "</div>"
      ],
      "text/plain": [
       "         FECHA            CLIENTE  CANTIDAD       MODELO      COLOR TALLA  \\\n",
       "53  2019-07-09    Mercedes Bernal       1.0         LOLA      CORAL     L   \n",
       "80  2019-07-23  Daniela Gutierrez       1.0         MACA    LAVANDA     S   \n",
       "86  2019-07-24     Karen Tavenner       1.0        APOLO    LAVANDA     L   \n",
       "150 2019-10-03   Sarah Bajramovic       1.0  GEMINIS TOP  ASH/BLACK     S   \n",
       "160 2019-10-21       Natalie Baur       1.0        ARIES        ASH     M   \n",
       "\n",
       "     PRECIO  DESCUENTO  TOTAL PUNTO DE VENTA  \n",
       "53      NaN        NaN    NaN        SHOPIFY  \n",
       "80      NaN        NaN    NaN        SHOPIFY  \n",
       "86      NaN        NaN    NaN        SHOPIFY  \n",
       "150   790.0        NaN    NaN        SHOPIFY  \n",
       "160   850.0        NaN    NaN        SHOPIFY  "
      ]
     },
     "execution_count": 104,
     "metadata": {},
     "output_type": "execute_result"
    }
   ],
   "source": [
    "df_salesB2C_2019[df_salesB2C_2019['TOTAL'].isna()]"
   ]
  },
  {
   "cell_type": "code",
   "execution_count": 105,
   "metadata": {},
   "outputs": [],
   "source": [
    "df_salesB2C_2019.at[53, 'PRECIO'] = 0"
   ]
  },
  {
   "cell_type": "code",
   "execution_count": 106,
   "metadata": {},
   "outputs": [],
   "source": [
    "df_salesB2C_2019.at[53, 'DESCUENTO'] = 0"
   ]
  },
  {
   "cell_type": "code",
   "execution_count": 107,
   "metadata": {},
   "outputs": [],
   "source": [
    "df_salesB2C_2019.at[53, 'TOTAL'] = 0"
   ]
  },
  {
   "cell_type": "code",
   "execution_count": 108,
   "metadata": {},
   "outputs": [],
   "source": [
    "df_salesB2C_2019.at[80, 'PRECIO'] = 0"
   ]
  },
  {
   "cell_type": "code",
   "execution_count": 109,
   "metadata": {},
   "outputs": [],
   "source": [
    "df_salesB2C_2019.at[80, 'DESCUENTO'] = 0"
   ]
  },
  {
   "cell_type": "code",
   "execution_count": 110,
   "metadata": {},
   "outputs": [],
   "source": [
    "df_salesB2C_2019.at[80, 'TOTAL'] = 0"
   ]
  },
  {
   "cell_type": "code",
   "execution_count": 111,
   "metadata": {},
   "outputs": [],
   "source": [
    "df_salesB2C_2019.at[86, 'PRECIO'] = 0"
   ]
  },
  {
   "cell_type": "code",
   "execution_count": 112,
   "metadata": {},
   "outputs": [],
   "source": [
    "df_salesB2C_2019.at[86, 'DESCUENTO'] = 0"
   ]
  },
  {
   "cell_type": "code",
   "execution_count": 113,
   "metadata": {},
   "outputs": [],
   "source": [
    "df_salesB2C_2019.at[86, 'TOTAL'] = 0"
   ]
  },
  {
   "cell_type": "code",
   "execution_count": 114,
   "metadata": {},
   "outputs": [],
   "source": [
    "df_salesB2C_2019.at[150, 'PRECIO'] = 0"
   ]
  },
  {
   "cell_type": "code",
   "execution_count": 115,
   "metadata": {},
   "outputs": [],
   "source": [
    "df_salesB2C_2019.at[150, 'DESCUENTO'] = 0"
   ]
  },
  {
   "cell_type": "code",
   "execution_count": 116,
   "metadata": {},
   "outputs": [],
   "source": [
    "df_salesB2C_2019.at[150, 'TOTAL'] = 0"
   ]
  },
  {
   "cell_type": "code",
   "execution_count": 117,
   "metadata": {},
   "outputs": [],
   "source": [
    "df_salesB2C_2019.at[160, 'PRECIO'] = 0"
   ]
  },
  {
   "cell_type": "code",
   "execution_count": 118,
   "metadata": {},
   "outputs": [],
   "source": [
    "df_salesB2C_2019.at[160, 'DESCUENTO'] = 0"
   ]
  },
  {
   "cell_type": "code",
   "execution_count": 119,
   "metadata": {},
   "outputs": [],
   "source": [
    "df_salesB2C_2019.at[160, 'TOTAL'] = 0"
   ]
  },
  {
   "cell_type": "code",
   "execution_count": 120,
   "metadata": {},
   "outputs": [],
   "source": [
    "#Double checking"
   ]
  },
  {
   "cell_type": "code",
   "execution_count": 121,
   "metadata": {},
   "outputs": [
    {
     "data": {
      "text/html": [
       "<div>\n",
       "<style scoped>\n",
       "    .dataframe tbody tr th:only-of-type {\n",
       "        vertical-align: middle;\n",
       "    }\n",
       "\n",
       "    .dataframe tbody tr th {\n",
       "        vertical-align: top;\n",
       "    }\n",
       "\n",
       "    .dataframe thead th {\n",
       "        text-align: right;\n",
       "    }\n",
       "</style>\n",
       "<table border=\"1\" class=\"dataframe\">\n",
       "  <thead>\n",
       "    <tr style=\"text-align: right;\">\n",
       "      <th></th>\n",
       "      <th>FECHA</th>\n",
       "      <th>CLIENTE</th>\n",
       "      <th>CANTIDAD</th>\n",
       "      <th>MODELO</th>\n",
       "      <th>COLOR</th>\n",
       "      <th>TALLA</th>\n",
       "      <th>PRECIO</th>\n",
       "      <th>DESCUENTO</th>\n",
       "      <th>TOTAL</th>\n",
       "      <th>PUNTO DE VENTA</th>\n",
       "    </tr>\n",
       "  </thead>\n",
       "  <tbody>\n",
       "  </tbody>\n",
       "</table>\n",
       "</div>"
      ],
      "text/plain": [
       "Empty DataFrame\n",
       "Columns: [FECHA, CLIENTE, CANTIDAD, MODELO, COLOR, TALLA, PRECIO, DESCUENTO, TOTAL, PUNTO DE VENTA]\n",
       "Index: []"
      ]
     },
     "execution_count": 121,
     "metadata": {},
     "output_type": "execute_result"
    }
   ],
   "source": [
    "df_salesB2C_2019[df_salesB2C_2019['TOTAL'].isna()]"
   ]
  },
  {
   "cell_type": "code",
   "execution_count": 122,
   "metadata": {},
   "outputs": [
    {
     "data": {
      "text/html": [
       "<div>\n",
       "<style scoped>\n",
       "    .dataframe tbody tr th:only-of-type {\n",
       "        vertical-align: middle;\n",
       "    }\n",
       "\n",
       "    .dataframe tbody tr th {\n",
       "        vertical-align: top;\n",
       "    }\n",
       "\n",
       "    .dataframe thead th {\n",
       "        text-align: right;\n",
       "    }\n",
       "</style>\n",
       "<table border=\"1\" class=\"dataframe\">\n",
       "  <thead>\n",
       "    <tr style=\"text-align: right;\">\n",
       "      <th></th>\n",
       "      <th>Percentage_NaN</th>\n",
       "    </tr>\n",
       "  </thead>\n",
       "  <tbody>\n",
       "    <tr>\n",
       "      <th>DESCUENTO</th>\n",
       "      <td>52.0</td>\n",
       "    </tr>\n",
       "    <tr>\n",
       "      <th>PUNTO DE VENTA</th>\n",
       "      <td>9.3</td>\n",
       "    </tr>\n",
       "    <tr>\n",
       "      <th>MODELO</th>\n",
       "      <td>4.1</td>\n",
       "    </tr>\n",
       "    <tr>\n",
       "      <th>COLOR</th>\n",
       "      <td>4.1</td>\n",
       "    </tr>\n",
       "    <tr>\n",
       "      <th>TALLA</th>\n",
       "      <td>4.1</td>\n",
       "    </tr>\n",
       "    <tr>\n",
       "      <th>CANTIDAD</th>\n",
       "      <td>3.7</td>\n",
       "    </tr>\n",
       "    <tr>\n",
       "      <th>PRECIO</th>\n",
       "      <td>2.4</td>\n",
       "    </tr>\n",
       "    <tr>\n",
       "      <th>FECHA</th>\n",
       "      <td>0.0</td>\n",
       "    </tr>\n",
       "    <tr>\n",
       "      <th>CLIENTE</th>\n",
       "      <td>0.0</td>\n",
       "    </tr>\n",
       "    <tr>\n",
       "      <th>TOTAL</th>\n",
       "      <td>0.0</td>\n",
       "    </tr>\n",
       "  </tbody>\n",
       "</table>\n",
       "</div>"
      ],
      "text/plain": [
       "                Percentage_NaN\n",
       "DESCUENTO                 52.0\n",
       "PUNTO DE VENTA             9.3\n",
       "MODELO                     4.1\n",
       "COLOR                      4.1\n",
       "TALLA                      4.1\n",
       "CANTIDAD                   3.7\n",
       "PRECIO                     2.4\n",
       "FECHA                      0.0\n",
       "CLIENTE                    0.0\n",
       "TOTAL                      0.0"
      ]
     },
     "execution_count": 122,
     "metadata": {},
     "output_type": "execute_result"
    }
   ],
   "source": [
    "percentage_nullValues(df_salesB2C_2019)"
   ]
  },
  {
   "cell_type": "code",
   "execution_count": 123,
   "metadata": {},
   "outputs": [],
   "source": [
    "#Checking for NaN values in PRECIO"
   ]
  },
  {
   "cell_type": "code",
   "execution_count": 124,
   "metadata": {},
   "outputs": [
    {
     "data": {
      "text/html": [
       "<div>\n",
       "<style scoped>\n",
       "    .dataframe tbody tr th:only-of-type {\n",
       "        vertical-align: middle;\n",
       "    }\n",
       "\n",
       "    .dataframe tbody tr th {\n",
       "        vertical-align: top;\n",
       "    }\n",
       "\n",
       "    .dataframe thead th {\n",
       "        text-align: right;\n",
       "    }\n",
       "</style>\n",
       "<table border=\"1\" class=\"dataframe\">\n",
       "  <thead>\n",
       "    <tr style=\"text-align: right;\">\n",
       "      <th></th>\n",
       "      <th>FECHA</th>\n",
       "      <th>CLIENTE</th>\n",
       "      <th>CANTIDAD</th>\n",
       "      <th>MODELO</th>\n",
       "      <th>COLOR</th>\n",
       "      <th>TALLA</th>\n",
       "      <th>PRECIO</th>\n",
       "      <th>DESCUENTO</th>\n",
       "      <th>TOTAL</th>\n",
       "      <th>PUNTO DE VENTA</th>\n",
       "    </tr>\n",
       "  </thead>\n",
       "  <tbody>\n",
       "    <tr>\n",
       "      <th>136</th>\n",
       "      <td>2019-09-11</td>\n",
       "      <td>CAMI</td>\n",
       "      <td>NaN</td>\n",
       "      <td>NaN</td>\n",
       "      <td>NaN</td>\n",
       "      <td>NaN</td>\n",
       "      <td>NaN</td>\n",
       "      <td>NaN</td>\n",
       "      <td>500.0</td>\n",
       "      <td>SHOWROOM</td>\n",
       "    </tr>\n",
       "    <tr>\n",
       "      <th>137</th>\n",
       "      <td>2019-09-11</td>\n",
       "      <td>Jessy Encuadre</td>\n",
       "      <td>NaN</td>\n",
       "      <td>NaN</td>\n",
       "      <td>NaN</td>\n",
       "      <td>NaN</td>\n",
       "      <td>NaN</td>\n",
       "      <td>NaN</td>\n",
       "      <td>200.0</td>\n",
       "      <td>SHOWROOM</td>\n",
       "    </tr>\n",
       "    <tr>\n",
       "      <th>144</th>\n",
       "      <td>2019-09-30</td>\n",
       "      <td>Jessy Encuadre</td>\n",
       "      <td>NaN</td>\n",
       "      <td>NaN</td>\n",
       "      <td>NaN</td>\n",
       "      <td>NaN</td>\n",
       "      <td>NaN</td>\n",
       "      <td>NaN</td>\n",
       "      <td>100.0</td>\n",
       "      <td>SHOWROOM</td>\n",
       "    </tr>\n",
       "    <tr>\n",
       "      <th>146</th>\n",
       "      <td>2019-10-02</td>\n",
       "      <td>Beth</td>\n",
       "      <td>NaN</td>\n",
       "      <td>NaN</td>\n",
       "      <td>NaN</td>\n",
       "      <td>NaN</td>\n",
       "      <td>NaN</td>\n",
       "      <td>NaN</td>\n",
       "      <td>250.0</td>\n",
       "      <td>SHOWROOM</td>\n",
       "    </tr>\n",
       "    <tr>\n",
       "      <th>147</th>\n",
       "      <td>2019-10-03</td>\n",
       "      <td>Fer Villafaña</td>\n",
       "      <td>NaN</td>\n",
       "      <td>NaN</td>\n",
       "      <td>NaN</td>\n",
       "      <td>NaN</td>\n",
       "      <td>NaN</td>\n",
       "      <td>NaN</td>\n",
       "      <td>200.0</td>\n",
       "      <td>SHOWROOM</td>\n",
       "    </tr>\n",
       "    <tr>\n",
       "      <th>218</th>\n",
       "      <td>2019-11-30</td>\n",
       "      <td>CATERINA</td>\n",
       "      <td>1.0</td>\n",
       "      <td>ALMA</td>\n",
       "      <td>BLANCO</td>\n",
       "      <td>S</td>\n",
       "      <td>NaN</td>\n",
       "      <td>NaN</td>\n",
       "      <td>1250.0</td>\n",
       "      <td>NaN</td>\n",
       "    </tr>\n",
       "  </tbody>\n",
       "</table>\n",
       "</div>"
      ],
      "text/plain": [
       "         FECHA         CLIENTE  CANTIDAD MODELO   COLOR TALLA  PRECIO  \\\n",
       "136 2019-09-11            CAMI       NaN    NaN     NaN   NaN     NaN   \n",
       "137 2019-09-11  Jessy Encuadre       NaN    NaN     NaN   NaN     NaN   \n",
       "144 2019-09-30  Jessy Encuadre       NaN    NaN     NaN   NaN     NaN   \n",
       "146 2019-10-02           Beth        NaN    NaN     NaN   NaN     NaN   \n",
       "147 2019-10-03   Fer Villafaña       NaN    NaN     NaN   NaN     NaN   \n",
       "218 2019-11-30        CATERINA       1.0   ALMA  BLANCO     S     NaN   \n",
       "\n",
       "     DESCUENTO   TOTAL PUNTO DE VENTA  \n",
       "136        NaN   500.0       SHOWROOM  \n",
       "137        NaN   200.0       SHOWROOM  \n",
       "144        NaN   100.0       SHOWROOM  \n",
       "146        NaN   250.0       SHOWROOM  \n",
       "147        NaN   200.0       SHOWROOM  \n",
       "218        NaN  1250.0            NaN  "
      ]
     },
     "execution_count": 124,
     "metadata": {},
     "output_type": "execute_result"
    }
   ],
   "source": [
    "df_salesB2C_2019[df_salesB2C_2019['PRECIO'].isna()]"
   ]
  },
  {
   "cell_type": "code",
   "execution_count": 125,
   "metadata": {},
   "outputs": [],
   "source": [
    "df_salesB2C_2019.at[218, 'PRECIO'] = 1250"
   ]
  },
  {
   "cell_type": "code",
   "execution_count": 126,
   "metadata": {},
   "outputs": [],
   "source": [
    "df_salesB2C_2019.at[160, 'DESCUENTO'] = 0"
   ]
  },
  {
   "cell_type": "code",
   "execution_count": 127,
   "metadata": {},
   "outputs": [],
   "source": [
    "df_salesB2C_2019.dropna(subset=['PRECIO'], inplace=True)"
   ]
  },
  {
   "cell_type": "code",
   "execution_count": 128,
   "metadata": {},
   "outputs": [
    {
     "data": {
      "text/html": [
       "<div>\n",
       "<style scoped>\n",
       "    .dataframe tbody tr th:only-of-type {\n",
       "        vertical-align: middle;\n",
       "    }\n",
       "\n",
       "    .dataframe tbody tr th {\n",
       "        vertical-align: top;\n",
       "    }\n",
       "\n",
       "    .dataframe thead th {\n",
       "        text-align: right;\n",
       "    }\n",
       "</style>\n",
       "<table border=\"1\" class=\"dataframe\">\n",
       "  <thead>\n",
       "    <tr style=\"text-align: right;\">\n",
       "      <th></th>\n",
       "      <th>FECHA</th>\n",
       "      <th>CLIENTE</th>\n",
       "      <th>CANTIDAD</th>\n",
       "      <th>MODELO</th>\n",
       "      <th>COLOR</th>\n",
       "      <th>TALLA</th>\n",
       "      <th>PRECIO</th>\n",
       "      <th>DESCUENTO</th>\n",
       "      <th>TOTAL</th>\n",
       "      <th>PUNTO DE VENTA</th>\n",
       "    </tr>\n",
       "  </thead>\n",
       "  <tbody>\n",
       "  </tbody>\n",
       "</table>\n",
       "</div>"
      ],
      "text/plain": [
       "Empty DataFrame\n",
       "Columns: [FECHA, CLIENTE, CANTIDAD, MODELO, COLOR, TALLA, PRECIO, DESCUENTO, TOTAL, PUNTO DE VENTA]\n",
       "Index: []"
      ]
     },
     "execution_count": 128,
     "metadata": {},
     "output_type": "execute_result"
    }
   ],
   "source": [
    "df_salesB2C_2019[df_salesB2C_2019['PRECIO'].isna()]"
   ]
  },
  {
   "cell_type": "code",
   "execution_count": 129,
   "metadata": {},
   "outputs": [
    {
     "data": {
      "text/html": [
       "<div>\n",
       "<style scoped>\n",
       "    .dataframe tbody tr th:only-of-type {\n",
       "        vertical-align: middle;\n",
       "    }\n",
       "\n",
       "    .dataframe tbody tr th {\n",
       "        vertical-align: top;\n",
       "    }\n",
       "\n",
       "    .dataframe thead th {\n",
       "        text-align: right;\n",
       "    }\n",
       "</style>\n",
       "<table border=\"1\" class=\"dataframe\">\n",
       "  <thead>\n",
       "    <tr style=\"text-align: right;\">\n",
       "      <th></th>\n",
       "      <th>Percentage_NaN</th>\n",
       "    </tr>\n",
       "  </thead>\n",
       "  <tbody>\n",
       "    <tr>\n",
       "      <th>DESCUENTO</th>\n",
       "      <td>51.0</td>\n",
       "    </tr>\n",
       "    <tr>\n",
       "      <th>PUNTO DE VENTA</th>\n",
       "      <td>9.5</td>\n",
       "    </tr>\n",
       "    <tr>\n",
       "      <th>MODELO</th>\n",
       "      <td>2.1</td>\n",
       "    </tr>\n",
       "    <tr>\n",
       "      <th>COLOR</th>\n",
       "      <td>2.1</td>\n",
       "    </tr>\n",
       "    <tr>\n",
       "      <th>TALLA</th>\n",
       "      <td>2.1</td>\n",
       "    </tr>\n",
       "    <tr>\n",
       "      <th>CANTIDAD</th>\n",
       "      <td>1.7</td>\n",
       "    </tr>\n",
       "    <tr>\n",
       "      <th>FECHA</th>\n",
       "      <td>0.0</td>\n",
       "    </tr>\n",
       "    <tr>\n",
       "      <th>CLIENTE</th>\n",
       "      <td>0.0</td>\n",
       "    </tr>\n",
       "    <tr>\n",
       "      <th>PRECIO</th>\n",
       "      <td>0.0</td>\n",
       "    </tr>\n",
       "    <tr>\n",
       "      <th>TOTAL</th>\n",
       "      <td>0.0</td>\n",
       "    </tr>\n",
       "  </tbody>\n",
       "</table>\n",
       "</div>"
      ],
      "text/plain": [
       "                Percentage_NaN\n",
       "DESCUENTO                 51.0\n",
       "PUNTO DE VENTA             9.5\n",
       "MODELO                     2.1\n",
       "COLOR                      2.1\n",
       "TALLA                      2.1\n",
       "CANTIDAD                   1.7\n",
       "FECHA                      0.0\n",
       "CLIENTE                    0.0\n",
       "PRECIO                     0.0\n",
       "TOTAL                      0.0"
      ]
     },
     "execution_count": 129,
     "metadata": {},
     "output_type": "execute_result"
    }
   ],
   "source": [
    "percentage_nullValues(df_salesB2C_2019)"
   ]
  },
  {
   "cell_type": "code",
   "execution_count": 130,
   "metadata": {},
   "outputs": [],
   "source": [
    "#Checking for NaN values in CANTIDAD"
   ]
  },
  {
   "cell_type": "code",
   "execution_count": 131,
   "metadata": {},
   "outputs": [
    {
     "data": {
      "text/html": [
       "<div>\n",
       "<style scoped>\n",
       "    .dataframe tbody tr th:only-of-type {\n",
       "        vertical-align: middle;\n",
       "    }\n",
       "\n",
       "    .dataframe tbody tr th {\n",
       "        vertical-align: top;\n",
       "    }\n",
       "\n",
       "    .dataframe thead th {\n",
       "        text-align: right;\n",
       "    }\n",
       "</style>\n",
       "<table border=\"1\" class=\"dataframe\">\n",
       "  <thead>\n",
       "    <tr style=\"text-align: right;\">\n",
       "      <th></th>\n",
       "      <th>FECHA</th>\n",
       "      <th>CLIENTE</th>\n",
       "      <th>CANTIDAD</th>\n",
       "      <th>MODELO</th>\n",
       "      <th>COLOR</th>\n",
       "      <th>TALLA</th>\n",
       "      <th>PRECIO</th>\n",
       "      <th>DESCUENTO</th>\n",
       "      <th>TOTAL</th>\n",
       "      <th>PUNTO DE VENTA</th>\n",
       "    </tr>\n",
       "  </thead>\n",
       "  <tbody>\n",
       "    <tr>\n",
       "      <th>69</th>\n",
       "      <td>2019-07-18</td>\n",
       "      <td>Genaro Taller</td>\n",
       "      <td>NaN</td>\n",
       "      <td>NaN</td>\n",
       "      <td>NaN</td>\n",
       "      <td>NaN</td>\n",
       "      <td>200.0</td>\n",
       "      <td>NaN</td>\n",
       "      <td>200.0</td>\n",
       "      <td>SHOWROOM</td>\n",
       "    </tr>\n",
       "    <tr>\n",
       "      <th>95</th>\n",
       "      <td>2019-07-31</td>\n",
       "      <td>Gaby</td>\n",
       "      <td>NaN</td>\n",
       "      <td>NaN</td>\n",
       "      <td>NaN</td>\n",
       "      <td>NaN</td>\n",
       "      <td>100.0</td>\n",
       "      <td>NaN</td>\n",
       "      <td>100.0</td>\n",
       "      <td>SHOWROOM</td>\n",
       "    </tr>\n",
       "    <tr>\n",
       "      <th>153</th>\n",
       "      <td>2019-10-17</td>\n",
       "      <td>Fer Villafaña</td>\n",
       "      <td>NaN</td>\n",
       "      <td>NaN</td>\n",
       "      <td>NaN</td>\n",
       "      <td>NaN</td>\n",
       "      <td>250.0</td>\n",
       "      <td>NaN</td>\n",
       "      <td>250.0</td>\n",
       "      <td>NaN</td>\n",
       "    </tr>\n",
       "    <tr>\n",
       "      <th>251</th>\n",
       "      <td>2019-12-18</td>\n",
       "      <td>Camila</td>\n",
       "      <td>NaN</td>\n",
       "      <td>NaN</td>\n",
       "      <td>NaN</td>\n",
       "      <td>NaN</td>\n",
       "      <td>412.0</td>\n",
       "      <td>NaN</td>\n",
       "      <td>412.0</td>\n",
       "      <td>NaN</td>\n",
       "    </tr>\n",
       "  </tbody>\n",
       "</table>\n",
       "</div>"
      ],
      "text/plain": [
       "         FECHA        CLIENTE  CANTIDAD MODELO COLOR TALLA  PRECIO  DESCUENTO  \\\n",
       "69  2019-07-18  Genaro Taller       NaN    NaN   NaN   NaN   200.0        NaN   \n",
       "95  2019-07-31           Gaby       NaN    NaN   NaN   NaN   100.0        NaN   \n",
       "153 2019-10-17  Fer Villafaña       NaN    NaN   NaN   NaN   250.0        NaN   \n",
       "251 2019-12-18         Camila       NaN    NaN   NaN   NaN   412.0        NaN   \n",
       "\n",
       "     TOTAL PUNTO DE VENTA  \n",
       "69   200.0       SHOWROOM  \n",
       "95   100.0       SHOWROOM  \n",
       "153  250.0            NaN  \n",
       "251  412.0            NaN  "
      ]
     },
     "execution_count": 131,
     "metadata": {},
     "output_type": "execute_result"
    }
   ],
   "source": [
    "df_salesB2C_2019[df_salesB2C_2019['CANTIDAD'].isna()]"
   ]
  },
  {
   "cell_type": "code",
   "execution_count": 132,
   "metadata": {},
   "outputs": [],
   "source": [
    "#Checking for NaN values in TALLA"
   ]
  },
  {
   "cell_type": "code",
   "execution_count": 133,
   "metadata": {},
   "outputs": [
    {
     "data": {
      "text/html": [
       "<div>\n",
       "<style scoped>\n",
       "    .dataframe tbody tr th:only-of-type {\n",
       "        vertical-align: middle;\n",
       "    }\n",
       "\n",
       "    .dataframe tbody tr th {\n",
       "        vertical-align: top;\n",
       "    }\n",
       "\n",
       "    .dataframe thead th {\n",
       "        text-align: right;\n",
       "    }\n",
       "</style>\n",
       "<table border=\"1\" class=\"dataframe\">\n",
       "  <thead>\n",
       "    <tr style=\"text-align: right;\">\n",
       "      <th></th>\n",
       "      <th>FECHA</th>\n",
       "      <th>CLIENTE</th>\n",
       "      <th>CANTIDAD</th>\n",
       "      <th>MODELO</th>\n",
       "      <th>COLOR</th>\n",
       "      <th>TALLA</th>\n",
       "      <th>PRECIO</th>\n",
       "      <th>DESCUENTO</th>\n",
       "      <th>TOTAL</th>\n",
       "      <th>PUNTO DE VENTA</th>\n",
       "    </tr>\n",
       "  </thead>\n",
       "  <tbody>\n",
       "    <tr>\n",
       "      <th>69</th>\n",
       "      <td>2019-07-18</td>\n",
       "      <td>Genaro Taller</td>\n",
       "      <td>NaN</td>\n",
       "      <td>NaN</td>\n",
       "      <td>NaN</td>\n",
       "      <td>NaN</td>\n",
       "      <td>200.0</td>\n",
       "      <td>NaN</td>\n",
       "      <td>200.0</td>\n",
       "      <td>SHOWROOM</td>\n",
       "    </tr>\n",
       "    <tr>\n",
       "      <th>95</th>\n",
       "      <td>2019-07-31</td>\n",
       "      <td>Gaby</td>\n",
       "      <td>NaN</td>\n",
       "      <td>NaN</td>\n",
       "      <td>NaN</td>\n",
       "      <td>NaN</td>\n",
       "      <td>100.0</td>\n",
       "      <td>NaN</td>\n",
       "      <td>100.0</td>\n",
       "      <td>SHOWROOM</td>\n",
       "    </tr>\n",
       "    <tr>\n",
       "      <th>126</th>\n",
       "      <td>2019-09-05</td>\n",
       "      <td>Beth STAFF</td>\n",
       "      <td>1.0</td>\n",
       "      <td>NaN</td>\n",
       "      <td>NaN</td>\n",
       "      <td>NaN</td>\n",
       "      <td>300.0</td>\n",
       "      <td>0.0</td>\n",
       "      <td>300.0</td>\n",
       "      <td>SHOWROOM</td>\n",
       "    </tr>\n",
       "    <tr>\n",
       "      <th>153</th>\n",
       "      <td>2019-10-17</td>\n",
       "      <td>Fer Villafaña</td>\n",
       "      <td>NaN</td>\n",
       "      <td>NaN</td>\n",
       "      <td>NaN</td>\n",
       "      <td>NaN</td>\n",
       "      <td>250.0</td>\n",
       "      <td>NaN</td>\n",
       "      <td>250.0</td>\n",
       "      <td>NaN</td>\n",
       "    </tr>\n",
       "    <tr>\n",
       "      <th>251</th>\n",
       "      <td>2019-12-18</td>\n",
       "      <td>Camila</td>\n",
       "      <td>NaN</td>\n",
       "      <td>NaN</td>\n",
       "      <td>NaN</td>\n",
       "      <td>NaN</td>\n",
       "      <td>412.0</td>\n",
       "      <td>NaN</td>\n",
       "      <td>412.0</td>\n",
       "      <td>NaN</td>\n",
       "    </tr>\n",
       "  </tbody>\n",
       "</table>\n",
       "</div>"
      ],
      "text/plain": [
       "         FECHA        CLIENTE  CANTIDAD MODELO COLOR TALLA  PRECIO  DESCUENTO  \\\n",
       "69  2019-07-18  Genaro Taller       NaN    NaN   NaN   NaN   200.0        NaN   \n",
       "95  2019-07-31           Gaby       NaN    NaN   NaN   NaN   100.0        NaN   \n",
       "126 2019-09-05     Beth STAFF       1.0    NaN   NaN   NaN   300.0        0.0   \n",
       "153 2019-10-17  Fer Villafaña       NaN    NaN   NaN   NaN   250.0        NaN   \n",
       "251 2019-12-18         Camila       NaN    NaN   NaN   NaN   412.0        NaN   \n",
       "\n",
       "     TOTAL PUNTO DE VENTA  \n",
       "69   200.0       SHOWROOM  \n",
       "95   100.0       SHOWROOM  \n",
       "126  300.0       SHOWROOM  \n",
       "153  250.0            NaN  \n",
       "251  412.0            NaN  "
      ]
     },
     "execution_count": 133,
     "metadata": {},
     "output_type": "execute_result"
    }
   ],
   "source": [
    "df_salesB2C_2019[df_salesB2C_2019['TALLA'].isna()]"
   ]
  },
  {
   "cell_type": "code",
   "execution_count": 134,
   "metadata": {},
   "outputs": [],
   "source": [
    "df_salesB2C_2019['DESCUENTO'] = df_salesB2C_2019['DESCUENTO'].fillna(0)"
   ]
  },
  {
   "cell_type": "code",
   "execution_count": 135,
   "metadata": {},
   "outputs": [],
   "source": [
    "df_salesB2C_2019['PUNTO DE VENTA'] = df_salesB2C_2019['PUNTO DE VENTA'].fillna('UNKNOWN')"
   ]
  },
  {
   "cell_type": "code",
   "execution_count": 136,
   "metadata": {},
   "outputs": [],
   "source": [
    "#After solving NaN values, check for remaining"
   ]
  },
  {
   "cell_type": "code",
   "execution_count": 137,
   "metadata": {},
   "outputs": [
    {
     "data": {
      "text/html": [
       "<div>\n",
       "<style scoped>\n",
       "    .dataframe tbody tr th:only-of-type {\n",
       "        vertical-align: middle;\n",
       "    }\n",
       "\n",
       "    .dataframe tbody tr th {\n",
       "        vertical-align: top;\n",
       "    }\n",
       "\n",
       "    .dataframe thead th {\n",
       "        text-align: right;\n",
       "    }\n",
       "</style>\n",
       "<table border=\"1\" class=\"dataframe\">\n",
       "  <thead>\n",
       "    <tr style=\"text-align: right;\">\n",
       "      <th></th>\n",
       "      <th>Percentage_NaN</th>\n",
       "    </tr>\n",
       "  </thead>\n",
       "  <tbody>\n",
       "    <tr>\n",
       "      <th>MODELO</th>\n",
       "      <td>2.1</td>\n",
       "    </tr>\n",
       "    <tr>\n",
       "      <th>COLOR</th>\n",
       "      <td>2.1</td>\n",
       "    </tr>\n",
       "    <tr>\n",
       "      <th>TALLA</th>\n",
       "      <td>2.1</td>\n",
       "    </tr>\n",
       "    <tr>\n",
       "      <th>CANTIDAD</th>\n",
       "      <td>1.7</td>\n",
       "    </tr>\n",
       "    <tr>\n",
       "      <th>FECHA</th>\n",
       "      <td>0.0</td>\n",
       "    </tr>\n",
       "    <tr>\n",
       "      <th>CLIENTE</th>\n",
       "      <td>0.0</td>\n",
       "    </tr>\n",
       "    <tr>\n",
       "      <th>PRECIO</th>\n",
       "      <td>0.0</td>\n",
       "    </tr>\n",
       "    <tr>\n",
       "      <th>DESCUENTO</th>\n",
       "      <td>0.0</td>\n",
       "    </tr>\n",
       "    <tr>\n",
       "      <th>TOTAL</th>\n",
       "      <td>0.0</td>\n",
       "    </tr>\n",
       "    <tr>\n",
       "      <th>PUNTO DE VENTA</th>\n",
       "      <td>0.0</td>\n",
       "    </tr>\n",
       "  </tbody>\n",
       "</table>\n",
       "</div>"
      ],
      "text/plain": [
       "                Percentage_NaN\n",
       "MODELO                     2.1\n",
       "COLOR                      2.1\n",
       "TALLA                      2.1\n",
       "CANTIDAD                   1.7\n",
       "FECHA                      0.0\n",
       "CLIENTE                    0.0\n",
       "PRECIO                     0.0\n",
       "DESCUENTO                  0.0\n",
       "TOTAL                      0.0\n",
       "PUNTO DE VENTA             0.0"
      ]
     },
     "execution_count": 137,
     "metadata": {},
     "output_type": "execute_result"
    }
   ],
   "source": [
    "percentage_nullValues(df_salesB2C_2019)"
   ]
  },
  {
   "cell_type": "code",
   "execution_count": 138,
   "metadata": {},
   "outputs": [],
   "source": [
    "#Drop NaNs\n",
    "df_salesB2C_2019 = df_salesB2C_2019.dropna()"
   ]
  },
  {
   "cell_type": "code",
   "execution_count": 139,
   "metadata": {},
   "outputs": [
    {
     "name": "stdout",
     "output_type": "stream",
     "text": [
      "<class 'pandas.core.frame.DataFrame'>\n",
      "Int64Index: 236 entries, 0 to 254\n",
      "Data columns (total 10 columns):\n",
      " #   Column          Non-Null Count  Dtype         \n",
      "---  ------          --------------  -----         \n",
      " 0   FECHA           236 non-null    datetime64[ns]\n",
      " 1   CLIENTE         236 non-null    object        \n",
      " 2   CANTIDAD        236 non-null    float64       \n",
      " 3   MODELO          236 non-null    object        \n",
      " 4   COLOR           236 non-null    object        \n",
      " 5   TALLA           236 non-null    object        \n",
      " 6   PRECIO          236 non-null    float64       \n",
      " 7   DESCUENTO       236 non-null    float64       \n",
      " 8   TOTAL           236 non-null    float64       \n",
      " 9   PUNTO DE VENTA  236 non-null    object        \n",
      "dtypes: datetime64[ns](1), float64(4), object(5)\n",
      "memory usage: 20.3+ KB\n"
     ]
    }
   ],
   "source": [
    "df_salesB2C_2019.info()"
   ]
  },
  {
   "cell_type": "markdown",
   "metadata": {},
   "source": [
    "## Obtaining consistency accross categorical data"
   ]
  },
  {
   "cell_type": "code",
   "execution_count": 140,
   "metadata": {},
   "outputs": [],
   "source": [
    "#Changing to lower case\n",
    "df_salesB2C_2019['MODELO'] = df_salesB2C_2019['MODELO'].str.lower()\n",
    "df_salesB2C_2019['COLOR'] = df_salesB2C_2019['COLOR'].str.lower()"
   ]
  },
  {
   "cell_type": "code",
   "execution_count": 141,
   "metadata": {},
   "outputs": [
    {
     "data": {
      "text/html": [
       "<div>\n",
       "<style scoped>\n",
       "    .dataframe tbody tr th:only-of-type {\n",
       "        vertical-align: middle;\n",
       "    }\n",
       "\n",
       "    .dataframe tbody tr th {\n",
       "        vertical-align: top;\n",
       "    }\n",
       "\n",
       "    .dataframe thead th {\n",
       "        text-align: right;\n",
       "    }\n",
       "</style>\n",
       "<table border=\"1\" class=\"dataframe\">\n",
       "  <thead>\n",
       "    <tr style=\"text-align: right;\">\n",
       "      <th></th>\n",
       "      <th>FECHA</th>\n",
       "      <th>CLIENTE</th>\n",
       "      <th>CANTIDAD</th>\n",
       "      <th>MODELO</th>\n",
       "      <th>COLOR</th>\n",
       "      <th>TALLA</th>\n",
       "      <th>PRECIO</th>\n",
       "      <th>DESCUENTO</th>\n",
       "      <th>TOTAL</th>\n",
       "      <th>PUNTO DE VENTA</th>\n",
       "    </tr>\n",
       "  </thead>\n",
       "  <tbody>\n",
       "    <tr>\n",
       "      <th>0</th>\n",
       "      <td>2019-06-05</td>\n",
       "      <td>KAREN (OAXACA)</td>\n",
       "      <td>1.0</td>\n",
       "      <td>lola</td>\n",
       "      <td>verde</td>\n",
       "      <td>M</td>\n",
       "      <td>490.0</td>\n",
       "      <td>0.15</td>\n",
       "      <td>416.5</td>\n",
       "      <td>SHOWROOM</td>\n",
       "    </tr>\n",
       "    <tr>\n",
       "      <th>1</th>\n",
       "      <td>2019-06-12</td>\n",
       "      <td>MA. FERNANDA ORTIZ</td>\n",
       "      <td>1.0</td>\n",
       "      <td>eros</td>\n",
       "      <td>lavanda</td>\n",
       "      <td>S</td>\n",
       "      <td>750.0</td>\n",
       "      <td>0.10</td>\n",
       "      <td>675.0</td>\n",
       "      <td>SHOWROOM</td>\n",
       "    </tr>\n",
       "    <tr>\n",
       "      <th>2</th>\n",
       "      <td>2019-06-12</td>\n",
       "      <td>MA. FERNANDA ORTIZ</td>\n",
       "      <td>1.0</td>\n",
       "      <td>lola</td>\n",
       "      <td>lavanda</td>\n",
       "      <td>M</td>\n",
       "      <td>650.0</td>\n",
       "      <td>0.10</td>\n",
       "      <td>585.0</td>\n",
       "      <td>SHOWROOM</td>\n",
       "    </tr>\n",
       "    <tr>\n",
       "      <th>3</th>\n",
       "      <td>2019-06-13</td>\n",
       "      <td>IRMA VILLANUEVA</td>\n",
       "      <td>1.0</td>\n",
       "      <td>eros</td>\n",
       "      <td>lavanda</td>\n",
       "      <td>L</td>\n",
       "      <td>750.0</td>\n",
       "      <td>0.00</td>\n",
       "      <td>750.0</td>\n",
       "      <td>SHOWROOM</td>\n",
       "    </tr>\n",
       "    <tr>\n",
       "      <th>4</th>\n",
       "      <td>2019-06-13</td>\n",
       "      <td>IRMA VILLANUEVA</td>\n",
       "      <td>1.0</td>\n",
       "      <td>cosuelo</td>\n",
       "      <td>cherry</td>\n",
       "      <td>L</td>\n",
       "      <td>1450.0</td>\n",
       "      <td>0.00</td>\n",
       "      <td>1450.0</td>\n",
       "      <td>SHOWROOM</td>\n",
       "    </tr>\n",
       "  </tbody>\n",
       "</table>\n",
       "</div>"
      ],
      "text/plain": [
       "       FECHA             CLIENTE  CANTIDAD   MODELO    COLOR TALLA  PRECIO  \\\n",
       "0 2019-06-05      KAREN (OAXACA)       1.0     lola    verde     M   490.0   \n",
       "1 2019-06-12  MA. FERNANDA ORTIZ       1.0     eros  lavanda     S   750.0   \n",
       "2 2019-06-12  MA. FERNANDA ORTIZ       1.0     lola  lavanda     M   650.0   \n",
       "3 2019-06-13     IRMA VILLANUEVA       1.0     eros  lavanda     L   750.0   \n",
       "4 2019-06-13     IRMA VILLANUEVA       1.0  cosuelo   cherry     L  1450.0   \n",
       "\n",
       "   DESCUENTO   TOTAL PUNTO DE VENTA  \n",
       "0       0.15   416.5       SHOWROOM  \n",
       "1       0.10   675.0       SHOWROOM  \n",
       "2       0.10   585.0       SHOWROOM  \n",
       "3       0.00   750.0       SHOWROOM  \n",
       "4       0.00  1450.0       SHOWROOM  "
      ]
     },
     "execution_count": 141,
     "metadata": {},
     "output_type": "execute_result"
    }
   ],
   "source": [
    "df_salesB2C_2019.head()"
   ]
  },
  {
   "cell_type": "code",
   "execution_count": 142,
   "metadata": {},
   "outputs": [],
   "source": [
    "#Removing blank spaces in the MODELO column\n",
    "df_salesB2C_2019.MODELO = df_salesB2C_2019.MODELO.str.rstrip()"
   ]
  },
  {
   "cell_type": "code",
   "execution_count": 143,
   "metadata": {},
   "outputs": [
    {
     "data": {
      "text/plain": [
       "array(['lola', 'eros', 'cosuelo', 'apolo', 'maca', 'pastora', 'emilia',\n",
       "       'caña', 'maria', 'lucia', 'venus', 'paloma', 'geminis top',\n",
       "       'geminis botton', 'consuelo', 'naranjo', 'aries', 'gracia', 'nina',\n",
       "       'caña bottom', 'candela', 'alma', 'barreto', 'maria btt',\n",
       "       '3 gracias', 'jeronimo', 'top geminis', 'botton geminis',\n",
       "       'marcelo set', 'top caña', 'marcelo bodysuit', 'palma bodysuit',\n",
       "       'olivia', 'maria top', 'maria bottom', 'geminis bottom',\n",
       "       'leo bottom', 'maca bottom', 'lola bottom', 'milo', 'milo set',\n",
       "       'mara', 'caña bodysuit', 'bodysuit', 'dolores', 'top milo',\n",
       "       'samples', 'sabina', 'top lucia', 'libra', 'margot', 'leandro',\n",
       "       'leo', 'sample', 'set marcelo', 'caña set'], dtype=object)"
      ]
     },
     "execution_count": 143,
     "metadata": {},
     "output_type": "execute_result"
    }
   ],
   "source": [
    "df_salesB2C_2019.MODELO.unique()"
   ]
  },
  {
   "cell_type": "code",
   "execution_count": 144,
   "metadata": {},
   "outputs": [],
   "source": [
    "#Matching model names to surpass typing differences - using mapping\n",
    "mapping  = {'cosuelo': 'consuelo', 'geminis botton':'geminis bottom', 'maria btt': 'maria bottom',\n",
    "             '3 gracias': '3gracias', 'top geminis': 'geminis top', 'botton geminis': 'geminis bottom', \n",
    "           'top caña': 'caña top' }\n",
    "\n",
    "df_salesB2C_2019['MODELO'].replace(mapping, inplace=True)"
   ]
  },
  {
   "cell_type": "code",
   "execution_count": 145,
   "metadata": {},
   "outputs": [],
   "source": [
    "#Adding type to model name on those missing using price as a reference\n",
    "df_salesB2C_2019.loc[(df_salesB2C_2019.PRECIO >= 1000),'MODELO']= df_salesB2C_2019['MODELO'].astype(str) + ' ' + 'bodysuit'"
   ]
  },
  {
   "cell_type": "code",
   "execution_count": 146,
   "metadata": {},
   "outputs": [
    {
     "data": {
      "text/plain": [
       "array(['lola', 'eros', 'consuelo bodysuit', 'apolo', 'maca',\n",
       "       'pastora bodysuit', 'emilia bodysuit', 'caña', 'maria', 'lucia',\n",
       "       'venus bodysuit', 'paloma bodysuit', 'geminis top',\n",
       "       'geminis bottom', 'naranjo bodysuit', 'aries', 'eros bodysuit',\n",
       "       'gracia bodysuit', 'nina', 'caña bottom', 'candela',\n",
       "       'alma bodysuit', 'barreto bodysuit', 'maria bottom',\n",
       "       '3gracias bodysuit', 'jeronimo', 'alma', 'marcelo set bodysuit',\n",
       "       'caña top', 'marcelo bodysuit bodysuit', 'palma bodysuit bodysuit',\n",
       "       'olivia bodysuit', 'maria top', 'leo bottom', 'maca bottom',\n",
       "       'lola bottom', 'milo bodysuit', 'milo set bodysuit', 'mara',\n",
       "       'caña bodysuit bodysuit', 'bodysuit', 'dolores', 'top milo',\n",
       "       'samples', 'sabina', 'top lucia', 'libra', 'margot', 'leandro',\n",
       "       'leo', 'sample', 'set marcelo bodysuit', 'caña set bodysuit'],\n",
       "      dtype=object)"
      ]
     },
     "execution_count": 146,
     "metadata": {},
     "output_type": "execute_result"
    }
   ],
   "source": [
    "df_salesB2C_2019['MODELO'].unique()"
   ]
  },
  {
   "cell_type": "code",
   "execution_count": 147,
   "metadata": {},
   "outputs": [],
   "source": [
    "#Using regular expression to remove type of model where applied twice due to previous line of code\n",
    "df_salesB2C_2019['MODELO'] = df_salesB2C_2019['MODELO'].str.replace(r'\\b(\\w+)(\\s+\\1)+\\b', r'\\1')"
   ]
  },
  {
   "cell_type": "code",
   "execution_count": 148,
   "metadata": {},
   "outputs": [
    {
     "data": {
      "text/plain": [
       "array(['lola', 'eros', 'consuelo bodysuit', 'apolo', 'maca',\n",
       "       'pastora bodysuit', 'emilia bodysuit', 'caña', 'maria', 'lucia',\n",
       "       'venus bodysuit', 'paloma bodysuit', 'geminis top',\n",
       "       'geminis bottom', 'naranjo bodysuit', 'aries', 'eros bodysuit',\n",
       "       'gracia bodysuit', 'nina', 'caña bottom', 'candela',\n",
       "       'alma bodysuit', 'barreto bodysuit', 'maria bottom',\n",
       "       '3gracias bodysuit', 'jeronimo', 'alma', 'marcelo set bodysuit',\n",
       "       'caña top', 'marcelo bodysuit', 'palma bodysuit',\n",
       "       'olivia bodysuit', 'maria top', 'leo bottom', 'maca bottom',\n",
       "       'lola bottom', 'milo bodysuit', 'milo set bodysuit', 'mara',\n",
       "       'caña bodysuit', 'bodysuit', 'dolores', 'top milo', 'samples',\n",
       "       'sabina', 'top lucia', 'libra', 'margot', 'leandro', 'leo',\n",
       "       'sample', 'set marcelo bodysuit', 'caña set bodysuit'],\n",
       "      dtype=object)"
      ]
     },
     "execution_count": 148,
     "metadata": {},
     "output_type": "execute_result"
    }
   ],
   "source": [
    "df_salesB2C_2019['MODELO'].unique()"
   ]
  },
  {
   "cell_type": "code",
   "execution_count": 149,
   "metadata": {},
   "outputs": [],
   "source": [
    "#Removing 'set' for consistency accross dataset\n",
    "df_salesB2C_2019['MODELO'] = df_salesB2C_2019['MODELO'].str.replace('set', '')"
   ]
  },
  {
   "cell_type": "code",
   "execution_count": 150,
   "metadata": {},
   "outputs": [
    {
     "data": {
      "text/plain": [
       "array(['lola', 'eros', 'consuelo bodysuit', 'apolo', 'maca',\n",
       "       'pastora bodysuit', 'emilia bodysuit', 'caña', 'maria', 'lucia',\n",
       "       'venus bodysuit', 'paloma bodysuit', 'geminis top',\n",
       "       'geminis bottom', 'naranjo bodysuit', 'aries', 'eros bodysuit',\n",
       "       'gracia bodysuit', 'nina', 'caña bottom', 'candela',\n",
       "       'alma bodysuit', 'barreto bodysuit', 'maria bottom',\n",
       "       '3gracias bodysuit', 'jeronimo', 'alma', 'marcelo  bodysuit',\n",
       "       'caña top', 'marcelo bodysuit', 'palma bodysuit',\n",
       "       'olivia bodysuit', 'maria top', 'leo bottom', 'maca bottom',\n",
       "       'lola bottom', 'milo bodysuit', 'milo  bodysuit', 'mara',\n",
       "       'caña bodysuit', 'bodysuit', 'dolores', 'top milo', 'samples',\n",
       "       'sabina', 'top lucia', 'libra', 'margot', 'leandro', 'leo',\n",
       "       'sample', ' marcelo bodysuit', 'caña  bodysuit'], dtype=object)"
      ]
     },
     "execution_count": 150,
     "metadata": {},
     "output_type": "execute_result"
    }
   ],
   "source": [
    "df_salesB2C_2019['MODELO'].unique()"
   ]
  },
  {
   "cell_type": "code",
   "execution_count": 151,
   "metadata": {},
   "outputs": [],
   "source": [
    "#Exporting to csv\n",
    "df_salesB2C_2019.to_csv('SalesB2C_2019.csv')"
   ]
  },
  {
   "cell_type": "markdown",
   "metadata": {},
   "source": [
    "# FEATURE ENGINEERING"
   ]
  },
  {
   "cell_type": "code",
   "execution_count": 152,
   "metadata": {},
   "outputs": [
    {
     "data": {
      "text/html": [
       "<div>\n",
       "<style scoped>\n",
       "    .dataframe tbody tr th:only-of-type {\n",
       "        vertical-align: middle;\n",
       "    }\n",
       "\n",
       "    .dataframe tbody tr th {\n",
       "        vertical-align: top;\n",
       "    }\n",
       "\n",
       "    .dataframe thead th {\n",
       "        text-align: right;\n",
       "    }\n",
       "</style>\n",
       "<table border=\"1\" class=\"dataframe\">\n",
       "  <thead>\n",
       "    <tr style=\"text-align: right;\">\n",
       "      <th></th>\n",
       "      <th>FECHA</th>\n",
       "      <th>CLIENTE</th>\n",
       "      <th>CANTIDAD</th>\n",
       "      <th>MODELO</th>\n",
       "      <th>COLOR</th>\n",
       "      <th>TALLA</th>\n",
       "      <th>PRECIO</th>\n",
       "      <th>DESCUENTO</th>\n",
       "      <th>TOTAL</th>\n",
       "      <th>PUNTO DE VENTA</th>\n",
       "    </tr>\n",
       "  </thead>\n",
       "  <tbody>\n",
       "    <tr>\n",
       "      <th>0</th>\n",
       "      <td>2019-06-05</td>\n",
       "      <td>KAREN (OAXACA)</td>\n",
       "      <td>1.0</td>\n",
       "      <td>lola</td>\n",
       "      <td>verde</td>\n",
       "      <td>M</td>\n",
       "      <td>490.0</td>\n",
       "      <td>0.15</td>\n",
       "      <td>416.5</td>\n",
       "      <td>SHOWROOM</td>\n",
       "    </tr>\n",
       "    <tr>\n",
       "      <th>1</th>\n",
       "      <td>2019-06-12</td>\n",
       "      <td>MA. FERNANDA ORTIZ</td>\n",
       "      <td>1.0</td>\n",
       "      <td>eros</td>\n",
       "      <td>lavanda</td>\n",
       "      <td>S</td>\n",
       "      <td>750.0</td>\n",
       "      <td>0.10</td>\n",
       "      <td>675.0</td>\n",
       "      <td>SHOWROOM</td>\n",
       "    </tr>\n",
       "    <tr>\n",
       "      <th>2</th>\n",
       "      <td>2019-06-12</td>\n",
       "      <td>MA. FERNANDA ORTIZ</td>\n",
       "      <td>1.0</td>\n",
       "      <td>lola</td>\n",
       "      <td>lavanda</td>\n",
       "      <td>M</td>\n",
       "      <td>650.0</td>\n",
       "      <td>0.10</td>\n",
       "      <td>585.0</td>\n",
       "      <td>SHOWROOM</td>\n",
       "    </tr>\n",
       "    <tr>\n",
       "      <th>3</th>\n",
       "      <td>2019-06-13</td>\n",
       "      <td>IRMA VILLANUEVA</td>\n",
       "      <td>1.0</td>\n",
       "      <td>eros</td>\n",
       "      <td>lavanda</td>\n",
       "      <td>L</td>\n",
       "      <td>750.0</td>\n",
       "      <td>0.00</td>\n",
       "      <td>750.0</td>\n",
       "      <td>SHOWROOM</td>\n",
       "    </tr>\n",
       "    <tr>\n",
       "      <th>4</th>\n",
       "      <td>2019-06-13</td>\n",
       "      <td>IRMA VILLANUEVA</td>\n",
       "      <td>1.0</td>\n",
       "      <td>consuelo bodysuit</td>\n",
       "      <td>cherry</td>\n",
       "      <td>L</td>\n",
       "      <td>1450.0</td>\n",
       "      <td>0.00</td>\n",
       "      <td>1450.0</td>\n",
       "      <td>SHOWROOM</td>\n",
       "    </tr>\n",
       "  </tbody>\n",
       "</table>\n",
       "</div>"
      ],
      "text/plain": [
       "       FECHA             CLIENTE  CANTIDAD             MODELO    COLOR TALLA  \\\n",
       "0 2019-06-05      KAREN (OAXACA)       1.0               lola    verde     M   \n",
       "1 2019-06-12  MA. FERNANDA ORTIZ       1.0               eros  lavanda     S   \n",
       "2 2019-06-12  MA. FERNANDA ORTIZ       1.0               lola  lavanda     M   \n",
       "3 2019-06-13     IRMA VILLANUEVA       1.0               eros  lavanda     L   \n",
       "4 2019-06-13     IRMA VILLANUEVA       1.0  consuelo bodysuit   cherry     L   \n",
       "\n",
       "   PRECIO  DESCUENTO   TOTAL PUNTO DE VENTA  \n",
       "0   490.0       0.15   416.5       SHOWROOM  \n",
       "1   750.0       0.10   675.0       SHOWROOM  \n",
       "2   650.0       0.10   585.0       SHOWROOM  \n",
       "3   750.0       0.00   750.0       SHOWROOM  \n",
       "4  1450.0       0.00  1450.0       SHOWROOM  "
      ]
     },
     "execution_count": 152,
     "metadata": {},
     "output_type": "execute_result"
    }
   ],
   "source": [
    "df_salesB2C_2019.head()"
   ]
  },
  {
   "cell_type": "code",
   "execution_count": 153,
   "metadata": {},
   "outputs": [],
   "source": [
    "#TALLA"
   ]
  },
  {
   "cell_type": "code",
   "execution_count": 154,
   "metadata": {},
   "outputs": [],
   "source": [
    "# Mapping for consistency accross sizes\n",
    "replace_talla = {'TALLA': { 'm':'M', 's':'S', 'G':'L', 'l':'L'}}\n",
    "df_salesB2C_2019.replace(replace_talla, inplace=True)"
   ]
  },
  {
   "cell_type": "code",
   "execution_count": 155,
   "metadata": {},
   "outputs": [],
   "source": [
    "# Mapping for categorical to numerical data transformation\n",
    "replace_map = {'TALLA': {'XS':1,'S': 2, 'M': 3, 'L': 4, 'XL':5}}"
   ]
  },
  {
   "cell_type": "code",
   "execution_count": 156,
   "metadata": {},
   "outputs": [
    {
     "name": "stdout",
     "output_type": "stream",
     "text": [
      "       FECHA             CLIENTE  CANTIDAD             MODELO    COLOR TALLA  \\\n",
      "0 2019-06-05      KAREN (OAXACA)       1.0               lola    verde     3   \n",
      "1 2019-06-12  MA. FERNANDA ORTIZ       1.0               eros  lavanda     2   \n",
      "2 2019-06-12  MA. FERNANDA ORTIZ       1.0               lola  lavanda     3   \n",
      "3 2019-06-13     IRMA VILLANUEVA       1.0               eros  lavanda     4   \n",
      "4 2019-06-13     IRMA VILLANUEVA       1.0  consuelo bodysuit   cherry     4   \n",
      "\n",
      "   PRECIO  DESCUENTO   TOTAL PUNTO DE VENTA  \n",
      "0   490.0       0.15   416.5       SHOWROOM  \n",
      "1   750.0       0.10   675.0       SHOWROOM  \n",
      "2   650.0       0.10   585.0       SHOWROOM  \n",
      "3   750.0       0.00   750.0       SHOWROOM  \n",
      "4  1450.0       0.00  1450.0       SHOWROOM  \n"
     ]
    },
    {
     "data": {
      "text/html": [
       "<div>\n",
       "<style scoped>\n",
       "    .dataframe tbody tr th:only-of-type {\n",
       "        vertical-align: middle;\n",
       "    }\n",
       "\n",
       "    .dataframe tbody tr th {\n",
       "        vertical-align: top;\n",
       "    }\n",
       "\n",
       "    .dataframe thead th {\n",
       "        text-align: right;\n",
       "    }\n",
       "</style>\n",
       "<table border=\"1\" class=\"dataframe\">\n",
       "  <thead>\n",
       "    <tr style=\"text-align: right;\">\n",
       "      <th></th>\n",
       "      <th>FECHA</th>\n",
       "      <th>CLIENTE</th>\n",
       "      <th>CANTIDAD</th>\n",
       "      <th>MODELO</th>\n",
       "      <th>COLOR</th>\n",
       "      <th>TALLA</th>\n",
       "      <th>PRECIO</th>\n",
       "      <th>DESCUENTO</th>\n",
       "      <th>TOTAL</th>\n",
       "      <th>PUNTO DE VENTA</th>\n",
       "    </tr>\n",
       "  </thead>\n",
       "  <tbody>\n",
       "    <tr>\n",
       "      <th>0</th>\n",
       "      <td>2019-06-05</td>\n",
       "      <td>KAREN (OAXACA)</td>\n",
       "      <td>1.0</td>\n",
       "      <td>lola</td>\n",
       "      <td>verde</td>\n",
       "      <td>3</td>\n",
       "      <td>490.0</td>\n",
       "      <td>0.15</td>\n",
       "      <td>416.5</td>\n",
       "      <td>SHOWROOM</td>\n",
       "    </tr>\n",
       "    <tr>\n",
       "      <th>1</th>\n",
       "      <td>2019-06-12</td>\n",
       "      <td>MA. FERNANDA ORTIZ</td>\n",
       "      <td>1.0</td>\n",
       "      <td>eros</td>\n",
       "      <td>lavanda</td>\n",
       "      <td>2</td>\n",
       "      <td>750.0</td>\n",
       "      <td>0.10</td>\n",
       "      <td>675.0</td>\n",
       "      <td>SHOWROOM</td>\n",
       "    </tr>\n",
       "    <tr>\n",
       "      <th>2</th>\n",
       "      <td>2019-06-12</td>\n",
       "      <td>MA. FERNANDA ORTIZ</td>\n",
       "      <td>1.0</td>\n",
       "      <td>lola</td>\n",
       "      <td>lavanda</td>\n",
       "      <td>3</td>\n",
       "      <td>650.0</td>\n",
       "      <td>0.10</td>\n",
       "      <td>585.0</td>\n",
       "      <td>SHOWROOM</td>\n",
       "    </tr>\n",
       "    <tr>\n",
       "      <th>3</th>\n",
       "      <td>2019-06-13</td>\n",
       "      <td>IRMA VILLANUEVA</td>\n",
       "      <td>1.0</td>\n",
       "      <td>eros</td>\n",
       "      <td>lavanda</td>\n",
       "      <td>4</td>\n",
       "      <td>750.0</td>\n",
       "      <td>0.00</td>\n",
       "      <td>750.0</td>\n",
       "      <td>SHOWROOM</td>\n",
       "    </tr>\n",
       "    <tr>\n",
       "      <th>4</th>\n",
       "      <td>2019-06-13</td>\n",
       "      <td>IRMA VILLANUEVA</td>\n",
       "      <td>1.0</td>\n",
       "      <td>consuelo bodysuit</td>\n",
       "      <td>cherry</td>\n",
       "      <td>4</td>\n",
       "      <td>1450.0</td>\n",
       "      <td>0.00</td>\n",
       "      <td>1450.0</td>\n",
       "      <td>SHOWROOM</td>\n",
       "    </tr>\n",
       "    <tr>\n",
       "      <th>...</th>\n",
       "      <td>...</td>\n",
       "      <td>...</td>\n",
       "      <td>...</td>\n",
       "      <td>...</td>\n",
       "      <td>...</td>\n",
       "      <td>...</td>\n",
       "      <td>...</td>\n",
       "      <td>...</td>\n",
       "      <td>...</td>\n",
       "      <td>...</td>\n",
       "    </tr>\n",
       "    <tr>\n",
       "      <th>249</th>\n",
       "      <td>2019-12-16</td>\n",
       "      <td>Manu demichelis</td>\n",
       "      <td>1.0</td>\n",
       "      <td>paloma bodysuit</td>\n",
       "      <td>tan</td>\n",
       "      <td>3</td>\n",
       "      <td>1565.0</td>\n",
       "      <td>0.00</td>\n",
       "      <td>1565.0</td>\n",
       "      <td>INSTAGRAM</td>\n",
       "    </tr>\n",
       "    <tr>\n",
       "      <th>250</th>\n",
       "      <td>2019-12-18</td>\n",
       "      <td>andrea fuga</td>\n",
       "      <td>1.0</td>\n",
       "      <td>pastora bodysuit</td>\n",
       "      <td>negro</td>\n",
       "      <td>3</td>\n",
       "      <td>1290.0</td>\n",
       "      <td>0.20</td>\n",
       "      <td>1032.0</td>\n",
       "      <td>INSTAGRAM</td>\n",
       "    </tr>\n",
       "    <tr>\n",
       "      <th>252</th>\n",
       "      <td>2019-12-19</td>\n",
       "      <td>Pina</td>\n",
       "      <td>1.0</td>\n",
       "      <td>caña  bodysuit</td>\n",
       "      <td>blanco</td>\n",
       "      <td>2</td>\n",
       "      <td>1800.0</td>\n",
       "      <td>0.30</td>\n",
       "      <td>1260.0</td>\n",
       "      <td>SHOWROOM</td>\n",
       "    </tr>\n",
       "    <tr>\n",
       "      <th>253</th>\n",
       "      <td>2019-12-20</td>\n",
       "      <td>PAU PLMR</td>\n",
       "      <td>1.0</td>\n",
       "      <td>emilia bodysuit</td>\n",
       "      <td>marsala</td>\n",
       "      <td>3</td>\n",
       "      <td>1565.0</td>\n",
       "      <td>0.00</td>\n",
       "      <td>1565.0</td>\n",
       "      <td>SHOWROOM</td>\n",
       "    </tr>\n",
       "    <tr>\n",
       "      <th>254</th>\n",
       "      <td>2019-12-20</td>\n",
       "      <td>MARIANA</td>\n",
       "      <td>1.0</td>\n",
       "      <td>consuelo bodysuit</td>\n",
       "      <td>cherry</td>\n",
       "      <td>3</td>\n",
       "      <td>1450.0</td>\n",
       "      <td>0.10</td>\n",
       "      <td>1305.0</td>\n",
       "      <td>SHOWROOM</td>\n",
       "    </tr>\n",
       "  </tbody>\n",
       "</table>\n",
       "<p>236 rows × 10 columns</p>\n",
       "</div>"
      ],
      "text/plain": [
       "         FECHA             CLIENTE  CANTIDAD             MODELO    COLOR  \\\n",
       "0   2019-06-05      KAREN (OAXACA)       1.0               lola    verde   \n",
       "1   2019-06-12  MA. FERNANDA ORTIZ       1.0               eros  lavanda   \n",
       "2   2019-06-12  MA. FERNANDA ORTIZ       1.0               lola  lavanda   \n",
       "3   2019-06-13     IRMA VILLANUEVA       1.0               eros  lavanda   \n",
       "4   2019-06-13     IRMA VILLANUEVA       1.0  consuelo bodysuit   cherry   \n",
       "..         ...                 ...       ...                ...      ...   \n",
       "249 2019-12-16     Manu demichelis       1.0    paloma bodysuit      tan   \n",
       "250 2019-12-18         andrea fuga       1.0   pastora bodysuit    negro   \n",
       "252 2019-12-19                Pina       1.0     caña  bodysuit   blanco   \n",
       "253 2019-12-20            PAU PLMR       1.0    emilia bodysuit  marsala   \n",
       "254 2019-12-20             MARIANA       1.0  consuelo bodysuit   cherry   \n",
       "\n",
       "    TALLA  PRECIO  DESCUENTO   TOTAL PUNTO DE VENTA  \n",
       "0       3   490.0       0.15   416.5       SHOWROOM  \n",
       "1       2   750.0       0.10   675.0       SHOWROOM  \n",
       "2       3   650.0       0.10   585.0       SHOWROOM  \n",
       "3       4   750.0       0.00   750.0       SHOWROOM  \n",
       "4       4  1450.0       0.00  1450.0       SHOWROOM  \n",
       "..    ...     ...        ...     ...            ...  \n",
       "249     3  1565.0       0.00  1565.0      INSTAGRAM  \n",
       "250     3  1290.0       0.20  1032.0      INSTAGRAM  \n",
       "252     2  1800.0       0.30  1260.0       SHOWROOM  \n",
       "253     3  1565.0       0.00  1565.0       SHOWROOM  \n",
       "254     3  1450.0       0.10  1305.0       SHOWROOM  \n",
       "\n",
       "[236 rows x 10 columns]"
      ]
     },
     "execution_count": 156,
     "metadata": {},
     "output_type": "execute_result"
    }
   ],
   "source": [
    "df_salesB2C_2019_replace = df_salesB2C_2019.copy()\n",
    "\n",
    "# Replace the values with the corresponding map created\n",
    "df_salesB2C_2019_replace.replace(replace_map, inplace=True)\n",
    "\n",
    "print(df_salesB2C_2019_replace.head())\n",
    "df_salesB2C_2019_replace"
   ]
  },
  {
   "cell_type": "code",
   "execution_count": 157,
   "metadata": {},
   "outputs": [
    {
     "data": {
      "text/plain": [
       "array([3, 2, 4, 5, 1, 'S/M'], dtype=object)"
      ]
     },
     "execution_count": 157,
     "metadata": {},
     "output_type": "execute_result"
    }
   ],
   "source": [
    "df_salesB2C_2019_replace.TALLA.unique()"
   ]
  },
  {
   "cell_type": "code",
   "execution_count": 158,
   "metadata": {},
   "outputs": [
    {
     "data": {
      "text/plain": [
       "2      85\n",
       "3      83\n",
       "4      61\n",
       "5       3\n",
       "1       3\n",
       "S/M     1\n",
       "Name: TALLA, dtype: int64"
      ]
     },
     "execution_count": 158,
     "metadata": {},
     "output_type": "execute_result"
    }
   ],
   "source": [
    "df_salesB2C_2019_replace.TALLA.value_counts()"
   ]
  },
  {
   "cell_type": "code",
   "execution_count": 159,
   "metadata": {},
   "outputs": [],
   "source": [
    "#dealing with unique value S/M\n",
    "df_salesB2C_2019_replace= df_salesB2C_2019_replace[~df_salesB2C_2019_replace['TALLA'].isin(['S/M'])]"
   ]
  },
  {
   "cell_type": "code",
   "execution_count": 160,
   "metadata": {},
   "outputs": [
    {
     "data": {
      "text/plain": [
       "2    85\n",
       "3    83\n",
       "4    61\n",
       "5     3\n",
       "1     3\n",
       "Name: TALLA, dtype: int64"
      ]
     },
     "execution_count": 160,
     "metadata": {},
     "output_type": "execute_result"
    }
   ],
   "source": [
    "df_salesB2C_2019_replace.TALLA.value_counts()"
   ]
  },
  {
   "cell_type": "code",
   "execution_count": 161,
   "metadata": {},
   "outputs": [],
   "source": [
    "#COLOR"
   ]
  },
  {
   "cell_type": "code",
   "execution_count": 162,
   "metadata": {},
   "outputs": [
    {
     "data": {
      "text/plain": [
       "array(['verde', 'lavanda', 'cherry', 'cotton candy', 'dark cobalt',\n",
       "       'negro', 'coral', 'blanco', 'tan', 'verde esmeralda', 'azul',\n",
       "       'ash', 'deep indigo', 'ash/lavanda', 'clay', 'sage', 'claro',\n",
       "       'cotton', 'palma', 'lav/ash/coral', 'black', 'flores print',\n",
       "       'ash/lavander', 'white', 'ash/negro', 'copper', 'ash/black',\n",
       "       'indigo', 'set', 'herraduras', 'dusty pink', 'samples',\n",
       "       'negro metalico', 'marsala', 'print flowers', 'dusty rose',\n",
       "       'deep green', 'amarillo', 'print', 'hot magma'], dtype=object)"
      ]
     },
     "execution_count": 162,
     "metadata": {},
     "output_type": "execute_result"
    }
   ],
   "source": [
    "df_salesB2C_2019_replace.COLOR.unique()"
   ]
  },
  {
   "cell_type": "code",
   "execution_count": 163,
   "metadata": {},
   "outputs": [
    {
     "data": {
      "text/plain": [
       "40"
      ]
     },
     "execution_count": 163,
     "metadata": {},
     "output_type": "execute_result"
    }
   ],
   "source": [
    "df_salesB2C_2019_replace.COLOR.nunique()"
   ]
  },
  {
   "cell_type": "code",
   "execution_count": 164,
   "metadata": {},
   "outputs": [],
   "source": [
    "# Mapping for consistency accross colors\n",
    "replace_color = {'COLOR': { 'lav/ash/coral': 'lavanda/ash/coral', 'black':'negro',\n",
    "             'ash/lavander': 'ash/lavanda', 'ash/black': 'ash/negro', 'cotton':'cotton candy'}}\n",
    "df_salesB2C_2019_replace.replace(replace_color, inplace=True)"
   ]
  },
  {
   "cell_type": "code",
   "execution_count": 165,
   "metadata": {},
   "outputs": [
    {
     "data": {
      "text/plain": [
       "36"
      ]
     },
     "execution_count": 165,
     "metadata": {},
     "output_type": "execute_result"
    }
   ],
   "source": [
    "df_salesB2C_2019_replace.COLOR.nunique()"
   ]
  },
  {
   "cell_type": "code",
   "execution_count": 166,
   "metadata": {},
   "outputs": [
    {
     "data": {
      "text/plain": [
       "52"
      ]
     },
     "execution_count": 166,
     "metadata": {},
     "output_type": "execute_result"
    }
   ],
   "source": [
    "df_salesB2C_2019_replace.MODELO.nunique()"
   ]
  },
  {
   "cell_type": "code",
   "execution_count": 167,
   "metadata": {},
   "outputs": [
    {
     "data": {
      "text/html": [
       "<div>\n",
       "<style scoped>\n",
       "    .dataframe tbody tr th:only-of-type {\n",
       "        vertical-align: middle;\n",
       "    }\n",
       "\n",
       "    .dataframe tbody tr th {\n",
       "        vertical-align: top;\n",
       "    }\n",
       "\n",
       "    .dataframe thead th {\n",
       "        text-align: right;\n",
       "    }\n",
       "</style>\n",
       "<table border=\"1\" class=\"dataframe\">\n",
       "  <thead>\n",
       "    <tr style=\"text-align: right;\">\n",
       "      <th></th>\n",
       "      <th>FECHA</th>\n",
       "      <th>CLIENTE</th>\n",
       "      <th>CANTIDAD</th>\n",
       "      <th>MODELO</th>\n",
       "      <th>COLOR</th>\n",
       "      <th>TALLA</th>\n",
       "      <th>PRECIO</th>\n",
       "      <th>DESCUENTO</th>\n",
       "      <th>TOTAL</th>\n",
       "      <th>PUNTO DE VENTA</th>\n",
       "      <th>COLOR_CODE</th>\n",
       "    </tr>\n",
       "  </thead>\n",
       "  <tbody>\n",
       "    <tr>\n",
       "      <th>0</th>\n",
       "      <td>2019-06-05</td>\n",
       "      <td>KAREN (OAXACA)</td>\n",
       "      <td>1.0</td>\n",
       "      <td>lola</td>\n",
       "      <td>verde</td>\n",
       "      <td>3</td>\n",
       "      <td>490.0</td>\n",
       "      <td>0.15</td>\n",
       "      <td>416.5</td>\n",
       "      <td>SHOWROOM</td>\n",
       "      <td>33</td>\n",
       "    </tr>\n",
       "    <tr>\n",
       "      <th>1</th>\n",
       "      <td>2019-06-12</td>\n",
       "      <td>MA. FERNANDA ORTIZ</td>\n",
       "      <td>1.0</td>\n",
       "      <td>eros</td>\n",
       "      <td>lavanda</td>\n",
       "      <td>2</td>\n",
       "      <td>750.0</td>\n",
       "      <td>0.10</td>\n",
       "      <td>675.0</td>\n",
       "      <td>SHOWROOM</td>\n",
       "      <td>21</td>\n",
       "    </tr>\n",
       "    <tr>\n",
       "      <th>2</th>\n",
       "      <td>2019-06-12</td>\n",
       "      <td>MA. FERNANDA ORTIZ</td>\n",
       "      <td>1.0</td>\n",
       "      <td>lola</td>\n",
       "      <td>lavanda</td>\n",
       "      <td>3</td>\n",
       "      <td>650.0</td>\n",
       "      <td>0.10</td>\n",
       "      <td>585.0</td>\n",
       "      <td>SHOWROOM</td>\n",
       "      <td>21</td>\n",
       "    </tr>\n",
       "    <tr>\n",
       "      <th>3</th>\n",
       "      <td>2019-06-13</td>\n",
       "      <td>IRMA VILLANUEVA</td>\n",
       "      <td>1.0</td>\n",
       "      <td>eros</td>\n",
       "      <td>lavanda</td>\n",
       "      <td>4</td>\n",
       "      <td>750.0</td>\n",
       "      <td>0.00</td>\n",
       "      <td>750.0</td>\n",
       "      <td>SHOWROOM</td>\n",
       "      <td>21</td>\n",
       "    </tr>\n",
       "    <tr>\n",
       "      <th>4</th>\n",
       "      <td>2019-06-13</td>\n",
       "      <td>IRMA VILLANUEVA</td>\n",
       "      <td>1.0</td>\n",
       "      <td>consuelo bodysuit</td>\n",
       "      <td>cherry</td>\n",
       "      <td>4</td>\n",
       "      <td>1450.0</td>\n",
       "      <td>0.00</td>\n",
       "      <td>1450.0</td>\n",
       "      <td>SHOWROOM</td>\n",
       "      <td>6</td>\n",
       "    </tr>\n",
       "  </tbody>\n",
       "</table>\n",
       "</div>"
      ],
      "text/plain": [
       "       FECHA             CLIENTE  CANTIDAD             MODELO    COLOR TALLA  \\\n",
       "0 2019-06-05      KAREN (OAXACA)       1.0               lola    verde     3   \n",
       "1 2019-06-12  MA. FERNANDA ORTIZ       1.0               eros  lavanda     2   \n",
       "2 2019-06-12  MA. FERNANDA ORTIZ       1.0               lola  lavanda     3   \n",
       "3 2019-06-13     IRMA VILLANUEVA       1.0               eros  lavanda     4   \n",
       "4 2019-06-13     IRMA VILLANUEVA       1.0  consuelo bodysuit   cherry     4   \n",
       "\n",
       "   PRECIO  DESCUENTO   TOTAL PUNTO DE VENTA  COLOR_CODE  \n",
       "0   490.0       0.15   416.5       SHOWROOM          33  \n",
       "1   750.0       0.10   675.0       SHOWROOM          21  \n",
       "2   650.0       0.10   585.0       SHOWROOM          21  \n",
       "3   750.0       0.00   750.0       SHOWROOM          21  \n",
       "4  1450.0       0.00  1450.0       SHOWROOM           6  "
      ]
     },
     "execution_count": 167,
     "metadata": {},
     "output_type": "execute_result"
    }
   ],
   "source": [
    "#Encoding colors with label encoder\n",
    "\n",
    "from sklearn.preprocessing import LabelEncoder\n",
    "\n",
    "# Step 1. Instantiate the model (label encoding)\n",
    "lb_make = LabelEncoder() \n",
    "\n",
    "# Step 2. Fit the variable to the instatiated model\n",
    "df_salesB2C_2019_replace['COLOR_CODE'] = lb_make.fit_transform(df_salesB2C_2019_replace['COLOR'])\n",
    "\n",
    "df_salesB2C_2019_replace.head() #Results in appending a new column to df"
   ]
  },
  {
   "cell_type": "markdown",
   "metadata": {},
   "source": [
    "# Visualisations"
   ]
  },
  {
   "cell_type": "code",
   "execution_count": 168,
   "metadata": {},
   "outputs": [
    {
     "data": {
      "application/vnd.plotly.v1+json": {
       "config": {
        "plotlyServerURL": "https://plot.ly"
       },
       "data": [
        {
         "hoverlabel": {
          "namelength": 0
         },
         "hovertemplate": "MODELO=lola<br>COLOR=%{x}<br>TALLA=%{y}<br>CANTIDAD=%{marker.size}",
         "legendgroup": "lola",
         "marker": {
          "color": "#636efa",
          "size": [
           1,
           1,
           1,
           1,
           1,
           1,
           1,
           1,
           1,
           1,
           1,
           1,
           1,
           1,
           1,
           1,
           1,
           1,
           1,
           1,
           1
          ],
          "sizemode": "area",
          "sizeref": 0.005,
          "symbol": "circle"
         },
         "mode": "markers",
         "name": "lola",
         "showlegend": true,
         "type": "scatter",
         "x": [
          "verde",
          "lavanda",
          "lavanda",
          "coral",
          "coral",
          "cotton candy",
          "coral",
          "lavanda",
          "cotton candy",
          "flores print",
          "cherry",
          "cotton candy",
          "negro",
          "cherry",
          "negro",
          "negro metalico",
          "marsala",
          "sage",
          "print flowers",
          "clay",
          "print"
         ],
         "xaxis": "x",
         "y": [
          3,
          3,
          4,
          2,
          2,
          2,
          4,
          2,
          4,
          3,
          3,
          3,
          4,
          3,
          2,
          2,
          2,
          3,
          3,
          3,
          3
         ],
         "yaxis": "y"
        },
        {
         "hoverlabel": {
          "namelength": 0
         },
         "hovertemplate": "MODELO=eros<br>COLOR=%{x}<br>TALLA=%{y}<br>CANTIDAD=%{marker.size}",
         "legendgroup": "eros",
         "marker": {
          "color": "#EF553B",
          "size": [
           1,
           1,
           1,
           1,
           1,
           1,
           1,
           1,
           1,
           1,
           1,
           1,
           1,
           1,
           1,
           1,
           1,
           1,
           1,
           1,
           1,
           1,
           1,
           1
          ],
          "sizemode": "area",
          "sizeref": 0.005,
          "symbol": "circle"
         },
         "mode": "markers",
         "name": "eros",
         "showlegend": true,
         "type": "scatter",
         "x": [
          "lavanda",
          "lavanda",
          "cotton candy",
          "cotton candy",
          "lavanda",
          "coral",
          "ash",
          "coral",
          "coral",
          "cotton candy",
          "ash",
          "coral",
          "lavanda",
          "cotton candy",
          "coral",
          "cotton candy",
          "cherry",
          "cotton candy",
          "coral",
          "negro",
          "coral",
          "cherry",
          "coral",
          "negro"
         ],
         "xaxis": "x",
         "y": [
          2,
          4,
          4,
          2,
          4,
          3,
          5,
          3,
          2,
          2,
          2,
          4,
          3,
          4,
          4,
          3,
          3,
          3,
          4,
          4,
          2,
          3,
          1,
          2
         ],
         "yaxis": "y"
        },
        {
         "hoverlabel": {
          "namelength": 0
         },
         "hovertemplate": "MODELO=consuelo bodysuit<br>COLOR=%{x}<br>TALLA=%{y}<br>CANTIDAD=%{marker.size}",
         "legendgroup": "consuelo bodysuit",
         "marker": {
          "color": "#00cc96",
          "size": [
           1,
           1,
           1,
           1,
           1,
           1,
           1,
           1,
           1
          ],
          "sizemode": "area",
          "sizeref": 0.005,
          "symbol": "circle"
         },
         "mode": "markers",
         "name": "consuelo bodysuit",
         "showlegend": true,
         "type": "scatter",
         "x": [
          "cherry",
          "negro",
          "cherry",
          "cherry",
          "cherry",
          "cherry",
          "negro",
          "negro",
          "cherry"
         ],
         "xaxis": "x",
         "y": [
          4,
          2,
          3,
          3,
          4,
          2,
          4,
          4,
          3
         ],
         "yaxis": "y"
        },
        {
         "hoverlabel": {
          "namelength": 0
         },
         "hovertemplate": "MODELO=apolo<br>COLOR=%{x}<br>TALLA=%{y}<br>CANTIDAD=%{marker.size}",
         "legendgroup": "apolo",
         "marker": {
          "color": "#ab63fa",
          "size": [
           1,
           1,
           1,
           1,
           1,
           1,
           1,
           1,
           1,
           1,
           1
          ],
          "sizemode": "area",
          "sizeref": 0.005,
          "symbol": "circle"
         },
         "mode": "markers",
         "name": "apolo",
         "showlegend": true,
         "type": "scatter",
         "x": [
          "cotton candy",
          "cotton candy",
          "ash",
          "ash",
          "cherry",
          "lavanda",
          "negro",
          "ash",
          "cotton candy",
          "coral",
          "coral"
         ],
         "xaxis": "x",
         "y": [
          3,
          2,
          3,
          2,
          3,
          4,
          2,
          3,
          4,
          1,
          1
         ],
         "yaxis": "y"
        },
        {
         "hoverlabel": {
          "namelength": 0
         },
         "hovertemplate": "MODELO=maca<br>COLOR=%{x}<br>TALLA=%{y}<br>CANTIDAD=%{marker.size}",
         "legendgroup": "maca",
         "marker": {
          "color": "#FFA15A",
          "size": [
           1,
           1,
           1,
           1,
           1,
           1,
           1,
           1,
           1,
           1,
           1,
           1
          ],
          "sizemode": "area",
          "sizeref": 0.005,
          "symbol": "circle"
         },
         "mode": "markers",
         "name": "maca",
         "showlegend": true,
         "type": "scatter",
         "x": [
          "dark cobalt",
          "tan",
          "negro",
          "lavanda",
          "lavanda",
          "clay",
          "negro",
          "sage",
          "clay",
          "marsala",
          "negro",
          "indigo"
         ],
         "xaxis": "x",
         "y": [
          2,
          3,
          2,
          3,
          2,
          2,
          3,
          2,
          2,
          3,
          2,
          4
         ],
         "yaxis": "y"
        },
        {
         "hoverlabel": {
          "namelength": 0
         },
         "hovertemplate": "MODELO=pastora bodysuit<br>COLOR=%{x}<br>TALLA=%{y}<br>CANTIDAD=%{marker.size}",
         "legendgroup": "pastora bodysuit",
         "marker": {
          "color": "#19d3f3",
          "size": [
           1,
           1,
           1,
           1,
           1,
           1,
           1,
           1,
           1,
           1,
           1,
           1,
           1,
           1,
           1,
           1,
           1,
           1,
           1,
           1,
           1,
           1
          ],
          "sizemode": "area",
          "sizeref": 0.005,
          "symbol": "circle"
         },
         "mode": "markers",
         "name": "pastora bodysuit",
         "showlegend": true,
         "type": "scatter",
         "x": [
          "negro",
          "cherry",
          "cherry",
          "clay",
          "cherry",
          "cherry",
          "tan",
          "negro",
          "clay",
          "cherry",
          "cherry",
          "cherry",
          "cherry",
          "negro",
          "cherry",
          "clay",
          "negro",
          "cherry",
          "clay",
          "marsala",
          "negro",
          "negro"
         ],
         "xaxis": "x",
         "y": [
          3,
          3,
          3,
          4,
          2,
          3,
          3,
          2,
          2,
          2,
          2,
          3,
          4,
          3,
          2,
          4,
          3,
          4,
          4,
          3,
          3,
          3
         ],
         "yaxis": "y"
        },
        {
         "hoverlabel": {
          "namelength": 0
         },
         "hovertemplate": "MODELO=emilia bodysuit<br>COLOR=%{x}<br>TALLA=%{y}<br>CANTIDAD=%{marker.size}",
         "legendgroup": "emilia bodysuit",
         "marker": {
          "color": "#FF6692",
          "size": [
           1,
           1,
           1,
           1,
           1,
           1,
           1,
           1,
           1,
           1,
           1,
           1,
           1,
           1,
           1,
           1,
           1,
           1,
           1,
           1,
           1
          ],
          "sizemode": "area",
          "sizeref": 0.005,
          "symbol": "circle"
         },
         "mode": "markers",
         "name": "emilia bodysuit",
         "showlegend": true,
         "type": "scatter",
         "x": [
          "coral",
          "verde esmeralda",
          "cherry",
          "sage",
          "tan",
          "cherry",
          "cherry",
          "cherry",
          "negro",
          "cherry",
          "cherry",
          "lavanda",
          "lavanda",
          "negro",
          "dusty pink",
          "dusty rose",
          "negro",
          "deep green",
          "marsala",
          "dusty pink",
          "marsala"
         ],
         "xaxis": "x",
         "y": [
          4,
          2,
          2,
          2,
          2,
          3,
          3,
          4,
          2,
          3,
          3,
          4,
          2,
          2,
          2,
          3,
          2,
          3,
          4,
          4,
          3
         ],
         "yaxis": "y"
        },
        {
         "hoverlabel": {
          "namelength": 0
         },
         "hovertemplate": "MODELO=caña<br>COLOR=%{x}<br>TALLA=%{y}<br>CANTIDAD=%{marker.size}",
         "legendgroup": "caña",
         "marker": {
          "color": "#B6E880",
          "size": [
           1
          ],
          "sizemode": "area",
          "sizeref": 0.005,
          "symbol": "circle"
         },
         "mode": "markers",
         "name": "caña",
         "showlegend": true,
         "type": "scatter",
         "x": [
          "blanco"
         ],
         "xaxis": "x",
         "y": [
          2
         ],
         "yaxis": "y"
        },
        {
         "hoverlabel": {
          "namelength": 0
         },
         "hovertemplate": "MODELO=maria<br>COLOR=%{x}<br>TALLA=%{y}<br>CANTIDAD=%{marker.size}",
         "legendgroup": "maria",
         "marker": {
          "color": "#FF97FF",
          "size": [
           1,
           1,
           1
          ],
          "sizemode": "area",
          "sizeref": 0.005,
          "symbol": "circle"
         },
         "mode": "markers",
         "name": "maria",
         "showlegend": true,
         "type": "scatter",
         "x": [
          "negro",
          "indigo",
          "sage"
         ],
         "xaxis": "x",
         "y": [
          3,
          3,
          4
         ],
         "yaxis": "y"
        },
        {
         "hoverlabel": {
          "namelength": 0
         },
         "hovertemplate": "MODELO=lucia<br>COLOR=%{x}<br>TALLA=%{y}<br>CANTIDAD=%{marker.size}",
         "legendgroup": "lucia",
         "marker": {
          "color": "#FECB52",
          "size": [
           1,
           1,
           1,
           1,
           1,
           1,
           1,
           1
          ],
          "sizemode": "area",
          "sizeref": 0.005,
          "symbol": "circle"
         },
         "mode": "markers",
         "name": "lucia",
         "showlegend": true,
         "type": "scatter",
         "x": [
          "azul",
          "deep indigo",
          "clay",
          "tan",
          "flores print",
          "cherry",
          "indigo",
          "clay"
         ],
         "xaxis": "x",
         "y": [
          2,
          2,
          4,
          3,
          3,
          2,
          2,
          3
         ],
         "yaxis": "y"
        },
        {
         "hoverlabel": {
          "namelength": 0
         },
         "hovertemplate": "MODELO=venus bodysuit<br>COLOR=%{x}<br>TALLA=%{y}<br>CANTIDAD=%{marker.size}",
         "legendgroup": "venus bodysuit",
         "marker": {
          "color": "#636efa",
          "size": [
           1,
           1,
           1,
           1
          ],
          "sizemode": "area",
          "sizeref": 0.005,
          "symbol": "circle"
         },
         "mode": "markers",
         "name": "venus bodysuit",
         "showlegend": true,
         "type": "scatter",
         "x": [
          "ash",
          "coral",
          "coral",
          "negro"
         ],
         "xaxis": "x",
         "y": [
          2,
          2,
          2,
          2
         ],
         "yaxis": "y"
        },
        {
         "hoverlabel": {
          "namelength": 0
         },
         "hovertemplate": "MODELO=paloma bodysuit<br>COLOR=%{x}<br>TALLA=%{y}<br>CANTIDAD=%{marker.size}",
         "legendgroup": "paloma bodysuit",
         "marker": {
          "color": "#EF553B",
          "size": [
           1,
           1,
           1,
           1,
           1,
           1,
           1,
           1,
           1,
           1,
           1,
           1
          ],
          "sizemode": "area",
          "sizeref": 0.005,
          "symbol": "circle"
         },
         "mode": "markers",
         "name": "paloma bodysuit",
         "showlegend": true,
         "type": "scatter",
         "x": [
          "deep indigo",
          "negro",
          "tan",
          "negro",
          "tan",
          "deep indigo",
          "deep indigo",
          "indigo",
          "indigo",
          "dusty rose",
          "tan",
          "tan"
         ],
         "xaxis": "x",
         "y": [
          2,
          3,
          2,
          3,
          2,
          3,
          3,
          2,
          3,
          4,
          2,
          3
         ],
         "yaxis": "y"
        },
        {
         "hoverlabel": {
          "namelength": 0
         },
         "hovertemplate": "MODELO=geminis top<br>COLOR=%{x}<br>TALLA=%{y}<br>CANTIDAD=%{marker.size}",
         "legendgroup": "geminis top",
         "marker": {
          "color": "#00cc96",
          "size": [
           1,
           1,
           1,
           1
          ],
          "sizemode": "area",
          "sizeref": 0.005,
          "symbol": "circle"
         },
         "mode": "markers",
         "name": "geminis top",
         "showlegend": true,
         "type": "scatter",
         "x": [
          "ash/lavanda",
          "ash/lavanda",
          "ash/negro",
          "ash/negro"
         ],
         "xaxis": "x",
         "y": [
          2,
          5,
          4,
          2
         ],
         "yaxis": "y"
        },
        {
         "hoverlabel": {
          "namelength": 0
         },
         "hovertemplate": "MODELO=geminis bottom<br>COLOR=%{x}<br>TALLA=%{y}<br>CANTIDAD=%{marker.size}",
         "legendgroup": "geminis bottom",
         "marker": {
          "color": "#ab63fa",
          "size": [
           1,
           1,
           1
          ],
          "sizemode": "area",
          "sizeref": 0.005,
          "symbol": "circle"
         },
         "mode": "markers",
         "name": "geminis bottom",
         "showlegend": true,
         "type": "scatter",
         "x": [
          "ash/lavanda",
          "ash/lavanda",
          "ash/negro"
         ],
         "xaxis": "x",
         "y": [
          2,
          5,
          4
         ],
         "yaxis": "y"
        },
        {
         "hoverlabel": {
          "namelength": 0
         },
         "hovertemplate": "MODELO=naranjo bodysuit<br>COLOR=%{x}<br>TALLA=%{y}<br>CANTIDAD=%{marker.size}",
         "legendgroup": "naranjo bodysuit",
         "marker": {
          "color": "#FFA15A",
          "size": [
           1,
           1,
           1,
           2,
           2,
           1,
           1,
           1,
           1
          ],
          "sizemode": "area",
          "sizeref": 0.005,
          "symbol": "circle"
         },
         "mode": "markers",
         "name": "naranjo bodysuit",
         "showlegend": true,
         "type": "scatter",
         "x": [
          "lavanda",
          "coral",
          "coral",
          "ash",
          "ash",
          "ash",
          "coral",
          "lavanda",
          "coral"
         ],
         "xaxis": "x",
         "y": [
          2,
          4,
          4,
          2,
          3,
          4,
          2,
          4,
          4
         ],
         "yaxis": "y"
        },
        {
         "hoverlabel": {
          "namelength": 0
         },
         "hovertemplate": "MODELO=aries<br>COLOR=%{x}<br>TALLA=%{y}<br>CANTIDAD=%{marker.size}",
         "legendgroup": "aries",
         "marker": {
          "color": "#19d3f3",
          "size": [
           1,
           1,
           1,
           1
          ],
          "sizemode": "area",
          "sizeref": 0.005,
          "symbol": "circle"
         },
         "mode": "markers",
         "name": "aries",
         "showlegend": true,
         "type": "scatter",
         "x": [
          "cherry",
          "ash",
          "lavanda",
          "ash"
         ],
         "xaxis": "x",
         "y": [
          3,
          3,
          2,
          3
         ],
         "yaxis": "y"
        },
        {
         "hoverlabel": {
          "namelength": 0
         },
         "hovertemplate": "MODELO=eros bodysuit<br>COLOR=%{x}<br>TALLA=%{y}<br>CANTIDAD=%{marker.size}",
         "legendgroup": "eros bodysuit",
         "marker": {
          "color": "#FF6692",
          "size": [
           1,
           1,
           1
          ],
          "sizemode": "area",
          "sizeref": 0.005,
          "symbol": "circle"
         },
         "mode": "markers",
         "name": "eros bodysuit",
         "showlegend": true,
         "type": "scatter",
         "x": [
          "coral",
          "lavanda",
          "lavanda"
         ],
         "xaxis": "x",
         "y": [
          4,
          3,
          4
         ],
         "yaxis": "y"
        },
        {
         "hoverlabel": {
          "namelength": 0
         },
         "hovertemplate": "MODELO=gracia bodysuit<br>COLOR=%{x}<br>TALLA=%{y}<br>CANTIDAD=%{marker.size}",
         "legendgroup": "gracia bodysuit",
         "marker": {
          "color": "#B6E880",
          "size": [
           1
          ],
          "sizemode": "area",
          "sizeref": 0.005,
          "symbol": "circle"
         },
         "mode": "markers",
         "name": "gracia bodysuit",
         "showlegend": true,
         "type": "scatter",
         "x": [
          "lavanda"
         ],
         "xaxis": "x",
         "y": [
          3
         ],
         "yaxis": "y"
        },
        {
         "hoverlabel": {
          "namelength": 0
         },
         "hovertemplate": "MODELO=nina<br>COLOR=%{x}<br>TALLA=%{y}<br>CANTIDAD=%{marker.size}",
         "legendgroup": "nina",
         "marker": {
          "color": "#FF97FF",
          "size": [
           1
          ],
          "sizemode": "area",
          "sizeref": 0.005,
          "symbol": "circle"
         },
         "mode": "markers",
         "name": "nina",
         "showlegend": true,
         "type": "scatter",
         "x": [
          "deep indigo"
         ],
         "xaxis": "x",
         "y": [
          2
         ],
         "yaxis": "y"
        },
        {
         "hoverlabel": {
          "namelength": 0
         },
         "hovertemplate": "MODELO=caña bottom<br>COLOR=%{x}<br>TALLA=%{y}<br>CANTIDAD=%{marker.size}",
         "legendgroup": "caña bottom",
         "marker": {
          "color": "#FECB52",
          "size": [
           1
          ],
          "sizemode": "area",
          "sizeref": 0.005,
          "symbol": "circle"
         },
         "mode": "markers",
         "name": "caña bottom",
         "showlegend": true,
         "type": "scatter",
         "x": [
          "claro"
         ],
         "xaxis": "x",
         "y": [
          3
         ],
         "yaxis": "y"
        },
        {
         "hoverlabel": {
          "namelength": 0
         },
         "hovertemplate": "MODELO=candela<br>COLOR=%{x}<br>TALLA=%{y}<br>CANTIDAD=%{marker.size}",
         "legendgroup": "candela",
         "marker": {
          "color": "#636efa",
          "size": [
           1,
           1,
           1,
           1,
           1,
           1,
           1,
           1,
           1
          ],
          "sizemode": "area",
          "sizeref": 0.005,
          "symbol": "circle"
         },
         "mode": "markers",
         "name": "candela",
         "showlegend": true,
         "type": "scatter",
         "x": [
          "sage",
          "sage",
          "clay",
          "negro",
          "negro",
          "cherry",
          "clay",
          "sage",
          "sage"
         ],
         "xaxis": "x",
         "y": [
          2,
          3,
          2,
          4,
          4,
          4,
          2,
          2,
          4
         ],
         "yaxis": "y"
        },
        {
         "hoverlabel": {
          "namelength": 0
         },
         "hovertemplate": "MODELO=alma bodysuit<br>COLOR=%{x}<br>TALLA=%{y}<br>CANTIDAD=%{marker.size}",
         "legendgroup": "alma bodysuit",
         "marker": {
          "color": "#EF553B",
          "size": [
           1,
           1,
           1,
           1,
           1,
           1
          ],
          "sizemode": "area",
          "sizeref": 0.005,
          "symbol": "circle"
         },
         "mode": "markers",
         "name": "alma bodysuit",
         "showlegend": true,
         "type": "scatter",
         "x": [
          "negro",
          "negro",
          "negro",
          "negro",
          "cherry",
          "blanco"
         ],
         "xaxis": "x",
         "y": [
          3,
          2,
          4,
          2,
          3,
          2
         ],
         "yaxis": "y"
        },
        {
         "hoverlabel": {
          "namelength": 0
         },
         "hovertemplate": "MODELO=barreto bodysuit<br>COLOR=%{x}<br>TALLA=%{y}<br>CANTIDAD=%{marker.size}",
         "legendgroup": "barreto bodysuit",
         "marker": {
          "color": "#00cc96",
          "size": [
           1
          ],
          "sizemode": "area",
          "sizeref": 0.005,
          "symbol": "circle"
         },
         "mode": "markers",
         "name": "barreto bodysuit",
         "showlegend": true,
         "type": "scatter",
         "x": [
          "palma"
         ],
         "xaxis": "x",
         "y": [
          2
         ],
         "yaxis": "y"
        },
        {
         "hoverlabel": {
          "namelength": 0
         },
         "hovertemplate": "MODELO=maria bottom<br>COLOR=%{x}<br>TALLA=%{y}<br>CANTIDAD=%{marker.size}",
         "legendgroup": "maria bottom",
         "marker": {
          "color": "#ab63fa",
          "size": [
           1,
           1
          ],
          "sizemode": "area",
          "sizeref": 0.005,
          "symbol": "circle"
         },
         "mode": "markers",
         "name": "maria bottom",
         "showlegend": true,
         "type": "scatter",
         "x": [
          "sage",
          "copper"
         ],
         "xaxis": "x",
         "y": [
          2,
          2
         ],
         "yaxis": "y"
        },
        {
         "hoverlabel": {
          "namelength": 0
         },
         "hovertemplate": "MODELO=3gracias bodysuit<br>COLOR=%{x}<br>TALLA=%{y}<br>CANTIDAD=%{marker.size}",
         "legendgroup": "3gracias bodysuit",
         "marker": {
          "color": "#FFA15A",
          "size": [
           1
          ],
          "sizemode": "area",
          "sizeref": 0.005,
          "symbol": "circle"
         },
         "mode": "markers",
         "name": "3gracias bodysuit",
         "showlegend": true,
         "type": "scatter",
         "x": [
          "lavanda/ash/coral"
         ],
         "xaxis": "x",
         "y": [
          3
         ],
         "yaxis": "y"
        },
        {
         "hoverlabel": {
          "namelength": 0
         },
         "hovertemplate": "MODELO=jeronimo<br>COLOR=%{x}<br>TALLA=%{y}<br>CANTIDAD=%{marker.size}",
         "legendgroup": "jeronimo",
         "marker": {
          "color": "#19d3f3",
          "size": [
           1,
           1,
           1
          ],
          "sizemode": "area",
          "sizeref": 0.005,
          "symbol": "circle"
         },
         "mode": "markers",
         "name": "jeronimo",
         "showlegend": true,
         "type": "scatter",
         "x": [
          "negro",
          "cherry",
          "deep green"
         ],
         "xaxis": "x",
         "y": [
          4,
          3,
          3
         ],
         "yaxis": "y"
        },
        {
         "hoverlabel": {
          "namelength": 0
         },
         "hovertemplate": "MODELO=alma<br>COLOR=%{x}<br>TALLA=%{y}<br>CANTIDAD=%{marker.size}",
         "legendgroup": "alma",
         "marker": {
          "color": "#FF6692",
          "size": [
           1
          ],
          "sizemode": "area",
          "sizeref": 0.005,
          "symbol": "circle"
         },
         "mode": "markers",
         "name": "alma",
         "showlegend": true,
         "type": "scatter",
         "x": [
          "tan"
         ],
         "xaxis": "x",
         "y": [
          2
         ],
         "yaxis": "y"
        },
        {
         "hoverlabel": {
          "namelength": 0
         },
         "hovertemplate": "MODELO=marcelo  bodysuit<br>COLOR=%{x}<br>TALLA=%{y}<br>CANTIDAD=%{marker.size}",
         "legendgroup": "marcelo  bodysuit",
         "marker": {
          "color": "#B6E880",
          "size": [
           1
          ],
          "sizemode": "area",
          "sizeref": 0.005,
          "symbol": "circle"
         },
         "mode": "markers",
         "name": "marcelo  bodysuit",
         "showlegend": true,
         "type": "scatter",
         "x": [
          "verde"
         ],
         "xaxis": "x",
         "y": [
          4
         ],
         "yaxis": "y"
        },
        {
         "hoverlabel": {
          "namelength": 0
         },
         "hovertemplate": "MODELO=caña top<br>COLOR=%{x}<br>TALLA=%{y}<br>CANTIDAD=%{marker.size}",
         "legendgroup": "caña top",
         "marker": {
          "color": "#FF97FF",
          "size": [
           1
          ],
          "sizemode": "area",
          "sizeref": 0.005,
          "symbol": "circle"
         },
         "mode": "markers",
         "name": "caña top",
         "showlegend": true,
         "type": "scatter",
         "x": [
          "white"
         ],
         "xaxis": "x",
         "y": [
          4
         ],
         "yaxis": "y"
        },
        {
         "hoverlabel": {
          "namelength": 0
         },
         "hovertemplate": "MODELO=marcelo bodysuit<br>COLOR=%{x}<br>TALLA=%{y}<br>CANTIDAD=%{marker.size}",
         "legendgroup": "marcelo bodysuit",
         "marker": {
          "color": "#FECB52",
          "size": [
           1,
           1
          ],
          "sizemode": "area",
          "sizeref": 0.005,
          "symbol": "circle"
         },
         "mode": "markers",
         "name": "marcelo bodysuit",
         "showlegend": true,
         "type": "scatter",
         "x": [
          "verde",
          "amarillo"
         ],
         "xaxis": "x",
         "y": [
          4,
          4
         ],
         "yaxis": "y"
        },
        {
         "hoverlabel": {
          "namelength": 0
         },
         "hovertemplate": "MODELO=palma bodysuit<br>COLOR=%{x}<br>TALLA=%{y}<br>CANTIDAD=%{marker.size}",
         "legendgroup": "palma bodysuit",
         "marker": {
          "color": "#636efa",
          "size": [
           1
          ],
          "sizemode": "area",
          "sizeref": 0.005,
          "symbol": "circle"
         },
         "mode": "markers",
         "name": "palma bodysuit",
         "showlegend": true,
         "type": "scatter",
         "x": [
          "negro"
         ],
         "xaxis": "x",
         "y": [
          4
         ],
         "yaxis": "y"
        },
        {
         "hoverlabel": {
          "namelength": 0
         },
         "hovertemplate": "MODELO=olivia bodysuit<br>COLOR=%{x}<br>TALLA=%{y}<br>CANTIDAD=%{marker.size}",
         "legendgroup": "olivia bodysuit",
         "marker": {
          "color": "#EF553B",
          "size": [
           1,
           1
          ],
          "sizemode": "area",
          "sizeref": 0.005,
          "symbol": "circle"
         },
         "mode": "markers",
         "name": "olivia bodysuit",
         "showlegend": true,
         "type": "scatter",
         "x": [
          "negro",
          "verde esmeralda"
         ],
         "xaxis": "x",
         "y": [
          4,
          3
         ],
         "yaxis": "y"
        },
        {
         "hoverlabel": {
          "namelength": 0
         },
         "hovertemplate": "MODELO=maria top<br>COLOR=%{x}<br>TALLA=%{y}<br>CANTIDAD=%{marker.size}",
         "legendgroup": "maria top",
         "marker": {
          "color": "#00cc96",
          "size": [
           1,
           1
          ],
          "sizemode": "area",
          "sizeref": 0.005,
          "symbol": "circle"
         },
         "mode": "markers",
         "name": "maria top",
         "showlegend": true,
         "type": "scatter",
         "x": [
          "copper",
          "cherry"
         ],
         "xaxis": "x",
         "y": [
          2,
          3
         ],
         "yaxis": "y"
        },
        {
         "hoverlabel": {
          "namelength": 0
         },
         "hovertemplate": "MODELO=leo bottom<br>COLOR=%{x}<br>TALLA=%{y}<br>CANTIDAD=%{marker.size}",
         "legendgroup": "leo bottom",
         "marker": {
          "color": "#ab63fa",
          "size": [
           1
          ],
          "sizemode": "area",
          "sizeref": 0.005,
          "symbol": "circle"
         },
         "mode": "markers",
         "name": "leo bottom",
         "showlegend": true,
         "type": "scatter",
         "x": [
          "negro"
         ],
         "xaxis": "x",
         "y": [
          2
         ],
         "yaxis": "y"
        },
        {
         "hoverlabel": {
          "namelength": 0
         },
         "hovertemplate": "MODELO=maca bottom<br>COLOR=%{x}<br>TALLA=%{y}<br>CANTIDAD=%{marker.size}",
         "legendgroup": "maca bottom",
         "marker": {
          "color": "#FFA15A",
          "size": [
           1,
           1,
           1
          ],
          "sizemode": "area",
          "sizeref": 0.005,
          "symbol": "circle"
         },
         "mode": "markers",
         "name": "maca bottom",
         "showlegend": true,
         "type": "scatter",
         "x": [
          "coral",
          "ash",
          "tan"
         ],
         "xaxis": "x",
         "y": [
          3,
          3,
          3
         ],
         "yaxis": "y"
        },
        {
         "hoverlabel": {
          "namelength": 0
         },
         "hovertemplate": "MODELO=lola bottom<br>COLOR=%{x}<br>TALLA=%{y}<br>CANTIDAD=%{marker.size}",
         "legendgroup": "lola bottom",
         "marker": {
          "color": "#19d3f3",
          "size": [
           1
          ],
          "sizemode": "area",
          "sizeref": 0.005,
          "symbol": "circle"
         },
         "mode": "markers",
         "name": "lola bottom",
         "showlegend": true,
         "type": "scatter",
         "x": [
          "cherry"
         ],
         "xaxis": "x",
         "y": [
          2
         ],
         "yaxis": "y"
        },
        {
         "hoverlabel": {
          "namelength": 0
         },
         "hovertemplate": "MODELO=milo bodysuit<br>COLOR=%{x}<br>TALLA=%{y}<br>CANTIDAD=%{marker.size}",
         "legendgroup": "milo bodysuit",
         "marker": {
          "color": "#FF6692",
          "size": [
           1
          ],
          "sizemode": "area",
          "sizeref": 0.005,
          "symbol": "circle"
         },
         "mode": "markers",
         "name": "milo bodysuit",
         "showlegend": true,
         "type": "scatter",
         "x": [
          "set"
         ],
         "xaxis": "x",
         "y": [
          3
         ],
         "yaxis": "y"
        },
        {
         "hoverlabel": {
          "namelength": 0
         },
         "hovertemplate": "MODELO=milo  bodysuit<br>COLOR=%{x}<br>TALLA=%{y}<br>CANTIDAD=%{marker.size}",
         "legendgroup": "milo  bodysuit",
         "marker": {
          "color": "#B6E880",
          "size": [
           1
          ],
          "sizemode": "area",
          "sizeref": 0.005,
          "symbol": "circle"
         },
         "mode": "markers",
         "name": "milo  bodysuit",
         "showlegend": true,
         "type": "scatter",
         "x": [
          "herraduras"
         ],
         "xaxis": "x",
         "y": [
          3
         ],
         "yaxis": "y"
        },
        {
         "hoverlabel": {
          "namelength": 0
         },
         "hovertemplate": "MODELO=mara<br>COLOR=%{x}<br>TALLA=%{y}<br>CANTIDAD=%{marker.size}",
         "legendgroup": "mara",
         "marker": {
          "color": "#FF97FF",
          "size": [
           1,
           1
          ],
          "sizemode": "area",
          "sizeref": 0.005,
          "symbol": "circle"
         },
         "mode": "markers",
         "name": "mara",
         "showlegend": true,
         "type": "scatter",
         "x": [
          "tan",
          "hot magma"
         ],
         "xaxis": "x",
         "y": [
          3,
          3
         ],
         "yaxis": "y"
        },
        {
         "hoverlabel": {
          "namelength": 0
         },
         "hovertemplate": "MODELO=caña bodysuit<br>COLOR=%{x}<br>TALLA=%{y}<br>CANTIDAD=%{marker.size}",
         "legendgroup": "caña bodysuit",
         "marker": {
          "color": "#FECB52",
          "size": [
           1,
           1
          ],
          "sizemode": "area",
          "sizeref": 0.005,
          "symbol": "circle"
         },
         "mode": "markers",
         "name": "caña bodysuit",
         "showlegend": true,
         "type": "scatter",
         "x": [
          "blanco",
          "blanco"
         ],
         "xaxis": "x",
         "y": [
          4,
          4
         ],
         "yaxis": "y"
        },
        {
         "hoverlabel": {
          "namelength": 0
         },
         "hovertemplate": "MODELO=bodysuit<br>COLOR=%{x}<br>TALLA=%{y}<br>CANTIDAD=%{marker.size}",
         "legendgroup": "bodysuit",
         "marker": {
          "color": "#636efa",
          "size": [
           2
          ],
          "sizemode": "area",
          "sizeref": 0.005,
          "symbol": "circle"
         },
         "mode": "markers",
         "name": "bodysuit",
         "showlegend": true,
         "type": "scatter",
         "x": [
          "samples"
         ],
         "xaxis": "x",
         "y": [
          2
         ],
         "yaxis": "y"
        },
        {
         "hoverlabel": {
          "namelength": 0
         },
         "hovertemplate": "MODELO=dolores<br>COLOR=%{x}<br>TALLA=%{y}<br>CANTIDAD=%{marker.size}",
         "legendgroup": "dolores",
         "marker": {
          "color": "#EF553B",
          "size": [
           1,
           1
          ],
          "sizemode": "area",
          "sizeref": 0.005,
          "symbol": "circle"
         },
         "mode": "markers",
         "name": "dolores",
         "showlegend": true,
         "type": "scatter",
         "x": [
          "cherry",
          "sage"
         ],
         "xaxis": "x",
         "y": [
          2,
          3
         ],
         "yaxis": "y"
        },
        {
         "hoverlabel": {
          "namelength": 0
         },
         "hovertemplate": "MODELO=top milo<br>COLOR=%{x}<br>TALLA=%{y}<br>CANTIDAD=%{marker.size}",
         "legendgroup": "top milo",
         "marker": {
          "color": "#00cc96",
          "size": [
           1
          ],
          "sizemode": "area",
          "sizeref": 0.005,
          "symbol": "circle"
         },
         "mode": "markers",
         "name": "top milo",
         "showlegend": true,
         "type": "scatter",
         "x": [
          "marsala"
         ],
         "xaxis": "x",
         "y": [
          2
         ],
         "yaxis": "y"
        },
        {
         "hoverlabel": {
          "namelength": 0
         },
         "hovertemplate": "MODELO=sabina<br>COLOR=%{x}<br>TALLA=%{y}<br>CANTIDAD=%{marker.size}",
         "legendgroup": "sabina",
         "marker": {
          "color": "#ab63fa",
          "size": [
           1
          ],
          "sizemode": "area",
          "sizeref": 0.005,
          "symbol": "circle"
         },
         "mode": "markers",
         "name": "sabina",
         "showlegend": true,
         "type": "scatter",
         "x": [
          "negro"
         ],
         "xaxis": "x",
         "y": [
          3
         ],
         "yaxis": "y"
        },
        {
         "hoverlabel": {
          "namelength": 0
         },
         "hovertemplate": "MODELO=top lucia<br>COLOR=%{x}<br>TALLA=%{y}<br>CANTIDAD=%{marker.size}",
         "legendgroup": "top lucia",
         "marker": {
          "color": "#FFA15A",
          "size": [
           1
          ],
          "sizemode": "area",
          "sizeref": 0.005,
          "symbol": "circle"
         },
         "mode": "markers",
         "name": "top lucia",
         "showlegend": true,
         "type": "scatter",
         "x": [
          "cherry"
         ],
         "xaxis": "x",
         "y": [
          4
         ],
         "yaxis": "y"
        },
        {
         "hoverlabel": {
          "namelength": 0
         },
         "hovertemplate": "MODELO=libra<br>COLOR=%{x}<br>TALLA=%{y}<br>CANTIDAD=%{marker.size}",
         "legendgroup": "libra",
         "marker": {
          "color": "#19d3f3",
          "size": [
           1,
           1,
           1,
           1
          ],
          "sizemode": "area",
          "sizeref": 0.005,
          "symbol": "circle"
         },
         "mode": "markers",
         "name": "libra",
         "showlegend": true,
         "type": "scatter",
         "x": [
          "deep green",
          "deep green",
          "marsala",
          "negro"
         ],
         "xaxis": "x",
         "y": [
          4,
          2,
          4,
          4
         ],
         "yaxis": "y"
        },
        {
         "hoverlabel": {
          "namelength": 0
         },
         "hovertemplate": "MODELO=margot<br>COLOR=%{x}<br>TALLA=%{y}<br>CANTIDAD=%{marker.size}",
         "legendgroup": "margot",
         "marker": {
          "color": "#FF6692",
          "size": [
           1,
           1
          ],
          "sizemode": "area",
          "sizeref": 0.005,
          "symbol": "circle"
         },
         "mode": "markers",
         "name": "margot",
         "showlegend": true,
         "type": "scatter",
         "x": [
          "negro",
          "negro"
         ],
         "xaxis": "x",
         "y": [
          3,
          2
         ],
         "yaxis": "y"
        },
        {
         "hoverlabel": {
          "namelength": 0
         },
         "hovertemplate": "MODELO=leandro<br>COLOR=%{x}<br>TALLA=%{y}<br>CANTIDAD=%{marker.size}",
         "legendgroup": "leandro",
         "marker": {
          "color": "#B6E880",
          "size": [
           1
          ],
          "sizemode": "area",
          "sizeref": 0.005,
          "symbol": "circle"
         },
         "mode": "markers",
         "name": "leandro",
         "showlegend": true,
         "type": "scatter",
         "x": [
          "marsala"
         ],
         "xaxis": "x",
         "y": [
          4
         ],
         "yaxis": "y"
        },
        {
         "hoverlabel": {
          "namelength": 0
         },
         "hovertemplate": "MODELO=leo<br>COLOR=%{x}<br>TALLA=%{y}<br>CANTIDAD=%{marker.size}",
         "legendgroup": "leo",
         "marker": {
          "color": "#FF97FF",
          "size": [
           1
          ],
          "sizemode": "area",
          "sizeref": 0.005,
          "symbol": "circle"
         },
         "mode": "markers",
         "name": "leo",
         "showlegend": true,
         "type": "scatter",
         "x": [
          "negro"
         ],
         "xaxis": "x",
         "y": [
          2
         ],
         "yaxis": "y"
        },
        {
         "hoverlabel": {
          "namelength": 0
         },
         "hovertemplate": "MODELO=sample<br>COLOR=%{x}<br>TALLA=%{y}<br>CANTIDAD=%{marker.size}",
         "legendgroup": "sample",
         "marker": {
          "color": "#FECB52",
          "size": [
           1,
           1
          ],
          "sizemode": "area",
          "sizeref": 0.005,
          "symbol": "circle"
         },
         "mode": "markers",
         "name": "sample",
         "showlegend": true,
         "type": "scatter",
         "x": [
          "coral",
          "lavanda"
         ],
         "xaxis": "x",
         "y": [
          4,
          3
         ],
         "yaxis": "y"
        },
        {
         "hoverlabel": {
          "namelength": 0
         },
         "hovertemplate": "MODELO= marcelo bodysuit<br>COLOR=%{x}<br>TALLA=%{y}<br>CANTIDAD=%{marker.size}",
         "legendgroup": " marcelo bodysuit",
         "marker": {
          "color": "#636efa",
          "size": [
           1
          ],
          "sizemode": "area",
          "sizeref": 0.005,
          "symbol": "circle"
         },
         "mode": "markers",
         "name": " marcelo bodysuit",
         "showlegend": true,
         "type": "scatter",
         "x": [
          "print"
         ],
         "xaxis": "x",
         "y": [
          2
         ],
         "yaxis": "y"
        },
        {
         "hoverlabel": {
          "namelength": 0
         },
         "hovertemplate": "MODELO=caña  bodysuit<br>COLOR=%{x}<br>TALLA=%{y}<br>CANTIDAD=%{marker.size}",
         "legendgroup": "caña  bodysuit",
         "marker": {
          "color": "#EF553B",
          "size": [
           1
          ],
          "sizemode": "area",
          "sizeref": 0.005,
          "symbol": "circle"
         },
         "mode": "markers",
         "name": "caña  bodysuit",
         "showlegend": true,
         "type": "scatter",
         "x": [
          "blanco"
         ],
         "xaxis": "x",
         "y": [
          2
         ],
         "yaxis": "y"
        }
       ],
       "layout": {
        "legend": {
         "itemsizing": "constant",
         "title": {
          "text": "MODELO"
         },
         "tracegroupgap": 0
        },
        "margin": {
         "t": 60
        },
        "template": {
         "data": {
          "bar": [
           {
            "error_x": {
             "color": "#2a3f5f"
            },
            "error_y": {
             "color": "#2a3f5f"
            },
            "marker": {
             "line": {
              "color": "#E5ECF6",
              "width": 0.5
             }
            },
            "type": "bar"
           }
          ],
          "barpolar": [
           {
            "marker": {
             "line": {
              "color": "#E5ECF6",
              "width": 0.5
             }
            },
            "type": "barpolar"
           }
          ],
          "carpet": [
           {
            "aaxis": {
             "endlinecolor": "#2a3f5f",
             "gridcolor": "white",
             "linecolor": "white",
             "minorgridcolor": "white",
             "startlinecolor": "#2a3f5f"
            },
            "baxis": {
             "endlinecolor": "#2a3f5f",
             "gridcolor": "white",
             "linecolor": "white",
             "minorgridcolor": "white",
             "startlinecolor": "#2a3f5f"
            },
            "type": "carpet"
           }
          ],
          "choropleth": [
           {
            "colorbar": {
             "outlinewidth": 0,
             "ticks": ""
            },
            "type": "choropleth"
           }
          ],
          "contour": [
           {
            "colorbar": {
             "outlinewidth": 0,
             "ticks": ""
            },
            "colorscale": [
             [
              0,
              "#0d0887"
             ],
             [
              0.1111111111111111,
              "#46039f"
             ],
             [
              0.2222222222222222,
              "#7201a8"
             ],
             [
              0.3333333333333333,
              "#9c179e"
             ],
             [
              0.4444444444444444,
              "#bd3786"
             ],
             [
              0.5555555555555556,
              "#d8576b"
             ],
             [
              0.6666666666666666,
              "#ed7953"
             ],
             [
              0.7777777777777778,
              "#fb9f3a"
             ],
             [
              0.8888888888888888,
              "#fdca26"
             ],
             [
              1,
              "#f0f921"
             ]
            ],
            "type": "contour"
           }
          ],
          "contourcarpet": [
           {
            "colorbar": {
             "outlinewidth": 0,
             "ticks": ""
            },
            "type": "contourcarpet"
           }
          ],
          "heatmap": [
           {
            "colorbar": {
             "outlinewidth": 0,
             "ticks": ""
            },
            "colorscale": [
             [
              0,
              "#0d0887"
             ],
             [
              0.1111111111111111,
              "#46039f"
             ],
             [
              0.2222222222222222,
              "#7201a8"
             ],
             [
              0.3333333333333333,
              "#9c179e"
             ],
             [
              0.4444444444444444,
              "#bd3786"
             ],
             [
              0.5555555555555556,
              "#d8576b"
             ],
             [
              0.6666666666666666,
              "#ed7953"
             ],
             [
              0.7777777777777778,
              "#fb9f3a"
             ],
             [
              0.8888888888888888,
              "#fdca26"
             ],
             [
              1,
              "#f0f921"
             ]
            ],
            "type": "heatmap"
           }
          ],
          "heatmapgl": [
           {
            "colorbar": {
             "outlinewidth": 0,
             "ticks": ""
            },
            "colorscale": [
             [
              0,
              "#0d0887"
             ],
             [
              0.1111111111111111,
              "#46039f"
             ],
             [
              0.2222222222222222,
              "#7201a8"
             ],
             [
              0.3333333333333333,
              "#9c179e"
             ],
             [
              0.4444444444444444,
              "#bd3786"
             ],
             [
              0.5555555555555556,
              "#d8576b"
             ],
             [
              0.6666666666666666,
              "#ed7953"
             ],
             [
              0.7777777777777778,
              "#fb9f3a"
             ],
             [
              0.8888888888888888,
              "#fdca26"
             ],
             [
              1,
              "#f0f921"
             ]
            ],
            "type": "heatmapgl"
           }
          ],
          "histogram": [
           {
            "marker": {
             "colorbar": {
              "outlinewidth": 0,
              "ticks": ""
             }
            },
            "type": "histogram"
           }
          ],
          "histogram2d": [
           {
            "colorbar": {
             "outlinewidth": 0,
             "ticks": ""
            },
            "colorscale": [
             [
              0,
              "#0d0887"
             ],
             [
              0.1111111111111111,
              "#46039f"
             ],
             [
              0.2222222222222222,
              "#7201a8"
             ],
             [
              0.3333333333333333,
              "#9c179e"
             ],
             [
              0.4444444444444444,
              "#bd3786"
             ],
             [
              0.5555555555555556,
              "#d8576b"
             ],
             [
              0.6666666666666666,
              "#ed7953"
             ],
             [
              0.7777777777777778,
              "#fb9f3a"
             ],
             [
              0.8888888888888888,
              "#fdca26"
             ],
             [
              1,
              "#f0f921"
             ]
            ],
            "type": "histogram2d"
           }
          ],
          "histogram2dcontour": [
           {
            "colorbar": {
             "outlinewidth": 0,
             "ticks": ""
            },
            "colorscale": [
             [
              0,
              "#0d0887"
             ],
             [
              0.1111111111111111,
              "#46039f"
             ],
             [
              0.2222222222222222,
              "#7201a8"
             ],
             [
              0.3333333333333333,
              "#9c179e"
             ],
             [
              0.4444444444444444,
              "#bd3786"
             ],
             [
              0.5555555555555556,
              "#d8576b"
             ],
             [
              0.6666666666666666,
              "#ed7953"
             ],
             [
              0.7777777777777778,
              "#fb9f3a"
             ],
             [
              0.8888888888888888,
              "#fdca26"
             ],
             [
              1,
              "#f0f921"
             ]
            ],
            "type": "histogram2dcontour"
           }
          ],
          "mesh3d": [
           {
            "colorbar": {
             "outlinewidth": 0,
             "ticks": ""
            },
            "type": "mesh3d"
           }
          ],
          "parcoords": [
           {
            "line": {
             "colorbar": {
              "outlinewidth": 0,
              "ticks": ""
             }
            },
            "type": "parcoords"
           }
          ],
          "pie": [
           {
            "automargin": true,
            "type": "pie"
           }
          ],
          "scatter": [
           {
            "marker": {
             "colorbar": {
              "outlinewidth": 0,
              "ticks": ""
             }
            },
            "type": "scatter"
           }
          ],
          "scatter3d": [
           {
            "line": {
             "colorbar": {
              "outlinewidth": 0,
              "ticks": ""
             }
            },
            "marker": {
             "colorbar": {
              "outlinewidth": 0,
              "ticks": ""
             }
            },
            "type": "scatter3d"
           }
          ],
          "scattercarpet": [
           {
            "marker": {
             "colorbar": {
              "outlinewidth": 0,
              "ticks": ""
             }
            },
            "type": "scattercarpet"
           }
          ],
          "scattergeo": [
           {
            "marker": {
             "colorbar": {
              "outlinewidth": 0,
              "ticks": ""
             }
            },
            "type": "scattergeo"
           }
          ],
          "scattergl": [
           {
            "marker": {
             "colorbar": {
              "outlinewidth": 0,
              "ticks": ""
             }
            },
            "type": "scattergl"
           }
          ],
          "scattermapbox": [
           {
            "marker": {
             "colorbar": {
              "outlinewidth": 0,
              "ticks": ""
             }
            },
            "type": "scattermapbox"
           }
          ],
          "scatterpolar": [
           {
            "marker": {
             "colorbar": {
              "outlinewidth": 0,
              "ticks": ""
             }
            },
            "type": "scatterpolar"
           }
          ],
          "scatterpolargl": [
           {
            "marker": {
             "colorbar": {
              "outlinewidth": 0,
              "ticks": ""
             }
            },
            "type": "scatterpolargl"
           }
          ],
          "scatterternary": [
           {
            "marker": {
             "colorbar": {
              "outlinewidth": 0,
              "ticks": ""
             }
            },
            "type": "scatterternary"
           }
          ],
          "surface": [
           {
            "colorbar": {
             "outlinewidth": 0,
             "ticks": ""
            },
            "colorscale": [
             [
              0,
              "#0d0887"
             ],
             [
              0.1111111111111111,
              "#46039f"
             ],
             [
              0.2222222222222222,
              "#7201a8"
             ],
             [
              0.3333333333333333,
              "#9c179e"
             ],
             [
              0.4444444444444444,
              "#bd3786"
             ],
             [
              0.5555555555555556,
              "#d8576b"
             ],
             [
              0.6666666666666666,
              "#ed7953"
             ],
             [
              0.7777777777777778,
              "#fb9f3a"
             ],
             [
              0.8888888888888888,
              "#fdca26"
             ],
             [
              1,
              "#f0f921"
             ]
            ],
            "type": "surface"
           }
          ],
          "table": [
           {
            "cells": {
             "fill": {
              "color": "#EBF0F8"
             },
             "line": {
              "color": "white"
             }
            },
            "header": {
             "fill": {
              "color": "#C8D4E3"
             },
             "line": {
              "color": "white"
             }
            },
            "type": "table"
           }
          ]
         },
         "layout": {
          "annotationdefaults": {
           "arrowcolor": "#2a3f5f",
           "arrowhead": 0,
           "arrowwidth": 1
          },
          "coloraxis": {
           "colorbar": {
            "outlinewidth": 0,
            "ticks": ""
           }
          },
          "colorscale": {
           "diverging": [
            [
             0,
             "#8e0152"
            ],
            [
             0.1,
             "#c51b7d"
            ],
            [
             0.2,
             "#de77ae"
            ],
            [
             0.3,
             "#f1b6da"
            ],
            [
             0.4,
             "#fde0ef"
            ],
            [
             0.5,
             "#f7f7f7"
            ],
            [
             0.6,
             "#e6f5d0"
            ],
            [
             0.7,
             "#b8e186"
            ],
            [
             0.8,
             "#7fbc41"
            ],
            [
             0.9,
             "#4d9221"
            ],
            [
             1,
             "#276419"
            ]
           ],
           "sequential": [
            [
             0,
             "#0d0887"
            ],
            [
             0.1111111111111111,
             "#46039f"
            ],
            [
             0.2222222222222222,
             "#7201a8"
            ],
            [
             0.3333333333333333,
             "#9c179e"
            ],
            [
             0.4444444444444444,
             "#bd3786"
            ],
            [
             0.5555555555555556,
             "#d8576b"
            ],
            [
             0.6666666666666666,
             "#ed7953"
            ],
            [
             0.7777777777777778,
             "#fb9f3a"
            ],
            [
             0.8888888888888888,
             "#fdca26"
            ],
            [
             1,
             "#f0f921"
            ]
           ],
           "sequentialminus": [
            [
             0,
             "#0d0887"
            ],
            [
             0.1111111111111111,
             "#46039f"
            ],
            [
             0.2222222222222222,
             "#7201a8"
            ],
            [
             0.3333333333333333,
             "#9c179e"
            ],
            [
             0.4444444444444444,
             "#bd3786"
            ],
            [
             0.5555555555555556,
             "#d8576b"
            ],
            [
             0.6666666666666666,
             "#ed7953"
            ],
            [
             0.7777777777777778,
             "#fb9f3a"
            ],
            [
             0.8888888888888888,
             "#fdca26"
            ],
            [
             1,
             "#f0f921"
            ]
           ]
          },
          "colorway": [
           "#636efa",
           "#EF553B",
           "#00cc96",
           "#ab63fa",
           "#FFA15A",
           "#19d3f3",
           "#FF6692",
           "#B6E880",
           "#FF97FF",
           "#FECB52"
          ],
          "font": {
           "color": "#2a3f5f"
          },
          "geo": {
           "bgcolor": "white",
           "lakecolor": "white",
           "landcolor": "#E5ECF6",
           "showlakes": true,
           "showland": true,
           "subunitcolor": "white"
          },
          "hoverlabel": {
           "align": "left"
          },
          "hovermode": "closest",
          "mapbox": {
           "style": "light"
          },
          "paper_bgcolor": "white",
          "plot_bgcolor": "#E5ECF6",
          "polar": {
           "angularaxis": {
            "gridcolor": "white",
            "linecolor": "white",
            "ticks": ""
           },
           "bgcolor": "#E5ECF6",
           "radialaxis": {
            "gridcolor": "white",
            "linecolor": "white",
            "ticks": ""
           }
          },
          "scene": {
           "xaxis": {
            "backgroundcolor": "#E5ECF6",
            "gridcolor": "white",
            "gridwidth": 2,
            "linecolor": "white",
            "showbackground": true,
            "ticks": "",
            "zerolinecolor": "white"
           },
           "yaxis": {
            "backgroundcolor": "#E5ECF6",
            "gridcolor": "white",
            "gridwidth": 2,
            "linecolor": "white",
            "showbackground": true,
            "ticks": "",
            "zerolinecolor": "white"
           },
           "zaxis": {
            "backgroundcolor": "#E5ECF6",
            "gridcolor": "white",
            "gridwidth": 2,
            "linecolor": "white",
            "showbackground": true,
            "ticks": "",
            "zerolinecolor": "white"
           }
          },
          "shapedefaults": {
           "line": {
            "color": "#2a3f5f"
           }
          },
          "ternary": {
           "aaxis": {
            "gridcolor": "white",
            "linecolor": "white",
            "ticks": ""
           },
           "baxis": {
            "gridcolor": "white",
            "linecolor": "white",
            "ticks": ""
           },
           "bgcolor": "#E5ECF6",
           "caxis": {
            "gridcolor": "white",
            "linecolor": "white",
            "ticks": ""
           }
          },
          "title": {
           "x": 0.05
          },
          "xaxis": {
           "automargin": true,
           "gridcolor": "white",
           "linecolor": "white",
           "ticks": "",
           "title": {
            "standoff": 15
           },
           "zerolinecolor": "white",
           "zerolinewidth": 2
          },
          "yaxis": {
           "automargin": true,
           "gridcolor": "white",
           "linecolor": "white",
           "ticks": "",
           "title": {
            "standoff": 15
           },
           "zerolinecolor": "white",
           "zerolinewidth": 2
          }
         }
        },
        "xaxis": {
         "anchor": "y",
         "domain": [
          0,
          1
         ],
         "tickangle": -90,
         "title": {
          "text": "COLOR"
         }
        },
        "yaxis": {
         "anchor": "x",
         "domain": [
          0,
          1
         ],
         "tickvals": [
          3,
          2,
          4,
          5,
          1
         ],
         "title": {
          "text": "TALLA"
         }
        }
       }
      },
      "text/html": [
       "<div>\n",
       "        \n",
       "        \n",
       "            <div id=\"1abada78-6d72-47a9-9199-7b0fd37fbddc\" class=\"plotly-graph-div\" style=\"height:525px; width:100%;\"></div>\n",
       "            <script type=\"text/javascript\">\n",
       "                require([\"plotly\"], function(Plotly) {\n",
       "                    window.PLOTLYENV=window.PLOTLYENV || {};\n",
       "                    \n",
       "                if (document.getElementById(\"1abada78-6d72-47a9-9199-7b0fd37fbddc\")) {\n",
       "                    Plotly.newPlot(\n",
       "                        '1abada78-6d72-47a9-9199-7b0fd37fbddc',\n",
       "                        [{\"hoverlabel\": {\"namelength\": 0}, \"hovertemplate\": \"MODELO=lola<br>COLOR=%{x}<br>TALLA=%{y}<br>CANTIDAD=%{marker.size}\", \"legendgroup\": \"lola\", \"marker\": {\"color\": \"#636efa\", \"size\": [1.0, 1.0, 1.0, 1.0, 1.0, 1.0, 1.0, 1.0, 1.0, 1.0, 1.0, 1.0, 1.0, 1.0, 1.0, 1.0, 1.0, 1.0, 1.0, 1.0, 1.0], \"sizemode\": \"area\", \"sizeref\": 0.005, \"symbol\": \"circle\"}, \"mode\": \"markers\", \"name\": \"lola\", \"showlegend\": true, \"type\": \"scatter\", \"x\": [\"verde\", \"lavanda\", \"lavanda\", \"coral\", \"coral\", \"cotton candy\", \"coral\", \"lavanda\", \"cotton candy\", \"flores print\", \"cherry\", \"cotton candy\", \"negro\", \"cherry\", \"negro\", \"negro metalico\", \"marsala\", \"sage\", \"print flowers\", \"clay\", \"print\"], \"xaxis\": \"x\", \"y\": [3, 3, 4, 2, 2, 2, 4, 2, 4, 3, 3, 3, 4, 3, 2, 2, 2, 3, 3, 3, 3], \"yaxis\": \"y\"}, {\"hoverlabel\": {\"namelength\": 0}, \"hovertemplate\": \"MODELO=eros<br>COLOR=%{x}<br>TALLA=%{y}<br>CANTIDAD=%{marker.size}\", \"legendgroup\": \"eros\", \"marker\": {\"color\": \"#EF553B\", \"size\": [1.0, 1.0, 1.0, 1.0, 1.0, 1.0, 1.0, 1.0, 1.0, 1.0, 1.0, 1.0, 1.0, 1.0, 1.0, 1.0, 1.0, 1.0, 1.0, 1.0, 1.0, 1.0, 1.0, 1.0], \"sizemode\": \"area\", \"sizeref\": 0.005, \"symbol\": \"circle\"}, \"mode\": \"markers\", \"name\": \"eros\", \"showlegend\": true, \"type\": \"scatter\", \"x\": [\"lavanda\", \"lavanda\", \"cotton candy\", \"cotton candy\", \"lavanda\", \"coral\", \"ash\", \"coral\", \"coral\", \"cotton candy\", \"ash\", \"coral\", \"lavanda\", \"cotton candy\", \"coral\", \"cotton candy\", \"cherry\", \"cotton candy\", \"coral\", \"negro\", \"coral\", \"cherry\", \"coral\", \"negro\"], \"xaxis\": \"x\", \"y\": [2, 4, 4, 2, 4, 3, 5, 3, 2, 2, 2, 4, 3, 4, 4, 3, 3, 3, 4, 4, 2, 3, 1, 2], \"yaxis\": \"y\"}, {\"hoverlabel\": {\"namelength\": 0}, \"hovertemplate\": \"MODELO=consuelo bodysuit<br>COLOR=%{x}<br>TALLA=%{y}<br>CANTIDAD=%{marker.size}\", \"legendgroup\": \"consuelo bodysuit\", \"marker\": {\"color\": \"#00cc96\", \"size\": [1.0, 1.0, 1.0, 1.0, 1.0, 1.0, 1.0, 1.0, 1.0], \"sizemode\": \"area\", \"sizeref\": 0.005, \"symbol\": \"circle\"}, \"mode\": \"markers\", \"name\": \"consuelo bodysuit\", \"showlegend\": true, \"type\": \"scatter\", \"x\": [\"cherry\", \"negro\", \"cherry\", \"cherry\", \"cherry\", \"cherry\", \"negro\", \"negro\", \"cherry\"], \"xaxis\": \"x\", \"y\": [4, 2, 3, 3, 4, 2, 4, 4, 3], \"yaxis\": \"y\"}, {\"hoverlabel\": {\"namelength\": 0}, \"hovertemplate\": \"MODELO=apolo<br>COLOR=%{x}<br>TALLA=%{y}<br>CANTIDAD=%{marker.size}\", \"legendgroup\": \"apolo\", \"marker\": {\"color\": \"#ab63fa\", \"size\": [1.0, 1.0, 1.0, 1.0, 1.0, 1.0, 1.0, 1.0, 1.0, 1.0, 1.0], \"sizemode\": \"area\", \"sizeref\": 0.005, \"symbol\": \"circle\"}, \"mode\": \"markers\", \"name\": \"apolo\", \"showlegend\": true, \"type\": \"scatter\", \"x\": [\"cotton candy\", \"cotton candy\", \"ash\", \"ash\", \"cherry\", \"lavanda\", \"negro\", \"ash\", \"cotton candy\", \"coral\", \"coral\"], \"xaxis\": \"x\", \"y\": [3, 2, 3, 2, 3, 4, 2, 3, 4, 1, 1], \"yaxis\": \"y\"}, {\"hoverlabel\": {\"namelength\": 0}, \"hovertemplate\": \"MODELO=maca<br>COLOR=%{x}<br>TALLA=%{y}<br>CANTIDAD=%{marker.size}\", \"legendgroup\": \"maca\", \"marker\": {\"color\": \"#FFA15A\", \"size\": [1.0, 1.0, 1.0, 1.0, 1.0, 1.0, 1.0, 1.0, 1.0, 1.0, 1.0, 1.0], \"sizemode\": \"area\", \"sizeref\": 0.005, \"symbol\": \"circle\"}, \"mode\": \"markers\", \"name\": \"maca\", \"showlegend\": true, \"type\": \"scatter\", \"x\": [\"dark cobalt\", \"tan\", \"negro\", \"lavanda\", \"lavanda\", \"clay\", \"negro\", \"sage\", \"clay\", \"marsala\", \"negro\", \"indigo\"], \"xaxis\": \"x\", \"y\": [2, 3, 2, 3, 2, 2, 3, 2, 2, 3, 2, 4], \"yaxis\": \"y\"}, {\"hoverlabel\": {\"namelength\": 0}, \"hovertemplate\": \"MODELO=pastora bodysuit<br>COLOR=%{x}<br>TALLA=%{y}<br>CANTIDAD=%{marker.size}\", \"legendgroup\": \"pastora bodysuit\", \"marker\": {\"color\": \"#19d3f3\", \"size\": [1.0, 1.0, 1.0, 1.0, 1.0, 1.0, 1.0, 1.0, 1.0, 1.0, 1.0, 1.0, 1.0, 1.0, 1.0, 1.0, 1.0, 1.0, 1.0, 1.0, 1.0, 1.0], \"sizemode\": \"area\", \"sizeref\": 0.005, \"symbol\": \"circle\"}, \"mode\": \"markers\", \"name\": \"pastora bodysuit\", \"showlegend\": true, \"type\": \"scatter\", \"x\": [\"negro\", \"cherry\", \"cherry\", \"clay\", \"cherry\", \"cherry\", \"tan\", \"negro\", \"clay\", \"cherry\", \"cherry\", \"cherry\", \"cherry\", \"negro\", \"cherry\", \"clay\", \"negro\", \"cherry\", \"clay\", \"marsala\", \"negro\", \"negro\"], \"xaxis\": \"x\", \"y\": [3, 3, 3, 4, 2, 3, 3, 2, 2, 2, 2, 3, 4, 3, 2, 4, 3, 4, 4, 3, 3, 3], \"yaxis\": \"y\"}, {\"hoverlabel\": {\"namelength\": 0}, \"hovertemplate\": \"MODELO=emilia bodysuit<br>COLOR=%{x}<br>TALLA=%{y}<br>CANTIDAD=%{marker.size}\", \"legendgroup\": \"emilia bodysuit\", \"marker\": {\"color\": \"#FF6692\", \"size\": [1.0, 1.0, 1.0, 1.0, 1.0, 1.0, 1.0, 1.0, 1.0, 1.0, 1.0, 1.0, 1.0, 1.0, 1.0, 1.0, 1.0, 1.0, 1.0, 1.0, 1.0], \"sizemode\": \"area\", \"sizeref\": 0.005, \"symbol\": \"circle\"}, \"mode\": \"markers\", \"name\": \"emilia bodysuit\", \"showlegend\": true, \"type\": \"scatter\", \"x\": [\"coral\", \"verde esmeralda\", \"cherry\", \"sage\", \"tan\", \"cherry\", \"cherry\", \"cherry\", \"negro\", \"cherry\", \"cherry\", \"lavanda\", \"lavanda\", \"negro\", \"dusty pink\", \"dusty rose\", \"negro\", \"deep green\", \"marsala\", \"dusty pink\", \"marsala\"], \"xaxis\": \"x\", \"y\": [4, 2, 2, 2, 2, 3, 3, 4, 2, 3, 3, 4, 2, 2, 2, 3, 2, 3, 4, 4, 3], \"yaxis\": \"y\"}, {\"hoverlabel\": {\"namelength\": 0}, \"hovertemplate\": \"MODELO=ca\\u00f1a<br>COLOR=%{x}<br>TALLA=%{y}<br>CANTIDAD=%{marker.size}\", \"legendgroup\": \"ca\\u00f1a\", \"marker\": {\"color\": \"#B6E880\", \"size\": [1.0], \"sizemode\": \"area\", \"sizeref\": 0.005, \"symbol\": \"circle\"}, \"mode\": \"markers\", \"name\": \"ca\\u00f1a\", \"showlegend\": true, \"type\": \"scatter\", \"x\": [\"blanco\"], \"xaxis\": \"x\", \"y\": [2], \"yaxis\": \"y\"}, {\"hoverlabel\": {\"namelength\": 0}, \"hovertemplate\": \"MODELO=maria<br>COLOR=%{x}<br>TALLA=%{y}<br>CANTIDAD=%{marker.size}\", \"legendgroup\": \"maria\", \"marker\": {\"color\": \"#FF97FF\", \"size\": [1.0, 1.0, 1.0], \"sizemode\": \"area\", \"sizeref\": 0.005, \"symbol\": \"circle\"}, \"mode\": \"markers\", \"name\": \"maria\", \"showlegend\": true, \"type\": \"scatter\", \"x\": [\"negro\", \"indigo\", \"sage\"], \"xaxis\": \"x\", \"y\": [3, 3, 4], \"yaxis\": \"y\"}, {\"hoverlabel\": {\"namelength\": 0}, \"hovertemplate\": \"MODELO=lucia<br>COLOR=%{x}<br>TALLA=%{y}<br>CANTIDAD=%{marker.size}\", \"legendgroup\": \"lucia\", \"marker\": {\"color\": \"#FECB52\", \"size\": [1.0, 1.0, 1.0, 1.0, 1.0, 1.0, 1.0, 1.0], \"sizemode\": \"area\", \"sizeref\": 0.005, \"symbol\": \"circle\"}, \"mode\": \"markers\", \"name\": \"lucia\", \"showlegend\": true, \"type\": \"scatter\", \"x\": [\"azul\", \"deep indigo\", \"clay\", \"tan\", \"flores print\", \"cherry\", \"indigo\", \"clay\"], \"xaxis\": \"x\", \"y\": [2, 2, 4, 3, 3, 2, 2, 3], \"yaxis\": \"y\"}, {\"hoverlabel\": {\"namelength\": 0}, \"hovertemplate\": \"MODELO=venus bodysuit<br>COLOR=%{x}<br>TALLA=%{y}<br>CANTIDAD=%{marker.size}\", \"legendgroup\": \"venus bodysuit\", \"marker\": {\"color\": \"#636efa\", \"size\": [1.0, 1.0, 1.0, 1.0], \"sizemode\": \"area\", \"sizeref\": 0.005, \"symbol\": \"circle\"}, \"mode\": \"markers\", \"name\": \"venus bodysuit\", \"showlegend\": true, \"type\": \"scatter\", \"x\": [\"ash\", \"coral\", \"coral\", \"negro\"], \"xaxis\": \"x\", \"y\": [2, 2, 2, 2], \"yaxis\": \"y\"}, {\"hoverlabel\": {\"namelength\": 0}, \"hovertemplate\": \"MODELO=paloma bodysuit<br>COLOR=%{x}<br>TALLA=%{y}<br>CANTIDAD=%{marker.size}\", \"legendgroup\": \"paloma bodysuit\", \"marker\": {\"color\": \"#EF553B\", \"size\": [1.0, 1.0, 1.0, 1.0, 1.0, 1.0, 1.0, 1.0, 1.0, 1.0, 1.0, 1.0], \"sizemode\": \"area\", \"sizeref\": 0.005, \"symbol\": \"circle\"}, \"mode\": \"markers\", \"name\": \"paloma bodysuit\", \"showlegend\": true, \"type\": \"scatter\", \"x\": [\"deep indigo\", \"negro\", \"tan\", \"negro\", \"tan\", \"deep indigo\", \"deep indigo\", \"indigo\", \"indigo\", \"dusty rose\", \"tan\", \"tan\"], \"xaxis\": \"x\", \"y\": [2, 3, 2, 3, 2, 3, 3, 2, 3, 4, 2, 3], \"yaxis\": \"y\"}, {\"hoverlabel\": {\"namelength\": 0}, \"hovertemplate\": \"MODELO=geminis top<br>COLOR=%{x}<br>TALLA=%{y}<br>CANTIDAD=%{marker.size}\", \"legendgroup\": \"geminis top\", \"marker\": {\"color\": \"#00cc96\", \"size\": [1.0, 1.0, 1.0, 1.0], \"sizemode\": \"area\", \"sizeref\": 0.005, \"symbol\": \"circle\"}, \"mode\": \"markers\", \"name\": \"geminis top\", \"showlegend\": true, \"type\": \"scatter\", \"x\": [\"ash/lavanda\", \"ash/lavanda\", \"ash/negro\", \"ash/negro\"], \"xaxis\": \"x\", \"y\": [2, 5, 4, 2], \"yaxis\": \"y\"}, {\"hoverlabel\": {\"namelength\": 0}, \"hovertemplate\": \"MODELO=geminis bottom<br>COLOR=%{x}<br>TALLA=%{y}<br>CANTIDAD=%{marker.size}\", \"legendgroup\": \"geminis bottom\", \"marker\": {\"color\": \"#ab63fa\", \"size\": [1.0, 1.0, 1.0], \"sizemode\": \"area\", \"sizeref\": 0.005, \"symbol\": \"circle\"}, \"mode\": \"markers\", \"name\": \"geminis bottom\", \"showlegend\": true, \"type\": \"scatter\", \"x\": [\"ash/lavanda\", \"ash/lavanda\", \"ash/negro\"], \"xaxis\": \"x\", \"y\": [2, 5, 4], \"yaxis\": \"y\"}, {\"hoverlabel\": {\"namelength\": 0}, \"hovertemplate\": \"MODELO=naranjo bodysuit<br>COLOR=%{x}<br>TALLA=%{y}<br>CANTIDAD=%{marker.size}\", \"legendgroup\": \"naranjo bodysuit\", \"marker\": {\"color\": \"#FFA15A\", \"size\": [1.0, 1.0, 1.0, 2.0, 2.0, 1.0, 1.0, 1.0, 1.0], \"sizemode\": \"area\", \"sizeref\": 0.005, \"symbol\": \"circle\"}, \"mode\": \"markers\", \"name\": \"naranjo bodysuit\", \"showlegend\": true, \"type\": \"scatter\", \"x\": [\"lavanda\", \"coral\", \"coral\", \"ash\", \"ash\", \"ash\", \"coral\", \"lavanda\", \"coral\"], \"xaxis\": \"x\", \"y\": [2, 4, 4, 2, 3, 4, 2, 4, 4], \"yaxis\": \"y\"}, {\"hoverlabel\": {\"namelength\": 0}, \"hovertemplate\": \"MODELO=aries<br>COLOR=%{x}<br>TALLA=%{y}<br>CANTIDAD=%{marker.size}\", \"legendgroup\": \"aries\", \"marker\": {\"color\": \"#19d3f3\", \"size\": [1.0, 1.0, 1.0, 1.0], \"sizemode\": \"area\", \"sizeref\": 0.005, \"symbol\": \"circle\"}, \"mode\": \"markers\", \"name\": \"aries\", \"showlegend\": true, \"type\": \"scatter\", \"x\": [\"cherry\", \"ash\", \"lavanda\", \"ash\"], \"xaxis\": \"x\", \"y\": [3, 3, 2, 3], \"yaxis\": \"y\"}, {\"hoverlabel\": {\"namelength\": 0}, \"hovertemplate\": \"MODELO=eros bodysuit<br>COLOR=%{x}<br>TALLA=%{y}<br>CANTIDAD=%{marker.size}\", \"legendgroup\": \"eros bodysuit\", \"marker\": {\"color\": \"#FF6692\", \"size\": [1.0, 1.0, 1.0], \"sizemode\": \"area\", \"sizeref\": 0.005, \"symbol\": \"circle\"}, \"mode\": \"markers\", \"name\": \"eros bodysuit\", \"showlegend\": true, \"type\": \"scatter\", \"x\": [\"coral\", \"lavanda\", \"lavanda\"], \"xaxis\": \"x\", \"y\": [4, 3, 4], \"yaxis\": \"y\"}, {\"hoverlabel\": {\"namelength\": 0}, \"hovertemplate\": \"MODELO=gracia bodysuit<br>COLOR=%{x}<br>TALLA=%{y}<br>CANTIDAD=%{marker.size}\", \"legendgroup\": \"gracia bodysuit\", \"marker\": {\"color\": \"#B6E880\", \"size\": [1.0], \"sizemode\": \"area\", \"sizeref\": 0.005, \"symbol\": \"circle\"}, \"mode\": \"markers\", \"name\": \"gracia bodysuit\", \"showlegend\": true, \"type\": \"scatter\", \"x\": [\"lavanda\"], \"xaxis\": \"x\", \"y\": [3], \"yaxis\": \"y\"}, {\"hoverlabel\": {\"namelength\": 0}, \"hovertemplate\": \"MODELO=nina<br>COLOR=%{x}<br>TALLA=%{y}<br>CANTIDAD=%{marker.size}\", \"legendgroup\": \"nina\", \"marker\": {\"color\": \"#FF97FF\", \"size\": [1.0], \"sizemode\": \"area\", \"sizeref\": 0.005, \"symbol\": \"circle\"}, \"mode\": \"markers\", \"name\": \"nina\", \"showlegend\": true, \"type\": \"scatter\", \"x\": [\"deep indigo\"], \"xaxis\": \"x\", \"y\": [2], \"yaxis\": \"y\"}, {\"hoverlabel\": {\"namelength\": 0}, \"hovertemplate\": \"MODELO=ca\\u00f1a bottom<br>COLOR=%{x}<br>TALLA=%{y}<br>CANTIDAD=%{marker.size}\", \"legendgroup\": \"ca\\u00f1a bottom\", \"marker\": {\"color\": \"#FECB52\", \"size\": [1.0], \"sizemode\": \"area\", \"sizeref\": 0.005, \"symbol\": \"circle\"}, \"mode\": \"markers\", \"name\": \"ca\\u00f1a bottom\", \"showlegend\": true, \"type\": \"scatter\", \"x\": [\"claro\"], \"xaxis\": \"x\", \"y\": [3], \"yaxis\": \"y\"}, {\"hoverlabel\": {\"namelength\": 0}, \"hovertemplate\": \"MODELO=candela<br>COLOR=%{x}<br>TALLA=%{y}<br>CANTIDAD=%{marker.size}\", \"legendgroup\": \"candela\", \"marker\": {\"color\": \"#636efa\", \"size\": [1.0, 1.0, 1.0, 1.0, 1.0, 1.0, 1.0, 1.0, 1.0], \"sizemode\": \"area\", \"sizeref\": 0.005, \"symbol\": \"circle\"}, \"mode\": \"markers\", \"name\": \"candela\", \"showlegend\": true, \"type\": \"scatter\", \"x\": [\"sage\", \"sage\", \"clay\", \"negro\", \"negro\", \"cherry\", \"clay\", \"sage\", \"sage\"], \"xaxis\": \"x\", \"y\": [2, 3, 2, 4, 4, 4, 2, 2, 4], \"yaxis\": \"y\"}, {\"hoverlabel\": {\"namelength\": 0}, \"hovertemplate\": \"MODELO=alma bodysuit<br>COLOR=%{x}<br>TALLA=%{y}<br>CANTIDAD=%{marker.size}\", \"legendgroup\": \"alma bodysuit\", \"marker\": {\"color\": \"#EF553B\", \"size\": [1.0, 1.0, 1.0, 1.0, 1.0, 1.0], \"sizemode\": \"area\", \"sizeref\": 0.005, \"symbol\": \"circle\"}, \"mode\": \"markers\", \"name\": \"alma bodysuit\", \"showlegend\": true, \"type\": \"scatter\", \"x\": [\"negro\", \"negro\", \"negro\", \"negro\", \"cherry\", \"blanco\"], \"xaxis\": \"x\", \"y\": [3, 2, 4, 2, 3, 2], \"yaxis\": \"y\"}, {\"hoverlabel\": {\"namelength\": 0}, \"hovertemplate\": \"MODELO=barreto bodysuit<br>COLOR=%{x}<br>TALLA=%{y}<br>CANTIDAD=%{marker.size}\", \"legendgroup\": \"barreto bodysuit\", \"marker\": {\"color\": \"#00cc96\", \"size\": [1.0], \"sizemode\": \"area\", \"sizeref\": 0.005, \"symbol\": \"circle\"}, \"mode\": \"markers\", \"name\": \"barreto bodysuit\", \"showlegend\": true, \"type\": \"scatter\", \"x\": [\"palma\"], \"xaxis\": \"x\", \"y\": [2], \"yaxis\": \"y\"}, {\"hoverlabel\": {\"namelength\": 0}, \"hovertemplate\": \"MODELO=maria bottom<br>COLOR=%{x}<br>TALLA=%{y}<br>CANTIDAD=%{marker.size}\", \"legendgroup\": \"maria bottom\", \"marker\": {\"color\": \"#ab63fa\", \"size\": [1.0, 1.0], \"sizemode\": \"area\", \"sizeref\": 0.005, \"symbol\": \"circle\"}, \"mode\": \"markers\", \"name\": \"maria bottom\", \"showlegend\": true, \"type\": \"scatter\", \"x\": [\"sage\", \"copper\"], \"xaxis\": \"x\", \"y\": [2, 2], \"yaxis\": \"y\"}, {\"hoverlabel\": {\"namelength\": 0}, \"hovertemplate\": \"MODELO=3gracias bodysuit<br>COLOR=%{x}<br>TALLA=%{y}<br>CANTIDAD=%{marker.size}\", \"legendgroup\": \"3gracias bodysuit\", \"marker\": {\"color\": \"#FFA15A\", \"size\": [1.0], \"sizemode\": \"area\", \"sizeref\": 0.005, \"symbol\": \"circle\"}, \"mode\": \"markers\", \"name\": \"3gracias bodysuit\", \"showlegend\": true, \"type\": \"scatter\", \"x\": [\"lavanda/ash/coral\"], \"xaxis\": \"x\", \"y\": [3], \"yaxis\": \"y\"}, {\"hoverlabel\": {\"namelength\": 0}, \"hovertemplate\": \"MODELO=jeronimo<br>COLOR=%{x}<br>TALLA=%{y}<br>CANTIDAD=%{marker.size}\", \"legendgroup\": \"jeronimo\", \"marker\": {\"color\": \"#19d3f3\", \"size\": [1.0, 1.0, 1.0], \"sizemode\": \"area\", \"sizeref\": 0.005, \"symbol\": \"circle\"}, \"mode\": \"markers\", \"name\": \"jeronimo\", \"showlegend\": true, \"type\": \"scatter\", \"x\": [\"negro\", \"cherry\", \"deep green\"], \"xaxis\": \"x\", \"y\": [4, 3, 3], \"yaxis\": \"y\"}, {\"hoverlabel\": {\"namelength\": 0}, \"hovertemplate\": \"MODELO=alma<br>COLOR=%{x}<br>TALLA=%{y}<br>CANTIDAD=%{marker.size}\", \"legendgroup\": \"alma\", \"marker\": {\"color\": \"#FF6692\", \"size\": [1.0], \"sizemode\": \"area\", \"sizeref\": 0.005, \"symbol\": \"circle\"}, \"mode\": \"markers\", \"name\": \"alma\", \"showlegend\": true, \"type\": \"scatter\", \"x\": [\"tan\"], \"xaxis\": \"x\", \"y\": [2], \"yaxis\": \"y\"}, {\"hoverlabel\": {\"namelength\": 0}, \"hovertemplate\": \"MODELO=marcelo  bodysuit<br>COLOR=%{x}<br>TALLA=%{y}<br>CANTIDAD=%{marker.size}\", \"legendgroup\": \"marcelo  bodysuit\", \"marker\": {\"color\": \"#B6E880\", \"size\": [1.0], \"sizemode\": \"area\", \"sizeref\": 0.005, \"symbol\": \"circle\"}, \"mode\": \"markers\", \"name\": \"marcelo  bodysuit\", \"showlegend\": true, \"type\": \"scatter\", \"x\": [\"verde\"], \"xaxis\": \"x\", \"y\": [4], \"yaxis\": \"y\"}, {\"hoverlabel\": {\"namelength\": 0}, \"hovertemplate\": \"MODELO=ca\\u00f1a top<br>COLOR=%{x}<br>TALLA=%{y}<br>CANTIDAD=%{marker.size}\", \"legendgroup\": \"ca\\u00f1a top\", \"marker\": {\"color\": \"#FF97FF\", \"size\": [1.0], \"sizemode\": \"area\", \"sizeref\": 0.005, \"symbol\": \"circle\"}, \"mode\": \"markers\", \"name\": \"ca\\u00f1a top\", \"showlegend\": true, \"type\": \"scatter\", \"x\": [\"white\"], \"xaxis\": \"x\", \"y\": [4], \"yaxis\": \"y\"}, {\"hoverlabel\": {\"namelength\": 0}, \"hovertemplate\": \"MODELO=marcelo bodysuit<br>COLOR=%{x}<br>TALLA=%{y}<br>CANTIDAD=%{marker.size}\", \"legendgroup\": \"marcelo bodysuit\", \"marker\": {\"color\": \"#FECB52\", \"size\": [1.0, 1.0], \"sizemode\": \"area\", \"sizeref\": 0.005, \"symbol\": \"circle\"}, \"mode\": \"markers\", \"name\": \"marcelo bodysuit\", \"showlegend\": true, \"type\": \"scatter\", \"x\": [\"verde\", \"amarillo\"], \"xaxis\": \"x\", \"y\": [4, 4], \"yaxis\": \"y\"}, {\"hoverlabel\": {\"namelength\": 0}, \"hovertemplate\": \"MODELO=palma bodysuit<br>COLOR=%{x}<br>TALLA=%{y}<br>CANTIDAD=%{marker.size}\", \"legendgroup\": \"palma bodysuit\", \"marker\": {\"color\": \"#636efa\", \"size\": [1.0], \"sizemode\": \"area\", \"sizeref\": 0.005, \"symbol\": \"circle\"}, \"mode\": \"markers\", \"name\": \"palma bodysuit\", \"showlegend\": true, \"type\": \"scatter\", \"x\": [\"negro\"], \"xaxis\": \"x\", \"y\": [4], \"yaxis\": \"y\"}, {\"hoverlabel\": {\"namelength\": 0}, \"hovertemplate\": \"MODELO=olivia bodysuit<br>COLOR=%{x}<br>TALLA=%{y}<br>CANTIDAD=%{marker.size}\", \"legendgroup\": \"olivia bodysuit\", \"marker\": {\"color\": \"#EF553B\", \"size\": [1.0, 1.0], \"sizemode\": \"area\", \"sizeref\": 0.005, \"symbol\": \"circle\"}, \"mode\": \"markers\", \"name\": \"olivia bodysuit\", \"showlegend\": true, \"type\": \"scatter\", \"x\": [\"negro\", \"verde esmeralda\"], \"xaxis\": \"x\", \"y\": [4, 3], \"yaxis\": \"y\"}, {\"hoverlabel\": {\"namelength\": 0}, \"hovertemplate\": \"MODELO=maria top<br>COLOR=%{x}<br>TALLA=%{y}<br>CANTIDAD=%{marker.size}\", \"legendgroup\": \"maria top\", \"marker\": {\"color\": \"#00cc96\", \"size\": [1.0, 1.0], \"sizemode\": \"area\", \"sizeref\": 0.005, \"symbol\": \"circle\"}, \"mode\": \"markers\", \"name\": \"maria top\", \"showlegend\": true, \"type\": \"scatter\", \"x\": [\"copper\", \"cherry\"], \"xaxis\": \"x\", \"y\": [2, 3], \"yaxis\": \"y\"}, {\"hoverlabel\": {\"namelength\": 0}, \"hovertemplate\": \"MODELO=leo bottom<br>COLOR=%{x}<br>TALLA=%{y}<br>CANTIDAD=%{marker.size}\", \"legendgroup\": \"leo bottom\", \"marker\": {\"color\": \"#ab63fa\", \"size\": [1.0], \"sizemode\": \"area\", \"sizeref\": 0.005, \"symbol\": \"circle\"}, \"mode\": \"markers\", \"name\": \"leo bottom\", \"showlegend\": true, \"type\": \"scatter\", \"x\": [\"negro\"], \"xaxis\": \"x\", \"y\": [2], \"yaxis\": \"y\"}, {\"hoverlabel\": {\"namelength\": 0}, \"hovertemplate\": \"MODELO=maca bottom<br>COLOR=%{x}<br>TALLA=%{y}<br>CANTIDAD=%{marker.size}\", \"legendgroup\": \"maca bottom\", \"marker\": {\"color\": \"#FFA15A\", \"size\": [1.0, 1.0, 1.0], \"sizemode\": \"area\", \"sizeref\": 0.005, \"symbol\": \"circle\"}, \"mode\": \"markers\", \"name\": \"maca bottom\", \"showlegend\": true, \"type\": \"scatter\", \"x\": [\"coral\", \"ash\", \"tan\"], \"xaxis\": \"x\", \"y\": [3, 3, 3], \"yaxis\": \"y\"}, {\"hoverlabel\": {\"namelength\": 0}, \"hovertemplate\": \"MODELO=lola bottom<br>COLOR=%{x}<br>TALLA=%{y}<br>CANTIDAD=%{marker.size}\", \"legendgroup\": \"lola bottom\", \"marker\": {\"color\": \"#19d3f3\", \"size\": [1.0], \"sizemode\": \"area\", \"sizeref\": 0.005, \"symbol\": \"circle\"}, \"mode\": \"markers\", \"name\": \"lola bottom\", \"showlegend\": true, \"type\": \"scatter\", \"x\": [\"cherry\"], \"xaxis\": \"x\", \"y\": [2], \"yaxis\": \"y\"}, {\"hoverlabel\": {\"namelength\": 0}, \"hovertemplate\": \"MODELO=milo bodysuit<br>COLOR=%{x}<br>TALLA=%{y}<br>CANTIDAD=%{marker.size}\", \"legendgroup\": \"milo bodysuit\", \"marker\": {\"color\": \"#FF6692\", \"size\": [1.0], \"sizemode\": \"area\", \"sizeref\": 0.005, \"symbol\": \"circle\"}, \"mode\": \"markers\", \"name\": \"milo bodysuit\", \"showlegend\": true, \"type\": \"scatter\", \"x\": [\"set\"], \"xaxis\": \"x\", \"y\": [3], \"yaxis\": \"y\"}, {\"hoverlabel\": {\"namelength\": 0}, \"hovertemplate\": \"MODELO=milo  bodysuit<br>COLOR=%{x}<br>TALLA=%{y}<br>CANTIDAD=%{marker.size}\", \"legendgroup\": \"milo  bodysuit\", \"marker\": {\"color\": \"#B6E880\", \"size\": [1.0], \"sizemode\": \"area\", \"sizeref\": 0.005, \"symbol\": \"circle\"}, \"mode\": \"markers\", \"name\": \"milo  bodysuit\", \"showlegend\": true, \"type\": \"scatter\", \"x\": [\"herraduras\"], \"xaxis\": \"x\", \"y\": [3], \"yaxis\": \"y\"}, {\"hoverlabel\": {\"namelength\": 0}, \"hovertemplate\": \"MODELO=mara<br>COLOR=%{x}<br>TALLA=%{y}<br>CANTIDAD=%{marker.size}\", \"legendgroup\": \"mara\", \"marker\": {\"color\": \"#FF97FF\", \"size\": [1.0, 1.0], \"sizemode\": \"area\", \"sizeref\": 0.005, \"symbol\": \"circle\"}, \"mode\": \"markers\", \"name\": \"mara\", \"showlegend\": true, \"type\": \"scatter\", \"x\": [\"tan\", \"hot magma\"], \"xaxis\": \"x\", \"y\": [3, 3], \"yaxis\": \"y\"}, {\"hoverlabel\": {\"namelength\": 0}, \"hovertemplate\": \"MODELO=ca\\u00f1a bodysuit<br>COLOR=%{x}<br>TALLA=%{y}<br>CANTIDAD=%{marker.size}\", \"legendgroup\": \"ca\\u00f1a bodysuit\", \"marker\": {\"color\": \"#FECB52\", \"size\": [1.0, 1.0], \"sizemode\": \"area\", \"sizeref\": 0.005, \"symbol\": \"circle\"}, \"mode\": \"markers\", \"name\": \"ca\\u00f1a bodysuit\", \"showlegend\": true, \"type\": \"scatter\", \"x\": [\"blanco\", \"blanco\"], \"xaxis\": \"x\", \"y\": [4, 4], \"yaxis\": \"y\"}, {\"hoverlabel\": {\"namelength\": 0}, \"hovertemplate\": \"MODELO=bodysuit<br>COLOR=%{x}<br>TALLA=%{y}<br>CANTIDAD=%{marker.size}\", \"legendgroup\": \"bodysuit\", \"marker\": {\"color\": \"#636efa\", \"size\": [2.0], \"sizemode\": \"area\", \"sizeref\": 0.005, \"symbol\": \"circle\"}, \"mode\": \"markers\", \"name\": \"bodysuit\", \"showlegend\": true, \"type\": \"scatter\", \"x\": [\"samples\"], \"xaxis\": \"x\", \"y\": [2], \"yaxis\": \"y\"}, {\"hoverlabel\": {\"namelength\": 0}, \"hovertemplate\": \"MODELO=dolores<br>COLOR=%{x}<br>TALLA=%{y}<br>CANTIDAD=%{marker.size}\", \"legendgroup\": \"dolores\", \"marker\": {\"color\": \"#EF553B\", \"size\": [1.0, 1.0], \"sizemode\": \"area\", \"sizeref\": 0.005, \"symbol\": \"circle\"}, \"mode\": \"markers\", \"name\": \"dolores\", \"showlegend\": true, \"type\": \"scatter\", \"x\": [\"cherry\", \"sage\"], \"xaxis\": \"x\", \"y\": [2, 3], \"yaxis\": \"y\"}, {\"hoverlabel\": {\"namelength\": 0}, \"hovertemplate\": \"MODELO=top milo<br>COLOR=%{x}<br>TALLA=%{y}<br>CANTIDAD=%{marker.size}\", \"legendgroup\": \"top milo\", \"marker\": {\"color\": \"#00cc96\", \"size\": [1.0], \"sizemode\": \"area\", \"sizeref\": 0.005, \"symbol\": \"circle\"}, \"mode\": \"markers\", \"name\": \"top milo\", \"showlegend\": true, \"type\": \"scatter\", \"x\": [\"marsala\"], \"xaxis\": \"x\", \"y\": [2], \"yaxis\": \"y\"}, {\"hoverlabel\": {\"namelength\": 0}, \"hovertemplate\": \"MODELO=sabina<br>COLOR=%{x}<br>TALLA=%{y}<br>CANTIDAD=%{marker.size}\", \"legendgroup\": \"sabina\", \"marker\": {\"color\": \"#ab63fa\", \"size\": [1.0], \"sizemode\": \"area\", \"sizeref\": 0.005, \"symbol\": \"circle\"}, \"mode\": \"markers\", \"name\": \"sabina\", \"showlegend\": true, \"type\": \"scatter\", \"x\": [\"negro\"], \"xaxis\": \"x\", \"y\": [3], \"yaxis\": \"y\"}, {\"hoverlabel\": {\"namelength\": 0}, \"hovertemplate\": \"MODELO=top lucia<br>COLOR=%{x}<br>TALLA=%{y}<br>CANTIDAD=%{marker.size}\", \"legendgroup\": \"top lucia\", \"marker\": {\"color\": \"#FFA15A\", \"size\": [1.0], \"sizemode\": \"area\", \"sizeref\": 0.005, \"symbol\": \"circle\"}, \"mode\": \"markers\", \"name\": \"top lucia\", \"showlegend\": true, \"type\": \"scatter\", \"x\": [\"cherry\"], \"xaxis\": \"x\", \"y\": [4], \"yaxis\": \"y\"}, {\"hoverlabel\": {\"namelength\": 0}, \"hovertemplate\": \"MODELO=libra<br>COLOR=%{x}<br>TALLA=%{y}<br>CANTIDAD=%{marker.size}\", \"legendgroup\": \"libra\", \"marker\": {\"color\": \"#19d3f3\", \"size\": [1.0, 1.0, 1.0, 1.0], \"sizemode\": \"area\", \"sizeref\": 0.005, \"symbol\": \"circle\"}, \"mode\": \"markers\", \"name\": \"libra\", \"showlegend\": true, \"type\": \"scatter\", \"x\": [\"deep green\", \"deep green\", \"marsala\", \"negro\"], \"xaxis\": \"x\", \"y\": [4, 2, 4, 4], \"yaxis\": \"y\"}, {\"hoverlabel\": {\"namelength\": 0}, \"hovertemplate\": \"MODELO=margot<br>COLOR=%{x}<br>TALLA=%{y}<br>CANTIDAD=%{marker.size}\", \"legendgroup\": \"margot\", \"marker\": {\"color\": \"#FF6692\", \"size\": [1.0, 1.0], \"sizemode\": \"area\", \"sizeref\": 0.005, \"symbol\": \"circle\"}, \"mode\": \"markers\", \"name\": \"margot\", \"showlegend\": true, \"type\": \"scatter\", \"x\": [\"negro\", \"negro\"], \"xaxis\": \"x\", \"y\": [3, 2], \"yaxis\": \"y\"}, {\"hoverlabel\": {\"namelength\": 0}, \"hovertemplate\": \"MODELO=leandro<br>COLOR=%{x}<br>TALLA=%{y}<br>CANTIDAD=%{marker.size}\", \"legendgroup\": \"leandro\", \"marker\": {\"color\": \"#B6E880\", \"size\": [1.0], \"sizemode\": \"area\", \"sizeref\": 0.005, \"symbol\": \"circle\"}, \"mode\": \"markers\", \"name\": \"leandro\", \"showlegend\": true, \"type\": \"scatter\", \"x\": [\"marsala\"], \"xaxis\": \"x\", \"y\": [4], \"yaxis\": \"y\"}, {\"hoverlabel\": {\"namelength\": 0}, \"hovertemplate\": \"MODELO=leo<br>COLOR=%{x}<br>TALLA=%{y}<br>CANTIDAD=%{marker.size}\", \"legendgroup\": \"leo\", \"marker\": {\"color\": \"#FF97FF\", \"size\": [1.0], \"sizemode\": \"area\", \"sizeref\": 0.005, \"symbol\": \"circle\"}, \"mode\": \"markers\", \"name\": \"leo\", \"showlegend\": true, \"type\": \"scatter\", \"x\": [\"negro\"], \"xaxis\": \"x\", \"y\": [2], \"yaxis\": \"y\"}, {\"hoverlabel\": {\"namelength\": 0}, \"hovertemplate\": \"MODELO=sample<br>COLOR=%{x}<br>TALLA=%{y}<br>CANTIDAD=%{marker.size}\", \"legendgroup\": \"sample\", \"marker\": {\"color\": \"#FECB52\", \"size\": [1.0, 1.0], \"sizemode\": \"area\", \"sizeref\": 0.005, \"symbol\": \"circle\"}, \"mode\": \"markers\", \"name\": \"sample\", \"showlegend\": true, \"type\": \"scatter\", \"x\": [\"coral\", \"lavanda\"], \"xaxis\": \"x\", \"y\": [4, 3], \"yaxis\": \"y\"}, {\"hoverlabel\": {\"namelength\": 0}, \"hovertemplate\": \"MODELO= marcelo bodysuit<br>COLOR=%{x}<br>TALLA=%{y}<br>CANTIDAD=%{marker.size}\", \"legendgroup\": \" marcelo bodysuit\", \"marker\": {\"color\": \"#636efa\", \"size\": [1.0], \"sizemode\": \"area\", \"sizeref\": 0.005, \"symbol\": \"circle\"}, \"mode\": \"markers\", \"name\": \" marcelo bodysuit\", \"showlegend\": true, \"type\": \"scatter\", \"x\": [\"print\"], \"xaxis\": \"x\", \"y\": [2], \"yaxis\": \"y\"}, {\"hoverlabel\": {\"namelength\": 0}, \"hovertemplate\": \"MODELO=ca\\u00f1a  bodysuit<br>COLOR=%{x}<br>TALLA=%{y}<br>CANTIDAD=%{marker.size}\", \"legendgroup\": \"ca\\u00f1a  bodysuit\", \"marker\": {\"color\": \"#EF553B\", \"size\": [1.0], \"sizemode\": \"area\", \"sizeref\": 0.005, \"symbol\": \"circle\"}, \"mode\": \"markers\", \"name\": \"ca\\u00f1a  bodysuit\", \"showlegend\": true, \"type\": \"scatter\", \"x\": [\"blanco\"], \"xaxis\": \"x\", \"y\": [2], \"yaxis\": \"y\"}],\n",
       "                        {\"legend\": {\"itemsizing\": \"constant\", \"title\": {\"text\": \"MODELO\"}, \"tracegroupgap\": 0}, \"margin\": {\"t\": 60}, \"template\": {\"data\": {\"bar\": [{\"error_x\": {\"color\": \"#2a3f5f\"}, \"error_y\": {\"color\": \"#2a3f5f\"}, \"marker\": {\"line\": {\"color\": \"#E5ECF6\", \"width\": 0.5}}, \"type\": \"bar\"}], \"barpolar\": [{\"marker\": {\"line\": {\"color\": \"#E5ECF6\", \"width\": 0.5}}, \"type\": \"barpolar\"}], \"carpet\": [{\"aaxis\": {\"endlinecolor\": \"#2a3f5f\", \"gridcolor\": \"white\", \"linecolor\": \"white\", \"minorgridcolor\": \"white\", \"startlinecolor\": \"#2a3f5f\"}, \"baxis\": {\"endlinecolor\": \"#2a3f5f\", \"gridcolor\": \"white\", \"linecolor\": \"white\", \"minorgridcolor\": \"white\", \"startlinecolor\": \"#2a3f5f\"}, \"type\": \"carpet\"}], \"choropleth\": [{\"colorbar\": {\"outlinewidth\": 0, \"ticks\": \"\"}, \"type\": \"choropleth\"}], \"contour\": [{\"colorbar\": {\"outlinewidth\": 0, \"ticks\": \"\"}, \"colorscale\": [[0.0, \"#0d0887\"], [0.1111111111111111, \"#46039f\"], [0.2222222222222222, \"#7201a8\"], [0.3333333333333333, \"#9c179e\"], [0.4444444444444444, \"#bd3786\"], [0.5555555555555556, \"#d8576b\"], [0.6666666666666666, \"#ed7953\"], [0.7777777777777778, \"#fb9f3a\"], [0.8888888888888888, \"#fdca26\"], [1.0, \"#f0f921\"]], \"type\": \"contour\"}], \"contourcarpet\": [{\"colorbar\": {\"outlinewidth\": 0, \"ticks\": \"\"}, \"type\": \"contourcarpet\"}], \"heatmap\": [{\"colorbar\": {\"outlinewidth\": 0, \"ticks\": \"\"}, \"colorscale\": [[0.0, \"#0d0887\"], [0.1111111111111111, \"#46039f\"], [0.2222222222222222, \"#7201a8\"], [0.3333333333333333, \"#9c179e\"], [0.4444444444444444, \"#bd3786\"], [0.5555555555555556, \"#d8576b\"], [0.6666666666666666, \"#ed7953\"], [0.7777777777777778, \"#fb9f3a\"], [0.8888888888888888, \"#fdca26\"], [1.0, \"#f0f921\"]], \"type\": \"heatmap\"}], \"heatmapgl\": [{\"colorbar\": {\"outlinewidth\": 0, \"ticks\": \"\"}, \"colorscale\": [[0.0, \"#0d0887\"], [0.1111111111111111, \"#46039f\"], [0.2222222222222222, \"#7201a8\"], [0.3333333333333333, \"#9c179e\"], [0.4444444444444444, \"#bd3786\"], [0.5555555555555556, \"#d8576b\"], [0.6666666666666666, \"#ed7953\"], [0.7777777777777778, \"#fb9f3a\"], [0.8888888888888888, \"#fdca26\"], [1.0, \"#f0f921\"]], \"type\": \"heatmapgl\"}], \"histogram\": [{\"marker\": {\"colorbar\": {\"outlinewidth\": 0, \"ticks\": \"\"}}, \"type\": \"histogram\"}], \"histogram2d\": [{\"colorbar\": {\"outlinewidth\": 0, \"ticks\": \"\"}, \"colorscale\": [[0.0, \"#0d0887\"], [0.1111111111111111, \"#46039f\"], [0.2222222222222222, \"#7201a8\"], [0.3333333333333333, \"#9c179e\"], [0.4444444444444444, \"#bd3786\"], [0.5555555555555556, \"#d8576b\"], [0.6666666666666666, \"#ed7953\"], [0.7777777777777778, \"#fb9f3a\"], [0.8888888888888888, \"#fdca26\"], [1.0, \"#f0f921\"]], \"type\": \"histogram2d\"}], \"histogram2dcontour\": [{\"colorbar\": {\"outlinewidth\": 0, \"ticks\": \"\"}, \"colorscale\": [[0.0, \"#0d0887\"], [0.1111111111111111, \"#46039f\"], [0.2222222222222222, \"#7201a8\"], [0.3333333333333333, \"#9c179e\"], [0.4444444444444444, \"#bd3786\"], [0.5555555555555556, \"#d8576b\"], [0.6666666666666666, \"#ed7953\"], [0.7777777777777778, \"#fb9f3a\"], [0.8888888888888888, \"#fdca26\"], [1.0, \"#f0f921\"]], \"type\": \"histogram2dcontour\"}], \"mesh3d\": [{\"colorbar\": {\"outlinewidth\": 0, \"ticks\": \"\"}, \"type\": \"mesh3d\"}], \"parcoords\": [{\"line\": {\"colorbar\": {\"outlinewidth\": 0, \"ticks\": \"\"}}, \"type\": \"parcoords\"}], \"pie\": [{\"automargin\": true, \"type\": \"pie\"}], \"scatter\": [{\"marker\": {\"colorbar\": {\"outlinewidth\": 0, \"ticks\": \"\"}}, \"type\": \"scatter\"}], \"scatter3d\": [{\"line\": {\"colorbar\": {\"outlinewidth\": 0, \"ticks\": \"\"}}, \"marker\": {\"colorbar\": {\"outlinewidth\": 0, \"ticks\": \"\"}}, \"type\": \"scatter3d\"}], \"scattercarpet\": [{\"marker\": {\"colorbar\": {\"outlinewidth\": 0, \"ticks\": \"\"}}, \"type\": \"scattercarpet\"}], \"scattergeo\": [{\"marker\": {\"colorbar\": {\"outlinewidth\": 0, \"ticks\": \"\"}}, \"type\": \"scattergeo\"}], \"scattergl\": [{\"marker\": {\"colorbar\": {\"outlinewidth\": 0, \"ticks\": \"\"}}, \"type\": \"scattergl\"}], \"scattermapbox\": [{\"marker\": {\"colorbar\": {\"outlinewidth\": 0, \"ticks\": \"\"}}, \"type\": \"scattermapbox\"}], \"scatterpolar\": [{\"marker\": {\"colorbar\": {\"outlinewidth\": 0, \"ticks\": \"\"}}, \"type\": \"scatterpolar\"}], \"scatterpolargl\": [{\"marker\": {\"colorbar\": {\"outlinewidth\": 0, \"ticks\": \"\"}}, \"type\": \"scatterpolargl\"}], \"scatterternary\": [{\"marker\": {\"colorbar\": {\"outlinewidth\": 0, \"ticks\": \"\"}}, \"type\": \"scatterternary\"}], \"surface\": [{\"colorbar\": {\"outlinewidth\": 0, \"ticks\": \"\"}, \"colorscale\": [[0.0, \"#0d0887\"], [0.1111111111111111, \"#46039f\"], [0.2222222222222222, \"#7201a8\"], [0.3333333333333333, \"#9c179e\"], [0.4444444444444444, \"#bd3786\"], [0.5555555555555556, \"#d8576b\"], [0.6666666666666666, \"#ed7953\"], [0.7777777777777778, \"#fb9f3a\"], [0.8888888888888888, \"#fdca26\"], [1.0, \"#f0f921\"]], \"type\": \"surface\"}], \"table\": [{\"cells\": {\"fill\": {\"color\": \"#EBF0F8\"}, \"line\": {\"color\": \"white\"}}, \"header\": {\"fill\": {\"color\": \"#C8D4E3\"}, \"line\": {\"color\": \"white\"}}, \"type\": \"table\"}]}, \"layout\": {\"annotationdefaults\": {\"arrowcolor\": \"#2a3f5f\", \"arrowhead\": 0, \"arrowwidth\": 1}, \"coloraxis\": {\"colorbar\": {\"outlinewidth\": 0, \"ticks\": \"\"}}, \"colorscale\": {\"diverging\": [[0, \"#8e0152\"], [0.1, \"#c51b7d\"], [0.2, \"#de77ae\"], [0.3, \"#f1b6da\"], [0.4, \"#fde0ef\"], [0.5, \"#f7f7f7\"], [0.6, \"#e6f5d0\"], [0.7, \"#b8e186\"], [0.8, \"#7fbc41\"], [0.9, \"#4d9221\"], [1, \"#276419\"]], \"sequential\": [[0.0, \"#0d0887\"], [0.1111111111111111, \"#46039f\"], [0.2222222222222222, \"#7201a8\"], [0.3333333333333333, \"#9c179e\"], [0.4444444444444444, \"#bd3786\"], [0.5555555555555556, \"#d8576b\"], [0.6666666666666666, \"#ed7953\"], [0.7777777777777778, \"#fb9f3a\"], [0.8888888888888888, \"#fdca26\"], [1.0, \"#f0f921\"]], \"sequentialminus\": [[0.0, \"#0d0887\"], [0.1111111111111111, \"#46039f\"], [0.2222222222222222, \"#7201a8\"], [0.3333333333333333, \"#9c179e\"], [0.4444444444444444, \"#bd3786\"], [0.5555555555555556, \"#d8576b\"], [0.6666666666666666, \"#ed7953\"], [0.7777777777777778, \"#fb9f3a\"], [0.8888888888888888, \"#fdca26\"], [1.0, \"#f0f921\"]]}, \"colorway\": [\"#636efa\", \"#EF553B\", \"#00cc96\", \"#ab63fa\", \"#FFA15A\", \"#19d3f3\", \"#FF6692\", \"#B6E880\", \"#FF97FF\", \"#FECB52\"], \"font\": {\"color\": \"#2a3f5f\"}, \"geo\": {\"bgcolor\": \"white\", \"lakecolor\": \"white\", \"landcolor\": \"#E5ECF6\", \"showlakes\": true, \"showland\": true, \"subunitcolor\": \"white\"}, \"hoverlabel\": {\"align\": \"left\"}, \"hovermode\": \"closest\", \"mapbox\": {\"style\": \"light\"}, \"paper_bgcolor\": \"white\", \"plot_bgcolor\": \"#E5ECF6\", \"polar\": {\"angularaxis\": {\"gridcolor\": \"white\", \"linecolor\": \"white\", \"ticks\": \"\"}, \"bgcolor\": \"#E5ECF6\", \"radialaxis\": {\"gridcolor\": \"white\", \"linecolor\": \"white\", \"ticks\": \"\"}}, \"scene\": {\"xaxis\": {\"backgroundcolor\": \"#E5ECF6\", \"gridcolor\": \"white\", \"gridwidth\": 2, \"linecolor\": \"white\", \"showbackground\": true, \"ticks\": \"\", \"zerolinecolor\": \"white\"}, \"yaxis\": {\"backgroundcolor\": \"#E5ECF6\", \"gridcolor\": \"white\", \"gridwidth\": 2, \"linecolor\": \"white\", \"showbackground\": true, \"ticks\": \"\", \"zerolinecolor\": \"white\"}, \"zaxis\": {\"backgroundcolor\": \"#E5ECF6\", \"gridcolor\": \"white\", \"gridwidth\": 2, \"linecolor\": \"white\", \"showbackground\": true, \"ticks\": \"\", \"zerolinecolor\": \"white\"}}, \"shapedefaults\": {\"line\": {\"color\": \"#2a3f5f\"}}, \"ternary\": {\"aaxis\": {\"gridcolor\": \"white\", \"linecolor\": \"white\", \"ticks\": \"\"}, \"baxis\": {\"gridcolor\": \"white\", \"linecolor\": \"white\", \"ticks\": \"\"}, \"bgcolor\": \"#E5ECF6\", \"caxis\": {\"gridcolor\": \"white\", \"linecolor\": \"white\", \"ticks\": \"\"}}, \"title\": {\"x\": 0.05}, \"xaxis\": {\"automargin\": true, \"gridcolor\": \"white\", \"linecolor\": \"white\", \"ticks\": \"\", \"title\": {\"standoff\": 15}, \"zerolinecolor\": \"white\", \"zerolinewidth\": 2}, \"yaxis\": {\"automargin\": true, \"gridcolor\": \"white\", \"linecolor\": \"white\", \"ticks\": \"\", \"title\": {\"standoff\": 15}, \"zerolinecolor\": \"white\", \"zerolinewidth\": 2}}}, \"xaxis\": {\"anchor\": \"y\", \"domain\": [0.0, 1.0], \"tickangle\": -90, \"title\": {\"text\": \"COLOR\"}}, \"yaxis\": {\"anchor\": \"x\", \"domain\": [0.0, 1.0], \"tickvals\": [3, 2, 4, 5, 1], \"title\": {\"text\": \"TALLA\"}}},\n",
       "                        {\"responsive\": true}\n",
       "                    ).then(function(){\n",
       "                            \n",
       "var gd = document.getElementById('1abada78-6d72-47a9-9199-7b0fd37fbddc');\n",
       "var x = new MutationObserver(function (mutations, observer) {{\n",
       "        var display = window.getComputedStyle(gd).display;\n",
       "        if (!display || display === 'none') {{\n",
       "            console.log([gd, 'removed!']);\n",
       "            Plotly.purge(gd);\n",
       "            observer.disconnect();\n",
       "        }}\n",
       "}});\n",
       "\n",
       "// Listen for the removal of the full notebook cells\n",
       "var notebookContainer = gd.closest('#notebook-container');\n",
       "if (notebookContainer) {{\n",
       "    x.observe(notebookContainer, {childList: true});\n",
       "}}\n",
       "\n",
       "// Listen for the clearing of the current output cell\n",
       "var outputEl = gd.closest('.output');\n",
       "if (outputEl) {{\n",
       "    x.observe(outputEl, {childList: true});\n",
       "}}\n",
       "\n",
       "                        })\n",
       "                };\n",
       "                });\n",
       "            </script>\n",
       "        </div>"
      ]
     },
     "metadata": {},
     "output_type": "display_data"
    }
   ],
   "source": [
    "#scatter plot for simultaneous size, model and color\n",
    "\n",
    "fig = px.scatter(df_salesB2C_2019_replace, x='COLOR', y='TALLA', \n",
    "                 color='MODELO',\n",
    "                 size= 'CANTIDAD',\n",
    "                )\n",
    "fig.update_yaxes(tickvals = df_salesB2C_2019_replace['TALLA'].unique(),\n",
    "                 )\n",
    "\n",
    "fig.update_xaxes(tickangle=-90)\n",
    "\n",
    "fig.write_html(\"sales_global.html\")\n",
    "\n",
    "fig.show()"
   ]
  },
  {
   "cell_type": "code",
   "execution_count": 169,
   "metadata": {},
   "outputs": [],
   "source": [
    "#Copy of dataframe\n",
    "df= df_salesB2C_2019_replace.copy()"
   ]
  },
  {
   "cell_type": "code",
   "execution_count": 170,
   "metadata": {},
   "outputs": [],
   "source": [
    "#Export of data\n",
    "df.to_excel('sales_model.xlsx')"
   ]
  },
  {
   "cell_type": "code",
   "execution_count": 171,
   "metadata": {},
   "outputs": [
    {
     "name": "stderr",
     "output_type": "stream",
     "text": [
      "No handles with labels found to put in legend.\n"
     ]
    },
    {
     "data": {
      "image/png": "[encoded data removed]",
      "text/plain": [
       "<Figure size 1152x288 with 1 Axes>"
      ]
     },
     "metadata": {},
     "output_type": "display_data"
    }
   ],
   "source": [
    "#Bar chart for Best Seller MODEL (seaborn)\n",
    "\n",
    "fig = plt.figure(figsize=(16,4))\n",
    "\n",
    "sns.set_theme(style=\"whitegrid\")\n",
    "sns.set_style(\"whitegrid\", {'axes.grid' : False})\n",
    "\n",
    "ax = sns.countplot(x='MODELO', data=df, palette='mako', alpha=0.7, order=df['MODELO'].value_counts().index)\n",
    "\n",
    "#sns.countplot(x=df.MODELO.sort_values(ascending=False).index.values, data=df, palette='Blues', alpha=0.7)\n",
    "\n",
    "\n",
    "ax.spines['left'].set_color('lightgray')\n",
    "ax.spines['bottom'].set_color('lightgray')\n",
    "ax.spines['right'].set_visible(False)\n",
    "ax.spines['top'].set_visible(False)\n",
    "\n",
    "plt.ylabel('CANTIDAD',fontsize=12,color='#616161',ha='left',va='bottom')\n",
    "plt.legend()\n",
    "plt.xticks(rotation='vertical')\n",
    "\n",
    "plt.show()\n",
    "fig.savefig('Sales_Model.png',bbox_inches=\"tight\")"
   ]
  },
  {
   "cell_type": "code",
   "execution_count": 172,
   "metadata": {},
   "outputs": [
    {
     "name": "stderr",
     "output_type": "stream",
     "text": [
      "No handles with labels found to put in legend.\n"
     ]
    },
    {
     "data": {
      "image/png": "[encoded data removed]",
      "text/plain": [
       "<Figure size 1152x288 with 1 Axes>"
      ]
     },
     "metadata": {},
     "output_type": "display_data"
    }
   ],
   "source": [
    "#Bar chart for Best Seller COlOR (seaborn)\n",
    "\n",
    "\n",
    "fig = plt.figure(figsize=(16,4))\n",
    "\n",
    "sns.set_theme(style=\"whitegrid\")\n",
    "sns.set_style(\"whitegrid\", {'axes.grid' : False})\n",
    "\n",
    "ax = sns.countplot(x='COLOR', data=df, palette='mako', alpha=0.7, order=df['COLOR'].value_counts().index)\n",
    "\n",
    "#sns.countplot(x=df.MODELO.sort_values(ascending=False).index.values, data=df, palette='Blues', alpha=0.7)\n",
    "\n",
    "\n",
    "ax.spines['left'].set_color('lightgray')\n",
    "ax.spines['bottom'].set_color('lightgray')\n",
    "ax.spines['right'].set_visible(False)\n",
    "ax.spines['top'].set_visible(False)\n",
    "\n",
    "plt.ylabel('CANTIDAD',fontsize=12,color='#616161',ha='left',va='bottom')\n",
    "plt.legend()\n",
    "plt.xticks(rotation='vertical')\n",
    "\n",
    "plt.show()\n",
    "fig.savefig('Sales_Color.png',bbox_inches=\"tight\")"
   ]
  },
  {
   "cell_type": "code",
   "execution_count": 173,
   "metadata": {},
   "outputs": [
    {
     "name": "stderr",
     "output_type": "stream",
     "text": [
      "No handles with labels found to put in legend.\n"
     ]
    },
    {
     "data": {
      "image/png": "[encoded data removed]",
      "text/plain": [
       "<Figure size 1152x288 with 1 Axes>"
      ]
     },
     "metadata": {},
     "output_type": "display_data"
    }
   ],
   "source": [
    "#Bar chart for SIZE sales (seaborn)\n",
    "\n",
    "fig = plt.figure(figsize=(16,4))\n",
    "\n",
    "sns.set_theme(style=\"whitegrid\")\n",
    "sns.set_style(\"whitegrid\", {'axes.grid' : False})\n",
    "\n",
    "ax = sns.countplot(x='TALLA', data=df, color='#4682B4', alpha=0.7)\n",
    "\n",
    "#sns.countplot(x=df.MODELO.sort_values(ascending=False).index.values, data=df, palette='Blues', alpha=0.7)\n",
    "\n",
    "#plt.xticks( rotation='vertical')\n",
    "\n",
    "ax.set_xticklabels(['XS','S','M','L','XL'])\n",
    "\n",
    "\n",
    "#values=df['TALLA'].value_counts().values\n",
    "#for i, p in enumerate(ax.patches):\n",
    " #   height = p.get_height()\n",
    "  #  ax.text(p.get_x()+p.get_width()/2., height + 0.1, values[i],ha=\"center\")\n",
    "\n",
    "ax.spines['left'].set_color('lightgray')\n",
    "ax.spines['bottom'].set_color('lightgray')\n",
    "ax.spines['right'].set_visible(False)\n",
    "ax.spines['top'].set_visible(False)\n",
    "\n",
    "plt.ylabel('CANTIDAD',fontsize=12,color='#616161',ha='left',va='bottom')\n",
    "plt.legend()\n",
    "\n",
    "\n",
    "plt.show()\n",
    "fig.savefig('Sales_Talla.png',bbox_inches=\"tight\")"
   ]
  },
  {
   "cell_type": "code",
   "execution_count": null,
   "metadata": {},
   "outputs": [],
   "source": [
    "#practising with plotly express"
   ]
  },
  {
   "cell_type": "code",
   "execution_count": 176,
   "metadata": {},
   "outputs": [
    {
     "data": {
      "application/vnd.plotly.v1+json": {
       "config": {
        "plotlyServerURL": "https://plot.ly"
       },
       "data": [
        {
         "alignmentgroup": "True",
         "hoverlabel": {
          "namelength": 0
         },
         "hovertemplate": "MODELO=%{x}<br>CANTIDAD=%{y}",
         "legendgroup": "",
         "marker": {
          "color": "#636efa"
         },
         "name": "",
         "offsetgroup": "",
         "orientation": "v",
         "showlegend": false,
         "textposition": "auto",
         "type": "bar",
         "x": [
          "lola",
          "eros",
          "lola",
          "eros",
          "consuelo bodysuit",
          "eros",
          "apolo",
          "eros",
          "apolo",
          "maca",
          "pastora bodysuit",
          "emilia bodysuit",
          "caña",
          "maca",
          "emilia bodysuit",
          "maria",
          "lucia",
          "lola",
          "eros",
          "eros",
          "maca",
          "venus bodysuit",
          "apolo",
          "eros",
          "paloma bodysuit",
          "lola",
          "eros",
          "pastora bodysuit",
          "eros",
          "lola",
          "eros",
          "lola",
          "geminis top",
          "geminis bottom",
          "pastora bodysuit",
          "pastora bodysuit",
          "paloma bodysuit",
          "paloma bodysuit",
          "emilia bodysuit",
          "eros",
          "apolo",
          "emilia bodysuit",
          "pastora bodysuit",
          "consuelo bodysuit",
          "emilia bodysuit",
          "naranjo bodysuit",
          "emilia bodysuit",
          "venus bodysuit",
          "consuelo bodysuit",
          "emilia bodysuit",
          "aries",
          "apolo",
          "eros bodysuit",
          "lola",
          "gracia bodysuit",
          "eros",
          "lola",
          "consuelo bodysuit",
          "lucia",
          "nina",
          "caña bottom",
          "candela",
          "venus bodysuit",
          "pastora bodysuit",
          "naranjo bodysuit",
          "paloma bodysuit",
          "paloma bodysuit",
          "eros",
          "maca",
          "lucia",
          "naranjo bodysuit",
          "emilia bodysuit",
          "pastora bodysuit",
          "eros",
          "lola",
          "eros bodysuit",
          "maca",
          "eros bodysuit",
          "apolo",
          "lucia",
          "alma bodysuit",
          "pastora bodysuit",
          "barreto bodysuit",
          "candela",
          "maria bottom",
          "3gracias bodysuit",
          "eros",
          "pastora bodysuit",
          "maca",
          "candela",
          "candela",
          "apolo",
          "pastora bodysuit",
          "jeronimo",
          "eros",
          "consuelo bodysuit",
          "lola",
          "lucia",
          "aries",
          "apolo",
          "geminis top",
          "geminis bottom",
          "paloma bodysuit",
          "emilia bodysuit",
          "emilia bodysuit",
          "eros",
          "lola",
          "consuelo bodysuit",
          "aries",
          "consuelo bodysuit",
          "pastora bodysuit",
          "alma bodysuit",
          "emilia bodysuit",
          "alma",
          "naranjo bodysuit",
          "naranjo bodysuit",
          "naranjo bodysuit",
          "marcelo  bodysuit",
          "candela",
          "maca",
          "alma bodysuit",
          "caña top",
          "apolo",
          "marcelo bodysuit",
          "eros",
          "lola",
          "palma bodysuit",
          "paloma bodysuit",
          "naranjo bodysuit",
          "geminis top",
          "olivia bodysuit",
          "pastora bodysuit",
          "olivia bodysuit",
          "maria top",
          "maria bottom",
          "geminis top",
          "geminis bottom",
          "leo bottom",
          "maca bottom",
          "candela",
          "jeronimo",
          "paloma bodysuit",
          "pastora bodysuit",
          "pastora bodysuit",
          "aries",
          "maca bottom",
          "eros",
          "lola",
          "maria",
          "emilia bodysuit",
          "emilia bodysuit",
          "emilia bodysuit",
          "consuelo bodysuit",
          "pastora bodysuit",
          "alma bodysuit",
          "venus bodysuit",
          "maria top",
          "lola bottom",
          "pastora bodysuit",
          "milo bodysuit",
          "eros",
          "maca bottom",
          "eros",
          "apolo",
          "milo  bodysuit",
          "emilia bodysuit",
          "mara",
          "pastora bodysuit",
          "caña bodysuit",
          "eros",
          "lola",
          "lucia",
          "eros",
          "apolo",
          "eros",
          "lola",
          "pastora bodysuit",
          "pastora bodysuit",
          "maca",
          "maca",
          "candela",
          "lucia",
          "bodysuit",
          "candela",
          "dolores",
          "alma bodysuit",
          "caña bodysuit",
          "lola",
          "top milo",
          "lola",
          "naranjo bodysuit",
          "sabina",
          "lola",
          "top lucia",
          "lola",
          "paloma bodysuit",
          "emilia bodysuit",
          "paloma bodysuit",
          "emilia bodysuit",
          "alma bodysuit",
          "emilia bodysuit",
          "libra",
          "jeronimo",
          "margot",
          "maca",
          "libra",
          "maca",
          "leandro",
          "libra",
          "emilia bodysuit",
          "marcelo bodysuit",
          "paloma bodysuit",
          "leo",
          "margot",
          "maria",
          "maca",
          "sample",
          "naranjo bodysuit",
          "libra",
          "pastora bodysuit",
          "emilia bodysuit",
          " marcelo bodysuit",
          "lucia",
          "candela",
          "dolores",
          "lola",
          "pastora bodysuit",
          "sample",
          "lola",
          "mara",
          "paloma bodysuit",
          "pastora bodysuit",
          "caña  bodysuit",
          "emilia bodysuit",
          "consuelo bodysuit"
         ],
         "xaxis": "x",
         "y": [
          1,
          1,
          1,
          1,
          1,
          1,
          1,
          1,
          1,
          1,
          1,
          1,
          1,
          1,
          1,
          1,
          1,
          1,
          1,
          1,
          1,
          1,
          1,
          1,
          1,
          1,
          1,
          1,
          1,
          1,
          1,
          1,
          1,
          1,
          1,
          1,
          1,
          1,
          1,
          1,
          1,
          1,
          1,
          1,
          1,
          1,
          1,
          1,
          1,
          1,
          1,
          1,
          1,
          1,
          1,
          1,
          1,
          1,
          1,
          1,
          1,
          1,
          1,
          1,
          1,
          1,
          1,
          1,
          1,
          1,
          1,
          1,
          1,
          1,
          1,
          1,
          1,
          1,
          1,
          1,
          1,
          1,
          1,
          1,
          1,
          1,
          1,
          1,
          1,
          1,
          1,
          1,
          1,
          1,
          1,
          1,
          1,
          1,
          1,
          1,
          1,
          1,
          1,
          1,
          1,
          1,
          1,
          1,
          1,
          1,
          1,
          1,
          1,
          1,
          2,
          2,
          1,
          1,
          1,
          1,
          1,
          1,
          1,
          1,
          1,
          1,
          1,
          1,
          1,
          1,
          1,
          1,
          1,
          1,
          1,
          1,
          1,
          1,
          1,
          1,
          1,
          1,
          1,
          1,
          1,
          1,
          1,
          1,
          1,
          1,
          1,
          1,
          1,
          1,
          1,
          1,
          1,
          1,
          1,
          1,
          1,
          1,
          1,
          1,
          1,
          1,
          1,
          1,
          1,
          1,
          1,
          1,
          1,
          1,
          1,
          1,
          1,
          1,
          1,
          1,
          1,
          1,
          2,
          1,
          1,
          1,
          1,
          1,
          1,
          1,
          1,
          1,
          1,
          1,
          1,
          1,
          1,
          1,
          1,
          1,
          1,
          1,
          1,
          1,
          1,
          1,
          1,
          1,
          1,
          1,
          1,
          1,
          1,
          1,
          1,
          1,
          1,
          1,
          1,
          1,
          1,
          1,
          1,
          1,
          1,
          1,
          1,
          1,
          1,
          1,
          1,
          1,
          1,
          1,
          1
         ],
         "yaxis": "y"
        }
       ],
       "layout": {
        "barmode": "relative",
        "legend": {
         "tracegroupgap": 0
        },
        "margin": {
         "t": 60
        },
        "template": {
         "data": {
          "bar": [
           {
            "error_x": {
             "color": "#2a3f5f"
            },
            "error_y": {
             "color": "#2a3f5f"
            },
            "marker": {
             "line": {
              "color": "#E5ECF6",
              "width": 0.5
             }
            },
            "type": "bar"
           }
          ],
          "barpolar": [
           {
            "marker": {
             "line": {
              "color": "#E5ECF6",
              "width": 0.5
             }
            },
            "type": "barpolar"
           }
          ],
          "carpet": [
           {
            "aaxis": {
             "endlinecolor": "#2a3f5f",
             "gridcolor": "white",
             "linecolor": "white",
             "minorgridcolor": "white",
             "startlinecolor": "#2a3f5f"
            },
            "baxis": {
             "endlinecolor": "#2a3f5f",
             "gridcolor": "white",
             "linecolor": "white",
             "minorgridcolor": "white",
             "startlinecolor": "#2a3f5f"
            },
            "type": "carpet"
           }
          ],
          "choropleth": [
           {
            "colorbar": {
             "outlinewidth": 0,
             "ticks": ""
            },
            "type": "choropleth"
           }
          ],
          "contour": [
           {
            "colorbar": {
             "outlinewidth": 0,
             "ticks": ""
            },
            "colorscale": [
             [
              0,
              "#0d0887"
             ],
             [
              0.1111111111111111,
              "#46039f"
             ],
             [
              0.2222222222222222,
              "#7201a8"
             ],
             [
              0.3333333333333333,
              "#9c179e"
             ],
             [
              0.4444444444444444,
              "#bd3786"
             ],
             [
              0.5555555555555556,
              "#d8576b"
             ],
             [
              0.6666666666666666,
              "#ed7953"
             ],
             [
              0.7777777777777778,
              "#fb9f3a"
             ],
             [
              0.8888888888888888,
              "#fdca26"
             ],
             [
              1,
              "#f0f921"
             ]
            ],
            "type": "contour"
           }
          ],
          "contourcarpet": [
           {
            "colorbar": {
             "outlinewidth": 0,
             "ticks": ""
            },
            "type": "contourcarpet"
           }
          ],
          "heatmap": [
           {
            "colorbar": {
             "outlinewidth": 0,
             "ticks": ""
            },
            "colorscale": [
             [
              0,
              "#0d0887"
             ],
             [
              0.1111111111111111,
              "#46039f"
             ],
             [
              0.2222222222222222,
              "#7201a8"
             ],
             [
              0.3333333333333333,
              "#9c179e"
             ],
             [
              0.4444444444444444,
              "#bd3786"
             ],
             [
              0.5555555555555556,
              "#d8576b"
             ],
             [
              0.6666666666666666,
              "#ed7953"
             ],
             [
              0.7777777777777778,
              "#fb9f3a"
             ],
             [
              0.8888888888888888,
              "#fdca26"
             ],
             [
              1,
              "#f0f921"
             ]
            ],
            "type": "heatmap"
           }
          ],
          "heatmapgl": [
           {
            "colorbar": {
             "outlinewidth": 0,
             "ticks": ""
            },
            "colorscale": [
             [
              0,
              "#0d0887"
             ],
             [
              0.1111111111111111,
              "#46039f"
             ],
             [
              0.2222222222222222,
              "#7201a8"
             ],
             [
              0.3333333333333333,
              "#9c179e"
             ],
             [
              0.4444444444444444,
              "#bd3786"
             ],
             [
              0.5555555555555556,
              "#d8576b"
             ],
             [
              0.6666666666666666,
              "#ed7953"
             ],
             [
              0.7777777777777778,
              "#fb9f3a"
             ],
             [
              0.8888888888888888,
              "#fdca26"
             ],
             [
              1,
              "#f0f921"
             ]
            ],
            "type": "heatmapgl"
           }
          ],
          "histogram": [
           {
            "marker": {
             "colorbar": {
              "outlinewidth": 0,
              "ticks": ""
             }
            },
            "type": "histogram"
           }
          ],
          "histogram2d": [
           {
            "colorbar": {
             "outlinewidth": 0,
             "ticks": ""
            },
            "colorscale": [
             [
              0,
              "#0d0887"
             ],
             [
              0.1111111111111111,
              "#46039f"
             ],
             [
              0.2222222222222222,
              "#7201a8"
             ],
             [
              0.3333333333333333,
              "#9c179e"
             ],
             [
              0.4444444444444444,
              "#bd3786"
             ],
             [
              0.5555555555555556,
              "#d8576b"
             ],
             [
              0.6666666666666666,
              "#ed7953"
             ],
             [
              0.7777777777777778,
              "#fb9f3a"
             ],
             [
              0.8888888888888888,
              "#fdca26"
             ],
             [
              1,
              "#f0f921"
             ]
            ],
            "type": "histogram2d"
           }
          ],
          "histogram2dcontour": [
           {
            "colorbar": {
             "outlinewidth": 0,
             "ticks": ""
            },
            "colorscale": [
             [
              0,
              "#0d0887"
             ],
             [
              0.1111111111111111,
              "#46039f"
             ],
             [
              0.2222222222222222,
              "#7201a8"
             ],
             [
              0.3333333333333333,
              "#9c179e"
             ],
             [
              0.4444444444444444,
              "#bd3786"
             ],
             [
              0.5555555555555556,
              "#d8576b"
             ],
             [
              0.6666666666666666,
              "#ed7953"
             ],
             [
              0.7777777777777778,
              "#fb9f3a"
             ],
             [
              0.8888888888888888,
              "#fdca26"
             ],
             [
              1,
              "#f0f921"
             ]
            ],
            "type": "histogram2dcontour"
           }
          ],
          "mesh3d": [
           {
            "colorbar": {
             "outlinewidth": 0,
             "ticks": ""
            },
            "type": "mesh3d"
           }
          ],
          "parcoords": [
           {
            "line": {
             "colorbar": {
              "outlinewidth": 0,
              "ticks": ""
             }
            },
            "type": "parcoords"
           }
          ],
          "pie": [
           {
            "automargin": true,
            "type": "pie"
           }
          ],
          "scatter": [
           {
            "marker": {
             "colorbar": {
              "outlinewidth": 0,
              "ticks": ""
             }
            },
            "type": "scatter"
           }
          ],
          "scatter3d": [
           {
            "line": {
             "colorbar": {
              "outlinewidth": 0,
              "ticks": ""
             }
            },
            "marker": {
             "colorbar": {
              "outlinewidth": 0,
              "ticks": ""
             }
            },
            "type": "scatter3d"
           }
          ],
          "scattercarpet": [
           {
            "marker": {
             "colorbar": {
              "outlinewidth": 0,
              "ticks": ""
             }
            },
            "type": "scattercarpet"
           }
          ],
          "scattergeo": [
           {
            "marker": {
             "colorbar": {
              "outlinewidth": 0,
              "ticks": ""
             }
            },
            "type": "scattergeo"
           }
          ],
          "scattergl": [
           {
            "marker": {
             "colorbar": {
              "outlinewidth": 0,
              "ticks": ""
             }
            },
            "type": "scattergl"
           }
          ],
          "scattermapbox": [
           {
            "marker": {
             "colorbar": {
              "outlinewidth": 0,
              "ticks": ""
             }
            },
            "type": "scattermapbox"
           }
          ],
          "scatterpolar": [
           {
            "marker": {
             "colorbar": {
              "outlinewidth": 0,
              "ticks": ""
             }
            },
            "type": "scatterpolar"
           }
          ],
          "scatterpolargl": [
           {
            "marker": {
             "colorbar": {
              "outlinewidth": 0,
              "ticks": ""
             }
            },
            "type": "scatterpolargl"
           }
          ],
          "scatterternary": [
           {
            "marker": {
             "colorbar": {
              "outlinewidth": 0,
              "ticks": ""
             }
            },
            "type": "scatterternary"
           }
          ],
          "surface": [
           {
            "colorbar": {
             "outlinewidth": 0,
             "ticks": ""
            },
            "colorscale": [
             [
              0,
              "#0d0887"
             ],
             [
              0.1111111111111111,
              "#46039f"
             ],
             [
              0.2222222222222222,
              "#7201a8"
             ],
             [
              0.3333333333333333,
              "#9c179e"
             ],
             [
              0.4444444444444444,
              "#bd3786"
             ],
             [
              0.5555555555555556,
              "#d8576b"
             ],
             [
              0.6666666666666666,
              "#ed7953"
             ],
             [
              0.7777777777777778,
              "#fb9f3a"
             ],
             [
              0.8888888888888888,
              "#fdca26"
             ],
             [
              1,
              "#f0f921"
             ]
            ],
            "type": "surface"
           }
          ],
          "table": [
           {
            "cells": {
             "fill": {
              "color": "#EBF0F8"
             },
             "line": {
              "color": "white"
             }
            },
            "header": {
             "fill": {
              "color": "#C8D4E3"
             },
             "line": {
              "color": "white"
             }
            },
            "type": "table"
           }
          ]
         },
         "layout": {
          "annotationdefaults": {
           "arrowcolor": "#2a3f5f",
           "arrowhead": 0,
           "arrowwidth": 1
          },
          "coloraxis": {
           "colorbar": {
            "outlinewidth": 0,
            "ticks": ""
           }
          },
          "colorscale": {
           "diverging": [
            [
             0,
             "#8e0152"
            ],
            [
             0.1,
             "#c51b7d"
            ],
            [
             0.2,
             "#de77ae"
            ],
            [
             0.3,
             "#f1b6da"
            ],
            [
             0.4,
             "#fde0ef"
            ],
            [
             0.5,
             "#f7f7f7"
            ],
            [
             0.6,
             "#e6f5d0"
            ],
            [
             0.7,
             "#b8e186"
            ],
            [
             0.8,
             "#7fbc41"
            ],
            [
             0.9,
             "#4d9221"
            ],
            [
             1,
             "#276419"
            ]
           ],
           "sequential": [
            [
             0,
             "#0d0887"
            ],
            [
             0.1111111111111111,
             "#46039f"
            ],
            [
             0.2222222222222222,
             "#7201a8"
            ],
            [
             0.3333333333333333,
             "#9c179e"
            ],
            [
             0.4444444444444444,
             "#bd3786"
            ],
            [
             0.5555555555555556,
             "#d8576b"
            ],
            [
             0.6666666666666666,
             "#ed7953"
            ],
            [
             0.7777777777777778,
             "#fb9f3a"
            ],
            [
             0.8888888888888888,
             "#fdca26"
            ],
            [
             1,
             "#f0f921"
            ]
           ],
           "sequentialminus": [
            [
             0,
             "#0d0887"
            ],
            [
             0.1111111111111111,
             "#46039f"
            ],
            [
             0.2222222222222222,
             "#7201a8"
            ],
            [
             0.3333333333333333,
             "#9c179e"
            ],
            [
             0.4444444444444444,
             "#bd3786"
            ],
            [
             0.5555555555555556,
             "#d8576b"
            ],
            [
             0.6666666666666666,
             "#ed7953"
            ],
            [
             0.7777777777777778,
             "#fb9f3a"
            ],
            [
             0.8888888888888888,
             "#fdca26"
            ],
            [
             1,
             "#f0f921"
            ]
           ]
          },
          "colorway": [
           "#636efa",
           "#EF553B",
           "#00cc96",
           "#ab63fa",
           "#FFA15A",
           "#19d3f3",
           "#FF6692",
           "#B6E880",
           "#FF97FF",
           "#FECB52"
          ],
          "font": {
           "color": "#2a3f5f"
          },
          "geo": {
           "bgcolor": "white",
           "lakecolor": "white",
           "landcolor": "#E5ECF6",
           "showlakes": true,
           "showland": true,
           "subunitcolor": "white"
          },
          "hoverlabel": {
           "align": "left"
          },
          "hovermode": "closest",
          "mapbox": {
           "style": "light"
          },
          "paper_bgcolor": "white",
          "plot_bgcolor": "#E5ECF6",
          "polar": {
           "angularaxis": {
            "gridcolor": "white",
            "linecolor": "white",
            "ticks": ""
           },
           "bgcolor": "#E5ECF6",
           "radialaxis": {
            "gridcolor": "white",
            "linecolor": "white",
            "ticks": ""
           }
          },
          "scene": {
           "xaxis": {
            "backgroundcolor": "#E5ECF6",
            "gridcolor": "white",
            "gridwidth": 2,
            "linecolor": "white",
            "showbackground": true,
            "ticks": "",
            "zerolinecolor": "white"
           },
           "yaxis": {
            "backgroundcolor": "#E5ECF6",
            "gridcolor": "white",
            "gridwidth": 2,
            "linecolor": "white",
            "showbackground": true,
            "ticks": "",
            "zerolinecolor": "white"
           },
           "zaxis": {
            "backgroundcolor": "#E5ECF6",
            "gridcolor": "white",
            "gridwidth": 2,
            "linecolor": "white",
            "showbackground": true,
            "ticks": "",
            "zerolinecolor": "white"
           }
          },
          "shapedefaults": {
           "line": {
            "color": "#2a3f5f"
           }
          },
          "ternary": {
           "aaxis": {
            "gridcolor": "white",
            "linecolor": "white",
            "ticks": ""
           },
           "baxis": {
            "gridcolor": "white",
            "linecolor": "white",
            "ticks": ""
           },
           "bgcolor": "#E5ECF6",
           "caxis": {
            "gridcolor": "white",
            "linecolor": "white",
            "ticks": ""
           }
          },
          "title": {
           "x": 0.05
          },
          "xaxis": {
           "automargin": true,
           "gridcolor": "white",
           "linecolor": "white",
           "ticks": "",
           "title": {
            "standoff": 15
           },
           "zerolinecolor": "white",
           "zerolinewidth": 2
          },
          "yaxis": {
           "automargin": true,
           "gridcolor": "white",
           "linecolor": "white",
           "ticks": "",
           "title": {
            "standoff": 15
           },
           "zerolinecolor": "white",
           "zerolinewidth": 2
          }
         }
        },
        "title": {
         "font": {
          "size": 30
         },
         "text": "Sales - Model"
        },
        "xaxis": {
         "anchor": "y",
         "domain": [
          0,
          1
         ],
         "title": {
          "text": "MODELO"
         }
        },
        "yaxis": {
         "anchor": "x",
         "domain": [
          0,
          1
         ],
         "title": {
          "text": "CANTIDAD"
         }
        }
       }
      },
      "text/html": [
       "<div>\n",
       "        \n",
       "        \n",
       "            <div id=\"c18eb24c-565a-4d73-aa5e-9b939b0530f7\" class=\"plotly-graph-div\" style=\"height:525px; width:100%;\"></div>\n",
       "            <script type=\"text/javascript\">\n",
       "                require([\"plotly\"], function(Plotly) {\n",
       "                    window.PLOTLYENV=window.PLOTLYENV || {};\n",
       "                    \n",
       "                if (document.getElementById(\"c18eb24c-565a-4d73-aa5e-9b939b0530f7\")) {\n",
       "                    Plotly.newPlot(\n",
       "                        'c18eb24c-565a-4d73-aa5e-9b939b0530f7',\n",
       "                        [{\"alignmentgroup\": \"True\", \"hoverlabel\": {\"namelength\": 0}, \"hovertemplate\": \"MODELO=%{x}<br>CANTIDAD=%{y}\", \"legendgroup\": \"\", \"marker\": {\"color\": \"#636efa\"}, \"name\": \"\", \"offsetgroup\": \"\", \"orientation\": \"v\", \"showlegend\": false, \"textposition\": \"auto\", \"type\": \"bar\", \"x\": [\"lola\", \"eros\", \"lola\", \"eros\", \"consuelo bodysuit\", \"eros\", \"apolo\", \"eros\", \"apolo\", \"maca\", \"pastora bodysuit\", \"emilia bodysuit\", \"ca\\u00f1a\", \"maca\", \"emilia bodysuit\", \"maria\", \"lucia\", \"lola\", \"eros\", \"eros\", \"maca\", \"venus bodysuit\", \"apolo\", \"eros\", \"paloma bodysuit\", \"lola\", \"eros\", \"pastora bodysuit\", \"eros\", \"lola\", \"eros\", \"lola\", \"geminis top\", \"geminis bottom\", \"pastora bodysuit\", \"pastora bodysuit\", \"paloma bodysuit\", \"paloma bodysuit\", \"emilia bodysuit\", \"eros\", \"apolo\", \"emilia bodysuit\", \"pastora bodysuit\", \"consuelo bodysuit\", \"emilia bodysuit\", \"naranjo bodysuit\", \"emilia bodysuit\", \"venus bodysuit\", \"consuelo bodysuit\", \"emilia bodysuit\", \"aries\", \"apolo\", \"eros bodysuit\", \"lola\", \"gracia bodysuit\", \"eros\", \"lola\", \"consuelo bodysuit\", \"lucia\", \"nina\", \"ca\\u00f1a bottom\", \"candela\", \"venus bodysuit\", \"pastora bodysuit\", \"naranjo bodysuit\", \"paloma bodysuit\", \"paloma bodysuit\", \"eros\", \"maca\", \"lucia\", \"naranjo bodysuit\", \"emilia bodysuit\", \"pastora bodysuit\", \"eros\", \"lola\", \"eros bodysuit\", \"maca\", \"eros bodysuit\", \"apolo\", \"lucia\", \"alma bodysuit\", \"pastora bodysuit\", \"barreto bodysuit\", \"candela\", \"maria bottom\", \"3gracias bodysuit\", \"eros\", \"pastora bodysuit\", \"maca\", \"candela\", \"candela\", \"apolo\", \"pastora bodysuit\", \"jeronimo\", \"eros\", \"consuelo bodysuit\", \"lola\", \"lucia\", \"aries\", \"apolo\", \"geminis top\", \"geminis bottom\", \"paloma bodysuit\", \"emilia bodysuit\", \"emilia bodysuit\", \"eros\", \"lola\", \"consuelo bodysuit\", \"aries\", \"consuelo bodysuit\", \"pastora bodysuit\", \"alma bodysuit\", \"emilia bodysuit\", \"alma\", \"naranjo bodysuit\", \"naranjo bodysuit\", \"naranjo bodysuit\", \"marcelo  bodysuit\", \"candela\", \"maca\", \"alma bodysuit\", \"ca\\u00f1a top\", \"apolo\", \"marcelo bodysuit\", \"eros\", \"lola\", \"palma bodysuit\", \"paloma bodysuit\", \"naranjo bodysuit\", \"geminis top\", \"olivia bodysuit\", \"pastora bodysuit\", \"olivia bodysuit\", \"maria top\", \"maria bottom\", \"geminis top\", \"geminis bottom\", \"leo bottom\", \"maca bottom\", \"candela\", \"jeronimo\", \"paloma bodysuit\", \"pastora bodysuit\", \"pastora bodysuit\", \"aries\", \"maca bottom\", \"eros\", \"lola\", \"maria\", \"emilia bodysuit\", \"emilia bodysuit\", \"emilia bodysuit\", \"consuelo bodysuit\", \"pastora bodysuit\", \"alma bodysuit\", \"venus bodysuit\", \"maria top\", \"lola bottom\", \"pastora bodysuit\", \"milo bodysuit\", \"eros\", \"maca bottom\", \"eros\", \"apolo\", \"milo  bodysuit\", \"emilia bodysuit\", \"mara\", \"pastora bodysuit\", \"ca\\u00f1a bodysuit\", \"eros\", \"lola\", \"lucia\", \"eros\", \"apolo\", \"eros\", \"lola\", \"pastora bodysuit\", \"pastora bodysuit\", \"maca\", \"maca\", \"candela\", \"lucia\", \"bodysuit\", \"candela\", \"dolores\", \"alma bodysuit\", \"ca\\u00f1a bodysuit\", \"lola\", \"top milo\", \"lola\", \"naranjo bodysuit\", \"sabina\", \"lola\", \"top lucia\", \"lola\", \"paloma bodysuit\", \"emilia bodysuit\", \"paloma bodysuit\", \"emilia bodysuit\", \"alma bodysuit\", \"emilia bodysuit\", \"libra\", \"jeronimo\", \"margot\", \"maca\", \"libra\", \"maca\", \"leandro\", \"libra\", \"emilia bodysuit\", \"marcelo bodysuit\", \"paloma bodysuit\", \"leo\", \"margot\", \"maria\", \"maca\", \"sample\", \"naranjo bodysuit\", \"libra\", \"pastora bodysuit\", \"emilia bodysuit\", \" marcelo bodysuit\", \"lucia\", \"candela\", \"dolores\", \"lola\", \"pastora bodysuit\", \"sample\", \"lola\", \"mara\", \"paloma bodysuit\", \"pastora bodysuit\", \"ca\\u00f1a  bodysuit\", \"emilia bodysuit\", \"consuelo bodysuit\"], \"xaxis\": \"x\", \"y\": [1.0, 1.0, 1.0, 1.0, 1.0, 1.0, 1.0, 1.0, 1.0, 1.0, 1.0, 1.0, 1.0, 1.0, 1.0, 1.0, 1.0, 1.0, 1.0, 1.0, 1.0, 1.0, 1.0, 1.0, 1.0, 1.0, 1.0, 1.0, 1.0, 1.0, 1.0, 1.0, 1.0, 1.0, 1.0, 1.0, 1.0, 1.0, 1.0, 1.0, 1.0, 1.0, 1.0, 1.0, 1.0, 1.0, 1.0, 1.0, 1.0, 1.0, 1.0, 1.0, 1.0, 1.0, 1.0, 1.0, 1.0, 1.0, 1.0, 1.0, 1.0, 1.0, 1.0, 1.0, 1.0, 1.0, 1.0, 1.0, 1.0, 1.0, 1.0, 1.0, 1.0, 1.0, 1.0, 1.0, 1.0, 1.0, 1.0, 1.0, 1.0, 1.0, 1.0, 1.0, 1.0, 1.0, 1.0, 1.0, 1.0, 1.0, 1.0, 1.0, 1.0, 1.0, 1.0, 1.0, 1.0, 1.0, 1.0, 1.0, 1.0, 1.0, 1.0, 1.0, 1.0, 1.0, 1.0, 1.0, 1.0, 1.0, 1.0, 1.0, 1.0, 1.0, 2.0, 2.0, 1.0, 1.0, 1.0, 1.0, 1.0, 1.0, 1.0, 1.0, 1.0, 1.0, 1.0, 1.0, 1.0, 1.0, 1.0, 1.0, 1.0, 1.0, 1.0, 1.0, 1.0, 1.0, 1.0, 1.0, 1.0, 1.0, 1.0, 1.0, 1.0, 1.0, 1.0, 1.0, 1.0, 1.0, 1.0, 1.0, 1.0, 1.0, 1.0, 1.0, 1.0, 1.0, 1.0, 1.0, 1.0, 1.0, 1.0, 1.0, 1.0, 1.0, 1.0, 1.0, 1.0, 1.0, 1.0, 1.0, 1.0, 1.0, 1.0, 1.0, 1.0, 1.0, 1.0, 1.0, 1.0, 1.0, 2.0, 1.0, 1.0, 1.0, 1.0, 1.0, 1.0, 1.0, 1.0, 1.0, 1.0, 1.0, 1.0, 1.0, 1.0, 1.0, 1.0, 1.0, 1.0, 1.0, 1.0, 1.0, 1.0, 1.0, 1.0, 1.0, 1.0, 1.0, 1.0, 1.0, 1.0, 1.0, 1.0, 1.0, 1.0, 1.0, 1.0, 1.0, 1.0, 1.0, 1.0, 1.0, 1.0, 1.0, 1.0, 1.0, 1.0, 1.0, 1.0, 1.0, 1.0, 1.0, 1.0], \"yaxis\": \"y\"}],\n",
       "                        {\"barmode\": \"relative\", \"legend\": {\"tracegroupgap\": 0}, \"margin\": {\"t\": 60}, \"template\": {\"data\": {\"bar\": [{\"error_x\": {\"color\": \"#2a3f5f\"}, \"error_y\": {\"color\": \"#2a3f5f\"}, \"marker\": {\"line\": {\"color\": \"#E5ECF6\", \"width\": 0.5}}, \"type\": \"bar\"}], \"barpolar\": [{\"marker\": {\"line\": {\"color\": \"#E5ECF6\", \"width\": 0.5}}, \"type\": \"barpolar\"}], \"carpet\": [{\"aaxis\": {\"endlinecolor\": \"#2a3f5f\", \"gridcolor\": \"white\", \"linecolor\": \"white\", \"minorgridcolor\": \"white\", \"startlinecolor\": \"#2a3f5f\"}, \"baxis\": {\"endlinecolor\": \"#2a3f5f\", \"gridcolor\": \"white\", \"linecolor\": \"white\", \"minorgridcolor\": \"white\", \"startlinecolor\": \"#2a3f5f\"}, \"type\": \"carpet\"}], \"choropleth\": [{\"colorbar\": {\"outlinewidth\": 0, \"ticks\": \"\"}, \"type\": \"choropleth\"}], \"contour\": [{\"colorbar\": {\"outlinewidth\": 0, \"ticks\": \"\"}, \"colorscale\": [[0.0, \"#0d0887\"], [0.1111111111111111, \"#46039f\"], [0.2222222222222222, \"#7201a8\"], [0.3333333333333333, \"#9c179e\"], [0.4444444444444444, \"#bd3786\"], [0.5555555555555556, \"#d8576b\"], [0.6666666666666666, \"#ed7953\"], [0.7777777777777778, \"#fb9f3a\"], [0.8888888888888888, \"#fdca26\"], [1.0, \"#f0f921\"]], \"type\": \"contour\"}], \"contourcarpet\": [{\"colorbar\": {\"outlinewidth\": 0, \"ticks\": \"\"}, \"type\": \"contourcarpet\"}], \"heatmap\": [{\"colorbar\": {\"outlinewidth\": 0, \"ticks\": \"\"}, \"colorscale\": [[0.0, \"#0d0887\"], [0.1111111111111111, \"#46039f\"], [0.2222222222222222, \"#7201a8\"], [0.3333333333333333, \"#9c179e\"], [0.4444444444444444, \"#bd3786\"], [0.5555555555555556, \"#d8576b\"], [0.6666666666666666, \"#ed7953\"], [0.7777777777777778, \"#fb9f3a\"], [0.8888888888888888, \"#fdca26\"], [1.0, \"#f0f921\"]], \"type\": \"heatmap\"}], \"heatmapgl\": [{\"colorbar\": {\"outlinewidth\": 0, \"ticks\": \"\"}, \"colorscale\": [[0.0, \"#0d0887\"], [0.1111111111111111, \"#46039f\"], [0.2222222222222222, \"#7201a8\"], [0.3333333333333333, \"#9c179e\"], [0.4444444444444444, \"#bd3786\"], [0.5555555555555556, \"#d8576b\"], [0.6666666666666666, \"#ed7953\"], [0.7777777777777778, \"#fb9f3a\"], [0.8888888888888888, \"#fdca26\"], [1.0, \"#f0f921\"]], \"type\": \"heatmapgl\"}], \"histogram\": [{\"marker\": {\"colorbar\": {\"outlinewidth\": 0, \"ticks\": \"\"}}, \"type\": \"histogram\"}], \"histogram2d\": [{\"colorbar\": {\"outlinewidth\": 0, \"ticks\": \"\"}, \"colorscale\": [[0.0, \"#0d0887\"], [0.1111111111111111, \"#46039f\"], [0.2222222222222222, \"#7201a8\"], [0.3333333333333333, \"#9c179e\"], [0.4444444444444444, \"#bd3786\"], [0.5555555555555556, \"#d8576b\"], [0.6666666666666666, \"#ed7953\"], [0.7777777777777778, \"#fb9f3a\"], [0.8888888888888888, \"#fdca26\"], [1.0, \"#f0f921\"]], \"type\": \"histogram2d\"}], \"histogram2dcontour\": [{\"colorbar\": {\"outlinewidth\": 0, \"ticks\": \"\"}, \"colorscale\": [[0.0, \"#0d0887\"], [0.1111111111111111, \"#46039f\"], [0.2222222222222222, \"#7201a8\"], [0.3333333333333333, \"#9c179e\"], [0.4444444444444444, \"#bd3786\"], [0.5555555555555556, \"#d8576b\"], [0.6666666666666666, \"#ed7953\"], [0.7777777777777778, \"#fb9f3a\"], [0.8888888888888888, \"#fdca26\"], [1.0, \"#f0f921\"]], \"type\": \"histogram2dcontour\"}], \"mesh3d\": [{\"colorbar\": {\"outlinewidth\": 0, \"ticks\": \"\"}, \"type\": \"mesh3d\"}], \"parcoords\": [{\"line\": {\"colorbar\": {\"outlinewidth\": 0, \"ticks\": \"\"}}, \"type\": \"parcoords\"}], \"pie\": [{\"automargin\": true, \"type\": \"pie\"}], \"scatter\": [{\"marker\": {\"colorbar\": {\"outlinewidth\": 0, \"ticks\": \"\"}}, \"type\": \"scatter\"}], \"scatter3d\": [{\"line\": {\"colorbar\": {\"outlinewidth\": 0, \"ticks\": \"\"}}, \"marker\": {\"colorbar\": {\"outlinewidth\": 0, \"ticks\": \"\"}}, \"type\": \"scatter3d\"}], \"scattercarpet\": [{\"marker\": {\"colorbar\": {\"outlinewidth\": 0, \"ticks\": \"\"}}, \"type\": \"scattercarpet\"}], \"scattergeo\": [{\"marker\": {\"colorbar\": {\"outlinewidth\": 0, \"ticks\": \"\"}}, \"type\": \"scattergeo\"}], \"scattergl\": [{\"marker\": {\"colorbar\": {\"outlinewidth\": 0, \"ticks\": \"\"}}, \"type\": \"scattergl\"}], \"scattermapbox\": [{\"marker\": {\"colorbar\": {\"outlinewidth\": 0, \"ticks\": \"\"}}, \"type\": \"scattermapbox\"}], \"scatterpolar\": [{\"marker\": {\"colorbar\": {\"outlinewidth\": 0, \"ticks\": \"\"}}, \"type\": \"scatterpolar\"}], \"scatterpolargl\": [{\"marker\": {\"colorbar\": {\"outlinewidth\": 0, \"ticks\": \"\"}}, \"type\": \"scatterpolargl\"}], \"scatterternary\": [{\"marker\": {\"colorbar\": {\"outlinewidth\": 0, \"ticks\": \"\"}}, \"type\": \"scatterternary\"}], \"surface\": [{\"colorbar\": {\"outlinewidth\": 0, \"ticks\": \"\"}, \"colorscale\": [[0.0, \"#0d0887\"], [0.1111111111111111, \"#46039f\"], [0.2222222222222222, \"#7201a8\"], [0.3333333333333333, \"#9c179e\"], [0.4444444444444444, \"#bd3786\"], [0.5555555555555556, \"#d8576b\"], [0.6666666666666666, \"#ed7953\"], [0.7777777777777778, \"#fb9f3a\"], [0.8888888888888888, \"#fdca26\"], [1.0, \"#f0f921\"]], \"type\": \"surface\"}], \"table\": [{\"cells\": {\"fill\": {\"color\": \"#EBF0F8\"}, \"line\": {\"color\": \"white\"}}, \"header\": {\"fill\": {\"color\": \"#C8D4E3\"}, \"line\": {\"color\": \"white\"}}, \"type\": \"table\"}]}, \"layout\": {\"annotationdefaults\": {\"arrowcolor\": \"#2a3f5f\", \"arrowhead\": 0, \"arrowwidth\": 1}, \"coloraxis\": {\"colorbar\": {\"outlinewidth\": 0, \"ticks\": \"\"}}, \"colorscale\": {\"diverging\": [[0, \"#8e0152\"], [0.1, \"#c51b7d\"], [0.2, \"#de77ae\"], [0.3, \"#f1b6da\"], [0.4, \"#fde0ef\"], [0.5, \"#f7f7f7\"], [0.6, \"#e6f5d0\"], [0.7, \"#b8e186\"], [0.8, \"#7fbc41\"], [0.9, \"#4d9221\"], [1, \"#276419\"]], \"sequential\": [[0.0, \"#0d0887\"], [0.1111111111111111, \"#46039f\"], [0.2222222222222222, \"#7201a8\"], [0.3333333333333333, \"#9c179e\"], [0.4444444444444444, \"#bd3786\"], [0.5555555555555556, \"#d8576b\"], [0.6666666666666666, \"#ed7953\"], [0.7777777777777778, \"#fb9f3a\"], [0.8888888888888888, \"#fdca26\"], [1.0, \"#f0f921\"]], \"sequentialminus\": [[0.0, \"#0d0887\"], [0.1111111111111111, \"#46039f\"], [0.2222222222222222, \"#7201a8\"], [0.3333333333333333, \"#9c179e\"], [0.4444444444444444, \"#bd3786\"], [0.5555555555555556, \"#d8576b\"], [0.6666666666666666, \"#ed7953\"], [0.7777777777777778, \"#fb9f3a\"], [0.8888888888888888, \"#fdca26\"], [1.0, \"#f0f921\"]]}, \"colorway\": [\"#636efa\", \"#EF553B\", \"#00cc96\", \"#ab63fa\", \"#FFA15A\", \"#19d3f3\", \"#FF6692\", \"#B6E880\", \"#FF97FF\", \"#FECB52\"], \"font\": {\"color\": \"#2a3f5f\"}, \"geo\": {\"bgcolor\": \"white\", \"lakecolor\": \"white\", \"landcolor\": \"#E5ECF6\", \"showlakes\": true, \"showland\": true, \"subunitcolor\": \"white\"}, \"hoverlabel\": {\"align\": \"left\"}, \"hovermode\": \"closest\", \"mapbox\": {\"style\": \"light\"}, \"paper_bgcolor\": \"white\", \"plot_bgcolor\": \"#E5ECF6\", \"polar\": {\"angularaxis\": {\"gridcolor\": \"white\", \"linecolor\": \"white\", \"ticks\": \"\"}, \"bgcolor\": \"#E5ECF6\", \"radialaxis\": {\"gridcolor\": \"white\", \"linecolor\": \"white\", \"ticks\": \"\"}}, \"scene\": {\"xaxis\": {\"backgroundcolor\": \"#E5ECF6\", \"gridcolor\": \"white\", \"gridwidth\": 2, \"linecolor\": \"white\", \"showbackground\": true, \"ticks\": \"\", \"zerolinecolor\": \"white\"}, \"yaxis\": {\"backgroundcolor\": \"#E5ECF6\", \"gridcolor\": \"white\", \"gridwidth\": 2, \"linecolor\": \"white\", \"showbackground\": true, \"ticks\": \"\", \"zerolinecolor\": \"white\"}, \"zaxis\": {\"backgroundcolor\": \"#E5ECF6\", \"gridcolor\": \"white\", \"gridwidth\": 2, \"linecolor\": \"white\", \"showbackground\": true, \"ticks\": \"\", \"zerolinecolor\": \"white\"}}, \"shapedefaults\": {\"line\": {\"color\": \"#2a3f5f\"}}, \"ternary\": {\"aaxis\": {\"gridcolor\": \"white\", \"linecolor\": \"white\", \"ticks\": \"\"}, \"baxis\": {\"gridcolor\": \"white\", \"linecolor\": \"white\", \"ticks\": \"\"}, \"bgcolor\": \"#E5ECF6\", \"caxis\": {\"gridcolor\": \"white\", \"linecolor\": \"white\", \"ticks\": \"\"}}, \"title\": {\"x\": 0.05}, \"xaxis\": {\"automargin\": true, \"gridcolor\": \"white\", \"linecolor\": \"white\", \"ticks\": \"\", \"title\": {\"standoff\": 15}, \"zerolinecolor\": \"white\", \"zerolinewidth\": 2}, \"yaxis\": {\"automargin\": true, \"gridcolor\": \"white\", \"linecolor\": \"white\", \"ticks\": \"\", \"title\": {\"standoff\": 15}, \"zerolinecolor\": \"white\", \"zerolinewidth\": 2}}}, \"title\": {\"font\": {\"size\": 30}, \"text\": \"Sales - Model\"}, \"xaxis\": {\"anchor\": \"y\", \"domain\": [0.0, 1.0], \"title\": {\"text\": \"MODELO\"}}, \"yaxis\": {\"anchor\": \"x\", \"domain\": [0.0, 1.0], \"title\": {\"text\": \"CANTIDAD\"}}},\n",
       "                        {\"responsive\": true}\n",
       "                    ).then(function(){\n",
       "                            \n",
       "var gd = document.getElementById('c18eb24c-565a-4d73-aa5e-9b939b0530f7');\n",
       "var x = new MutationObserver(function (mutations, observer) {{\n",
       "        var display = window.getComputedStyle(gd).display;\n",
       "        if (!display || display === 'none') {{\n",
       "            console.log([gd, 'removed!']);\n",
       "            Plotly.purge(gd);\n",
       "            observer.disconnect();\n",
       "        }}\n",
       "}});\n",
       "\n",
       "// Listen for the removal of the full notebook cells\n",
       "var notebookContainer = gd.closest('#notebook-container');\n",
       "if (notebookContainer) {{\n",
       "    x.observe(notebookContainer, {childList: true});\n",
       "}}\n",
       "\n",
       "// Listen for the clearing of the current output cell\n",
       "var outputEl = gd.closest('.output');\n",
       "if (outputEl) {{\n",
       "    x.observe(outputEl, {childList: true});\n",
       "}}\n",
       "\n",
       "                        })\n",
       "                };\n",
       "                });\n",
       "            </script>\n",
       "        </div>"
      ]
     },
     "metadata": {},
     "output_type": "display_data"
    },
    {
     "data": {
      "text/plain": [
       "<Figure size 1008x144 with 0 Axes>"
      ]
     },
     "metadata": {},
     "output_type": "display_data"
    }
   ],
   "source": [
    "#international_color = df_filtered['TOTAL VENTAS NETAS'].astype('float').values\n",
    "\n",
    "fig= plt.figure(figsize=(14,2))\n",
    "colors_2014 = ['azure', 'greys', 'ice']\n",
    "fig = px.bar(df, x = \"MODELO\", \n",
    "                 y = \"CANTIDAD\") \n",
    "                 \n",
    "#fig.update_layout(barmode='group')\n",
    "\n",
    "plot_bgcolor = 'rgba(0,0,0,0)'\n",
    "\n",
    "fig.update_layout(title_text=\"Sales - Model\",\n",
    "                  title_font_size=30)\n",
    "\n",
    "fig.show()\n",
    "#fig.write_image(\"Sales_B2C.png\")\n",
    "#fig.savefig('Sales_B2C.png',bbox_inches=\"tight\")"
   ]
  },
  {
   "cell_type": "code",
   "execution_count": 178,
   "metadata": {},
   "outputs": [
    {
     "data": {
      "application/vnd.plotly.v1+json": {
       "config": {
        "plotlyServerURL": "https://plot.ly"
       },
       "data": [
        {
         "alignmentgroup": "True",
         "hoverlabel": {
          "namelength": 0
         },
         "hovertemplate": "TALLA=%{x}<br>CANTIDAD=%{y}",
         "legendgroup": "",
         "marker": {
          "color": "#636efa"
         },
         "name": "",
         "offsetgroup": "",
         "orientation": "v",
         "showlegend": false,
         "textposition": "auto",
         "type": "bar",
         "x": [
          3,
          2,
          3,
          4,
          4,
          4,
          3,
          2,
          2,
          2,
          3,
          4,
          2,
          3,
          2,
          3,
          2,
          4,
          4,
          3,
          2,
          2,
          3,
          5,
          2,
          2,
          3,
          3,
          2,
          2,
          2,
          2,
          2,
          2,
          3,
          4,
          3,
          2,
          2,
          2,
          2,
          2,
          2,
          2,
          2,
          2,
          3,
          2,
          3,
          3,
          3,
          3,
          4,
          4,
          3,
          4,
          2,
          3,
          2,
          2,
          3,
          2,
          2,
          3,
          4,
          3,
          2,
          3,
          3,
          4,
          4,
          4,
          3,
          4,
          4,
          3,
          2,
          4,
          4,
          3,
          3,
          2,
          2,
          3,
          2,
          3,
          4,
          2,
          2,
          2,
          4,
          2,
          2,
          4,
          3,
          4,
          3,
          3,
          3,
          3,
          5,
          5,
          3,
          2,
          3,
          3,
          3,
          2,
          2,
          4,
          2,
          2,
          3,
          2,
          2,
          3,
          4,
          4,
          4,
          3,
          4,
          4,
          4,
          4,
          3,
          3,
          4,
          3,
          2,
          4,
          4,
          3,
          3,
          2,
          2,
          2,
          4,
          2,
          3,
          4,
          3,
          2,
          4,
          3,
          3,
          3,
          4,
          4,
          3,
          4,
          2,
          2,
          4,
          2,
          2,
          2,
          3,
          2,
          4,
          3,
          4,
          3,
          2,
          1,
          3,
          2,
          3,
          3,
          4,
          3,
          3,
          2,
          1,
          1,
          2,
          2,
          4,
          4,
          2,
          2,
          2,
          2,
          2,
          2,
          2,
          3,
          4,
          2,
          2,
          2,
          4,
          3,
          3,
          4,
          3,
          3,
          3,
          4,
          2,
          2,
          3,
          4,
          3,
          3,
          3,
          2,
          2,
          4,
          4,
          4,
          4,
          2,
          2,
          2,
          4,
          4,
          4,
          4,
          4,
          3,
          4,
          2,
          3,
          4,
          3,
          3,
          3,
          3,
          3,
          3,
          3,
          3,
          2,
          3,
          3
         ],
         "xaxis": "x",
         "y": [
          1,
          1,
          1,
          1,
          1,
          1,
          1,
          1,
          1,
          1,
          1,
          1,
          1,
          1,
          1,
          1,
          1,
          1,
          1,
          1,
          1,
          1,
          1,
          1,
          1,
          1,
          1,
          1,
          1,
          1,
          1,
          1,
          1,
          1,
          1,
          1,
          1,
          1,
          1,
          1,
          1,
          1,
          1,
          1,
          1,
          1,
          1,
          1,
          1,
          1,
          1,
          1,
          1,
          1,
          1,
          1,
          1,
          1,
          1,
          1,
          1,
          1,
          1,
          1,
          1,
          1,
          1,
          1,
          1,
          1,
          1,
          1,
          1,
          1,
          1,
          1,
          1,
          1,
          1,
          1,
          1,
          1,
          1,
          1,
          1,
          1,
          1,
          1,
          1,
          1,
          1,
          1,
          1,
          1,
          1,
          1,
          1,
          1,
          1,
          1,
          1,
          1,
          1,
          1,
          1,
          1,
          1,
          1,
          1,
          1,
          1,
          1,
          1,
          1,
          2,
          2,
          1,
          1,
          1,
          1,
          1,
          1,
          1,
          1,
          1,
          1,
          1,
          1,
          1,
          1,
          1,
          1,
          1,
          1,
          1,
          1,
          1,
          1,
          1,
          1,
          1,
          1,
          1,
          1,
          1,
          1,
          1,
          1,
          1,
          1,
          1,
          1,
          1,
          1,
          1,
          1,
          1,
          1,
          1,
          1,
          1,
          1,
          1,
          1,
          1,
          1,
          1,
          1,
          1,
          1,
          1,
          1,
          1,
          1,
          1,
          1,
          1,
          1,
          1,
          1,
          1,
          1,
          2,
          1,
          1,
          1,
          1,
          1,
          1,
          1,
          1,
          1,
          1,
          1,
          1,
          1,
          1,
          1,
          1,
          1,
          1,
          1,
          1,
          1,
          1,
          1,
          1,
          1,
          1,
          1,
          1,
          1,
          1,
          1,
          1,
          1,
          1,
          1,
          1,
          1,
          1,
          1,
          1,
          1,
          1,
          1,
          1,
          1,
          1,
          1,
          1,
          1,
          1,
          1,
          1
         ],
         "yaxis": "y"
        }
       ],
       "layout": {
        "barmode": "group",
        "legend": {
         "tracegroupgap": 0
        },
        "margin": {
         "t": 60
        },
        "template": {
         "data": {
          "bar": [
           {
            "error_x": {
             "color": "#2a3f5f"
            },
            "error_y": {
             "color": "#2a3f5f"
            },
            "marker": {
             "line": {
              "color": "#E5ECF6",
              "width": 0.5
             }
            },
            "type": "bar"
           }
          ],
          "barpolar": [
           {
            "marker": {
             "line": {
              "color": "#E5ECF6",
              "width": 0.5
             }
            },
            "type": "barpolar"
           }
          ],
          "carpet": [
           {
            "aaxis": {
             "endlinecolor": "#2a3f5f",
             "gridcolor": "white",
             "linecolor": "white",
             "minorgridcolor": "white",
             "startlinecolor": "#2a3f5f"
            },
            "baxis": {
             "endlinecolor": "#2a3f5f",
             "gridcolor": "white",
             "linecolor": "white",
             "minorgridcolor": "white",
             "startlinecolor": "#2a3f5f"
            },
            "type": "carpet"
           }
          ],
          "choropleth": [
           {
            "colorbar": {
             "outlinewidth": 0,
             "ticks": ""
            },
            "type": "choropleth"
           }
          ],
          "contour": [
           {
            "colorbar": {
             "outlinewidth": 0,
             "ticks": ""
            },
            "colorscale": [
             [
              0,
              "#0d0887"
             ],
             [
              0.1111111111111111,
              "#46039f"
             ],
             [
              0.2222222222222222,
              "#7201a8"
             ],
             [
              0.3333333333333333,
              "#9c179e"
             ],
             [
              0.4444444444444444,
              "#bd3786"
             ],
             [
              0.5555555555555556,
              "#d8576b"
             ],
             [
              0.6666666666666666,
              "#ed7953"
             ],
             [
              0.7777777777777778,
              "#fb9f3a"
             ],
             [
              0.8888888888888888,
              "#fdca26"
             ],
             [
              1,
              "#f0f921"
             ]
            ],
            "type": "contour"
           }
          ],
          "contourcarpet": [
           {
            "colorbar": {
             "outlinewidth": 0,
             "ticks": ""
            },
            "type": "contourcarpet"
           }
          ],
          "heatmap": [
           {
            "colorbar": {
             "outlinewidth": 0,
             "ticks": ""
            },
            "colorscale": [
             [
              0,
              "#0d0887"
             ],
             [
              0.1111111111111111,
              "#46039f"
             ],
             [
              0.2222222222222222,
              "#7201a8"
             ],
             [
              0.3333333333333333,
              "#9c179e"
             ],
             [
              0.4444444444444444,
              "#bd3786"
             ],
             [
              0.5555555555555556,
              "#d8576b"
             ],
             [
              0.6666666666666666,
              "#ed7953"
             ],
             [
              0.7777777777777778,
              "#fb9f3a"
             ],
             [
              0.8888888888888888,
              "#fdca26"
             ],
             [
              1,
              "#f0f921"
             ]
            ],
            "type": "heatmap"
           }
          ],
          "heatmapgl": [
           {
            "colorbar": {
             "outlinewidth": 0,
             "ticks": ""
            },
            "colorscale": [
             [
              0,
              "#0d0887"
             ],
             [
              0.1111111111111111,
              "#46039f"
             ],
             [
              0.2222222222222222,
              "#7201a8"
             ],
             [
              0.3333333333333333,
              "#9c179e"
             ],
             [
              0.4444444444444444,
              "#bd3786"
             ],
             [
              0.5555555555555556,
              "#d8576b"
             ],
             [
              0.6666666666666666,
              "#ed7953"
             ],
             [
              0.7777777777777778,
              "#fb9f3a"
             ],
             [
              0.8888888888888888,
              "#fdca26"
             ],
             [
              1,
              "#f0f921"
             ]
            ],
            "type": "heatmapgl"
           }
          ],
          "histogram": [
           {
            "marker": {
             "colorbar": {
              "outlinewidth": 0,
              "ticks": ""
             }
            },
            "type": "histogram"
           }
          ],
          "histogram2d": [
           {
            "colorbar": {
             "outlinewidth": 0,
             "ticks": ""
            },
            "colorscale": [
             [
              0,
              "#0d0887"
             ],
             [
              0.1111111111111111,
              "#46039f"
             ],
             [
              0.2222222222222222,
              "#7201a8"
             ],
             [
              0.3333333333333333,
              "#9c179e"
             ],
             [
              0.4444444444444444,
              "#bd3786"
             ],
             [
              0.5555555555555556,
              "#d8576b"
             ],
             [
              0.6666666666666666,
              "#ed7953"
             ],
             [
              0.7777777777777778,
              "#fb9f3a"
             ],
             [
              0.8888888888888888,
              "#fdca26"
             ],
             [
              1,
              "#f0f921"
             ]
            ],
            "type": "histogram2d"
           }
          ],
          "histogram2dcontour": [
           {
            "colorbar": {
             "outlinewidth": 0,
             "ticks": ""
            },
            "colorscale": [
             [
              0,
              "#0d0887"
             ],
             [
              0.1111111111111111,
              "#46039f"
             ],
             [
              0.2222222222222222,
              "#7201a8"
             ],
             [
              0.3333333333333333,
              "#9c179e"
             ],
             [
              0.4444444444444444,
              "#bd3786"
             ],
             [
              0.5555555555555556,
              "#d8576b"
             ],
             [
              0.6666666666666666,
              "#ed7953"
             ],
             [
              0.7777777777777778,
              "#fb9f3a"
             ],
             [
              0.8888888888888888,
              "#fdca26"
             ],
             [
              1,
              "#f0f921"
             ]
            ],
            "type": "histogram2dcontour"
           }
          ],
          "mesh3d": [
           {
            "colorbar": {
             "outlinewidth": 0,
             "ticks": ""
            },
            "type": "mesh3d"
           }
          ],
          "parcoords": [
           {
            "line": {
             "colorbar": {
              "outlinewidth": 0,
              "ticks": ""
             }
            },
            "type": "parcoords"
           }
          ],
          "pie": [
           {
            "automargin": true,
            "type": "pie"
           }
          ],
          "scatter": [
           {
            "marker": {
             "colorbar": {
              "outlinewidth": 0,
              "ticks": ""
             }
            },
            "type": "scatter"
           }
          ],
          "scatter3d": [
           {
            "line": {
             "colorbar": {
              "outlinewidth": 0,
              "ticks": ""
             }
            },
            "marker": {
             "colorbar": {
              "outlinewidth": 0,
              "ticks": ""
             }
            },
            "type": "scatter3d"
           }
          ],
          "scattercarpet": [
           {
            "marker": {
             "colorbar": {
              "outlinewidth": 0,
              "ticks": ""
             }
            },
            "type": "scattercarpet"
           }
          ],
          "scattergeo": [
           {
            "marker": {
             "colorbar": {
              "outlinewidth": 0,
              "ticks": ""
             }
            },
            "type": "scattergeo"
           }
          ],
          "scattergl": [
           {
            "marker": {
             "colorbar": {
              "outlinewidth": 0,
              "ticks": ""
             }
            },
            "type": "scattergl"
           }
          ],
          "scattermapbox": [
           {
            "marker": {
             "colorbar": {
              "outlinewidth": 0,
              "ticks": ""
             }
            },
            "type": "scattermapbox"
           }
          ],
          "scatterpolar": [
           {
            "marker": {
             "colorbar": {
              "outlinewidth": 0,
              "ticks": ""
             }
            },
            "type": "scatterpolar"
           }
          ],
          "scatterpolargl": [
           {
            "marker": {
             "colorbar": {
              "outlinewidth": 0,
              "ticks": ""
             }
            },
            "type": "scatterpolargl"
           }
          ],
          "scatterternary": [
           {
            "marker": {
             "colorbar": {
              "outlinewidth": 0,
              "ticks": ""
             }
            },
            "type": "scatterternary"
           }
          ],
          "surface": [
           {
            "colorbar": {
             "outlinewidth": 0,
             "ticks": ""
            },
            "colorscale": [
             [
              0,
              "#0d0887"
             ],
             [
              0.1111111111111111,
              "#46039f"
             ],
             [
              0.2222222222222222,
              "#7201a8"
             ],
             [
              0.3333333333333333,
              "#9c179e"
             ],
             [
              0.4444444444444444,
              "#bd3786"
             ],
             [
              0.5555555555555556,
              "#d8576b"
             ],
             [
              0.6666666666666666,
              "#ed7953"
             ],
             [
              0.7777777777777778,
              "#fb9f3a"
             ],
             [
              0.8888888888888888,
              "#fdca26"
             ],
             [
              1,
              "#f0f921"
             ]
            ],
            "type": "surface"
           }
          ],
          "table": [
           {
            "cells": {
             "fill": {
              "color": "#EBF0F8"
             },
             "line": {
              "color": "white"
             }
            },
            "header": {
             "fill": {
              "color": "#C8D4E3"
             },
             "line": {
              "color": "white"
             }
            },
            "type": "table"
           }
          ]
         },
         "layout": {
          "annotationdefaults": {
           "arrowcolor": "#2a3f5f",
           "arrowhead": 0,
           "arrowwidth": 1
          },
          "coloraxis": {
           "colorbar": {
            "outlinewidth": 0,
            "ticks": ""
           }
          },
          "colorscale": {
           "diverging": [
            [
             0,
             "#8e0152"
            ],
            [
             0.1,
             "#c51b7d"
            ],
            [
             0.2,
             "#de77ae"
            ],
            [
             0.3,
             "#f1b6da"
            ],
            [
             0.4,
             "#fde0ef"
            ],
            [
             0.5,
             "#f7f7f7"
            ],
            [
             0.6,
             "#e6f5d0"
            ],
            [
             0.7,
             "#b8e186"
            ],
            [
             0.8,
             "#7fbc41"
            ],
            [
             0.9,
             "#4d9221"
            ],
            [
             1,
             "#276419"
            ]
           ],
           "sequential": [
            [
             0,
             "#0d0887"
            ],
            [
             0.1111111111111111,
             "#46039f"
            ],
            [
             0.2222222222222222,
             "#7201a8"
            ],
            [
             0.3333333333333333,
             "#9c179e"
            ],
            [
             0.4444444444444444,
             "#bd3786"
            ],
            [
             0.5555555555555556,
             "#d8576b"
            ],
            [
             0.6666666666666666,
             "#ed7953"
            ],
            [
             0.7777777777777778,
             "#fb9f3a"
            ],
            [
             0.8888888888888888,
             "#fdca26"
            ],
            [
             1,
             "#f0f921"
            ]
           ],
           "sequentialminus": [
            [
             0,
             "#0d0887"
            ],
            [
             0.1111111111111111,
             "#46039f"
            ],
            [
             0.2222222222222222,
             "#7201a8"
            ],
            [
             0.3333333333333333,
             "#9c179e"
            ],
            [
             0.4444444444444444,
             "#bd3786"
            ],
            [
             0.5555555555555556,
             "#d8576b"
            ],
            [
             0.6666666666666666,
             "#ed7953"
            ],
            [
             0.7777777777777778,
             "#fb9f3a"
            ],
            [
             0.8888888888888888,
             "#fdca26"
            ],
            [
             1,
             "#f0f921"
            ]
           ]
          },
          "colorway": [
           "#636efa",
           "#EF553B",
           "#00cc96",
           "#ab63fa",
           "#FFA15A",
           "#19d3f3",
           "#FF6692",
           "#B6E880",
           "#FF97FF",
           "#FECB52"
          ],
          "font": {
           "color": "#2a3f5f"
          },
          "geo": {
           "bgcolor": "white",
           "lakecolor": "white",
           "landcolor": "#E5ECF6",
           "showlakes": true,
           "showland": true,
           "subunitcolor": "white"
          },
          "hoverlabel": {
           "align": "left"
          },
          "hovermode": "closest",
          "mapbox": {
           "style": "light"
          },
          "paper_bgcolor": "white",
          "plot_bgcolor": "#E5ECF6",
          "polar": {
           "angularaxis": {
            "gridcolor": "white",
            "linecolor": "white",
            "ticks": ""
           },
           "bgcolor": "#E5ECF6",
           "radialaxis": {
            "gridcolor": "white",
            "linecolor": "white",
            "ticks": ""
           }
          },
          "scene": {
           "xaxis": {
            "backgroundcolor": "#E5ECF6",
            "gridcolor": "white",
            "gridwidth": 2,
            "linecolor": "white",
            "showbackground": true,
            "ticks": "",
            "zerolinecolor": "white"
           },
           "yaxis": {
            "backgroundcolor": "#E5ECF6",
            "gridcolor": "white",
            "gridwidth": 2,
            "linecolor": "white",
            "showbackground": true,
            "ticks": "",
            "zerolinecolor": "white"
           },
           "zaxis": {
            "backgroundcolor": "#E5ECF6",
            "gridcolor": "white",
            "gridwidth": 2,
            "linecolor": "white",
            "showbackground": true,
            "ticks": "",
            "zerolinecolor": "white"
           }
          },
          "shapedefaults": {
           "line": {
            "color": "#2a3f5f"
           }
          },
          "ternary": {
           "aaxis": {
            "gridcolor": "white",
            "linecolor": "white",
            "ticks": ""
           },
           "baxis": {
            "gridcolor": "white",
            "linecolor": "white",
            "ticks": ""
           },
           "bgcolor": "#E5ECF6",
           "caxis": {
            "gridcolor": "white",
            "linecolor": "white",
            "ticks": ""
           }
          },
          "title": {
           "x": 0.05
          },
          "xaxis": {
           "automargin": true,
           "gridcolor": "white",
           "linecolor": "white",
           "ticks": "",
           "title": {
            "standoff": 15
           },
           "zerolinecolor": "white",
           "zerolinewidth": 2
          },
          "yaxis": {
           "automargin": true,
           "gridcolor": "white",
           "linecolor": "white",
           "ticks": "",
           "title": {
            "standoff": 15
           },
           "zerolinecolor": "white",
           "zerolinewidth": 2
          }
         }
        },
        "xaxis": {
         "anchor": "y",
         "domain": [
          0,
          1
         ],
         "title": {
          "text": "TALLA"
         }
        },
        "yaxis": {
         "anchor": "x",
         "domain": [
          0,
          1
         ],
         "title": {
          "text": "CANTIDAD"
         }
        }
       }
      },
      "text/html": [
       "<div>\n",
       "        \n",
       "        \n",
       "            <div id=\"dc0c0738-3a20-4b55-96bf-ae3aa537f2b7\" class=\"plotly-graph-div\" style=\"height:525px; width:100%;\"></div>\n",
       "            <script type=\"text/javascript\">\n",
       "                require([\"plotly\"], function(Plotly) {\n",
       "                    window.PLOTLYENV=window.PLOTLYENV || {};\n",
       "                    \n",
       "                if (document.getElementById(\"dc0c0738-3a20-4b55-96bf-ae3aa537f2b7\")) {\n",
       "                    Plotly.newPlot(\n",
       "                        'dc0c0738-3a20-4b55-96bf-ae3aa537f2b7',\n",
       "                        [{\"alignmentgroup\": \"True\", \"hoverlabel\": {\"namelength\": 0}, \"hovertemplate\": \"TALLA=%{x}<br>CANTIDAD=%{y}\", \"legendgroup\": \"\", \"marker\": {\"color\": \"#636efa\"}, \"name\": \"\", \"offsetgroup\": \"\", \"orientation\": \"v\", \"showlegend\": false, \"textposition\": \"auto\", \"type\": \"bar\", \"x\": [3, 2, 3, 4, 4, 4, 3, 2, 2, 2, 3, 4, 2, 3, 2, 3, 2, 4, 4, 3, 2, 2, 3, 5, 2, 2, 3, 3, 2, 2, 2, 2, 2, 2, 3, 4, 3, 2, 2, 2, 2, 2, 2, 2, 2, 2, 3, 2, 3, 3, 3, 3, 4, 4, 3, 4, 2, 3, 2, 2, 3, 2, 2, 3, 4, 3, 2, 3, 3, 4, 4, 4, 3, 4, 4, 3, 2, 4, 4, 3, 3, 2, 2, 3, 2, 3, 4, 2, 2, 2, 4, 2, 2, 4, 3, 4, 3, 3, 3, 3, 5, 5, 3, 2, 3, 3, 3, 2, 2, 4, 2, 2, 3, 2, 2, 3, 4, 4, 4, 3, 4, 4, 4, 4, 3, 3, 4, 3, 2, 4, 4, 3, 3, 2, 2, 2, 4, 2, 3, 4, 3, 2, 4, 3, 3, 3, 4, 4, 3, 4, 2, 2, 4, 2, 2, 2, 3, 2, 4, 3, 4, 3, 2, 1, 3, 2, 3, 3, 4, 3, 3, 2, 1, 1, 2, 2, 4, 4, 2, 2, 2, 2, 2, 2, 2, 3, 4, 2, 2, 2, 4, 3, 3, 4, 3, 3, 3, 4, 2, 2, 3, 4, 3, 3, 3, 2, 2, 4, 4, 4, 4, 2, 2, 2, 4, 4, 4, 4, 4, 3, 4, 2, 3, 4, 3, 3, 3, 3, 3, 3, 3, 3, 2, 3, 3], \"xaxis\": \"x\", \"y\": [1.0, 1.0, 1.0, 1.0, 1.0, 1.0, 1.0, 1.0, 1.0, 1.0, 1.0, 1.0, 1.0, 1.0, 1.0, 1.0, 1.0, 1.0, 1.0, 1.0, 1.0, 1.0, 1.0, 1.0, 1.0, 1.0, 1.0, 1.0, 1.0, 1.0, 1.0, 1.0, 1.0, 1.0, 1.0, 1.0, 1.0, 1.0, 1.0, 1.0, 1.0, 1.0, 1.0, 1.0, 1.0, 1.0, 1.0, 1.0, 1.0, 1.0, 1.0, 1.0, 1.0, 1.0, 1.0, 1.0, 1.0, 1.0, 1.0, 1.0, 1.0, 1.0, 1.0, 1.0, 1.0, 1.0, 1.0, 1.0, 1.0, 1.0, 1.0, 1.0, 1.0, 1.0, 1.0, 1.0, 1.0, 1.0, 1.0, 1.0, 1.0, 1.0, 1.0, 1.0, 1.0, 1.0, 1.0, 1.0, 1.0, 1.0, 1.0, 1.0, 1.0, 1.0, 1.0, 1.0, 1.0, 1.0, 1.0, 1.0, 1.0, 1.0, 1.0, 1.0, 1.0, 1.0, 1.0, 1.0, 1.0, 1.0, 1.0, 1.0, 1.0, 1.0, 2.0, 2.0, 1.0, 1.0, 1.0, 1.0, 1.0, 1.0, 1.0, 1.0, 1.0, 1.0, 1.0, 1.0, 1.0, 1.0, 1.0, 1.0, 1.0, 1.0, 1.0, 1.0, 1.0, 1.0, 1.0, 1.0, 1.0, 1.0, 1.0, 1.0, 1.0, 1.0, 1.0, 1.0, 1.0, 1.0, 1.0, 1.0, 1.0, 1.0, 1.0, 1.0, 1.0, 1.0, 1.0, 1.0, 1.0, 1.0, 1.0, 1.0, 1.0, 1.0, 1.0, 1.0, 1.0, 1.0, 1.0, 1.0, 1.0, 1.0, 1.0, 1.0, 1.0, 1.0, 1.0, 1.0, 1.0, 1.0, 2.0, 1.0, 1.0, 1.0, 1.0, 1.0, 1.0, 1.0, 1.0, 1.0, 1.0, 1.0, 1.0, 1.0, 1.0, 1.0, 1.0, 1.0, 1.0, 1.0, 1.0, 1.0, 1.0, 1.0, 1.0, 1.0, 1.0, 1.0, 1.0, 1.0, 1.0, 1.0, 1.0, 1.0, 1.0, 1.0, 1.0, 1.0, 1.0, 1.0, 1.0, 1.0, 1.0, 1.0, 1.0, 1.0, 1.0, 1.0, 1.0, 1.0, 1.0, 1.0, 1.0], \"yaxis\": \"y\"}],\n",
       "                        {\"barmode\": \"group\", \"legend\": {\"tracegroupgap\": 0}, \"margin\": {\"t\": 60}, \"template\": {\"data\": {\"bar\": [{\"error_x\": {\"color\": \"#2a3f5f\"}, \"error_y\": {\"color\": \"#2a3f5f\"}, \"marker\": {\"line\": {\"color\": \"#E5ECF6\", \"width\": 0.5}}, \"type\": \"bar\"}], \"barpolar\": [{\"marker\": {\"line\": {\"color\": \"#E5ECF6\", \"width\": 0.5}}, \"type\": \"barpolar\"}], \"carpet\": [{\"aaxis\": {\"endlinecolor\": \"#2a3f5f\", \"gridcolor\": \"white\", \"linecolor\": \"white\", \"minorgridcolor\": \"white\", \"startlinecolor\": \"#2a3f5f\"}, \"baxis\": {\"endlinecolor\": \"#2a3f5f\", \"gridcolor\": \"white\", \"linecolor\": \"white\", \"minorgridcolor\": \"white\", \"startlinecolor\": \"#2a3f5f\"}, \"type\": \"carpet\"}], \"choropleth\": [{\"colorbar\": {\"outlinewidth\": 0, \"ticks\": \"\"}, \"type\": \"choropleth\"}], \"contour\": [{\"colorbar\": {\"outlinewidth\": 0, \"ticks\": \"\"}, \"colorscale\": [[0.0, \"#0d0887\"], [0.1111111111111111, \"#46039f\"], [0.2222222222222222, \"#7201a8\"], [0.3333333333333333, \"#9c179e\"], [0.4444444444444444, \"#bd3786\"], [0.5555555555555556, \"#d8576b\"], [0.6666666666666666, \"#ed7953\"], [0.7777777777777778, \"#fb9f3a\"], [0.8888888888888888, \"#fdca26\"], [1.0, \"#f0f921\"]], \"type\": \"contour\"}], \"contourcarpet\": [{\"colorbar\": {\"outlinewidth\": 0, \"ticks\": \"\"}, \"type\": \"contourcarpet\"}], \"heatmap\": [{\"colorbar\": {\"outlinewidth\": 0, \"ticks\": \"\"}, \"colorscale\": [[0.0, \"#0d0887\"], [0.1111111111111111, \"#46039f\"], [0.2222222222222222, \"#7201a8\"], [0.3333333333333333, \"#9c179e\"], [0.4444444444444444, \"#bd3786\"], [0.5555555555555556, \"#d8576b\"], [0.6666666666666666, \"#ed7953\"], [0.7777777777777778, \"#fb9f3a\"], [0.8888888888888888, \"#fdca26\"], [1.0, \"#f0f921\"]], \"type\": \"heatmap\"}], \"heatmapgl\": [{\"colorbar\": {\"outlinewidth\": 0, \"ticks\": \"\"}, \"colorscale\": [[0.0, \"#0d0887\"], [0.1111111111111111, \"#46039f\"], [0.2222222222222222, \"#7201a8\"], [0.3333333333333333, \"#9c179e\"], [0.4444444444444444, \"#bd3786\"], [0.5555555555555556, \"#d8576b\"], [0.6666666666666666, \"#ed7953\"], [0.7777777777777778, \"#fb9f3a\"], [0.8888888888888888, \"#fdca26\"], [1.0, \"#f0f921\"]], \"type\": \"heatmapgl\"}], \"histogram\": [{\"marker\": {\"colorbar\": {\"outlinewidth\": 0, \"ticks\": \"\"}}, \"type\": \"histogram\"}], \"histogram2d\": [{\"colorbar\": {\"outlinewidth\": 0, \"ticks\": \"\"}, \"colorscale\": [[0.0, \"#0d0887\"], [0.1111111111111111, \"#46039f\"], [0.2222222222222222, \"#7201a8\"], [0.3333333333333333, \"#9c179e\"], [0.4444444444444444, \"#bd3786\"], [0.5555555555555556, \"#d8576b\"], [0.6666666666666666, \"#ed7953\"], [0.7777777777777778, \"#fb9f3a\"], [0.8888888888888888, \"#fdca26\"], [1.0, \"#f0f921\"]], \"type\": \"histogram2d\"}], \"histogram2dcontour\": [{\"colorbar\": {\"outlinewidth\": 0, \"ticks\": \"\"}, \"colorscale\": [[0.0, \"#0d0887\"], [0.1111111111111111, \"#46039f\"], [0.2222222222222222, \"#7201a8\"], [0.3333333333333333, \"#9c179e\"], [0.4444444444444444, \"#bd3786\"], [0.5555555555555556, \"#d8576b\"], [0.6666666666666666, \"#ed7953\"], [0.7777777777777778, \"#fb9f3a\"], [0.8888888888888888, \"#fdca26\"], [1.0, \"#f0f921\"]], \"type\": \"histogram2dcontour\"}], \"mesh3d\": [{\"colorbar\": {\"outlinewidth\": 0, \"ticks\": \"\"}, \"type\": \"mesh3d\"}], \"parcoords\": [{\"line\": {\"colorbar\": {\"outlinewidth\": 0, \"ticks\": \"\"}}, \"type\": \"parcoords\"}], \"pie\": [{\"automargin\": true, \"type\": \"pie\"}], \"scatter\": [{\"marker\": {\"colorbar\": {\"outlinewidth\": 0, \"ticks\": \"\"}}, \"type\": \"scatter\"}], \"scatter3d\": [{\"line\": {\"colorbar\": {\"outlinewidth\": 0, \"ticks\": \"\"}}, \"marker\": {\"colorbar\": {\"outlinewidth\": 0, \"ticks\": \"\"}}, \"type\": \"scatter3d\"}], \"scattercarpet\": [{\"marker\": {\"colorbar\": {\"outlinewidth\": 0, \"ticks\": \"\"}}, \"type\": \"scattercarpet\"}], \"scattergeo\": [{\"marker\": {\"colorbar\": {\"outlinewidth\": 0, \"ticks\": \"\"}}, \"type\": \"scattergeo\"}], \"scattergl\": [{\"marker\": {\"colorbar\": {\"outlinewidth\": 0, \"ticks\": \"\"}}, \"type\": \"scattergl\"}], \"scattermapbox\": [{\"marker\": {\"colorbar\": {\"outlinewidth\": 0, \"ticks\": \"\"}}, \"type\": \"scattermapbox\"}], \"scatterpolar\": [{\"marker\": {\"colorbar\": {\"outlinewidth\": 0, \"ticks\": \"\"}}, \"type\": \"scatterpolar\"}], \"scatterpolargl\": [{\"marker\": {\"colorbar\": {\"outlinewidth\": 0, \"ticks\": \"\"}}, \"type\": \"scatterpolargl\"}], \"scatterternary\": [{\"marker\": {\"colorbar\": {\"outlinewidth\": 0, \"ticks\": \"\"}}, \"type\": \"scatterternary\"}], \"surface\": [{\"colorbar\": {\"outlinewidth\": 0, \"ticks\": \"\"}, \"colorscale\": [[0.0, \"#0d0887\"], [0.1111111111111111, \"#46039f\"], [0.2222222222222222, \"#7201a8\"], [0.3333333333333333, \"#9c179e\"], [0.4444444444444444, \"#bd3786\"], [0.5555555555555556, \"#d8576b\"], [0.6666666666666666, \"#ed7953\"], [0.7777777777777778, \"#fb9f3a\"], [0.8888888888888888, \"#fdca26\"], [1.0, \"#f0f921\"]], \"type\": \"surface\"}], \"table\": [{\"cells\": {\"fill\": {\"color\": \"#EBF0F8\"}, \"line\": {\"color\": \"white\"}}, \"header\": {\"fill\": {\"color\": \"#C8D4E3\"}, \"line\": {\"color\": \"white\"}}, \"type\": \"table\"}]}, \"layout\": {\"annotationdefaults\": {\"arrowcolor\": \"#2a3f5f\", \"arrowhead\": 0, \"arrowwidth\": 1}, \"coloraxis\": {\"colorbar\": {\"outlinewidth\": 0, \"ticks\": \"\"}}, \"colorscale\": {\"diverging\": [[0, \"#8e0152\"], [0.1, \"#c51b7d\"], [0.2, \"#de77ae\"], [0.3, \"#f1b6da\"], [0.4, \"#fde0ef\"], [0.5, \"#f7f7f7\"], [0.6, \"#e6f5d0\"], [0.7, \"#b8e186\"], [0.8, \"#7fbc41\"], [0.9, \"#4d9221\"], [1, \"#276419\"]], \"sequential\": [[0.0, \"#0d0887\"], [0.1111111111111111, \"#46039f\"], [0.2222222222222222, \"#7201a8\"], [0.3333333333333333, \"#9c179e\"], [0.4444444444444444, \"#bd3786\"], [0.5555555555555556, \"#d8576b\"], [0.6666666666666666, \"#ed7953\"], [0.7777777777777778, \"#fb9f3a\"], [0.8888888888888888, \"#fdca26\"], [1.0, \"#f0f921\"]], \"sequentialminus\": [[0.0, \"#0d0887\"], [0.1111111111111111, \"#46039f\"], [0.2222222222222222, \"#7201a8\"], [0.3333333333333333, \"#9c179e\"], [0.4444444444444444, \"#bd3786\"], [0.5555555555555556, \"#d8576b\"], [0.6666666666666666, \"#ed7953\"], [0.7777777777777778, \"#fb9f3a\"], [0.8888888888888888, \"#fdca26\"], [1.0, \"#f0f921\"]]}, \"colorway\": [\"#636efa\", \"#EF553B\", \"#00cc96\", \"#ab63fa\", \"#FFA15A\", \"#19d3f3\", \"#FF6692\", \"#B6E880\", \"#FF97FF\", \"#FECB52\"], \"font\": {\"color\": \"#2a3f5f\"}, \"geo\": {\"bgcolor\": \"white\", \"lakecolor\": \"white\", \"landcolor\": \"#E5ECF6\", \"showlakes\": true, \"showland\": true, \"subunitcolor\": \"white\"}, \"hoverlabel\": {\"align\": \"left\"}, \"hovermode\": \"closest\", \"mapbox\": {\"style\": \"light\"}, \"paper_bgcolor\": \"white\", \"plot_bgcolor\": \"#E5ECF6\", \"polar\": {\"angularaxis\": {\"gridcolor\": \"white\", \"linecolor\": \"white\", \"ticks\": \"\"}, \"bgcolor\": \"#E5ECF6\", \"radialaxis\": {\"gridcolor\": \"white\", \"linecolor\": \"white\", \"ticks\": \"\"}}, \"scene\": {\"xaxis\": {\"backgroundcolor\": \"#E5ECF6\", \"gridcolor\": \"white\", \"gridwidth\": 2, \"linecolor\": \"white\", \"showbackground\": true, \"ticks\": \"\", \"zerolinecolor\": \"white\"}, \"yaxis\": {\"backgroundcolor\": \"#E5ECF6\", \"gridcolor\": \"white\", \"gridwidth\": 2, \"linecolor\": \"white\", \"showbackground\": true, \"ticks\": \"\", \"zerolinecolor\": \"white\"}, \"zaxis\": {\"backgroundcolor\": \"#E5ECF6\", \"gridcolor\": \"white\", \"gridwidth\": 2, \"linecolor\": \"white\", \"showbackground\": true, \"ticks\": \"\", \"zerolinecolor\": \"white\"}}, \"shapedefaults\": {\"line\": {\"color\": \"#2a3f5f\"}}, \"ternary\": {\"aaxis\": {\"gridcolor\": \"white\", \"linecolor\": \"white\", \"ticks\": \"\"}, \"baxis\": {\"gridcolor\": \"white\", \"linecolor\": \"white\", \"ticks\": \"\"}, \"bgcolor\": \"#E5ECF6\", \"caxis\": {\"gridcolor\": \"white\", \"linecolor\": \"white\", \"ticks\": \"\"}}, \"title\": {\"x\": 0.05}, \"xaxis\": {\"automargin\": true, \"gridcolor\": \"white\", \"linecolor\": \"white\", \"ticks\": \"\", \"title\": {\"standoff\": 15}, \"zerolinecolor\": \"white\", \"zerolinewidth\": 2}, \"yaxis\": {\"automargin\": true, \"gridcolor\": \"white\", \"linecolor\": \"white\", \"ticks\": \"\", \"title\": {\"standoff\": 15}, \"zerolinecolor\": \"white\", \"zerolinewidth\": 2}}}, \"xaxis\": {\"anchor\": \"y\", \"domain\": [0.0, 1.0], \"title\": {\"text\": \"TALLA\"}}, \"yaxis\": {\"anchor\": \"x\", \"domain\": [0.0, 1.0], \"title\": {\"text\": \"CANTIDAD\"}}},\n",
       "                        {\"responsive\": true}\n",
       "                    ).then(function(){\n",
       "                            \n",
       "var gd = document.getElementById('dc0c0738-3a20-4b55-96bf-ae3aa537f2b7');\n",
       "var x = new MutationObserver(function (mutations, observer) {{\n",
       "        var display = window.getComputedStyle(gd).display;\n",
       "        if (!display || display === 'none') {{\n",
       "            console.log([gd, 'removed!']);\n",
       "            Plotly.purge(gd);\n",
       "            observer.disconnect();\n",
       "        }}\n",
       "}});\n",
       "\n",
       "// Listen for the removal of the full notebook cells\n",
       "var notebookContainer = gd.closest('#notebook-container');\n",
       "if (notebookContainer) {{\n",
       "    x.observe(notebookContainer, {childList: true});\n",
       "}}\n",
       "\n",
       "// Listen for the clearing of the current output cell\n",
       "var outputEl = gd.closest('.output');\n",
       "if (outputEl) {{\n",
       "    x.observe(outputEl, {childList: true});\n",
       "}}\n",
       "\n",
       "                        })\n",
       "                };\n",
       "                });\n",
       "            </script>\n",
       "        </div>"
      ]
     },
     "metadata": {},
     "output_type": "display_data"
    },
    {
     "data": {
      "text/plain": [
       "<Figure size 432x288 with 0 Axes>"
      ]
     },
     "metadata": {},
     "output_type": "display_data"
    }
   ],
   "source": [
    "fig= plt.figure()\n",
    "colors_2014 = ['azure', 'greys', 'ice']\n",
    "fig = px.bar(df, x = \"TALLA\", \n",
    "                 y = \"CANTIDAD\") \n",
    "                 \n",
    "\n",
    "fig.update_layout(barmode='group')\n",
    " # Step 2: Update the layout of the plot\n",
    "\n",
    "# hide and lock down axes\n",
    "#fig.update_yaxes(visible=False, fixedrange=True)\n",
    "\n",
    "fig.update_layout()\n",
    "\n",
    "fig.show()\n",
    "#fig.savefig('Sales_B2C.png',bbox_inches=\"tight\")"
   ]
  },
  {
   "cell_type": "code",
   "execution_count": 179,
   "metadata": {},
   "outputs": [
    {
     "data": {
      "application/vnd.plotly.v1+json": {
       "config": {
        "plotlyServerURL": "https://plot.ly"
       },
       "data": [
        {
         "alignmentgroup": "True",
         "hoverlabel": {
          "namelength": 0
         },
         "hovertemplate": "COLOR=%{x}<br>CANTIDAD=%{y}",
         "legendgroup": "",
         "marker": {
          "color": "#636efa"
         },
         "name": "",
         "offsetgroup": "",
         "orientation": "v",
         "showlegend": false,
         "textposition": "auto",
         "type": "bar",
         "x": [
          "verde",
          "lavanda",
          "lavanda",
          "lavanda",
          "cherry",
          "cotton candy",
          "cotton candy",
          "cotton candy",
          "cotton candy",
          "dark cobalt",
          "negro",
          "coral",
          "blanco",
          "tan",
          "verde esmeralda",
          "negro",
          "azul",
          "lavanda",
          "lavanda",
          "coral",
          "negro",
          "ash",
          "ash",
          "ash",
          "deep indigo",
          "coral",
          "coral",
          "cherry",
          "coral",
          "coral",
          "cotton candy",
          "cotton candy",
          "ash/lavanda",
          "ash/lavanda",
          "cherry",
          "clay",
          "negro",
          "tan",
          "cherry",
          "ash",
          "ash",
          "sage",
          "cherry",
          "negro",
          "tan",
          "lavanda",
          "cherry",
          "coral",
          "cherry",
          "cherry",
          "cherry",
          "cherry",
          "coral",
          "coral",
          "lavanda",
          "coral",
          "lavanda",
          "cherry",
          "deep indigo",
          "deep indigo",
          "claro",
          "sage",
          "coral",
          "cherry",
          "coral",
          "negro",
          "tan",
          "lavanda",
          "lavanda",
          "clay",
          "coral",
          "cherry",
          "tan",
          "cotton candy",
          "cotton candy",
          "lavanda",
          "lavanda",
          "lavanda",
          "lavanda",
          "tan",
          "negro",
          "negro",
          "palma",
          "sage",
          "sage",
          "lavanda/ash/coral",
          "coral",
          "clay",
          "clay",
          "clay",
          "negro",
          "negro",
          "cherry",
          "negro",
          "cotton candy",
          "cherry",
          "flores print",
          "flores print",
          "ash",
          "ash",
          "ash/lavanda",
          "ash/lavanda",
          "deep indigo",
          "negro",
          "cherry",
          "cherry",
          "cherry",
          "cherry",
          "lavanda",
          "negro",
          "cherry",
          "negro",
          "cherry",
          "tan",
          "ash",
          "ash",
          "ash",
          "verde",
          "negro",
          "negro",
          "negro",
          "white",
          "cotton candy",
          "verde",
          "cotton candy",
          "cotton candy",
          "negro",
          "deep indigo",
          "coral",
          "ash/negro",
          "negro",
          "cherry",
          "verde esmeralda",
          "copper",
          "copper",
          "ash/negro",
          "ash/negro",
          "negro",
          "coral",
          "cherry",
          "cherry",
          "indigo",
          "cherry",
          "negro",
          "ash",
          "ash",
          "coral",
          "negro",
          "indigo",
          "lavanda",
          "lavanda",
          "negro",
          "negro",
          "cherry",
          "negro",
          "negro",
          "cherry",
          "cherry",
          "clay",
          "set",
          "negro",
          "tan",
          "coral",
          "coral",
          "herraduras",
          "dusty pink",
          "tan",
          "negro",
          "blanco",
          "cherry",
          "cherry",
          "cherry",
          "coral",
          "coral",
          "negro",
          "negro",
          "cherry",
          "clay",
          "sage",
          "clay",
          "clay",
          "indigo",
          "samples",
          "sage",
          "cherry",
          "cherry",
          "blanco",
          "negro metalico",
          "marsala",
          "marsala",
          "lavanda",
          "negro",
          "sage",
          "cherry",
          "print flowers",
          "indigo",
          "dusty rose",
          "dusty rose",
          "negro",
          "blanco",
          "deep green",
          "deep green",
          "deep green",
          "negro",
          "marsala",
          "deep green",
          "negro",
          "marsala",
          "marsala",
          "marsala",
          "amarillo",
          "tan",
          "negro",
          "negro",
          "sage",
          "indigo",
          "coral",
          "coral",
          "negro",
          "marsala",
          "dusty pink",
          "print",
          "clay",
          "sage",
          "sage",
          "clay",
          "negro",
          "lavanda",
          "print",
          "hot magma",
          "tan",
          "negro",
          "blanco",
          "marsala",
          "cherry"
         ],
         "xaxis": "x",
         "y": [
          1,
          1,
          1,
          1,
          1,
          1,
          1,
          1,
          1,
          1,
          1,
          1,
          1,
          1,
          1,
          1,
          1,
          1,
          1,
          1,
          1,
          1,
          1,
          1,
          1,
          1,
          1,
          1,
          1,
          1,
          1,
          1,
          1,
          1,
          1,
          1,
          1,
          1,
          1,
          1,
          1,
          1,
          1,
          1,
          1,
          1,
          1,
          1,
          1,
          1,
          1,
          1,
          1,
          1,
          1,
          1,
          1,
          1,
          1,
          1,
          1,
          1,
          1,
          1,
          1,
          1,
          1,
          1,
          1,
          1,
          1,
          1,
          1,
          1,
          1,
          1,
          1,
          1,
          1,
          1,
          1,
          1,
          1,
          1,
          1,
          1,
          1,
          1,
          1,
          1,
          1,
          1,
          1,
          1,
          1,
          1,
          1,
          1,
          1,
          1,
          1,
          1,
          1,
          1,
          1,
          1,
          1,
          1,
          1,
          1,
          1,
          1,
          1,
          1,
          2,
          2,
          1,
          1,
          1,
          1,
          1,
          1,
          1,
          1,
          1,
          1,
          1,
          1,
          1,
          1,
          1,
          1,
          1,
          1,
          1,
          1,
          1,
          1,
          1,
          1,
          1,
          1,
          1,
          1,
          1,
          1,
          1,
          1,
          1,
          1,
          1,
          1,
          1,
          1,
          1,
          1,
          1,
          1,
          1,
          1,
          1,
          1,
          1,
          1,
          1,
          1,
          1,
          1,
          1,
          1,
          1,
          1,
          1,
          1,
          1,
          1,
          1,
          1,
          1,
          1,
          1,
          1,
          2,
          1,
          1,
          1,
          1,
          1,
          1,
          1,
          1,
          1,
          1,
          1,
          1,
          1,
          1,
          1,
          1,
          1,
          1,
          1,
          1,
          1,
          1,
          1,
          1,
          1,
          1,
          1,
          1,
          1,
          1,
          1,
          1,
          1,
          1,
          1,
          1,
          1,
          1,
          1,
          1,
          1,
          1,
          1,
          1,
          1,
          1,
          1,
          1,
          1,
          1,
          1,
          1
         ],
         "yaxis": "y"
        }
       ],
       "layout": {
        "barmode": "group",
        "legend": {
         "tracegroupgap": 0
        },
        "margin": {
         "t": 60
        },
        "template": {
         "data": {
          "bar": [
           {
            "error_x": {
             "color": "#2a3f5f"
            },
            "error_y": {
             "color": "#2a3f5f"
            },
            "marker": {
             "line": {
              "color": "#E5ECF6",
              "width": 0.5
             }
            },
            "type": "bar"
           }
          ],
          "barpolar": [
           {
            "marker": {
             "line": {
              "color": "#E5ECF6",
              "width": 0.5
             }
            },
            "type": "barpolar"
           }
          ],
          "carpet": [
           {
            "aaxis": {
             "endlinecolor": "#2a3f5f",
             "gridcolor": "white",
             "linecolor": "white",
             "minorgridcolor": "white",
             "startlinecolor": "#2a3f5f"
            },
            "baxis": {
             "endlinecolor": "#2a3f5f",
             "gridcolor": "white",
             "linecolor": "white",
             "minorgridcolor": "white",
             "startlinecolor": "#2a3f5f"
            },
            "type": "carpet"
           }
          ],
          "choropleth": [
           {
            "colorbar": {
             "outlinewidth": 0,
             "ticks": ""
            },
            "type": "choropleth"
           }
          ],
          "contour": [
           {
            "colorbar": {
             "outlinewidth": 0,
             "ticks": ""
            },
            "colorscale": [
             [
              0,
              "#0d0887"
             ],
             [
              0.1111111111111111,
              "#46039f"
             ],
             [
              0.2222222222222222,
              "#7201a8"
             ],
             [
              0.3333333333333333,
              "#9c179e"
             ],
             [
              0.4444444444444444,
              "#bd3786"
             ],
             [
              0.5555555555555556,
              "#d8576b"
             ],
             [
              0.6666666666666666,
              "#ed7953"
             ],
             [
              0.7777777777777778,
              "#fb9f3a"
             ],
             [
              0.8888888888888888,
              "#fdca26"
             ],
             [
              1,
              "#f0f921"
             ]
            ],
            "type": "contour"
           }
          ],
          "contourcarpet": [
           {
            "colorbar": {
             "outlinewidth": 0,
             "ticks": ""
            },
            "type": "contourcarpet"
           }
          ],
          "heatmap": [
           {
            "colorbar": {
             "outlinewidth": 0,
             "ticks": ""
            },
            "colorscale": [
             [
              0,
              "#0d0887"
             ],
             [
              0.1111111111111111,
              "#46039f"
             ],
             [
              0.2222222222222222,
              "#7201a8"
             ],
             [
              0.3333333333333333,
              "#9c179e"
             ],
             [
              0.4444444444444444,
              "#bd3786"
             ],
             [
              0.5555555555555556,
              "#d8576b"
             ],
             [
              0.6666666666666666,
              "#ed7953"
             ],
             [
              0.7777777777777778,
              "#fb9f3a"
             ],
             [
              0.8888888888888888,
              "#fdca26"
             ],
             [
              1,
              "#f0f921"
             ]
            ],
            "type": "heatmap"
           }
          ],
          "heatmapgl": [
           {
            "colorbar": {
             "outlinewidth": 0,
             "ticks": ""
            },
            "colorscale": [
             [
              0,
              "#0d0887"
             ],
             [
              0.1111111111111111,
              "#46039f"
             ],
             [
              0.2222222222222222,
              "#7201a8"
             ],
             [
              0.3333333333333333,
              "#9c179e"
             ],
             [
              0.4444444444444444,
              "#bd3786"
             ],
             [
              0.5555555555555556,
              "#d8576b"
             ],
             [
              0.6666666666666666,
              "#ed7953"
             ],
             [
              0.7777777777777778,
              "#fb9f3a"
             ],
             [
              0.8888888888888888,
              "#fdca26"
             ],
             [
              1,
              "#f0f921"
             ]
            ],
            "type": "heatmapgl"
           }
          ],
          "histogram": [
           {
            "marker": {
             "colorbar": {
              "outlinewidth": 0,
              "ticks": ""
             }
            },
            "type": "histogram"
           }
          ],
          "histogram2d": [
           {
            "colorbar": {
             "outlinewidth": 0,
             "ticks": ""
            },
            "colorscale": [
             [
              0,
              "#0d0887"
             ],
             [
              0.1111111111111111,
              "#46039f"
             ],
             [
              0.2222222222222222,
              "#7201a8"
             ],
             [
              0.3333333333333333,
              "#9c179e"
             ],
             [
              0.4444444444444444,
              "#bd3786"
             ],
             [
              0.5555555555555556,
              "#d8576b"
             ],
             [
              0.6666666666666666,
              "#ed7953"
             ],
             [
              0.7777777777777778,
              "#fb9f3a"
             ],
             [
              0.8888888888888888,
              "#fdca26"
             ],
             [
              1,
              "#f0f921"
             ]
            ],
            "type": "histogram2d"
           }
          ],
          "histogram2dcontour": [
           {
            "colorbar": {
             "outlinewidth": 0,
             "ticks": ""
            },
            "colorscale": [
             [
              0,
              "#0d0887"
             ],
             [
              0.1111111111111111,
              "#46039f"
             ],
             [
              0.2222222222222222,
              "#7201a8"
             ],
             [
              0.3333333333333333,
              "#9c179e"
             ],
             [
              0.4444444444444444,
              "#bd3786"
             ],
             [
              0.5555555555555556,
              "#d8576b"
             ],
             [
              0.6666666666666666,
              "#ed7953"
             ],
             [
              0.7777777777777778,
              "#fb9f3a"
             ],
             [
              0.8888888888888888,
              "#fdca26"
             ],
             [
              1,
              "#f0f921"
             ]
            ],
            "type": "histogram2dcontour"
           }
          ],
          "mesh3d": [
           {
            "colorbar": {
             "outlinewidth": 0,
             "ticks": ""
            },
            "type": "mesh3d"
           }
          ],
          "parcoords": [
           {
            "line": {
             "colorbar": {
              "outlinewidth": 0,
              "ticks": ""
             }
            },
            "type": "parcoords"
           }
          ],
          "pie": [
           {
            "automargin": true,
            "type": "pie"
           }
          ],
          "scatter": [
           {
            "marker": {
             "colorbar": {
              "outlinewidth": 0,
              "ticks": ""
             }
            },
            "type": "scatter"
           }
          ],
          "scatter3d": [
           {
            "line": {
             "colorbar": {
              "outlinewidth": 0,
              "ticks": ""
             }
            },
            "marker": {
             "colorbar": {
              "outlinewidth": 0,
              "ticks": ""
             }
            },
            "type": "scatter3d"
           }
          ],
          "scattercarpet": [
           {
            "marker": {
             "colorbar": {
              "outlinewidth": 0,
              "ticks": ""
             }
            },
            "type": "scattercarpet"
           }
          ],
          "scattergeo": [
           {
            "marker": {
             "colorbar": {
              "outlinewidth": 0,
              "ticks": ""
             }
            },
            "type": "scattergeo"
           }
          ],
          "scattergl": [
           {
            "marker": {
             "colorbar": {
              "outlinewidth": 0,
              "ticks": ""
             }
            },
            "type": "scattergl"
           }
          ],
          "scattermapbox": [
           {
            "marker": {
             "colorbar": {
              "outlinewidth": 0,
              "ticks": ""
             }
            },
            "type": "scattermapbox"
           }
          ],
          "scatterpolar": [
           {
            "marker": {
             "colorbar": {
              "outlinewidth": 0,
              "ticks": ""
             }
            },
            "type": "scatterpolar"
           }
          ],
          "scatterpolargl": [
           {
            "marker": {
             "colorbar": {
              "outlinewidth": 0,
              "ticks": ""
             }
            },
            "type": "scatterpolargl"
           }
          ],
          "scatterternary": [
           {
            "marker": {
             "colorbar": {
              "outlinewidth": 0,
              "ticks": ""
             }
            },
            "type": "scatterternary"
           }
          ],
          "surface": [
           {
            "colorbar": {
             "outlinewidth": 0,
             "ticks": ""
            },
            "colorscale": [
             [
              0,
              "#0d0887"
             ],
             [
              0.1111111111111111,
              "#46039f"
             ],
             [
              0.2222222222222222,
              "#7201a8"
             ],
             [
              0.3333333333333333,
              "#9c179e"
             ],
             [
              0.4444444444444444,
              "#bd3786"
             ],
             [
              0.5555555555555556,
              "#d8576b"
             ],
             [
              0.6666666666666666,
              "#ed7953"
             ],
             [
              0.7777777777777778,
              "#fb9f3a"
             ],
             [
              0.8888888888888888,
              "#fdca26"
             ],
             [
              1,
              "#f0f921"
             ]
            ],
            "type": "surface"
           }
          ],
          "table": [
           {
            "cells": {
             "fill": {
              "color": "#EBF0F8"
             },
             "line": {
              "color": "white"
             }
            },
            "header": {
             "fill": {
              "color": "#C8D4E3"
             },
             "line": {
              "color": "white"
             }
            },
            "type": "table"
           }
          ]
         },
         "layout": {
          "annotationdefaults": {
           "arrowcolor": "#2a3f5f",
           "arrowhead": 0,
           "arrowwidth": 1
          },
          "coloraxis": {
           "colorbar": {
            "outlinewidth": 0,
            "ticks": ""
           }
          },
          "colorscale": {
           "diverging": [
            [
             0,
             "#8e0152"
            ],
            [
             0.1,
             "#c51b7d"
            ],
            [
             0.2,
             "#de77ae"
            ],
            [
             0.3,
             "#f1b6da"
            ],
            [
             0.4,
             "#fde0ef"
            ],
            [
             0.5,
             "#f7f7f7"
            ],
            [
             0.6,
             "#e6f5d0"
            ],
            [
             0.7,
             "#b8e186"
            ],
            [
             0.8,
             "#7fbc41"
            ],
            [
             0.9,
             "#4d9221"
            ],
            [
             1,
             "#276419"
            ]
           ],
           "sequential": [
            [
             0,
             "#0d0887"
            ],
            [
             0.1111111111111111,
             "#46039f"
            ],
            [
             0.2222222222222222,
             "#7201a8"
            ],
            [
             0.3333333333333333,
             "#9c179e"
            ],
            [
             0.4444444444444444,
             "#bd3786"
            ],
            [
             0.5555555555555556,
             "#d8576b"
            ],
            [
             0.6666666666666666,
             "#ed7953"
            ],
            [
             0.7777777777777778,
             "#fb9f3a"
            ],
            [
             0.8888888888888888,
             "#fdca26"
            ],
            [
             1,
             "#f0f921"
            ]
           ],
           "sequentialminus": [
            [
             0,
             "#0d0887"
            ],
            [
             0.1111111111111111,
             "#46039f"
            ],
            [
             0.2222222222222222,
             "#7201a8"
            ],
            [
             0.3333333333333333,
             "#9c179e"
            ],
            [
             0.4444444444444444,
             "#bd3786"
            ],
            [
             0.5555555555555556,
             "#d8576b"
            ],
            [
             0.6666666666666666,
             "#ed7953"
            ],
            [
             0.7777777777777778,
             "#fb9f3a"
            ],
            [
             0.8888888888888888,
             "#fdca26"
            ],
            [
             1,
             "#f0f921"
            ]
           ]
          },
          "colorway": [
           "#636efa",
           "#EF553B",
           "#00cc96",
           "#ab63fa",
           "#FFA15A",
           "#19d3f3",
           "#FF6692",
           "#B6E880",
           "#FF97FF",
           "#FECB52"
          ],
          "font": {
           "color": "#2a3f5f"
          },
          "geo": {
           "bgcolor": "white",
           "lakecolor": "white",
           "landcolor": "#E5ECF6",
           "showlakes": true,
           "showland": true,
           "subunitcolor": "white"
          },
          "hoverlabel": {
           "align": "left"
          },
          "hovermode": "closest",
          "mapbox": {
           "style": "light"
          },
          "paper_bgcolor": "white",
          "plot_bgcolor": "#E5ECF6",
          "polar": {
           "angularaxis": {
            "gridcolor": "white",
            "linecolor": "white",
            "ticks": ""
           },
           "bgcolor": "#E5ECF6",
           "radialaxis": {
            "gridcolor": "white",
            "linecolor": "white",
            "ticks": ""
           }
          },
          "scene": {
           "xaxis": {
            "backgroundcolor": "#E5ECF6",
            "gridcolor": "white",
            "gridwidth": 2,
            "linecolor": "white",
            "showbackground": true,
            "ticks": "",
            "zerolinecolor": "white"
           },
           "yaxis": {
            "backgroundcolor": "#E5ECF6",
            "gridcolor": "white",
            "gridwidth": 2,
            "linecolor": "white",
            "showbackground": true,
            "ticks": "",
            "zerolinecolor": "white"
           },
           "zaxis": {
            "backgroundcolor": "#E5ECF6",
            "gridcolor": "white",
            "gridwidth": 2,
            "linecolor": "white",
            "showbackground": true,
            "ticks": "",
            "zerolinecolor": "white"
           }
          },
          "shapedefaults": {
           "line": {
            "color": "#2a3f5f"
           }
          },
          "ternary": {
           "aaxis": {
            "gridcolor": "white",
            "linecolor": "white",
            "ticks": ""
           },
           "baxis": {
            "gridcolor": "white",
            "linecolor": "white",
            "ticks": ""
           },
           "bgcolor": "#E5ECF6",
           "caxis": {
            "gridcolor": "white",
            "linecolor": "white",
            "ticks": ""
           }
          },
          "title": {
           "x": 0.05
          },
          "xaxis": {
           "automargin": true,
           "gridcolor": "white",
           "linecolor": "white",
           "ticks": "",
           "title": {
            "standoff": 15
           },
           "zerolinecolor": "white",
           "zerolinewidth": 2
          },
          "yaxis": {
           "automargin": true,
           "gridcolor": "white",
           "linecolor": "white",
           "ticks": "",
           "title": {
            "standoff": 15
           },
           "zerolinecolor": "white",
           "zerolinewidth": 2
          }
         }
        },
        "xaxis": {
         "anchor": "y",
         "domain": [
          0,
          1
         ],
         "title": {
          "text": "COLOR"
         }
        },
        "yaxis": {
         "anchor": "x",
         "domain": [
          0,
          1
         ],
         "title": {
          "text": "CANTIDAD"
         }
        }
       }
      },
      "text/html": [
       "<div>\n",
       "        \n",
       "        \n",
       "            <div id=\"5d874c84-649a-41da-b37c-24a34fc33e57\" class=\"plotly-graph-div\" style=\"height:525px; width:100%;\"></div>\n",
       "            <script type=\"text/javascript\">\n",
       "                require([\"plotly\"], function(Plotly) {\n",
       "                    window.PLOTLYENV=window.PLOTLYENV || {};\n",
       "                    \n",
       "                if (document.getElementById(\"5d874c84-649a-41da-b37c-24a34fc33e57\")) {\n",
       "                    Plotly.newPlot(\n",
       "                        '5d874c84-649a-41da-b37c-24a34fc33e57',\n",
       "                        [{\"alignmentgroup\": \"True\", \"hoverlabel\": {\"namelength\": 0}, \"hovertemplate\": \"COLOR=%{x}<br>CANTIDAD=%{y}\", \"legendgroup\": \"\", \"marker\": {\"color\": \"#636efa\"}, \"name\": \"\", \"offsetgroup\": \"\", \"orientation\": \"v\", \"showlegend\": false, \"textposition\": \"auto\", \"type\": \"bar\", \"x\": [\"verde\", \"lavanda\", \"lavanda\", \"lavanda\", \"cherry\", \"cotton candy\", \"cotton candy\", \"cotton candy\", \"cotton candy\", \"dark cobalt\", \"negro\", \"coral\", \"blanco\", \"tan\", \"verde esmeralda\", \"negro\", \"azul\", \"lavanda\", \"lavanda\", \"coral\", \"negro\", \"ash\", \"ash\", \"ash\", \"deep indigo\", \"coral\", \"coral\", \"cherry\", \"coral\", \"coral\", \"cotton candy\", \"cotton candy\", \"ash/lavanda\", \"ash/lavanda\", \"cherry\", \"clay\", \"negro\", \"tan\", \"cherry\", \"ash\", \"ash\", \"sage\", \"cherry\", \"negro\", \"tan\", \"lavanda\", \"cherry\", \"coral\", \"cherry\", \"cherry\", \"cherry\", \"cherry\", \"coral\", \"coral\", \"lavanda\", \"coral\", \"lavanda\", \"cherry\", \"deep indigo\", \"deep indigo\", \"claro\", \"sage\", \"coral\", \"cherry\", \"coral\", \"negro\", \"tan\", \"lavanda\", \"lavanda\", \"clay\", \"coral\", \"cherry\", \"tan\", \"cotton candy\", \"cotton candy\", \"lavanda\", \"lavanda\", \"lavanda\", \"lavanda\", \"tan\", \"negro\", \"negro\", \"palma\", \"sage\", \"sage\", \"lavanda/ash/coral\", \"coral\", \"clay\", \"clay\", \"clay\", \"negro\", \"negro\", \"cherry\", \"negro\", \"cotton candy\", \"cherry\", \"flores print\", \"flores print\", \"ash\", \"ash\", \"ash/lavanda\", \"ash/lavanda\", \"deep indigo\", \"negro\", \"cherry\", \"cherry\", \"cherry\", \"cherry\", \"lavanda\", \"negro\", \"cherry\", \"negro\", \"cherry\", \"tan\", \"ash\", \"ash\", \"ash\", \"verde\", \"negro\", \"negro\", \"negro\", \"white\", \"cotton candy\", \"verde\", \"cotton candy\", \"cotton candy\", \"negro\", \"deep indigo\", \"coral\", \"ash/negro\", \"negro\", \"cherry\", \"verde esmeralda\", \"copper\", \"copper\", \"ash/negro\", \"ash/negro\", \"negro\", \"coral\", \"cherry\", \"cherry\", \"indigo\", \"cherry\", \"negro\", \"ash\", \"ash\", \"coral\", \"negro\", \"indigo\", \"lavanda\", \"lavanda\", \"negro\", \"negro\", \"cherry\", \"negro\", \"negro\", \"cherry\", \"cherry\", \"clay\", \"set\", \"negro\", \"tan\", \"coral\", \"coral\", \"herraduras\", \"dusty pink\", \"tan\", \"negro\", \"blanco\", \"cherry\", \"cherry\", \"cherry\", \"coral\", \"coral\", \"negro\", \"negro\", \"cherry\", \"clay\", \"sage\", \"clay\", \"clay\", \"indigo\", \"samples\", \"sage\", \"cherry\", \"cherry\", \"blanco\", \"negro metalico\", \"marsala\", \"marsala\", \"lavanda\", \"negro\", \"sage\", \"cherry\", \"print flowers\", \"indigo\", \"dusty rose\", \"dusty rose\", \"negro\", \"blanco\", \"deep green\", \"deep green\", \"deep green\", \"negro\", \"marsala\", \"deep green\", \"negro\", \"marsala\", \"marsala\", \"marsala\", \"amarillo\", \"tan\", \"negro\", \"negro\", \"sage\", \"indigo\", \"coral\", \"coral\", \"negro\", \"marsala\", \"dusty pink\", \"print\", \"clay\", \"sage\", \"sage\", \"clay\", \"negro\", \"lavanda\", \"print\", \"hot magma\", \"tan\", \"negro\", \"blanco\", \"marsala\", \"cherry\"], \"xaxis\": \"x\", \"y\": [1.0, 1.0, 1.0, 1.0, 1.0, 1.0, 1.0, 1.0, 1.0, 1.0, 1.0, 1.0, 1.0, 1.0, 1.0, 1.0, 1.0, 1.0, 1.0, 1.0, 1.0, 1.0, 1.0, 1.0, 1.0, 1.0, 1.0, 1.0, 1.0, 1.0, 1.0, 1.0, 1.0, 1.0, 1.0, 1.0, 1.0, 1.0, 1.0, 1.0, 1.0, 1.0, 1.0, 1.0, 1.0, 1.0, 1.0, 1.0, 1.0, 1.0, 1.0, 1.0, 1.0, 1.0, 1.0, 1.0, 1.0, 1.0, 1.0, 1.0, 1.0, 1.0, 1.0, 1.0, 1.0, 1.0, 1.0, 1.0, 1.0, 1.0, 1.0, 1.0, 1.0, 1.0, 1.0, 1.0, 1.0, 1.0, 1.0, 1.0, 1.0, 1.0, 1.0, 1.0, 1.0, 1.0, 1.0, 1.0, 1.0, 1.0, 1.0, 1.0, 1.0, 1.0, 1.0, 1.0, 1.0, 1.0, 1.0, 1.0, 1.0, 1.0, 1.0, 1.0, 1.0, 1.0, 1.0, 1.0, 1.0, 1.0, 1.0, 1.0, 1.0, 1.0, 2.0, 2.0, 1.0, 1.0, 1.0, 1.0, 1.0, 1.0, 1.0, 1.0, 1.0, 1.0, 1.0, 1.0, 1.0, 1.0, 1.0, 1.0, 1.0, 1.0, 1.0, 1.0, 1.0, 1.0, 1.0, 1.0, 1.0, 1.0, 1.0, 1.0, 1.0, 1.0, 1.0, 1.0, 1.0, 1.0, 1.0, 1.0, 1.0, 1.0, 1.0, 1.0, 1.0, 1.0, 1.0, 1.0, 1.0, 1.0, 1.0, 1.0, 1.0, 1.0, 1.0, 1.0, 1.0, 1.0, 1.0, 1.0, 1.0, 1.0, 1.0, 1.0, 1.0, 1.0, 1.0, 1.0, 1.0, 1.0, 2.0, 1.0, 1.0, 1.0, 1.0, 1.0, 1.0, 1.0, 1.0, 1.0, 1.0, 1.0, 1.0, 1.0, 1.0, 1.0, 1.0, 1.0, 1.0, 1.0, 1.0, 1.0, 1.0, 1.0, 1.0, 1.0, 1.0, 1.0, 1.0, 1.0, 1.0, 1.0, 1.0, 1.0, 1.0, 1.0, 1.0, 1.0, 1.0, 1.0, 1.0, 1.0, 1.0, 1.0, 1.0, 1.0, 1.0, 1.0, 1.0, 1.0, 1.0, 1.0, 1.0], \"yaxis\": \"y\"}],\n",
       "                        {\"barmode\": \"group\", \"legend\": {\"tracegroupgap\": 0}, \"margin\": {\"t\": 60}, \"template\": {\"data\": {\"bar\": [{\"error_x\": {\"color\": \"#2a3f5f\"}, \"error_y\": {\"color\": \"#2a3f5f\"}, \"marker\": {\"line\": {\"color\": \"#E5ECF6\", \"width\": 0.5}}, \"type\": \"bar\"}], \"barpolar\": [{\"marker\": {\"line\": {\"color\": \"#E5ECF6\", \"width\": 0.5}}, \"type\": \"barpolar\"}], \"carpet\": [{\"aaxis\": {\"endlinecolor\": \"#2a3f5f\", \"gridcolor\": \"white\", \"linecolor\": \"white\", \"minorgridcolor\": \"white\", \"startlinecolor\": \"#2a3f5f\"}, \"baxis\": {\"endlinecolor\": \"#2a3f5f\", \"gridcolor\": \"white\", \"linecolor\": \"white\", \"minorgridcolor\": \"white\", \"startlinecolor\": \"#2a3f5f\"}, \"type\": \"carpet\"}], \"choropleth\": [{\"colorbar\": {\"outlinewidth\": 0, \"ticks\": \"\"}, \"type\": \"choropleth\"}], \"contour\": [{\"colorbar\": {\"outlinewidth\": 0, \"ticks\": \"\"}, \"colorscale\": [[0.0, \"#0d0887\"], [0.1111111111111111, \"#46039f\"], [0.2222222222222222, \"#7201a8\"], [0.3333333333333333, \"#9c179e\"], [0.4444444444444444, \"#bd3786\"], [0.5555555555555556, \"#d8576b\"], [0.6666666666666666, \"#ed7953\"], [0.7777777777777778, \"#fb9f3a\"], [0.8888888888888888, \"#fdca26\"], [1.0, \"#f0f921\"]], \"type\": \"contour\"}], \"contourcarpet\": [{\"colorbar\": {\"outlinewidth\": 0, \"ticks\": \"\"}, \"type\": \"contourcarpet\"}], \"heatmap\": [{\"colorbar\": {\"outlinewidth\": 0, \"ticks\": \"\"}, \"colorscale\": [[0.0, \"#0d0887\"], [0.1111111111111111, \"#46039f\"], [0.2222222222222222, \"#7201a8\"], [0.3333333333333333, \"#9c179e\"], [0.4444444444444444, \"#bd3786\"], [0.5555555555555556, \"#d8576b\"], [0.6666666666666666, \"#ed7953\"], [0.7777777777777778, \"#fb9f3a\"], [0.8888888888888888, \"#fdca26\"], [1.0, \"#f0f921\"]], \"type\": \"heatmap\"}], \"heatmapgl\": [{\"colorbar\": {\"outlinewidth\": 0, \"ticks\": \"\"}, \"colorscale\": [[0.0, \"#0d0887\"], [0.1111111111111111, \"#46039f\"], [0.2222222222222222, \"#7201a8\"], [0.3333333333333333, \"#9c179e\"], [0.4444444444444444, \"#bd3786\"], [0.5555555555555556, \"#d8576b\"], [0.6666666666666666, \"#ed7953\"], [0.7777777777777778, \"#fb9f3a\"], [0.8888888888888888, \"#fdca26\"], [1.0, \"#f0f921\"]], \"type\": \"heatmapgl\"}], \"histogram\": [{\"marker\": {\"colorbar\": {\"outlinewidth\": 0, \"ticks\": \"\"}}, \"type\": \"histogram\"}], \"histogram2d\": [{\"colorbar\": {\"outlinewidth\": 0, \"ticks\": \"\"}, \"colorscale\": [[0.0, \"#0d0887\"], [0.1111111111111111, \"#46039f\"], [0.2222222222222222, \"#7201a8\"], [0.3333333333333333, \"#9c179e\"], [0.4444444444444444, \"#bd3786\"], [0.5555555555555556, \"#d8576b\"], [0.6666666666666666, \"#ed7953\"], [0.7777777777777778, \"#fb9f3a\"], [0.8888888888888888, \"#fdca26\"], [1.0, \"#f0f921\"]], \"type\": \"histogram2d\"}], \"histogram2dcontour\": [{\"colorbar\": {\"outlinewidth\": 0, \"ticks\": \"\"}, \"colorscale\": [[0.0, \"#0d0887\"], [0.1111111111111111, \"#46039f\"], [0.2222222222222222, \"#7201a8\"], [0.3333333333333333, \"#9c179e\"], [0.4444444444444444, \"#bd3786\"], [0.5555555555555556, \"#d8576b\"], [0.6666666666666666, \"#ed7953\"], [0.7777777777777778, \"#fb9f3a\"], [0.8888888888888888, \"#fdca26\"], [1.0, \"#f0f921\"]], \"type\": \"histogram2dcontour\"}], \"mesh3d\": [{\"colorbar\": {\"outlinewidth\": 0, \"ticks\": \"\"}, \"type\": \"mesh3d\"}], \"parcoords\": [{\"line\": {\"colorbar\": {\"outlinewidth\": 0, \"ticks\": \"\"}}, \"type\": \"parcoords\"}], \"pie\": [{\"automargin\": true, \"type\": \"pie\"}], \"scatter\": [{\"marker\": {\"colorbar\": {\"outlinewidth\": 0, \"ticks\": \"\"}}, \"type\": \"scatter\"}], \"scatter3d\": [{\"line\": {\"colorbar\": {\"outlinewidth\": 0, \"ticks\": \"\"}}, \"marker\": {\"colorbar\": {\"outlinewidth\": 0, \"ticks\": \"\"}}, \"type\": \"scatter3d\"}], \"scattercarpet\": [{\"marker\": {\"colorbar\": {\"outlinewidth\": 0, \"ticks\": \"\"}}, \"type\": \"scattercarpet\"}], \"scattergeo\": [{\"marker\": {\"colorbar\": {\"outlinewidth\": 0, \"ticks\": \"\"}}, \"type\": \"scattergeo\"}], \"scattergl\": [{\"marker\": {\"colorbar\": {\"outlinewidth\": 0, \"ticks\": \"\"}}, \"type\": \"scattergl\"}], \"scattermapbox\": [{\"marker\": {\"colorbar\": {\"outlinewidth\": 0, \"ticks\": \"\"}}, \"type\": \"scattermapbox\"}], \"scatterpolar\": [{\"marker\": {\"colorbar\": {\"outlinewidth\": 0, \"ticks\": \"\"}}, \"type\": \"scatterpolar\"}], \"scatterpolargl\": [{\"marker\": {\"colorbar\": {\"outlinewidth\": 0, \"ticks\": \"\"}}, \"type\": \"scatterpolargl\"}], \"scatterternary\": [{\"marker\": {\"colorbar\": {\"outlinewidth\": 0, \"ticks\": \"\"}}, \"type\": \"scatterternary\"}], \"surface\": [{\"colorbar\": {\"outlinewidth\": 0, \"ticks\": \"\"}, \"colorscale\": [[0.0, \"#0d0887\"], [0.1111111111111111, \"#46039f\"], [0.2222222222222222, \"#7201a8\"], [0.3333333333333333, \"#9c179e\"], [0.4444444444444444, \"#bd3786\"], [0.5555555555555556, \"#d8576b\"], [0.6666666666666666, \"#ed7953\"], [0.7777777777777778, \"#fb9f3a\"], [0.8888888888888888, \"#fdca26\"], [1.0, \"#f0f921\"]], \"type\": \"surface\"}], \"table\": [{\"cells\": {\"fill\": {\"color\": \"#EBF0F8\"}, \"line\": {\"color\": \"white\"}}, \"header\": {\"fill\": {\"color\": \"#C8D4E3\"}, \"line\": {\"color\": \"white\"}}, \"type\": \"table\"}]}, \"layout\": {\"annotationdefaults\": {\"arrowcolor\": \"#2a3f5f\", \"arrowhead\": 0, \"arrowwidth\": 1}, \"coloraxis\": {\"colorbar\": {\"outlinewidth\": 0, \"ticks\": \"\"}}, \"colorscale\": {\"diverging\": [[0, \"#8e0152\"], [0.1, \"#c51b7d\"], [0.2, \"#de77ae\"], [0.3, \"#f1b6da\"], [0.4, \"#fde0ef\"], [0.5, \"#f7f7f7\"], [0.6, \"#e6f5d0\"], [0.7, \"#b8e186\"], [0.8, \"#7fbc41\"], [0.9, \"#4d9221\"], [1, \"#276419\"]], \"sequential\": [[0.0, \"#0d0887\"], [0.1111111111111111, \"#46039f\"], [0.2222222222222222, \"#7201a8\"], [0.3333333333333333, \"#9c179e\"], [0.4444444444444444, \"#bd3786\"], [0.5555555555555556, \"#d8576b\"], [0.6666666666666666, \"#ed7953\"], [0.7777777777777778, \"#fb9f3a\"], [0.8888888888888888, \"#fdca26\"], [1.0, \"#f0f921\"]], \"sequentialminus\": [[0.0, \"#0d0887\"], [0.1111111111111111, \"#46039f\"], [0.2222222222222222, \"#7201a8\"], [0.3333333333333333, \"#9c179e\"], [0.4444444444444444, \"#bd3786\"], [0.5555555555555556, \"#d8576b\"], [0.6666666666666666, \"#ed7953\"], [0.7777777777777778, \"#fb9f3a\"], [0.8888888888888888, \"#fdca26\"], [1.0, \"#f0f921\"]]}, \"colorway\": [\"#636efa\", \"#EF553B\", \"#00cc96\", \"#ab63fa\", \"#FFA15A\", \"#19d3f3\", \"#FF6692\", \"#B6E880\", \"#FF97FF\", \"#FECB52\"], \"font\": {\"color\": \"#2a3f5f\"}, \"geo\": {\"bgcolor\": \"white\", \"lakecolor\": \"white\", \"landcolor\": \"#E5ECF6\", \"showlakes\": true, \"showland\": true, \"subunitcolor\": \"white\"}, \"hoverlabel\": {\"align\": \"left\"}, \"hovermode\": \"closest\", \"mapbox\": {\"style\": \"light\"}, \"paper_bgcolor\": \"white\", \"plot_bgcolor\": \"#E5ECF6\", \"polar\": {\"angularaxis\": {\"gridcolor\": \"white\", \"linecolor\": \"white\", \"ticks\": \"\"}, \"bgcolor\": \"#E5ECF6\", \"radialaxis\": {\"gridcolor\": \"white\", \"linecolor\": \"white\", \"ticks\": \"\"}}, \"scene\": {\"xaxis\": {\"backgroundcolor\": \"#E5ECF6\", \"gridcolor\": \"white\", \"gridwidth\": 2, \"linecolor\": \"white\", \"showbackground\": true, \"ticks\": \"\", \"zerolinecolor\": \"white\"}, \"yaxis\": {\"backgroundcolor\": \"#E5ECF6\", \"gridcolor\": \"white\", \"gridwidth\": 2, \"linecolor\": \"white\", \"showbackground\": true, \"ticks\": \"\", \"zerolinecolor\": \"white\"}, \"zaxis\": {\"backgroundcolor\": \"#E5ECF6\", \"gridcolor\": \"white\", \"gridwidth\": 2, \"linecolor\": \"white\", \"showbackground\": true, \"ticks\": \"\", \"zerolinecolor\": \"white\"}}, \"shapedefaults\": {\"line\": {\"color\": \"#2a3f5f\"}}, \"ternary\": {\"aaxis\": {\"gridcolor\": \"white\", \"linecolor\": \"white\", \"ticks\": \"\"}, \"baxis\": {\"gridcolor\": \"white\", \"linecolor\": \"white\", \"ticks\": \"\"}, \"bgcolor\": \"#E5ECF6\", \"caxis\": {\"gridcolor\": \"white\", \"linecolor\": \"white\", \"ticks\": \"\"}}, \"title\": {\"x\": 0.05}, \"xaxis\": {\"automargin\": true, \"gridcolor\": \"white\", \"linecolor\": \"white\", \"ticks\": \"\", \"title\": {\"standoff\": 15}, \"zerolinecolor\": \"white\", \"zerolinewidth\": 2}, \"yaxis\": {\"automargin\": true, \"gridcolor\": \"white\", \"linecolor\": \"white\", \"ticks\": \"\", \"title\": {\"standoff\": 15}, \"zerolinecolor\": \"white\", \"zerolinewidth\": 2}}}, \"xaxis\": {\"anchor\": \"y\", \"domain\": [0.0, 1.0], \"title\": {\"text\": \"COLOR\"}}, \"yaxis\": {\"anchor\": \"x\", \"domain\": [0.0, 1.0], \"title\": {\"text\": \"CANTIDAD\"}}},\n",
       "                        {\"responsive\": true}\n",
       "                    ).then(function(){\n",
       "                            \n",
       "var gd = document.getElementById('5d874c84-649a-41da-b37c-24a34fc33e57');\n",
       "var x = new MutationObserver(function (mutations, observer) {{\n",
       "        var display = window.getComputedStyle(gd).display;\n",
       "        if (!display || display === 'none') {{\n",
       "            console.log([gd, 'removed!']);\n",
       "            Plotly.purge(gd);\n",
       "            observer.disconnect();\n",
       "        }}\n",
       "}});\n",
       "\n",
       "// Listen for the removal of the full notebook cells\n",
       "var notebookContainer = gd.closest('#notebook-container');\n",
       "if (notebookContainer) {{\n",
       "    x.observe(notebookContainer, {childList: true});\n",
       "}}\n",
       "\n",
       "// Listen for the clearing of the current output cell\n",
       "var outputEl = gd.closest('.output');\n",
       "if (outputEl) {{\n",
       "    x.observe(outputEl, {childList: true});\n",
       "}}\n",
       "\n",
       "                        })\n",
       "                };\n",
       "                });\n",
       "            </script>\n",
       "        </div>"
      ]
     },
     "metadata": {},
     "output_type": "display_data"
    },
    {
     "data": {
      "text/plain": [
       "<Figure size 432x288 with 0 Axes>"
      ]
     },
     "metadata": {},
     "output_type": "display_data"
    }
   ],
   "source": [
    "fig= plt.figure()\n",
    "colors_2014 = ['azure', 'greys', 'ice']\n",
    "fig = px.bar(df, x = \"COLOR\", \n",
    "                 y = \"CANTIDAD\") \n",
    "                 \n",
    "\n",
    "fig.update_layout(barmode='group')\n",
    " # Step 2: Update the layout of the plot\n",
    "\n",
    "# hide and lock down axes\n",
    "#fig.update_yaxes(visible=False, fixedrange=True)\n",
    "\n",
    "fig.update_layout()\n",
    "\n",
    "fig.show()\n",
    "#fig.savefig('Sales_B2C.png',bbox_inches=\"tight\")"
   ]
  }
 ],
 "metadata": {
  "hide_input": false,
  "kernelspec": {
   "display_name": "Python 3",
   "language": "python",
   "name": "python3"
  },
  "language_info": {
   "codemirror_mode": {
    "name": "ipython",
    "version": 3
   },
   "file_extension": ".py",
   "mimetype": "text/x-python",
   "name": "python",
   "nbconvert_exporter": "python",
   "pygments_lexer": "ipython3",
   "version": "3.7.9"
  },
  "toc": {
   "base_numbering": 1,
   "nav_menu": {},
   "number_sections": true,
   "sideBar": true,
   "skip_h1_title": false,
   "title_cell": "Table of Contents",
   "title_sidebar": "Contents",
   "toc_cell": false,
   "toc_position": {},
   "toc_section_display": true,
   "toc_window_display": false
  }
 },
 "nbformat": 4,
 "nbformat_minor": 4
}
