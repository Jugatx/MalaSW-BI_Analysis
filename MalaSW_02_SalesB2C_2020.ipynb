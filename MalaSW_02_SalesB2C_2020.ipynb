{
 "cells": [
  {
   "cell_type": "code",
   "execution_count": 1,
   "metadata": {},
   "outputs": [],
   "source": [
    "import seaborn as sns\n",
    "import matplotlib.pyplot as plt\n",
    "\n",
    "import pandas as pd\n",
    "import numpy as np"
   ]
  },
  {
   "cell_type": "code",
   "execution_count": 2,
   "metadata": {},
   "outputs": [
    {
     "data": {
      "text/html": [
       "        <script type=\"text/javascript\">\n",
       "        window.PlotlyConfig = {MathJaxConfig: 'local'};\n",
       "        if (window.MathJax) {MathJax.Hub.Config({SVG: {font: \"STIX-Web\"}});}\n",
       "        if (typeof require !== 'undefined') {\n",
       "        require.undef(\"plotly\");\n",
       "        requirejs.config({\n",
       "            paths: {\n",
       "                'plotly': ['https://cdn.plot.ly/plotly-latest.min']\n",
       "            }\n",
       "        });\n",
       "        require(['plotly'], function(Plotly) {\n",
       "            window._Plotly = Plotly;\n",
       "        });\n",
       "        }\n",
       "        </script>\n",
       "        "
      ]
     },
     "metadata": {},
     "output_type": "display_data"
    },
    {
     "data": {
      "text/html": [
       "        <script type=\"text/javascript\">\n",
       "        window.PlotlyConfig = {MathJaxConfig: 'local'};\n",
       "        if (window.MathJax) {MathJax.Hub.Config({SVG: {font: \"STIX-Web\"}});}\n",
       "        if (typeof require !== 'undefined') {\n",
       "        require.undef(\"plotly\");\n",
       "        requirejs.config({\n",
       "            paths: {\n",
       "                'plotly': ['https://cdn.plot.ly/plotly-latest.min']\n",
       "            }\n",
       "        });\n",
       "        require(['plotly'], function(Plotly) {\n",
       "            window._Plotly = Plotly;\n",
       "        });\n",
       "        }\n",
       "        </script>\n",
       "        "
      ]
     },
     "metadata": {},
     "output_type": "display_data"
    },
    {
     "data": {
      "text/html": [
       "        <script type=\"text/javascript\">\n",
       "        window.PlotlyConfig = {MathJaxConfig: 'local'};\n",
       "        if (window.MathJax) {MathJax.Hub.Config({SVG: {font: \"STIX-Web\"}});}\n",
       "        if (typeof require !== 'undefined') {\n",
       "        require.undef(\"plotly\");\n",
       "        requirejs.config({\n",
       "            paths: {\n",
       "                'plotly': ['https://cdn.plot.ly/plotly-latest.min']\n",
       "            }\n",
       "        });\n",
       "        require(['plotly'], function(Plotly) {\n",
       "            window._Plotly = Plotly;\n",
       "        });\n",
       "        }\n",
       "        </script>\n",
       "        "
      ]
     },
     "metadata": {},
     "output_type": "display_data"
    }
   ],
   "source": [
    "import sys  \n",
    "sys.path.insert(0, r'C:/Users/jugat/Documents/a_JUGATX/FORMACION/DATA SCIENCE/Functions')\n",
    "\n",
    "from fx_OUTLIERS import *\n",
    "from functions_plot_EDA import *\n",
    "from My_EDA_Functions_library import*\n",
    "from My_EDA_Visualisation_Functions_library import*\n"
   ]
  },
  {
   "cell_type": "code",
   "execution_count": null,
   "metadata": {},
   "outputs": [],
   "source": [
    "#This notebook follows the procedure set out to work with B2C 2019 sales in previous notebook"
   ]
  },
  {
   "cell_type": "markdown",
   "metadata": {},
   "source": [
    "# IMPORT 2020 B2C SALES "
   ]
  },
  {
   "cell_type": "code",
   "execution_count": 5,
   "metadata": {},
   "outputs": [],
   "source": [
    "usecols_ =['FECHA','CLIENTE', 'CANTIDAD','MODELO', 'COLOR', 'TALLA','PRECIO','DESCUENTO','TOTAL','PUNTO DE VENTA']"
   ]
  },
  {
   "cell_type": "code",
   "execution_count": 6,
   "metadata": {},
   "outputs": [],
   "source": [
    "df_salesB2C_2020 = pd.concat(pd.read_excel('../datasets/Sales/B2C/2020_VENTAS_INVENTARIO_PRODUCCION.xlsx', skiprows=np.arange(0,2),\n",
    "            usecols= usecols_,\n",
    "            sheet_name= None), ignore_index = True)"
   ]
  },
  {
   "cell_type": "code",
   "execution_count": 7,
   "metadata": {},
   "outputs": [
    {
     "data": {
      "text/html": [
       "<div>\n",
       "<style scoped>\n",
       "    .dataframe tbody tr th:only-of-type {\n",
       "        vertical-align: middle;\n",
       "    }\n",
       "\n",
       "    .dataframe tbody tr th {\n",
       "        vertical-align: top;\n",
       "    }\n",
       "\n",
       "    .dataframe thead th {\n",
       "        text-align: right;\n",
       "    }\n",
       "</style>\n",
       "<table border=\"1\" class=\"dataframe\">\n",
       "  <thead>\n",
       "    <tr style=\"text-align: right;\">\n",
       "      <th></th>\n",
       "      <th>FECHA</th>\n",
       "      <th>CLIENTE</th>\n",
       "      <th>CANTIDAD</th>\n",
       "      <th>MODELO</th>\n",
       "      <th>COLOR</th>\n",
       "      <th>TALLA</th>\n",
       "      <th>PRECIO</th>\n",
       "      <th>DESCUENTO</th>\n",
       "      <th>TOTAL</th>\n",
       "      <th>PUNTO DE VENTA</th>\n",
       "    </tr>\n",
       "  </thead>\n",
       "  <tbody>\n",
       "    <tr>\n",
       "      <th>0</th>\n",
       "      <td>2020-12-27 00:00:00</td>\n",
       "      <td>Andrea Carral</td>\n",
       "      <td>1.0</td>\n",
       "      <td>Geminis Top</td>\n",
       "      <td>Ash/Lavanda</td>\n",
       "      <td>M</td>\n",
       "      <td>750.0</td>\n",
       "      <td>0.15</td>\n",
       "      <td>637.5</td>\n",
       "      <td>SHOPIFY</td>\n",
       "    </tr>\n",
       "    <tr>\n",
       "      <th>1</th>\n",
       "      <td>NaN</td>\n",
       "      <td>NaN</td>\n",
       "      <td>1.0</td>\n",
       "      <td>Maca</td>\n",
       "      <td>Lavanda</td>\n",
       "      <td>S</td>\n",
       "      <td>750.0</td>\n",
       "      <td>0.15</td>\n",
       "      <td>637.5</td>\n",
       "      <td>SHOPIFY</td>\n",
       "    </tr>\n",
       "    <tr>\n",
       "      <th>2</th>\n",
       "      <td>2020-12-30 00:00:00</td>\n",
       "      <td>Ana Paula Huitron Regalado</td>\n",
       "      <td>1.0</td>\n",
       "      <td>Naranjo</td>\n",
       "      <td>Lavanda</td>\n",
       "      <td>L</td>\n",
       "      <td>1590.0</td>\n",
       "      <td>0.15</td>\n",
       "      <td>1351.5</td>\n",
       "      <td>SHOPIFY</td>\n",
       "    </tr>\n",
       "    <tr>\n",
       "      <th>3</th>\n",
       "      <td>NaN</td>\n",
       "      <td>NaN</td>\n",
       "      <td>1.0</td>\n",
       "      <td>Milo Bodysuit</td>\n",
       "      <td>Herraduras</td>\n",
       "      <td>M</td>\n",
       "      <td>1780.0</td>\n",
       "      <td>NaN</td>\n",
       "      <td>1780.0</td>\n",
       "      <td>SHOPIFY</td>\n",
       "    </tr>\n",
       "    <tr>\n",
       "      <th>4</th>\n",
       "      <td>2020-01-02 00:00:00</td>\n",
       "      <td>El muchacho de lentes jeje</td>\n",
       "      <td>1.0</td>\n",
       "      <td>Margot</td>\n",
       "      <td>Tan</td>\n",
       "      <td>M</td>\n",
       "      <td>845.0</td>\n",
       "      <td>0.1</td>\n",
       "      <td>760.5</td>\n",
       "      <td>SHOWROOM</td>\n",
       "    </tr>\n",
       "    <tr>\n",
       "      <th>...</th>\n",
       "      <td>...</td>\n",
       "      <td>...</td>\n",
       "      <td>...</td>\n",
       "      <td>...</td>\n",
       "      <td>...</td>\n",
       "      <td>...</td>\n",
       "      <td>...</td>\n",
       "      <td>...</td>\n",
       "      <td>...</td>\n",
       "      <td>...</td>\n",
       "    </tr>\n",
       "    <tr>\n",
       "      <th>160</th>\n",
       "      <td>2020-05-29 00:00:00</td>\n",
       "      <td>Leonora</td>\n",
       "      <td>1.0</td>\n",
       "      <td>Naranjo 2.0</td>\n",
       "      <td>Tan</td>\n",
       "      <td>S</td>\n",
       "      <td>0.0</td>\n",
       "      <td>NaN</td>\n",
       "      <td>0.0</td>\n",
       "      <td>INTERCAMBIO</td>\n",
       "    </tr>\n",
       "    <tr>\n",
       "      <th>161</th>\n",
       "      <td>2020-06-08 00:00:00</td>\n",
       "      <td>FABI B</td>\n",
       "      <td>1.0</td>\n",
       "      <td>LA NOSTALGIA</td>\n",
       "      <td>BLACK</td>\n",
       "      <td>M</td>\n",
       "      <td>1570.0</td>\n",
       "      <td>NaN</td>\n",
       "      <td>1570.0</td>\n",
       "      <td>SHOWROOM</td>\n",
       "    </tr>\n",
       "    <tr>\n",
       "      <th>162</th>\n",
       "      <td>NaT</td>\n",
       "      <td>NaN</td>\n",
       "      <td>1.0</td>\n",
       "      <td>ARIES</td>\n",
       "      <td>LAVANDER</td>\n",
       "      <td>L</td>\n",
       "      <td>850.0</td>\n",
       "      <td>0.2</td>\n",
       "      <td>680.0</td>\n",
       "      <td>SHOWROOM</td>\n",
       "    </tr>\n",
       "    <tr>\n",
       "      <th>163</th>\n",
       "      <td>2020-06-08 00:00:00</td>\n",
       "      <td>RUTH</td>\n",
       "      <td>1.0</td>\n",
       "      <td>PALOMA</td>\n",
       "      <td>INDIGO</td>\n",
       "      <td>S</td>\n",
       "      <td>1350.0</td>\n",
       "      <td>NaN</td>\n",
       "      <td>1350.0</td>\n",
       "      <td>SHOWROOM</td>\n",
       "    </tr>\n",
       "    <tr>\n",
       "      <th>164</th>\n",
       "      <td>2020-06-08 00:00:00</td>\n",
       "      <td>VALENTINA</td>\n",
       "      <td>1.0</td>\n",
       "      <td>EMILIA</td>\n",
       "      <td>CORAL</td>\n",
       "      <td>L</td>\n",
       "      <td>1350.0</td>\n",
       "      <td>NaN</td>\n",
       "      <td>1350.0</td>\n",
       "      <td>SHOWROOM</td>\n",
       "    </tr>\n",
       "  </tbody>\n",
       "</table>\n",
       "<p>165 rows × 10 columns</p>\n",
       "</div>"
      ],
      "text/plain": [
       "                   FECHA                     CLIENTE  CANTIDAD         MODELO  \\\n",
       "0    2020-12-27 00:00:00               Andrea Carral       1.0    Geminis Top   \n",
       "1                    NaN                         NaN       1.0           Maca   \n",
       "2    2020-12-30 00:00:00  Ana Paula Huitron Regalado       1.0        Naranjo   \n",
       "3                    NaN                         NaN       1.0  Milo Bodysuit   \n",
       "4    2020-01-02 00:00:00  El muchacho de lentes jeje       1.0         Margot   \n",
       "..                   ...                         ...       ...            ...   \n",
       "160  2020-05-29 00:00:00                     Leonora       1.0    Naranjo 2.0   \n",
       "161  2020-06-08 00:00:00                      FABI B       1.0   LA NOSTALGIA   \n",
       "162                  NaT                         NaN       1.0          ARIES   \n",
       "163  2020-06-08 00:00:00                        RUTH       1.0         PALOMA   \n",
       "164  2020-06-08 00:00:00                   VALENTINA       1.0         EMILIA   \n",
       "\n",
       "           COLOR TALLA  PRECIO DESCUENTO   TOTAL PUNTO DE VENTA  \n",
       "0    Ash/Lavanda     M   750.0      0.15   637.5        SHOPIFY  \n",
       "1        Lavanda     S   750.0      0.15   637.5        SHOPIFY  \n",
       "2        Lavanda     L  1590.0      0.15  1351.5        SHOPIFY  \n",
       "3     Herraduras     M  1780.0       NaN  1780.0        SHOPIFY  \n",
       "4            Tan     M   845.0       0.1   760.5       SHOWROOM  \n",
       "..           ...   ...     ...       ...     ...            ...  \n",
       "160          Tan     S     0.0       NaN     0.0    INTERCAMBIO  \n",
       "161        BLACK     M  1570.0       NaN  1570.0       SHOWROOM  \n",
       "162     LAVANDER     L   850.0       0.2   680.0       SHOWROOM  \n",
       "163       INDIGO     S  1350.0       NaN  1350.0       SHOWROOM  \n",
       "164        CORAL     L  1350.0       NaN  1350.0       SHOWROOM  \n",
       "\n",
       "[165 rows x 10 columns]"
      ]
     },
     "execution_count": 7,
     "metadata": {},
     "output_type": "execute_result"
    }
   ],
   "source": [
    "df_salesB2C_2020"
   ]
  },
  {
   "cell_type": "markdown",
   "metadata": {},
   "source": [
    "# DATA CLEANSING"
   ]
  },
  {
   "cell_type": "code",
   "execution_count": 8,
   "metadata": {},
   "outputs": [
    {
     "name": "stdout",
     "output_type": "stream",
     "text": [
      "<class 'pandas.core.frame.DataFrame'>\n",
      "RangeIndex: 165 entries, 0 to 164\n",
      "Data columns (total 10 columns):\n",
      " #   Column          Non-Null Count  Dtype  \n",
      "---  ------          --------------  -----  \n",
      " 0   FECHA           88 non-null     object \n",
      " 1   CLIENTE         88 non-null     object \n",
      " 2   CANTIDAD        164 non-null    float64\n",
      " 3   MODELO          164 non-null    object \n",
      " 4   COLOR           165 non-null    object \n",
      " 5   TALLA           163 non-null    object \n",
      " 6   PRECIO          163 non-null    float64\n",
      " 7   DESCUENTO       88 non-null     object \n",
      " 8   TOTAL           164 non-null    float64\n",
      " 9   PUNTO DE VENTA  155 non-null    object \n",
      "dtypes: float64(3), object(7)\n",
      "memory usage: 13.0+ KB\n"
     ]
    }
   ],
   "source": [
    "df_salesB2C_2020.info()"
   ]
  },
  {
   "cell_type": "code",
   "execution_count": 9,
   "metadata": {},
   "outputs": [],
   "source": [
    "def percentage_nullValues(data):\n",
    "    null_perc = round(data.isnull().sum() / data.shape[0],3) * 100.00\n",
    "    null_perc = pd.DataFrame(null_perc, columns=['Percentage_NaN'])\n",
    "    null_perc= null_perc.sort_values(by = ['Percentage_NaN'], ascending = False)\n",
    "    return null_perc"
   ]
  },
  {
   "cell_type": "code",
   "execution_count": 10,
   "metadata": {},
   "outputs": [
    {
     "data": {
      "text/html": [
       "<div>\n",
       "<style scoped>\n",
       "    .dataframe tbody tr th:only-of-type {\n",
       "        vertical-align: middle;\n",
       "    }\n",
       "\n",
       "    .dataframe tbody tr th {\n",
       "        vertical-align: top;\n",
       "    }\n",
       "\n",
       "    .dataframe thead th {\n",
       "        text-align: right;\n",
       "    }\n",
       "</style>\n",
       "<table border=\"1\" class=\"dataframe\">\n",
       "  <thead>\n",
       "    <tr style=\"text-align: right;\">\n",
       "      <th></th>\n",
       "      <th>Percentage_NaN</th>\n",
       "    </tr>\n",
       "  </thead>\n",
       "  <tbody>\n",
       "    <tr>\n",
       "      <th>FECHA</th>\n",
       "      <td>46.7</td>\n",
       "    </tr>\n",
       "    <tr>\n",
       "      <th>CLIENTE</th>\n",
       "      <td>46.7</td>\n",
       "    </tr>\n",
       "    <tr>\n",
       "      <th>DESCUENTO</th>\n",
       "      <td>46.7</td>\n",
       "    </tr>\n",
       "    <tr>\n",
       "      <th>PUNTO DE VENTA</th>\n",
       "      <td>6.1</td>\n",
       "    </tr>\n",
       "    <tr>\n",
       "      <th>TALLA</th>\n",
       "      <td>1.2</td>\n",
       "    </tr>\n",
       "    <tr>\n",
       "      <th>PRECIO</th>\n",
       "      <td>1.2</td>\n",
       "    </tr>\n",
       "    <tr>\n",
       "      <th>CANTIDAD</th>\n",
       "      <td>0.6</td>\n",
       "    </tr>\n",
       "    <tr>\n",
       "      <th>MODELO</th>\n",
       "      <td>0.6</td>\n",
       "    </tr>\n",
       "    <tr>\n",
       "      <th>TOTAL</th>\n",
       "      <td>0.6</td>\n",
       "    </tr>\n",
       "    <tr>\n",
       "      <th>COLOR</th>\n",
       "      <td>0.0</td>\n",
       "    </tr>\n",
       "  </tbody>\n",
       "</table>\n",
       "</div>"
      ],
      "text/plain": [
       "                Percentage_NaN\n",
       "FECHA                     46.7\n",
       "CLIENTE                   46.7\n",
       "DESCUENTO                 46.7\n",
       "PUNTO DE VENTA             6.1\n",
       "TALLA                      1.2\n",
       "PRECIO                     1.2\n",
       "CANTIDAD                   0.6\n",
       "MODELO                     0.6\n",
       "TOTAL                      0.6\n",
       "COLOR                      0.0"
      ]
     },
     "execution_count": 10,
     "metadata": {},
     "output_type": "execute_result"
    }
   ],
   "source": [
    "percentage_nullValues(df_salesB2C_2020)"
   ]
  },
  {
   "cell_type": "markdown",
   "metadata": {},
   "source": [
    "## Replace NaT and NaN in date and Client"
   ]
  },
  {
   "cell_type": "code",
   "execution_count": 11,
   "metadata": {},
   "outputs": [],
   "source": [
    "df_salesB2C_2020['CLIENTE'] = df_salesB2C_2020.CLIENTE.fillna(method='ffill')"
   ]
  },
  {
   "cell_type": "code",
   "execution_count": 12,
   "metadata": {},
   "outputs": [],
   "source": [
    "df_salesB2C_2020['FECHA'] = df_salesB2C_2020.FECHA.fillna(method='ffill')"
   ]
  },
  {
   "cell_type": "code",
   "execution_count": 13,
   "metadata": {},
   "outputs": [
    {
     "data": {
      "text/html": [
       "<div>\n",
       "<style scoped>\n",
       "    .dataframe tbody tr th:only-of-type {\n",
       "        vertical-align: middle;\n",
       "    }\n",
       "\n",
       "    .dataframe tbody tr th {\n",
       "        vertical-align: top;\n",
       "    }\n",
       "\n",
       "    .dataframe thead th {\n",
       "        text-align: right;\n",
       "    }\n",
       "</style>\n",
       "<table border=\"1\" class=\"dataframe\">\n",
       "  <thead>\n",
       "    <tr style=\"text-align: right;\">\n",
       "      <th></th>\n",
       "      <th>FECHA</th>\n",
       "      <th>CLIENTE</th>\n",
       "      <th>CANTIDAD</th>\n",
       "      <th>MODELO</th>\n",
       "      <th>COLOR</th>\n",
       "      <th>TALLA</th>\n",
       "      <th>PRECIO</th>\n",
       "      <th>DESCUENTO</th>\n",
       "      <th>TOTAL</th>\n",
       "      <th>PUNTO DE VENTA</th>\n",
       "    </tr>\n",
       "  </thead>\n",
       "  <tbody>\n",
       "    <tr>\n",
       "      <th>0</th>\n",
       "      <td>2020-12-27 00:00:00</td>\n",
       "      <td>Andrea Carral</td>\n",
       "      <td>1.0</td>\n",
       "      <td>Geminis Top</td>\n",
       "      <td>Ash/Lavanda</td>\n",
       "      <td>M</td>\n",
       "      <td>750.0</td>\n",
       "      <td>0.15</td>\n",
       "      <td>637.5</td>\n",
       "      <td>SHOPIFY</td>\n",
       "    </tr>\n",
       "    <tr>\n",
       "      <th>1</th>\n",
       "      <td>2020-12-27 00:00:00</td>\n",
       "      <td>Andrea Carral</td>\n",
       "      <td>1.0</td>\n",
       "      <td>Maca</td>\n",
       "      <td>Lavanda</td>\n",
       "      <td>S</td>\n",
       "      <td>750.0</td>\n",
       "      <td>0.15</td>\n",
       "      <td>637.5</td>\n",
       "      <td>SHOPIFY</td>\n",
       "    </tr>\n",
       "    <tr>\n",
       "      <th>2</th>\n",
       "      <td>2020-12-30 00:00:00</td>\n",
       "      <td>Ana Paula Huitron Regalado</td>\n",
       "      <td>1.0</td>\n",
       "      <td>Naranjo</td>\n",
       "      <td>Lavanda</td>\n",
       "      <td>L</td>\n",
       "      <td>1590.0</td>\n",
       "      <td>0.15</td>\n",
       "      <td>1351.5</td>\n",
       "      <td>SHOPIFY</td>\n",
       "    </tr>\n",
       "    <tr>\n",
       "      <th>3</th>\n",
       "      <td>2020-12-30 00:00:00</td>\n",
       "      <td>Ana Paula Huitron Regalado</td>\n",
       "      <td>1.0</td>\n",
       "      <td>Milo Bodysuit</td>\n",
       "      <td>Herraduras</td>\n",
       "      <td>M</td>\n",
       "      <td>1780.0</td>\n",
       "      <td>NaN</td>\n",
       "      <td>1780.0</td>\n",
       "      <td>SHOPIFY</td>\n",
       "    </tr>\n",
       "    <tr>\n",
       "      <th>4</th>\n",
       "      <td>2020-01-02 00:00:00</td>\n",
       "      <td>El muchacho de lentes jeje</td>\n",
       "      <td>1.0</td>\n",
       "      <td>Margot</td>\n",
       "      <td>Tan</td>\n",
       "      <td>M</td>\n",
       "      <td>845.0</td>\n",
       "      <td>0.1</td>\n",
       "      <td>760.5</td>\n",
       "      <td>SHOWROOM</td>\n",
       "    </tr>\n",
       "  </tbody>\n",
       "</table>\n",
       "</div>"
      ],
      "text/plain": [
       "                 FECHA                     CLIENTE  CANTIDAD         MODELO  \\\n",
       "0  2020-12-27 00:00:00               Andrea Carral       1.0    Geminis Top   \n",
       "1  2020-12-27 00:00:00               Andrea Carral       1.0           Maca   \n",
       "2  2020-12-30 00:00:00  Ana Paula Huitron Regalado       1.0        Naranjo   \n",
       "3  2020-12-30 00:00:00  Ana Paula Huitron Regalado       1.0  Milo Bodysuit   \n",
       "4  2020-01-02 00:00:00  El muchacho de lentes jeje       1.0         Margot   \n",
       "\n",
       "         COLOR TALLA  PRECIO DESCUENTO   TOTAL PUNTO DE VENTA  \n",
       "0  Ash/Lavanda     M   750.0      0.15   637.5        SHOPIFY  \n",
       "1      Lavanda     S   750.0      0.15   637.5        SHOPIFY  \n",
       "2      Lavanda     L  1590.0      0.15  1351.5        SHOPIFY  \n",
       "3   Herraduras     M  1780.0       NaN  1780.0        SHOPIFY  \n",
       "4          Tan     M   845.0       0.1   760.5       SHOWROOM  "
      ]
     },
     "execution_count": 13,
     "metadata": {},
     "output_type": "execute_result"
    }
   ],
   "source": [
    "df_salesB2C_2020.head()"
   ]
  },
  {
   "cell_type": "code",
   "execution_count": 14,
   "metadata": {},
   "outputs": [
    {
     "name": "stdout",
     "output_type": "stream",
     "text": [
      "<class 'pandas.core.frame.DataFrame'>\n",
      "RangeIndex: 165 entries, 0 to 164\n",
      "Data columns (total 10 columns):\n",
      " #   Column          Non-Null Count  Dtype  \n",
      "---  ------          --------------  -----  \n",
      " 0   FECHA           165 non-null    object \n",
      " 1   CLIENTE         165 non-null    object \n",
      " 2   CANTIDAD        164 non-null    float64\n",
      " 3   MODELO          164 non-null    object \n",
      " 4   COLOR           165 non-null    object \n",
      " 5   TALLA           163 non-null    object \n",
      " 6   PRECIO          163 non-null    float64\n",
      " 7   DESCUENTO       88 non-null     object \n",
      " 8   TOTAL           164 non-null    float64\n",
      " 9   PUNTO DE VENTA  155 non-null    object \n",
      "dtypes: float64(3), object(7)\n",
      "memory usage: 13.0+ KB\n"
     ]
    }
   ],
   "source": [
    "df_salesB2C_2020.info()"
   ]
  },
  {
   "cell_type": "code",
   "execution_count": 15,
   "metadata": {},
   "outputs": [
    {
     "data": {
      "text/html": [
       "<div>\n",
       "<style scoped>\n",
       "    .dataframe tbody tr th:only-of-type {\n",
       "        vertical-align: middle;\n",
       "    }\n",
       "\n",
       "    .dataframe tbody tr th {\n",
       "        vertical-align: top;\n",
       "    }\n",
       "\n",
       "    .dataframe thead th {\n",
       "        text-align: right;\n",
       "    }\n",
       "</style>\n",
       "<table border=\"1\" class=\"dataframe\">\n",
       "  <thead>\n",
       "    <tr style=\"text-align: right;\">\n",
       "      <th></th>\n",
       "      <th>Percentage_NaN</th>\n",
       "    </tr>\n",
       "  </thead>\n",
       "  <tbody>\n",
       "    <tr>\n",
       "      <th>DESCUENTO</th>\n",
       "      <td>46.7</td>\n",
       "    </tr>\n",
       "    <tr>\n",
       "      <th>PUNTO DE VENTA</th>\n",
       "      <td>6.1</td>\n",
       "    </tr>\n",
       "    <tr>\n",
       "      <th>TALLA</th>\n",
       "      <td>1.2</td>\n",
       "    </tr>\n",
       "    <tr>\n",
       "      <th>PRECIO</th>\n",
       "      <td>1.2</td>\n",
       "    </tr>\n",
       "    <tr>\n",
       "      <th>CANTIDAD</th>\n",
       "      <td>0.6</td>\n",
       "    </tr>\n",
       "    <tr>\n",
       "      <th>MODELO</th>\n",
       "      <td>0.6</td>\n",
       "    </tr>\n",
       "    <tr>\n",
       "      <th>TOTAL</th>\n",
       "      <td>0.6</td>\n",
       "    </tr>\n",
       "    <tr>\n",
       "      <th>FECHA</th>\n",
       "      <td>0.0</td>\n",
       "    </tr>\n",
       "    <tr>\n",
       "      <th>CLIENTE</th>\n",
       "      <td>0.0</td>\n",
       "    </tr>\n",
       "    <tr>\n",
       "      <th>COLOR</th>\n",
       "      <td>0.0</td>\n",
       "    </tr>\n",
       "  </tbody>\n",
       "</table>\n",
       "</div>"
      ],
      "text/plain": [
       "                Percentage_NaN\n",
       "DESCUENTO                 46.7\n",
       "PUNTO DE VENTA             6.1\n",
       "TALLA                      1.2\n",
       "PRECIO                     1.2\n",
       "CANTIDAD                   0.6\n",
       "MODELO                     0.6\n",
       "TOTAL                      0.6\n",
       "FECHA                      0.0\n",
       "CLIENTE                    0.0\n",
       "COLOR                      0.0"
      ]
     },
     "execution_count": 15,
     "metadata": {},
     "output_type": "execute_result"
    }
   ],
   "source": [
    "percentage_nullValues(df_salesB2C_2020)"
   ]
  },
  {
   "cell_type": "code",
   "execution_count": 16,
   "metadata": {},
   "outputs": [],
   "source": [
    "#Delete rows with 0.0 in total (exchanges or presents)"
   ]
  },
  {
   "cell_type": "code",
   "execution_count": 17,
   "metadata": {},
   "outputs": [],
   "source": [
    "df_salesB2C_2020.drop(df_salesB2C_2020[df_salesB2C_2020['TOTAL'] == 0].index, inplace = True) "
   ]
  },
  {
   "cell_type": "code",
   "execution_count": 18,
   "metadata": {},
   "outputs": [
    {
     "data": {
      "text/plain": [
       "(156, 10)"
      ]
     },
     "execution_count": 18,
     "metadata": {},
     "output_type": "execute_result"
    }
   ],
   "source": [
    "df_salesB2C_2020.shape"
   ]
  },
  {
   "cell_type": "markdown",
   "metadata": {},
   "source": [
    "## Dealing with NaN values "
   ]
  },
  {
   "cell_type": "code",
   "execution_count": 19,
   "metadata": {},
   "outputs": [
    {
     "data": {
      "text/html": [
       "<div>\n",
       "<style scoped>\n",
       "    .dataframe tbody tr th:only-of-type {\n",
       "        vertical-align: middle;\n",
       "    }\n",
       "\n",
       "    .dataframe tbody tr th {\n",
       "        vertical-align: top;\n",
       "    }\n",
       "\n",
       "    .dataframe thead th {\n",
       "        text-align: right;\n",
       "    }\n",
       "</style>\n",
       "<table border=\"1\" class=\"dataframe\">\n",
       "  <thead>\n",
       "    <tr style=\"text-align: right;\">\n",
       "      <th></th>\n",
       "      <th>FECHA</th>\n",
       "      <th>CLIENTE</th>\n",
       "      <th>CANTIDAD</th>\n",
       "      <th>MODELO</th>\n",
       "      <th>COLOR</th>\n",
       "      <th>TALLA</th>\n",
       "      <th>PRECIO</th>\n",
       "      <th>DESCUENTO</th>\n",
       "      <th>TOTAL</th>\n",
       "      <th>PUNTO DE VENTA</th>\n",
       "    </tr>\n",
       "  </thead>\n",
       "  <tbody>\n",
       "    <tr>\n",
       "      <th>56</th>\n",
       "      <td>2020-02-12 00:00:00</td>\n",
       "      <td>Marian Gomez</td>\n",
       "      <td>NaN</td>\n",
       "      <td>NaN</td>\n",
       "      <td>Bottom</td>\n",
       "      <td>S</td>\n",
       "      <td>NaN</td>\n",
       "      <td>NaN</td>\n",
       "      <td>NaN</td>\n",
       "      <td>SHOWROOM</td>\n",
       "    </tr>\n",
       "  </tbody>\n",
       "</table>\n",
       "</div>"
      ],
      "text/plain": [
       "                  FECHA       CLIENTE  CANTIDAD MODELO   COLOR TALLA  PRECIO  \\\n",
       "56  2020-02-12 00:00:00  Marian Gomez       NaN    NaN  Bottom     S     NaN   \n",
       "\n",
       "   DESCUENTO  TOTAL PUNTO DE VENTA  \n",
       "56       NaN    NaN       SHOWROOM  "
      ]
     },
     "execution_count": 19,
     "metadata": {},
     "output_type": "execute_result"
    }
   ],
   "source": [
    "df_salesB2C_2020[df_salesB2C_2020['TOTAL'].isna()]"
   ]
  },
  {
   "cell_type": "code",
   "execution_count": 20,
   "metadata": {},
   "outputs": [],
   "source": [
    "df_salesB2C_2020.at[56, 'CANTIDAD'] = 1"
   ]
  },
  {
   "cell_type": "code",
   "execution_count": 21,
   "metadata": {},
   "outputs": [],
   "source": [
    "df_salesB2C_2020.at[56, 'MODELO'] = 'Milo Set'"
   ]
  },
  {
   "cell_type": "code",
   "execution_count": 22,
   "metadata": {},
   "outputs": [],
   "source": [
    "df_salesB2C_2020.at[56, 'PRECIO'] = 0"
   ]
  },
  {
   "cell_type": "code",
   "execution_count": 23,
   "metadata": {},
   "outputs": [],
   "source": [
    "df_salesB2C_2020.at[56, 'DESCUENTO'] = 0"
   ]
  },
  {
   "cell_type": "code",
   "execution_count": 24,
   "metadata": {},
   "outputs": [],
   "source": [
    "df_salesB2C_2020.at[56, 'TOTAL'] = 0"
   ]
  },
  {
   "cell_type": "code",
   "execution_count": 25,
   "metadata": {},
   "outputs": [
    {
     "data": {
      "text/html": [
       "<div>\n",
       "<style scoped>\n",
       "    .dataframe tbody tr th:only-of-type {\n",
       "        vertical-align: middle;\n",
       "    }\n",
       "\n",
       "    .dataframe tbody tr th {\n",
       "        vertical-align: top;\n",
       "    }\n",
       "\n",
       "    .dataframe thead th {\n",
       "        text-align: right;\n",
       "    }\n",
       "</style>\n",
       "<table border=\"1\" class=\"dataframe\">\n",
       "  <thead>\n",
       "    <tr style=\"text-align: right;\">\n",
       "      <th></th>\n",
       "      <th>FECHA</th>\n",
       "      <th>CLIENTE</th>\n",
       "      <th>CANTIDAD</th>\n",
       "      <th>MODELO</th>\n",
       "      <th>COLOR</th>\n",
       "      <th>TALLA</th>\n",
       "      <th>PRECIO</th>\n",
       "      <th>DESCUENTO</th>\n",
       "      <th>TOTAL</th>\n",
       "      <th>PUNTO DE VENTA</th>\n",
       "    </tr>\n",
       "  </thead>\n",
       "  <tbody>\n",
       "  </tbody>\n",
       "</table>\n",
       "</div>"
      ],
      "text/plain": [
       "Empty DataFrame\n",
       "Columns: [FECHA, CLIENTE, CANTIDAD, MODELO, COLOR, TALLA, PRECIO, DESCUENTO, TOTAL, PUNTO DE VENTA]\n",
       "Index: []"
      ]
     },
     "execution_count": 25,
     "metadata": {},
     "output_type": "execute_result"
    }
   ],
   "source": [
    "df_salesB2C_2020[df_salesB2C_2020['TOTAL'].isna()]"
   ]
  },
  {
   "cell_type": "code",
   "execution_count": 26,
   "metadata": {},
   "outputs": [
    {
     "data": {
      "text/html": [
       "<div>\n",
       "<style scoped>\n",
       "    .dataframe tbody tr th:only-of-type {\n",
       "        vertical-align: middle;\n",
       "    }\n",
       "\n",
       "    .dataframe tbody tr th {\n",
       "        vertical-align: top;\n",
       "    }\n",
       "\n",
       "    .dataframe thead th {\n",
       "        text-align: right;\n",
       "    }\n",
       "</style>\n",
       "<table border=\"1\" class=\"dataframe\">\n",
       "  <thead>\n",
       "    <tr style=\"text-align: right;\">\n",
       "      <th></th>\n",
       "      <th>FECHA</th>\n",
       "      <th>CLIENTE</th>\n",
       "      <th>CANTIDAD</th>\n",
       "      <th>MODELO</th>\n",
       "      <th>COLOR</th>\n",
       "      <th>TALLA</th>\n",
       "      <th>PRECIO</th>\n",
       "      <th>DESCUENTO</th>\n",
       "      <th>TOTAL</th>\n",
       "      <th>PUNTO DE VENTA</th>\n",
       "    </tr>\n",
       "  </thead>\n",
       "  <tbody>\n",
       "    <tr>\n",
       "      <th>47</th>\n",
       "      <td>2020-02-04 00:00:00</td>\n",
       "      <td>sisilene glz ruv</td>\n",
       "      <td>1.0</td>\n",
       "      <td>eros</td>\n",
       "      <td>deep rose</td>\n",
       "      <td>NaN</td>\n",
       "      <td>750.0</td>\n",
       "      <td>NaN</td>\n",
       "      <td>750.0</td>\n",
       "      <td>SHOWROOM</td>\n",
       "    </tr>\n",
       "    <tr>\n",
       "      <th>48</th>\n",
       "      <td>2020-02-04 00:00:00</td>\n",
       "      <td>sisilene glz ruv</td>\n",
       "      <td>1.0</td>\n",
       "      <td>maca</td>\n",
       "      <td>black</td>\n",
       "      <td>NaN</td>\n",
       "      <td>650.0</td>\n",
       "      <td>0.1</td>\n",
       "      <td>585.0</td>\n",
       "      <td>SHOWROOM</td>\n",
       "    </tr>\n",
       "  </tbody>\n",
       "</table>\n",
       "</div>"
      ],
      "text/plain": [
       "                  FECHA           CLIENTE  CANTIDAD MODELO      COLOR TALLA  \\\n",
       "47  2020-02-04 00:00:00  sisilene glz ruv       1.0   eros  deep rose   NaN   \n",
       "48  2020-02-04 00:00:00  sisilene glz ruv       1.0   maca      black   NaN   \n",
       "\n",
       "    PRECIO DESCUENTO  TOTAL PUNTO DE VENTA  \n",
       "47   750.0       NaN  750.0       SHOWROOM  \n",
       "48   650.0       0.1  585.0       SHOWROOM  "
      ]
     },
     "execution_count": 26,
     "metadata": {},
     "output_type": "execute_result"
    }
   ],
   "source": [
    "df_salesB2C_2020[df_salesB2C_2020['TALLA'].isna()]"
   ]
  },
  {
   "cell_type": "code",
   "execution_count": 27,
   "metadata": {},
   "outputs": [],
   "source": [
    "df_salesB2C_2020['TALLA'] = df_salesB2C_2020['TALLA'].fillna('UNKNOWN')"
   ]
  },
  {
   "cell_type": "code",
   "execution_count": 28,
   "metadata": {},
   "outputs": [],
   "source": [
    "df_salesB2C_2020['DESCUENTO'] = df_salesB2C_2020['DESCUENTO'].fillna(0)"
   ]
  },
  {
   "cell_type": "code",
   "execution_count": 29,
   "metadata": {},
   "outputs": [
    {
     "data": {
      "text/html": [
       "<div>\n",
       "<style scoped>\n",
       "    .dataframe tbody tr th:only-of-type {\n",
       "        vertical-align: middle;\n",
       "    }\n",
       "\n",
       "    .dataframe tbody tr th {\n",
       "        vertical-align: top;\n",
       "    }\n",
       "\n",
       "    .dataframe thead th {\n",
       "        text-align: right;\n",
       "    }\n",
       "</style>\n",
       "<table border=\"1\" class=\"dataframe\">\n",
       "  <thead>\n",
       "    <tr style=\"text-align: right;\">\n",
       "      <th></th>\n",
       "      <th>FECHA</th>\n",
       "      <th>CLIENTE</th>\n",
       "      <th>CANTIDAD</th>\n",
       "      <th>MODELO</th>\n",
       "      <th>COLOR</th>\n",
       "      <th>TALLA</th>\n",
       "      <th>PRECIO</th>\n",
       "      <th>DESCUENTO</th>\n",
       "      <th>TOTAL</th>\n",
       "      <th>PUNTO DE VENTA</th>\n",
       "    </tr>\n",
       "  </thead>\n",
       "  <tbody>\n",
       "    <tr>\n",
       "      <th>25</th>\n",
       "      <td>2020-01-21 00:00:00</td>\n",
       "      <td>Ale vargas</td>\n",
       "      <td>1.0</td>\n",
       "      <td>Eros</td>\n",
       "      <td>Cherry</td>\n",
       "      <td>L</td>\n",
       "      <td>750.0</td>\n",
       "      <td>0</td>\n",
       "      <td>750.0</td>\n",
       "      <td>NaN</td>\n",
       "    </tr>\n",
       "    <tr>\n",
       "      <th>26</th>\n",
       "      <td>2020-01-21 00:00:00</td>\n",
       "      <td>Ale vargas</td>\n",
       "      <td>1.0</td>\n",
       "      <td>Jeronimo</td>\n",
       "      <td>Cherry</td>\n",
       "      <td>M</td>\n",
       "      <td>590.0</td>\n",
       "      <td>0</td>\n",
       "      <td>390.0</td>\n",
       "      <td>NaN</td>\n",
       "    </tr>\n",
       "    <tr>\n",
       "      <th>27</th>\n",
       "      <td>2020-01-21 00:00:00</td>\n",
       "      <td>Ale vargas</td>\n",
       "      <td>1.0</td>\n",
       "      <td>Libra</td>\n",
       "      <td>Tan</td>\n",
       "      <td>L</td>\n",
       "      <td>840.0</td>\n",
       "      <td>0</td>\n",
       "      <td>840.0</td>\n",
       "      <td>NaN</td>\n",
       "    </tr>\n",
       "    <tr>\n",
       "      <th>42</th>\n",
       "      <td>2020-01-30 00:00:00</td>\n",
       "      <td>TANIA</td>\n",
       "      <td>1.0</td>\n",
       "      <td>Milo Bottom</td>\n",
       "      <td>Herraduras</td>\n",
       "      <td>S</td>\n",
       "      <td>1780.0</td>\n",
       "      <td>0</td>\n",
       "      <td>1780.0</td>\n",
       "      <td>NaN</td>\n",
       "    </tr>\n",
       "    <tr>\n",
       "      <th>43</th>\n",
       "      <td>2020-01-30 00:00:00</td>\n",
       "      <td>TANIA</td>\n",
       "      <td>1.0</td>\n",
       "      <td>Eros</td>\n",
       "      <td>Tan</td>\n",
       "      <td>S</td>\n",
       "      <td>750.0</td>\n",
       "      <td>0</td>\n",
       "      <td>750.0</td>\n",
       "      <td>NaN</td>\n",
       "    </tr>\n",
       "    <tr>\n",
       "      <th>90</th>\n",
       "      <td>2020-03-13 00:00:00</td>\n",
       "      <td>Marisol Martin Intriago</td>\n",
       "      <td>1.0</td>\n",
       "      <td>Libra</td>\n",
       "      <td>Cherry</td>\n",
       "      <td>L</td>\n",
       "      <td>845.0</td>\n",
       "      <td>0.3</td>\n",
       "      <td>591.5</td>\n",
       "      <td>NaN</td>\n",
       "    </tr>\n",
       "    <tr>\n",
       "      <th>91</th>\n",
       "      <td>2020-03-13 00:00:00</td>\n",
       "      <td>Marisol Martin Intriago</td>\n",
       "      <td>1.0</td>\n",
       "      <td>Leandro</td>\n",
       "      <td>Cherry</td>\n",
       "      <td>L</td>\n",
       "      <td>845.0</td>\n",
       "      <td>0.3</td>\n",
       "      <td>591.5</td>\n",
       "      <td>NaN</td>\n",
       "    </tr>\n",
       "    <tr>\n",
       "      <th>129</th>\n",
       "      <td>2020-04-27 00:00:00</td>\n",
       "      <td>Fer Alcantara</td>\n",
       "      <td>1.0</td>\n",
       "      <td>Eros</td>\n",
       "      <td>Ash</td>\n",
       "      <td>M</td>\n",
       "      <td>750.0</td>\n",
       "      <td>0.35</td>\n",
       "      <td>487.5</td>\n",
       "      <td>NaN</td>\n",
       "    </tr>\n",
       "  </tbody>\n",
       "</table>\n",
       "</div>"
      ],
      "text/plain": [
       "                   FECHA                  CLIENTE  CANTIDAD       MODELO  \\\n",
       "25   2020-01-21 00:00:00               Ale vargas       1.0         Eros   \n",
       "26   2020-01-21 00:00:00               Ale vargas       1.0     Jeronimo   \n",
       "27   2020-01-21 00:00:00               Ale vargas       1.0        Libra   \n",
       "42   2020-01-30 00:00:00                    TANIA       1.0  Milo Bottom   \n",
       "43   2020-01-30 00:00:00                    TANIA       1.0         Eros   \n",
       "90   2020-03-13 00:00:00  Marisol Martin Intriago       1.0        Libra   \n",
       "91   2020-03-13 00:00:00  Marisol Martin Intriago       1.0      Leandro   \n",
       "129  2020-04-27 00:00:00            Fer Alcantara       1.0         Eros   \n",
       "\n",
       "          COLOR TALLA  PRECIO DESCUENTO   TOTAL PUNTO DE VENTA  \n",
       "25       Cherry     L   750.0         0   750.0            NaN  \n",
       "26       Cherry     M   590.0         0   390.0            NaN  \n",
       "27          Tan     L   840.0         0   840.0            NaN  \n",
       "42   Herraduras     S  1780.0         0  1780.0            NaN  \n",
       "43          Tan     S   750.0         0   750.0            NaN  \n",
       "90       Cherry     L   845.0       0.3   591.5            NaN  \n",
       "91       Cherry     L   845.0       0.3   591.5            NaN  \n",
       "129         Ash     M   750.0      0.35   487.5            NaN  "
      ]
     },
     "execution_count": 29,
     "metadata": {},
     "output_type": "execute_result"
    }
   ],
   "source": [
    "df_salesB2C_2020[df_salesB2C_2020['PUNTO DE VENTA'].isna()]"
   ]
  },
  {
   "cell_type": "code",
   "execution_count": 30,
   "metadata": {},
   "outputs": [
    {
     "data": {
      "text/plain": [
       "SHOPIFY      61\n",
       "SHOWROOM     60\n",
       "INSTAGRAM    27\n",
       "Name: PUNTO DE VENTA, dtype: int64"
      ]
     },
     "execution_count": 30,
     "metadata": {},
     "output_type": "execute_result"
    }
   ],
   "source": [
    "df_salesB2C_2020['PUNTO DE VENTA'].value_counts()"
   ]
  },
  {
   "cell_type": "code",
   "execution_count": 31,
   "metadata": {},
   "outputs": [],
   "source": [
    "df_salesB2C_2020['PUNTO DE VENTA'] = df_salesB2C_2020['PUNTO DE VENTA'].fillna('UNKNOWN')"
   ]
  },
  {
   "cell_type": "code",
   "execution_count": 32,
   "metadata": {},
   "outputs": [
    {
     "data": {
      "text/html": [
       "<div>\n",
       "<style scoped>\n",
       "    .dataframe tbody tr th:only-of-type {\n",
       "        vertical-align: middle;\n",
       "    }\n",
       "\n",
       "    .dataframe tbody tr th {\n",
       "        vertical-align: top;\n",
       "    }\n",
       "\n",
       "    .dataframe thead th {\n",
       "        text-align: right;\n",
       "    }\n",
       "</style>\n",
       "<table border=\"1\" class=\"dataframe\">\n",
       "  <thead>\n",
       "    <tr style=\"text-align: right;\">\n",
       "      <th></th>\n",
       "      <th>Percentage_NaN</th>\n",
       "    </tr>\n",
       "  </thead>\n",
       "  <tbody>\n",
       "    <tr>\n",
       "      <th>FECHA</th>\n",
       "      <td>0.0</td>\n",
       "    </tr>\n",
       "    <tr>\n",
       "      <th>CLIENTE</th>\n",
       "      <td>0.0</td>\n",
       "    </tr>\n",
       "    <tr>\n",
       "      <th>CANTIDAD</th>\n",
       "      <td>0.0</td>\n",
       "    </tr>\n",
       "    <tr>\n",
       "      <th>MODELO</th>\n",
       "      <td>0.0</td>\n",
       "    </tr>\n",
       "    <tr>\n",
       "      <th>COLOR</th>\n",
       "      <td>0.0</td>\n",
       "    </tr>\n",
       "    <tr>\n",
       "      <th>TALLA</th>\n",
       "      <td>0.0</td>\n",
       "    </tr>\n",
       "    <tr>\n",
       "      <th>PRECIO</th>\n",
       "      <td>0.0</td>\n",
       "    </tr>\n",
       "    <tr>\n",
       "      <th>DESCUENTO</th>\n",
       "      <td>0.0</td>\n",
       "    </tr>\n",
       "    <tr>\n",
       "      <th>TOTAL</th>\n",
       "      <td>0.0</td>\n",
       "    </tr>\n",
       "    <tr>\n",
       "      <th>PUNTO DE VENTA</th>\n",
       "      <td>0.0</td>\n",
       "    </tr>\n",
       "  </tbody>\n",
       "</table>\n",
       "</div>"
      ],
      "text/plain": [
       "                Percentage_NaN\n",
       "FECHA                      0.0\n",
       "CLIENTE                    0.0\n",
       "CANTIDAD                   0.0\n",
       "MODELO                     0.0\n",
       "COLOR                      0.0\n",
       "TALLA                      0.0\n",
       "PRECIO                     0.0\n",
       "DESCUENTO                  0.0\n",
       "TOTAL                      0.0\n",
       "PUNTO DE VENTA             0.0"
      ]
     },
     "execution_count": 32,
     "metadata": {},
     "output_type": "execute_result"
    }
   ],
   "source": [
    "percentage_nullValues(df_salesB2C_2020)"
   ]
  },
  {
   "cell_type": "code",
   "execution_count": 33,
   "metadata": {},
   "outputs": [
    {
     "name": "stdout",
     "output_type": "stream",
     "text": [
      "<class 'pandas.core.frame.DataFrame'>\n",
      "Int64Index: 156 entries, 0 to 164\n",
      "Data columns (total 10 columns):\n",
      " #   Column          Non-Null Count  Dtype  \n",
      "---  ------          --------------  -----  \n",
      " 0   FECHA           156 non-null    object \n",
      " 1   CLIENTE         156 non-null    object \n",
      " 2   CANTIDAD        156 non-null    float64\n",
      " 3   MODELO          156 non-null    object \n",
      " 4   COLOR           156 non-null    object \n",
      " 5   TALLA           156 non-null    object \n",
      " 6   PRECIO          156 non-null    float64\n",
      " 7   DESCUENTO       156 non-null    object \n",
      " 8   TOTAL           156 non-null    float64\n",
      " 9   PUNTO DE VENTA  156 non-null    object \n",
      "dtypes: float64(3), object(7)\n",
      "memory usage: 18.4+ KB\n"
     ]
    }
   ],
   "source": [
    "df_salesB2C_2020.info()"
   ]
  },
  {
   "cell_type": "code",
   "execution_count": 34,
   "metadata": {},
   "outputs": [
    {
     "data": {
      "text/plain": [
       "0       68\n",
       "0.1     28\n",
       "0.15    20\n",
       "0.25    13\n",
       "0.2      9\n",
       "0.3      8\n",
       "0.35     4\n",
       "0.4      3\n",
       "0.32     2\n",
       "sale     1\n",
       "Name: DESCUENTO, dtype: int64"
      ]
     },
     "execution_count": 34,
     "metadata": {},
     "output_type": "execute_result"
    }
   ],
   "source": [
    "df_salesB2C_2020['DESCUENTO'].value_counts()"
   ]
  },
  {
   "cell_type": "code",
   "execution_count": 35,
   "metadata": {},
   "outputs": [
    {
     "data": {
      "text/html": [
       "<div>\n",
       "<style scoped>\n",
       "    .dataframe tbody tr th:only-of-type {\n",
       "        vertical-align: middle;\n",
       "    }\n",
       "\n",
       "    .dataframe tbody tr th {\n",
       "        vertical-align: top;\n",
       "    }\n",
       "\n",
       "    .dataframe thead th {\n",
       "        text-align: right;\n",
       "    }\n",
       "</style>\n",
       "<table border=\"1\" class=\"dataframe\">\n",
       "  <thead>\n",
       "    <tr style=\"text-align: right;\">\n",
       "      <th></th>\n",
       "      <th>FECHA</th>\n",
       "      <th>CLIENTE</th>\n",
       "      <th>CANTIDAD</th>\n",
       "      <th>MODELO</th>\n",
       "      <th>COLOR</th>\n",
       "      <th>TALLA</th>\n",
       "      <th>PRECIO</th>\n",
       "      <th>DESCUENTO</th>\n",
       "      <th>TOTAL</th>\n",
       "      <th>PUNTO DE VENTA</th>\n",
       "    </tr>\n",
       "  </thead>\n",
       "  <tbody>\n",
       "    <tr>\n",
       "      <th>34</th>\n",
       "      <td>2020-01-24 00:00:00</td>\n",
       "      <td>alexa arvizu (26 jun)</td>\n",
       "      <td>1.0</td>\n",
       "      <td>Maria Bottom</td>\n",
       "      <td>Verde</td>\n",
       "      <td>L</td>\n",
       "      <td>100.0</td>\n",
       "      <td>sale</td>\n",
       "      <td>100.0</td>\n",
       "      <td>SHOWROOM</td>\n",
       "    </tr>\n",
       "  </tbody>\n",
       "</table>\n",
       "</div>"
      ],
      "text/plain": [
       "                  FECHA                CLIENTE  CANTIDAD        MODELO  COLOR  \\\n",
       "34  2020-01-24 00:00:00  alexa arvizu (26 jun)       1.0  Maria Bottom  Verde   \n",
       "\n",
       "   TALLA  PRECIO DESCUENTO  TOTAL PUNTO DE VENTA  \n",
       "34     L   100.0      sale  100.0       SHOWROOM  "
      ]
     },
     "execution_count": 35,
     "metadata": {},
     "output_type": "execute_result"
    }
   ],
   "source": [
    "df_salesB2C_2020[df_salesB2C_2020['DESCUENTO'] == 'sale']"
   ]
  },
  {
   "cell_type": "code",
   "execution_count": 36,
   "metadata": {},
   "outputs": [],
   "source": [
    "df_salesB2C_2020.at[34, 'DESCUENTO'] = 0"
   ]
  },
  {
   "cell_type": "code",
   "execution_count": 37,
   "metadata": {},
   "outputs": [],
   "source": [
    "df_salesB2C_2020['DESCUENTO'] = df_salesB2C_2020['DESCUENTO'].astype('float64', copy = True)"
   ]
  },
  {
   "cell_type": "code",
   "execution_count": 38,
   "metadata": {},
   "outputs": [
    {
     "name": "stdout",
     "output_type": "stream",
     "text": [
      "<class 'pandas.core.frame.DataFrame'>\n",
      "Int64Index: 156 entries, 0 to 164\n",
      "Data columns (total 10 columns):\n",
      " #   Column          Non-Null Count  Dtype  \n",
      "---  ------          --------------  -----  \n",
      " 0   FECHA           156 non-null    object \n",
      " 1   CLIENTE         156 non-null    object \n",
      " 2   CANTIDAD        156 non-null    float64\n",
      " 3   MODELO          156 non-null    object \n",
      " 4   COLOR           156 non-null    object \n",
      " 5   TALLA           156 non-null    object \n",
      " 6   PRECIO          156 non-null    float64\n",
      " 7   DESCUENTO       156 non-null    float64\n",
      " 8   TOTAL           156 non-null    float64\n",
      " 9   PUNTO DE VENTA  156 non-null    object \n",
      "dtypes: float64(4), object(6)\n",
      "memory usage: 18.4+ KB\n"
     ]
    }
   ],
   "source": [
    "df_salesB2C_2020.info()"
   ]
  },
  {
   "cell_type": "code",
   "execution_count": 39,
   "metadata": {},
   "outputs": [],
   "source": [
    "df_salesB2C_2020['MODELO'] = df_salesB2C_2020['MODELO'].str.lower()"
   ]
  },
  {
   "cell_type": "code",
   "execution_count": 40,
   "metadata": {},
   "outputs": [],
   "source": [
    "df_salesB2C_2020['COLOR'] = df_salesB2C_2020['COLOR'].str.lower()"
   ]
  },
  {
   "cell_type": "code",
   "execution_count": 41,
   "metadata": {},
   "outputs": [
    {
     "data": {
      "text/html": [
       "<div>\n",
       "<style scoped>\n",
       "    .dataframe tbody tr th:only-of-type {\n",
       "        vertical-align: middle;\n",
       "    }\n",
       "\n",
       "    .dataframe tbody tr th {\n",
       "        vertical-align: top;\n",
       "    }\n",
       "\n",
       "    .dataframe thead th {\n",
       "        text-align: right;\n",
       "    }\n",
       "</style>\n",
       "<table border=\"1\" class=\"dataframe\">\n",
       "  <thead>\n",
       "    <tr style=\"text-align: right;\">\n",
       "      <th></th>\n",
       "      <th>FECHA</th>\n",
       "      <th>CLIENTE</th>\n",
       "      <th>CANTIDAD</th>\n",
       "      <th>MODELO</th>\n",
       "      <th>COLOR</th>\n",
       "      <th>TALLA</th>\n",
       "      <th>PRECIO</th>\n",
       "      <th>DESCUENTO</th>\n",
       "      <th>TOTAL</th>\n",
       "      <th>PUNTO DE VENTA</th>\n",
       "    </tr>\n",
       "  </thead>\n",
       "  <tbody>\n",
       "    <tr>\n",
       "      <th>0</th>\n",
       "      <td>2020-12-27 00:00:00</td>\n",
       "      <td>Andrea Carral</td>\n",
       "      <td>1.0</td>\n",
       "      <td>geminis top</td>\n",
       "      <td>ash/lavanda</td>\n",
       "      <td>M</td>\n",
       "      <td>750.0</td>\n",
       "      <td>0.15</td>\n",
       "      <td>637.5</td>\n",
       "      <td>SHOPIFY</td>\n",
       "    </tr>\n",
       "    <tr>\n",
       "      <th>1</th>\n",
       "      <td>2020-12-27 00:00:00</td>\n",
       "      <td>Andrea Carral</td>\n",
       "      <td>1.0</td>\n",
       "      <td>maca</td>\n",
       "      <td>lavanda</td>\n",
       "      <td>S</td>\n",
       "      <td>750.0</td>\n",
       "      <td>0.15</td>\n",
       "      <td>637.5</td>\n",
       "      <td>SHOPIFY</td>\n",
       "    </tr>\n",
       "    <tr>\n",
       "      <th>2</th>\n",
       "      <td>2020-12-30 00:00:00</td>\n",
       "      <td>Ana Paula Huitron Regalado</td>\n",
       "      <td>1.0</td>\n",
       "      <td>naranjo</td>\n",
       "      <td>lavanda</td>\n",
       "      <td>L</td>\n",
       "      <td>1590.0</td>\n",
       "      <td>0.15</td>\n",
       "      <td>1351.5</td>\n",
       "      <td>SHOPIFY</td>\n",
       "    </tr>\n",
       "    <tr>\n",
       "      <th>3</th>\n",
       "      <td>2020-12-30 00:00:00</td>\n",
       "      <td>Ana Paula Huitron Regalado</td>\n",
       "      <td>1.0</td>\n",
       "      <td>milo bodysuit</td>\n",
       "      <td>herraduras</td>\n",
       "      <td>M</td>\n",
       "      <td>1780.0</td>\n",
       "      <td>0.00</td>\n",
       "      <td>1780.0</td>\n",
       "      <td>SHOPIFY</td>\n",
       "    </tr>\n",
       "    <tr>\n",
       "      <th>4</th>\n",
       "      <td>2020-01-02 00:00:00</td>\n",
       "      <td>El muchacho de lentes jeje</td>\n",
       "      <td>1.0</td>\n",
       "      <td>margot</td>\n",
       "      <td>tan</td>\n",
       "      <td>M</td>\n",
       "      <td>845.0</td>\n",
       "      <td>0.10</td>\n",
       "      <td>760.5</td>\n",
       "      <td>SHOWROOM</td>\n",
       "    </tr>\n",
       "  </tbody>\n",
       "</table>\n",
       "</div>"
      ],
      "text/plain": [
       "                 FECHA                     CLIENTE  CANTIDAD         MODELO  \\\n",
       "0  2020-12-27 00:00:00               Andrea Carral       1.0    geminis top   \n",
       "1  2020-12-27 00:00:00               Andrea Carral       1.0           maca   \n",
       "2  2020-12-30 00:00:00  Ana Paula Huitron Regalado       1.0        naranjo   \n",
       "3  2020-12-30 00:00:00  Ana Paula Huitron Regalado       1.0  milo bodysuit   \n",
       "4  2020-01-02 00:00:00  El muchacho de lentes jeje       1.0         margot   \n",
       "\n",
       "         COLOR TALLA  PRECIO  DESCUENTO   TOTAL PUNTO DE VENTA  \n",
       "0  ash/lavanda     M   750.0       0.15   637.5        SHOPIFY  \n",
       "1      lavanda     S   750.0       0.15   637.5        SHOPIFY  \n",
       "2      lavanda     L  1590.0       0.15  1351.5        SHOPIFY  \n",
       "3   herraduras     M  1780.0       0.00  1780.0        SHOPIFY  \n",
       "4          tan     M   845.0       0.10   760.5       SHOWROOM  "
      ]
     },
     "execution_count": 41,
     "metadata": {},
     "output_type": "execute_result"
    }
   ],
   "source": [
    "df_salesB2C_2020.head()"
   ]
  },
  {
   "cell_type": "code",
   "execution_count": 42,
   "metadata": {},
   "outputs": [
    {
     "data": {
      "text/plain": [
       "array(['geminis top', 'maca', 'naranjo', 'milo bodysuit', 'margot',\n",
       "       'pastora', 'palma bottom', 'maria top', 'top muestra', 'olivia',\n",
       "       'eros', 'leandro', 'milo top', 'lola bottom', 'milo set',\n",
       "       'lola   ', 'emilia', 'consuelo', 'jeronimo', 'libra', 'top maria',\n",
       "       'candela', 'maria bottom', 'paloma', 'marcelo set', 'milo bottom',\n",
       "       'apolo', 'leo', 'lola', 'milo', 'aries', 'naranjo 2.0', 'venus',\n",
       "       'geminis btt', 'lucia', 'marcelo', 'la luna', 'el sol',\n",
       "       'la nostalgia', 'la suerte', 'karma', '3gracias'], dtype=object)"
      ]
     },
     "execution_count": 42,
     "metadata": {},
     "output_type": "execute_result"
    }
   ],
   "source": [
    "df_salesB2C_2020.MODELO.unique()"
   ]
  },
  {
   "cell_type": "code",
   "execution_count": 43,
   "metadata": {},
   "outputs": [],
   "source": [
    "df_salesB2C_2020.MODELO = df_salesB2C_2020.MODELO.str.rstrip()"
   ]
  },
  {
   "cell_type": "code",
   "execution_count": 44,
   "metadata": {},
   "outputs": [
    {
     "data": {
      "text/plain": [
       "41"
      ]
     },
     "execution_count": 44,
     "metadata": {},
     "output_type": "execute_result"
    }
   ],
   "source": [
    "df_salesB2C_2020.MODELO.nunique()"
   ]
  },
  {
   "cell_type": "code",
   "execution_count": 45,
   "metadata": {},
   "outputs": [],
   "source": [
    "mapping  = {'milo set': 'milo', 'top maria':'maria top', 'milo bodysuit': 'milo',\n",
    "             'marcelo set': 'marcelo', 'geminis btt': 'geminis bottom', 'naranjo 2.0': 'naranjo'}\n",
    "\n",
    "df_salesB2C_2020['MODELO'].replace(mapping, inplace=True)"
   ]
  },
  {
   "cell_type": "code",
   "execution_count": 46,
   "metadata": {},
   "outputs": [],
   "source": [
    "df_salesB2C_2020.loc[(df_salesB2C_2020.PRECIO >= 1000),'MODELO']= df_salesB2C_2020['MODELO'].astype(str) + ' ' + 'bodysuit'"
   ]
  },
  {
   "cell_type": "code",
   "execution_count": 47,
   "metadata": {},
   "outputs": [
    {
     "data": {
      "text/plain": [
       "array(['geminis top', 'maca', 'naranjo bodysuit', 'milo bodysuit',\n",
       "       'margot', 'pastora bodysuit', 'palma bottom', 'maria top',\n",
       "       'top muestra', 'olivia bodysuit', 'eros', 'leandro', 'milo top',\n",
       "       'lola bottom', 'lola', 'emilia bodysuit', 'consuelo bodysuit',\n",
       "       'jeronimo', 'libra', 'candela', 'maria bottom', 'paloma bodysuit',\n",
       "       'marcelo bodysuit', 'milo bottom bodysuit', 'apolo', 'leo', 'milo',\n",
       "       'aries', 'venus bodysuit', 'geminis bottom', 'lucia', 'la luna',\n",
       "       'el sol', 'la nostalgia bodysuit', 'la suerte bodysuit', 'karma',\n",
       "       '3gracias bodysuit'], dtype=object)"
      ]
     },
     "execution_count": 47,
     "metadata": {},
     "output_type": "execute_result"
    }
   ],
   "source": [
    "df_salesB2C_2020.MODELO.unique()"
   ]
  },
  {
   "cell_type": "code",
   "execution_count": 48,
   "metadata": {},
   "outputs": [],
   "source": [
    "df_salesB2C_2020.to_csv('SalesB2C_2020.csv')"
   ]
  }
 ],
 "metadata": {
  "hide_input": false,
  "kernelspec": {
   "display_name": "Python 3",
   "language": "python",
   "name": "python3"
  },
  "language_info": {
   "codemirror_mode": {
    "name": "ipython",
    "version": 3
   },
   "file_extension": ".py",
   "mimetype": "text/x-python",
   "name": "python",
   "nbconvert_exporter": "python",
   "pygments_lexer": "ipython3",
   "version": "3.7.9"
  },
  "toc": {
   "base_numbering": 1,
   "nav_menu": {},
   "number_sections": true,
   "sideBar": true,
   "skip_h1_title": false,
   "title_cell": "Table of Contents",
   "title_sidebar": "Contents",
   "toc_cell": false,
   "toc_position": {},
   "toc_section_display": true,
   "toc_window_display": false
  }
 },
 "nbformat": 4,
 "nbformat_minor": 4
}
