{
 "cells": [
  {
   "cell_type": "code",
   "execution_count": 1,
   "metadata": {},
   "outputs": [],
   "source": [
    "import seaborn as sns\n",
    "import matplotlib.pyplot as plt\n",
    "\n",
    "import pandas as pd\n",
    "import numpy as np\n",
    "import plotly.express as px"
   ]
  },
  {
   "cell_type": "code",
   "execution_count": 2,
   "metadata": {},
   "outputs": [
    {
     "data": {
      "text/html": [
       "        <script type=\"text/javascript\">\n",
       "        window.PlotlyConfig = {MathJaxConfig: 'local'};\n",
       "        if (window.MathJax) {MathJax.Hub.Config({SVG: {font: \"STIX-Web\"}});}\n",
       "        if (typeof require !== 'undefined') {\n",
       "        require.undef(\"plotly\");\n",
       "        requirejs.config({\n",
       "            paths: {\n",
       "                'plotly': ['https://cdn.plot.ly/plotly-latest.min']\n",
       "            }\n",
       "        });\n",
       "        require(['plotly'], function(Plotly) {\n",
       "            window._Plotly = Plotly;\n",
       "        });\n",
       "        }\n",
       "        </script>\n",
       "        "
      ]
     },
     "metadata": {},
     "output_type": "display_data"
    },
    {
     "data": {
      "text/html": [
       "        <script type=\"text/javascript\">\n",
       "        window.PlotlyConfig = {MathJaxConfig: 'local'};\n",
       "        if (window.MathJax) {MathJax.Hub.Config({SVG: {font: \"STIX-Web\"}});}\n",
       "        if (typeof require !== 'undefined') {\n",
       "        require.undef(\"plotly\");\n",
       "        requirejs.config({\n",
       "            paths: {\n",
       "                'plotly': ['https://cdn.plot.ly/plotly-latest.min']\n",
       "            }\n",
       "        });\n",
       "        require(['plotly'], function(Plotly) {\n",
       "            window._Plotly = Plotly;\n",
       "        });\n",
       "        }\n",
       "        </script>\n",
       "        "
      ]
     },
     "metadata": {},
     "output_type": "display_data"
    },
    {
     "data": {
      "text/html": [
       "        <script type=\"text/javascript\">\n",
       "        window.PlotlyConfig = {MathJaxConfig: 'local'};\n",
       "        if (window.MathJax) {MathJax.Hub.Config({SVG: {font: \"STIX-Web\"}});}\n",
       "        if (typeof require !== 'undefined') {\n",
       "        require.undef(\"plotly\");\n",
       "        requirejs.config({\n",
       "            paths: {\n",
       "                'plotly': ['https://cdn.plot.ly/plotly-latest.min']\n",
       "            }\n",
       "        });\n",
       "        require(['plotly'], function(Plotly) {\n",
       "            window._Plotly = Plotly;\n",
       "        });\n",
       "        }\n",
       "        </script>\n",
       "        "
      ]
     },
     "metadata": {},
     "output_type": "display_data"
    }
   ],
   "source": [
    "import sys  \n",
    "sys.path.insert(0, r'C:/Users/jugat/Documents/a_JUGATX/FORMACION/DATA SCIENCE/Functions')\n",
    "\n",
    "from fx_OUTLIERS import *\n",
    "from functions_plot_EDA import *\n",
    "from My_EDA_Functions_library import*\n",
    "from My_EDA_Visualisation_Functions_library import*"
   ]
  },
  {
   "cell_type": "code",
   "execution_count": null,
   "metadata": {},
   "outputs": [],
   "source": [
    "# Following on from MalaSW_03_SalesCARAVANA_2019 -"
   ]
  },
  {
   "cell_type": "markdown",
   "metadata": {},
   "source": [
    "# import inventory and return datasets for substraction"
   ]
  },
  {
   "cell_type": "code",
   "execution_count": 3,
   "metadata": {},
   "outputs": [],
   "source": [
    "df_inv = pd.read_csv('../datasets/Sales/Caravana/Inventory.csv', index_col=0)"
   ]
  },
  {
   "cell_type": "code",
   "execution_count": 4,
   "metadata": {},
   "outputs": [],
   "source": [
    "df_ret = pd.read_csv('../datasets/Sales/Caravana/Return.csv', index_col=0)"
   ]
  },
  {
   "cell_type": "code",
   "execution_count": 5,
   "metadata": {},
   "outputs": [
    {
     "data": {
      "text/html": [
       "<div>\n",
       "<style scoped>\n",
       "    .dataframe tbody tr th:only-of-type {\n",
       "        vertical-align: middle;\n",
       "    }\n",
       "\n",
       "    .dataframe tbody tr th {\n",
       "        vertical-align: top;\n",
       "    }\n",
       "\n",
       "    .dataframe thead th {\n",
       "        text-align: right;\n",
       "    }\n",
       "</style>\n",
       "<table border=\"1\" class=\"dataframe\">\n",
       "  <thead>\n",
       "    <tr style=\"text-align: right;\">\n",
       "      <th></th>\n",
       "      <th>MODELO</th>\n",
       "      <th>COLOR</th>\n",
       "      <th>TALLA</th>\n",
       "      <th>CANTIDAD</th>\n",
       "    </tr>\n",
       "  </thead>\n",
       "  <tbody>\n",
       "    <tr>\n",
       "      <th>1</th>\n",
       "      <td>3gracias bodysuit</td>\n",
       "      <td>lavender / ash / coral</td>\n",
       "      <td>ch</td>\n",
       "      <td>1.0</td>\n",
       "    </tr>\n",
       "    <tr>\n",
       "      <th>2</th>\n",
       "      <td>3gracias bodysuit</td>\n",
       "      <td>lavender / ash / coral</td>\n",
       "      <td>m</td>\n",
       "      <td>1.0</td>\n",
       "    </tr>\n",
       "    <tr>\n",
       "      <th>3</th>\n",
       "      <td>3gracias bodysuit</td>\n",
       "      <td>lavender / ash / coral</td>\n",
       "      <td>g</td>\n",
       "      <td>1.0</td>\n",
       "    </tr>\n",
       "    <tr>\n",
       "      <th>4</th>\n",
       "      <td>gracia bodysuit</td>\n",
       "      <td>lavender</td>\n",
       "      <td>ch</td>\n",
       "      <td>2.0</td>\n",
       "    </tr>\n",
       "    <tr>\n",
       "      <th>5</th>\n",
       "      <td>gracia bodysuit</td>\n",
       "      <td>lavender</td>\n",
       "      <td>m</td>\n",
       "      <td>1.0</td>\n",
       "    </tr>\n",
       "    <tr>\n",
       "      <th>...</th>\n",
       "      <td>...</td>\n",
       "      <td>...</td>\n",
       "      <td>...</td>\n",
       "      <td>...</td>\n",
       "    </tr>\n",
       "    <tr>\n",
       "      <th>112</th>\n",
       "      <td>consuelo bodysuit</td>\n",
       "      <td>negro</td>\n",
       "      <td>m</td>\n",
       "      <td>1.0</td>\n",
       "    </tr>\n",
       "    <tr>\n",
       "      <th>113</th>\n",
       "      <td>consuelo bodysuit</td>\n",
       "      <td>negro</td>\n",
       "      <td>g</td>\n",
       "      <td>1.0</td>\n",
       "    </tr>\n",
       "    <tr>\n",
       "      <th>114</th>\n",
       "      <td>caña bodysuit</td>\n",
       "      <td>blanco</td>\n",
       "      <td>ch</td>\n",
       "      <td>2.0</td>\n",
       "    </tr>\n",
       "    <tr>\n",
       "      <th>115</th>\n",
       "      <td>caña bodysuit</td>\n",
       "      <td>blanco</td>\n",
       "      <td>m</td>\n",
       "      <td>1.0</td>\n",
       "    </tr>\n",
       "    <tr>\n",
       "      <th>116</th>\n",
       "      <td>caña bodysuit</td>\n",
       "      <td>blanco</td>\n",
       "      <td>g</td>\n",
       "      <td>2.0</td>\n",
       "    </tr>\n",
       "  </tbody>\n",
       "</table>\n",
       "<p>106 rows × 4 columns</p>\n",
       "</div>"
      ],
      "text/plain": [
       "                MODELO                   COLOR TALLA  CANTIDAD\n",
       "1    3gracias bodysuit  lavender / ash / coral    ch       1.0\n",
       "2    3gracias bodysuit  lavender / ash / coral    m        1.0\n",
       "3    3gracias bodysuit  lavender / ash / coral     g       1.0\n",
       "4      gracia bodysuit                lavender    ch       2.0\n",
       "5      gracia bodysuit                lavender    m        1.0\n",
       "..                 ...                     ...   ...       ...\n",
       "112  consuelo bodysuit                   negro     m       1.0\n",
       "113  consuelo bodysuit                   negro     g       1.0\n",
       "114      caña bodysuit                  blanco    ch       2.0\n",
       "115      caña bodysuit                  blanco     m       1.0\n",
       "116      caña bodysuit                  blanco     g       2.0\n",
       "\n",
       "[106 rows x 4 columns]"
      ]
     },
     "execution_count": 5,
     "metadata": {},
     "output_type": "execute_result"
    }
   ],
   "source": [
    "df_inv"
   ]
  },
  {
   "cell_type": "code",
   "execution_count": 6,
   "metadata": {},
   "outputs": [
    {
     "data": {
      "text/html": [
       "<div>\n",
       "<style scoped>\n",
       "    .dataframe tbody tr th:only-of-type {\n",
       "        vertical-align: middle;\n",
       "    }\n",
       "\n",
       "    .dataframe tbody tr th {\n",
       "        vertical-align: top;\n",
       "    }\n",
       "\n",
       "    .dataframe thead th {\n",
       "        text-align: right;\n",
       "    }\n",
       "</style>\n",
       "<table border=\"1\" class=\"dataframe\">\n",
       "  <thead>\n",
       "    <tr style=\"text-align: right;\">\n",
       "      <th></th>\n",
       "      <th>MODELO</th>\n",
       "      <th>COLOR</th>\n",
       "      <th>TALLA</th>\n",
       "      <th>CANTIDAD</th>\n",
       "    </tr>\n",
       "  </thead>\n",
       "  <tbody>\n",
       "    <tr>\n",
       "      <th>0</th>\n",
       "      <td>caña bodysuit</td>\n",
       "      <td>blanco</td>\n",
       "      <td>ch</td>\n",
       "      <td>1</td>\n",
       "    </tr>\n",
       "    <tr>\n",
       "      <th>1</th>\n",
       "      <td>consuelo bodysuit</td>\n",
       "      <td>negro</td>\n",
       "      <td>g</td>\n",
       "      <td>1</td>\n",
       "    </tr>\n",
       "    <tr>\n",
       "      <th>2</th>\n",
       "      <td>florencia bodysuit</td>\n",
       "      <td>bicolor</td>\n",
       "      <td>ch</td>\n",
       "      <td>1</td>\n",
       "    </tr>\n",
       "    <tr>\n",
       "      <th>3</th>\n",
       "      <td>florencia bodysuit</td>\n",
       "      <td>bicolor</td>\n",
       "      <td>m</td>\n",
       "      <td>1</td>\n",
       "    </tr>\n",
       "    <tr>\n",
       "      <th>4</th>\n",
       "      <td>florencia bodysuit</td>\n",
       "      <td>bicolor</td>\n",
       "      <td>g</td>\n",
       "      <td>1</td>\n",
       "    </tr>\n",
       "    <tr>\n",
       "      <th>...</th>\n",
       "      <td>...</td>\n",
       "      <td>...</td>\n",
       "      <td>...</td>\n",
       "      <td>...</td>\n",
       "    </tr>\n",
       "    <tr>\n",
       "      <th>77</th>\n",
       "      <td>geminis bottom</td>\n",
       "      <td>lavanda/ash</td>\n",
       "      <td>g</td>\n",
       "      <td>2</td>\n",
       "    </tr>\n",
       "    <tr>\n",
       "      <th>78</th>\n",
       "      <td>jeronimo bottom</td>\n",
       "      <td>coral</td>\n",
       "      <td>ch</td>\n",
       "      <td>1</td>\n",
       "    </tr>\n",
       "    <tr>\n",
       "      <th>79</th>\n",
       "      <td>jeronimo bottom</td>\n",
       "      <td>coral</td>\n",
       "      <td>g</td>\n",
       "      <td>1</td>\n",
       "    </tr>\n",
       "    <tr>\n",
       "      <th>80</th>\n",
       "      <td>jeronimo bottom</td>\n",
       "      <td>negro</td>\n",
       "      <td>ch</td>\n",
       "      <td>1</td>\n",
       "    </tr>\n",
       "    <tr>\n",
       "      <th>81</th>\n",
       "      <td>jeronimo bottom</td>\n",
       "      <td>negro</td>\n",
       "      <td>g</td>\n",
       "      <td>1</td>\n",
       "    </tr>\n",
       "  </tbody>\n",
       "</table>\n",
       "<p>82 rows × 4 columns</p>\n",
       "</div>"
      ],
      "text/plain": [
       "                MODELO        COLOR TALLA  CANTIDAD\n",
       "0        caña bodysuit       blanco    ch         1\n",
       "1    consuelo bodysuit        negro     g         1\n",
       "2   florencia bodysuit      bicolor    ch         1\n",
       "3   florencia bodysuit      bicolor     m         1\n",
       "4   florencia bodysuit      bicolor     g         1\n",
       "..                 ...          ...   ...       ...\n",
       "77      geminis bottom  lavanda/ash     g         2\n",
       "78     jeronimo bottom        coral    ch         1\n",
       "79     jeronimo bottom        coral     g         1\n",
       "80     jeronimo bottom        negro    ch         1\n",
       "81     jeronimo bottom        negro     g         1\n",
       "\n",
       "[82 rows x 4 columns]"
      ]
     },
     "execution_count": 6,
     "metadata": {},
     "output_type": "execute_result"
    }
   ],
   "source": [
    "df_ret"
   ]
  },
  {
   "cell_type": "markdown",
   "metadata": {},
   "source": [
    "# comparing both datasets"
   ]
  },
  {
   "cell_type": "code",
   "execution_count": 7,
   "metadata": {},
   "outputs": [
    {
     "data": {
      "text/plain": [
       "['3gracias bodysuit',\n",
       " 'gracia bodysuit',\n",
       " 'naranjo bodysuit',\n",
       " 'venus bodysuit',\n",
       " 'eros top',\n",
       " 'aries top',\n",
       " 'geminis top',\n",
       " 'geminis bottom',\n",
       " 'lola bottom',\n",
       " 'apolo bottom',\n",
       " 'maca bottom',\n",
       " 'florencia bodysuit',\n",
       " 'jeronimo bottom',\n",
       " 'piscis top',\n",
       " 'emilia bodysuit',\n",
       " 'pastora bodysuit',\n",
       " 'consuelo bodysuit',\n",
       " 'caña bodysuit']"
      ]
     },
     "execution_count": 7,
     "metadata": {},
     "output_type": "execute_result"
    }
   ],
   "source": [
    "list_inv_mod = df_inv.MODELO.unique().tolist()\n",
    "list_inv_mod"
   ]
  },
  {
   "cell_type": "code",
   "execution_count": 8,
   "metadata": {},
   "outputs": [
    {
     "data": {
      "text/plain": [
       "['caña bodysuit',\n",
       " 'consuelo bodysuit',\n",
       " 'florencia bodysuit',\n",
       " '3gracias bodysuit',\n",
       " 'venus bodysuit',\n",
       " 'naranjo bodysuit',\n",
       " 'pastora bodysuit',\n",
       " 'emilia bodysuit',\n",
       " 'piscis top',\n",
       " 'eros top',\n",
       " 'geminis top',\n",
       " 'aries top',\n",
       " 'lola bottom',\n",
       " 'apolo bottom',\n",
       " 'maca bottom',\n",
       " 'geminis bottom',\n",
       " 'jeronimo bottom']"
      ]
     },
     "execution_count": 8,
     "metadata": {},
     "output_type": "execute_result"
    }
   ],
   "source": [
    "list_ret_mod = df_ret.MODELO.unique().tolist()\n",
    "list_ret_mod"
   ]
  },
  {
   "cell_type": "code",
   "execution_count": 9,
   "metadata": {},
   "outputs": [
    {
     "name": "stdout",
     "output_type": "stream",
     "text": [
      "No match elements:  ['gracia bodysuit']\n"
     ]
    }
   ],
   "source": [
    "def non_match_elements(list_a, list_b):\n",
    "    non_match = []\n",
    "    for i in list_a:\n",
    "        if i not in list_b:\n",
    "            non_match.append(i)\n",
    "    return non_match\n",
    "        \n",
    "\n",
    "non_match = non_match_elements(list_inv_mod, list_ret_mod)\n",
    "print(\"No match elements: \", non_match)\n"
   ]
  },
  {
   "cell_type": "code",
   "execution_count": 10,
   "metadata": {},
   "outputs": [
    {
     "data": {
      "text/plain": [
       "['lavender / ash / coral',\n",
       " 'lavender',\n",
       " 'ash',\n",
       " 'coral',\n",
       " 'lavanda',\n",
       " 'ash/negro',\n",
       " 'ash/lavanda',\n",
       " 'negro (pacific)',\n",
       " 'coral ',\n",
       " 'bicolor ash/ negro',\n",
       " 'cherry',\n",
       " 'rosa',\n",
       " 'negro',\n",
       " 'blanco']"
      ]
     },
     "execution_count": 10,
     "metadata": {},
     "output_type": "execute_result"
    }
   ],
   "source": [
    "list_inv_col = df_inv.COLOR.unique().tolist()\n",
    "list_inv_col"
   ]
  },
  {
   "cell_type": "code",
   "execution_count": 11,
   "metadata": {},
   "outputs": [
    {
     "data": {
      "text/plain": [
       "['blanco',\n",
       " 'negro',\n",
       " 'bicolor',\n",
       " 'lavanda',\n",
       " 'coral',\n",
       " 'ash',\n",
       " 'cherry',\n",
       " 'cotton candy',\n",
       " 'lavanda/ash',\n",
       " 'ash/negro']"
      ]
     },
     "execution_count": 11,
     "metadata": {},
     "output_type": "execute_result"
    }
   ],
   "source": [
    "list_ret_col = df_ret.COLOR.unique().tolist()\n",
    "list_ret_col"
   ]
  },
  {
   "cell_type": "code",
   "execution_count": 12,
   "metadata": {},
   "outputs": [
    {
     "name": "stdout",
     "output_type": "stream",
     "text": [
      "No match elements:  ['lavender / ash / coral', 'lavender', 'ash/lavanda', 'negro (pacific)', 'coral ', 'bicolor ash/ negro', 'rosa']\n"
     ]
    }
   ],
   "source": [
    "non_match = non_match_elements(list_inv_col, list_ret_col)\n",
    "print(\"No match elements: \", non_match)\n"
   ]
  },
  {
   "cell_type": "code",
   "execution_count": 13,
   "metadata": {},
   "outputs": [],
   "source": [
    "mapping_  = {'lavender / ash / coral': 'lavanda/ash/coral', 'lavender':'lavanda',\n",
    "             'negro (pacific)': 'negro', 'coral ': 'coral', 'bicolor ash/ negro': 'ash/negro', 'rosa':'cotton candy'}"
   ]
  },
  {
   "cell_type": "code",
   "execution_count": 14,
   "metadata": {},
   "outputs": [],
   "source": [
    "df_inv['COLOR'].replace(mapping_, inplace=True)"
   ]
  },
  {
   "cell_type": "code",
   "execution_count": 15,
   "metadata": {},
   "outputs": [
    {
     "data": {
      "text/plain": [
       "array(['lavanda/ash/coral', 'lavanda', 'ash', 'coral', 'ash/negro',\n",
       "       'ash/lavanda', 'negro', 'cherry', 'cotton candy', 'blanco'],\n",
       "      dtype=object)"
      ]
     },
     "execution_count": 15,
     "metadata": {},
     "output_type": "execute_result"
    }
   ],
   "source": [
    "df_inv.COLOR.unique()"
   ]
  },
  {
   "cell_type": "code",
   "execution_count": 16,
   "metadata": {},
   "outputs": [
    {
     "name": "stdout",
     "output_type": "stream",
     "text": [
      "No match elements:  ['lavanda/ash/coral', 'ash/lavanda']\n"
     ]
    }
   ],
   "source": [
    "list_inv_col = df_inv.COLOR.unique().tolist()\n",
    "list_ret_col = df_ret.COLOR.unique().tolist()\n",
    "\n",
    "non_match = non_match_elements(list_inv_col, list_ret_col)\n",
    "print(\"No match elements: \", non_match)"
   ]
  },
  {
   "cell_type": "code",
   "execution_count": 17,
   "metadata": {},
   "outputs": [
    {
     "data": {
      "text/plain": [
       "array(['blanco', 'negro', 'bicolor', 'lavanda', 'coral', 'ash', 'cherry',\n",
       "       'cotton candy', 'lavanda/ash', 'ash/negro'], dtype=object)"
      ]
     },
     "execution_count": 17,
     "metadata": {},
     "output_type": "execute_result"
    }
   ],
   "source": [
    "df_ret.COLOR.unique()"
   ]
  },
  {
   "cell_type": "code",
   "execution_count": 18,
   "metadata": {},
   "outputs": [],
   "source": [
    "mapping_ret  = {'bicolor': 'ash/negro', 'lavanda/ash':'ash/lavanda'}"
   ]
  },
  {
   "cell_type": "code",
   "execution_count": 19,
   "metadata": {},
   "outputs": [],
   "source": [
    "df_ret['COLOR'].replace(mapping_ret, inplace=True)"
   ]
  },
  {
   "cell_type": "code",
   "execution_count": 20,
   "metadata": {},
   "outputs": [
    {
     "name": "stdout",
     "output_type": "stream",
     "text": [
      "No match elements:  ['lavanda/ash/coral']\n"
     ]
    }
   ],
   "source": [
    "list_inv_col = df_inv.COLOR.unique().tolist()\n",
    "list_ret_col = df_ret.COLOR.unique().tolist()\n",
    "\n",
    "list_a = list_inv_col\n",
    "list_b = list_ret_col\n",
    " \n",
    "non_match = non_match_elements(list_inv_col, list_ret_col)\n",
    "print(\"No match elements: \", non_match)"
   ]
  },
  {
   "cell_type": "code",
   "execution_count": 21,
   "metadata": {},
   "outputs": [
    {
     "data": {
      "text/html": [
       "<div>\n",
       "<style scoped>\n",
       "    .dataframe tbody tr th:only-of-type {\n",
       "        vertical-align: middle;\n",
       "    }\n",
       "\n",
       "    .dataframe tbody tr th {\n",
       "        vertical-align: top;\n",
       "    }\n",
       "\n",
       "    .dataframe thead th {\n",
       "        text-align: right;\n",
       "    }\n",
       "</style>\n",
       "<table border=\"1\" class=\"dataframe\">\n",
       "  <thead>\n",
       "    <tr style=\"text-align: right;\">\n",
       "      <th></th>\n",
       "      <th>MODELO</th>\n",
       "      <th>COLOR</th>\n",
       "      <th>TALLA</th>\n",
       "      <th>CANTIDAD</th>\n",
       "    </tr>\n",
       "  </thead>\n",
       "  <tbody>\n",
       "    <tr>\n",
       "      <th>7</th>\n",
       "      <td>3gracias bodysuit</td>\n",
       "      <td>lavanda</td>\n",
       "      <td>ch</td>\n",
       "      <td>1</td>\n",
       "    </tr>\n",
       "    <tr>\n",
       "      <th>8</th>\n",
       "      <td>3gracias bodysuit</td>\n",
       "      <td>lavanda</td>\n",
       "      <td>m</td>\n",
       "      <td>1</td>\n",
       "    </tr>\n",
       "    <tr>\n",
       "      <th>9</th>\n",
       "      <td>3gracias bodysuit</td>\n",
       "      <td>lavanda</td>\n",
       "      <td>g</td>\n",
       "      <td>1</td>\n",
       "    </tr>\n",
       "  </tbody>\n",
       "</table>\n",
       "</div>"
      ],
      "text/plain": [
       "              MODELO    COLOR TALLA  CANTIDAD\n",
       "7  3gracias bodysuit  lavanda    ch         1\n",
       "8  3gracias bodysuit  lavanda     m         1\n",
       "9  3gracias bodysuit  lavanda     g         1"
      ]
     },
     "execution_count": 21,
     "metadata": {},
     "output_type": "execute_result"
    }
   ],
   "source": [
    "df_ret[df_ret['MODELO'] == '3gracias bodysuit']\n"
   ]
  },
  {
   "cell_type": "code",
   "execution_count": 22,
   "metadata": {},
   "outputs": [],
   "source": [
    "df_ret.loc[df_ret['MODELO'] == '3gracias bodysuit', 'COLOR'] = 'lavanda/ash/coral'"
   ]
  },
  {
   "cell_type": "code",
   "execution_count": 23,
   "metadata": {},
   "outputs": [
    {
     "data": {
      "text/html": [
       "<div>\n",
       "<style scoped>\n",
       "    .dataframe tbody tr th:only-of-type {\n",
       "        vertical-align: middle;\n",
       "    }\n",
       "\n",
       "    .dataframe tbody tr th {\n",
       "        vertical-align: top;\n",
       "    }\n",
       "\n",
       "    .dataframe thead th {\n",
       "        text-align: right;\n",
       "    }\n",
       "</style>\n",
       "<table border=\"1\" class=\"dataframe\">\n",
       "  <thead>\n",
       "    <tr style=\"text-align: right;\">\n",
       "      <th></th>\n",
       "      <th>MODELO</th>\n",
       "      <th>COLOR</th>\n",
       "      <th>TALLA</th>\n",
       "      <th>CANTIDAD</th>\n",
       "    </tr>\n",
       "  </thead>\n",
       "  <tbody>\n",
       "    <tr>\n",
       "      <th>7</th>\n",
       "      <td>3gracias bodysuit</td>\n",
       "      <td>lavanda/ash/coral</td>\n",
       "      <td>ch</td>\n",
       "      <td>1</td>\n",
       "    </tr>\n",
       "    <tr>\n",
       "      <th>8</th>\n",
       "      <td>3gracias bodysuit</td>\n",
       "      <td>lavanda/ash/coral</td>\n",
       "      <td>m</td>\n",
       "      <td>1</td>\n",
       "    </tr>\n",
       "    <tr>\n",
       "      <th>9</th>\n",
       "      <td>3gracias bodysuit</td>\n",
       "      <td>lavanda/ash/coral</td>\n",
       "      <td>g</td>\n",
       "      <td>1</td>\n",
       "    </tr>\n",
       "  </tbody>\n",
       "</table>\n",
       "</div>"
      ],
      "text/plain": [
       "              MODELO              COLOR TALLA  CANTIDAD\n",
       "7  3gracias bodysuit  lavanda/ash/coral    ch         1\n",
       "8  3gracias bodysuit  lavanda/ash/coral     m         1\n",
       "9  3gracias bodysuit  lavanda/ash/coral     g         1"
      ]
     },
     "execution_count": 23,
     "metadata": {},
     "output_type": "execute_result"
    }
   ],
   "source": [
    "df_ret[df_ret['MODELO'] == '3gracias bodysuit']"
   ]
  },
  {
   "cell_type": "code",
   "execution_count": 24,
   "metadata": {},
   "outputs": [
    {
     "name": "stdout",
     "output_type": "stream",
     "text": [
      "No match elements:  []\n"
     ]
    }
   ],
   "source": [
    "list_inv_col = df_inv.COLOR.unique().tolist()\n",
    "list_ret_col = df_ret.COLOR.unique().tolist()\n",
    "\n",
    "list_a = list_inv_col\n",
    "list_b = list_ret_col\n",
    " \n",
    "non_match = non_match_elements(list_inv_col, list_ret_col)\n",
    "print(\"No match elements: \", non_match)"
   ]
  },
  {
   "cell_type": "markdown",
   "metadata": {},
   "source": [
    "# Matching dataframes"
   ]
  },
  {
   "cell_type": "code",
   "execution_count": 25,
   "metadata": {},
   "outputs": [
    {
     "data": {
      "text/plain": [
       "(106, 4)"
      ]
     },
     "execution_count": 25,
     "metadata": {},
     "output_type": "execute_result"
    }
   ],
   "source": [
    "df_inv.shape"
   ]
  },
  {
   "cell_type": "code",
   "execution_count": 26,
   "metadata": {},
   "outputs": [
    {
     "data": {
      "text/plain": [
       "(82, 4)"
      ]
     },
     "execution_count": 26,
     "metadata": {},
     "output_type": "execute_result"
    }
   ],
   "source": [
    "df_ret.shape"
   ]
  },
  {
   "cell_type": "code",
   "execution_count": 27,
   "metadata": {},
   "outputs": [],
   "source": [
    "df_inv_sort = df_inv.sort_values(by = ['MODELO', 'COLOR', 'TALLA'])\n",
    "df_ret_sort = df_ret.sort_values(by = ['MODELO', 'COLOR', 'TALLA'])"
   ]
  },
  {
   "cell_type": "code",
   "execution_count": 28,
   "metadata": {},
   "outputs": [
    {
     "data": {
      "text/html": [
       "<div>\n",
       "<style scoped>\n",
       "    .dataframe tbody tr th:only-of-type {\n",
       "        vertical-align: middle;\n",
       "    }\n",
       "\n",
       "    .dataframe tbody tr th {\n",
       "        vertical-align: top;\n",
       "    }\n",
       "\n",
       "    .dataframe thead th {\n",
       "        text-align: right;\n",
       "    }\n",
       "</style>\n",
       "<table border=\"1\" class=\"dataframe\">\n",
       "  <thead>\n",
       "    <tr style=\"text-align: right;\">\n",
       "      <th></th>\n",
       "      <th>MODELO</th>\n",
       "      <th>COLOR</th>\n",
       "      <th>TALLA</th>\n",
       "      <th>CANTIDAD</th>\n",
       "    </tr>\n",
       "  </thead>\n",
       "  <tbody>\n",
       "    <tr>\n",
       "      <th>1</th>\n",
       "      <td>3gracias bodysuit</td>\n",
       "      <td>lavanda/ash/coral</td>\n",
       "      <td>ch</td>\n",
       "      <td>1.0</td>\n",
       "    </tr>\n",
       "    <tr>\n",
       "      <th>3</th>\n",
       "      <td>3gracias bodysuit</td>\n",
       "      <td>lavanda/ash/coral</td>\n",
       "      <td>g</td>\n",
       "      <td>1.0</td>\n",
       "    </tr>\n",
       "    <tr>\n",
       "      <th>2</th>\n",
       "      <td>3gracias bodysuit</td>\n",
       "      <td>lavanda/ash/coral</td>\n",
       "      <td>m</td>\n",
       "      <td>1.0</td>\n",
       "    </tr>\n",
       "    <tr>\n",
       "      <th>52</th>\n",
       "      <td>apolo bottom</td>\n",
       "      <td>ash</td>\n",
       "      <td>ch</td>\n",
       "      <td>1.0</td>\n",
       "    </tr>\n",
       "    <tr>\n",
       "      <th>54</th>\n",
       "      <td>apolo bottom</td>\n",
       "      <td>ash</td>\n",
       "      <td>g</td>\n",
       "      <td>2.0</td>\n",
       "    </tr>\n",
       "    <tr>\n",
       "      <th>...</th>\n",
       "      <td>...</td>\n",
       "      <td>...</td>\n",
       "      <td>...</td>\n",
       "      <td>...</td>\n",
       "    </tr>\n",
       "    <tr>\n",
       "      <th>18</th>\n",
       "      <td>venus bodysuit</td>\n",
       "      <td>coral</td>\n",
       "      <td>g</td>\n",
       "      <td>2.0</td>\n",
       "    </tr>\n",
       "    <tr>\n",
       "      <th>17</th>\n",
       "      <td>venus bodysuit</td>\n",
       "      <td>coral</td>\n",
       "      <td>m</td>\n",
       "      <td>2.0</td>\n",
       "    </tr>\n",
       "    <tr>\n",
       "      <th>66</th>\n",
       "      <td>venus bodysuit</td>\n",
       "      <td>negro</td>\n",
       "      <td>ch</td>\n",
       "      <td>2.0</td>\n",
       "    </tr>\n",
       "    <tr>\n",
       "      <th>68</th>\n",
       "      <td>venus bodysuit</td>\n",
       "      <td>negro</td>\n",
       "      <td>g</td>\n",
       "      <td>1.0</td>\n",
       "    </tr>\n",
       "    <tr>\n",
       "      <th>67</th>\n",
       "      <td>venus bodysuit</td>\n",
       "      <td>negro</td>\n",
       "      <td>m</td>\n",
       "      <td>2.0</td>\n",
       "    </tr>\n",
       "  </tbody>\n",
       "</table>\n",
       "<p>106 rows × 4 columns</p>\n",
       "</div>"
      ],
      "text/plain": [
       "               MODELO              COLOR TALLA  CANTIDAD\n",
       "1   3gracias bodysuit  lavanda/ash/coral    ch       1.0\n",
       "3   3gracias bodysuit  lavanda/ash/coral     g       1.0\n",
       "2   3gracias bodysuit  lavanda/ash/coral    m        1.0\n",
       "52       apolo bottom                ash    ch       1.0\n",
       "54       apolo bottom                ash     g       2.0\n",
       "..                ...                ...   ...       ...\n",
       "18     venus bodysuit              coral     g       2.0\n",
       "17     venus bodysuit              coral    m        2.0\n",
       "66     venus bodysuit              negro    ch       2.0\n",
       "68     venus bodysuit              negro     g       1.0\n",
       "67     venus bodysuit              negro    m        2.0\n",
       "\n",
       "[106 rows x 4 columns]"
      ]
     },
     "execution_count": 28,
     "metadata": {},
     "output_type": "execute_result"
    }
   ],
   "source": [
    "df_inv_sort"
   ]
  },
  {
   "cell_type": "code",
   "execution_count": 29,
   "metadata": {},
   "outputs": [
    {
     "data": {
      "text/html": [
       "<div>\n",
       "<style scoped>\n",
       "    .dataframe tbody tr th:only-of-type {\n",
       "        vertical-align: middle;\n",
       "    }\n",
       "\n",
       "    .dataframe tbody tr th {\n",
       "        vertical-align: top;\n",
       "    }\n",
       "\n",
       "    .dataframe thead th {\n",
       "        text-align: right;\n",
       "    }\n",
       "</style>\n",
       "<table border=\"1\" class=\"dataframe\">\n",
       "  <thead>\n",
       "    <tr style=\"text-align: right;\">\n",
       "      <th></th>\n",
       "      <th>MODELO</th>\n",
       "      <th>COLOR</th>\n",
       "      <th>TALLA</th>\n",
       "      <th>CANTIDAD</th>\n",
       "    </tr>\n",
       "  </thead>\n",
       "  <tbody>\n",
       "    <tr>\n",
       "      <th>47</th>\n",
       "      <td>geminis top</td>\n",
       "      <td>ash/lavanda</td>\n",
       "      <td>ch</td>\n",
       "      <td>1</td>\n",
       "    </tr>\n",
       "    <tr>\n",
       "      <th>48</th>\n",
       "      <td>geminis top</td>\n",
       "      <td>ash/lavanda</td>\n",
       "      <td>m</td>\n",
       "      <td>2</td>\n",
       "    </tr>\n",
       "    <tr>\n",
       "      <th>49</th>\n",
       "      <td>geminis top</td>\n",
       "      <td>ash/lavanda</td>\n",
       "      <td>g</td>\n",
       "      <td>1</td>\n",
       "    </tr>\n",
       "    <tr>\n",
       "      <th>50</th>\n",
       "      <td>geminis top</td>\n",
       "      <td>ash/negro</td>\n",
       "      <td>ch</td>\n",
       "      <td>1</td>\n",
       "    </tr>\n",
       "  </tbody>\n",
       "</table>\n",
       "</div>"
      ],
      "text/plain": [
       "         MODELO        COLOR TALLA  CANTIDAD\n",
       "47  geminis top  ash/lavanda    ch         1\n",
       "48  geminis top  ash/lavanda     m         2\n",
       "49  geminis top  ash/lavanda     g         1\n",
       "50  geminis top    ash/negro    ch         1"
      ]
     },
     "execution_count": 29,
     "metadata": {},
     "output_type": "execute_result"
    }
   ],
   "source": [
    "df_ret[df_ret['MODELO'] == 'geminis top']\n"
   ]
  },
  {
   "cell_type": "markdown",
   "metadata": {},
   "source": [
    "# Substracting inventory and returns dataframes"
   ]
  },
  {
   "cell_type": "code",
   "execution_count": 30,
   "metadata": {},
   "outputs": [
    {
     "name": "stdout",
     "output_type": "stream",
     "text": [
      "<class 'pandas.core.frame.DataFrame'>\n",
      "Int64Index: 106 entries, 1 to 116\n",
      "Data columns (total 4 columns):\n",
      " #   Column    Non-Null Count  Dtype  \n",
      "---  ------    --------------  -----  \n",
      " 0   MODELO    106 non-null    object \n",
      " 1   COLOR     106 non-null    object \n",
      " 2   TALLA     106 non-null    object \n",
      " 3   CANTIDAD  106 non-null    float64\n",
      "dtypes: float64(1), object(3)\n",
      "memory usage: 4.1+ KB\n"
     ]
    }
   ],
   "source": [
    "df_inv.info()"
   ]
  },
  {
   "cell_type": "code",
   "execution_count": 31,
   "metadata": {},
   "outputs": [],
   "source": [
    "# Step 1. Create a new column appending all elements\n",
    "\n",
    "df_ret['all'] = df_ret['MODELO']+df_ret['COLOR'] + df_ret['TALLA']\n",
    "df_inv['all'] = df_inv['MODELO']+df_inv['COLOR'] + df_inv['TALLA']"
   ]
  },
  {
   "cell_type": "code",
   "execution_count": 32,
   "metadata": {},
   "outputs": [
    {
     "data": {
      "text/html": [
       "<div>\n",
       "<style scoped>\n",
       "    .dataframe tbody tr th:only-of-type {\n",
       "        vertical-align: middle;\n",
       "    }\n",
       "\n",
       "    .dataframe tbody tr th {\n",
       "        vertical-align: top;\n",
       "    }\n",
       "\n",
       "    .dataframe thead th {\n",
       "        text-align: right;\n",
       "    }\n",
       "</style>\n",
       "<table border=\"1\" class=\"dataframe\">\n",
       "  <thead>\n",
       "    <tr style=\"text-align: right;\">\n",
       "      <th></th>\n",
       "      <th>MODELO</th>\n",
       "      <th>COLOR</th>\n",
       "      <th>TALLA</th>\n",
       "      <th>CANTIDAD</th>\n",
       "      <th>all</th>\n",
       "    </tr>\n",
       "  </thead>\n",
       "  <tbody>\n",
       "    <tr>\n",
       "      <th>0</th>\n",
       "      <td>caña bodysuit</td>\n",
       "      <td>blanco</td>\n",
       "      <td>ch</td>\n",
       "      <td>1</td>\n",
       "      <td>caña bodysuitblancoch</td>\n",
       "    </tr>\n",
       "    <tr>\n",
       "      <th>1</th>\n",
       "      <td>consuelo bodysuit</td>\n",
       "      <td>negro</td>\n",
       "      <td>g</td>\n",
       "      <td>1</td>\n",
       "      <td>consuelo bodysuitnegrog</td>\n",
       "    </tr>\n",
       "  </tbody>\n",
       "</table>\n",
       "</div>"
      ],
      "text/plain": [
       "              MODELO   COLOR TALLA  CANTIDAD                      all\n",
       "0      caña bodysuit  blanco    ch         1    caña bodysuitblancoch\n",
       "1  consuelo bodysuit   negro     g         1  consuelo bodysuitnegrog"
      ]
     },
     "execution_count": 32,
     "metadata": {},
     "output_type": "execute_result"
    }
   ],
   "source": [
    "df_ret.head(2)"
   ]
  },
  {
   "cell_type": "code",
   "execution_count": 33,
   "metadata": {},
   "outputs": [
    {
     "name": "stdout",
     "output_type": "stream",
     "text": [
      "Size of common elements (106, 9)\n",
      "Size of inv elements (106, 5)\n",
      "Size of return elements (82, 5)\n"
     ]
    }
   ],
   "source": [
    "# Step 2. left join considering the new column between inv (LEFT) and ret (RIGHT) \n",
    "common = df_inv.merge(df_ret, on=['all'], how= 'left')\n",
    "print('Size of common elements', common.shape)\n",
    "\n",
    "print('Size of inv elements', df_inv.shape)\n",
    "print('Size of return elements', df_ret.shape)"
   ]
  },
  {
   "cell_type": "code",
   "execution_count": 34,
   "metadata": {},
   "outputs": [
    {
     "data": {
      "text/html": [
       "<div>\n",
       "<style scoped>\n",
       "    .dataframe tbody tr th:only-of-type {\n",
       "        vertical-align: middle;\n",
       "    }\n",
       "\n",
       "    .dataframe tbody tr th {\n",
       "        vertical-align: top;\n",
       "    }\n",
       "\n",
       "    .dataframe thead th {\n",
       "        text-align: right;\n",
       "    }\n",
       "</style>\n",
       "<table border=\"1\" class=\"dataframe\">\n",
       "  <thead>\n",
       "    <tr style=\"text-align: right;\">\n",
       "      <th></th>\n",
       "      <th>MODELO_x</th>\n",
       "      <th>COLOR_x</th>\n",
       "      <th>TALLA_x</th>\n",
       "      <th>CANTIDAD_x</th>\n",
       "      <th>all</th>\n",
       "      <th>MODELO_y</th>\n",
       "      <th>COLOR_y</th>\n",
       "      <th>TALLA_y</th>\n",
       "      <th>CANTIDAD_y</th>\n",
       "    </tr>\n",
       "  </thead>\n",
       "  <tbody>\n",
       "    <tr>\n",
       "      <th>0</th>\n",
       "      <td>3gracias bodysuit</td>\n",
       "      <td>lavanda/ash/coral</td>\n",
       "      <td>ch</td>\n",
       "      <td>1.0</td>\n",
       "      <td>3gracias bodysuitlavanda/ash/coralch</td>\n",
       "      <td>3gracias bodysuit</td>\n",
       "      <td>lavanda/ash/coral</td>\n",
       "      <td>ch</td>\n",
       "      <td>1.0</td>\n",
       "    </tr>\n",
       "    <tr>\n",
       "      <th>1</th>\n",
       "      <td>3gracias bodysuit</td>\n",
       "      <td>lavanda/ash/coral</td>\n",
       "      <td>m</td>\n",
       "      <td>1.0</td>\n",
       "      <td>3gracias bodysuitlavanda/ash/coralm</td>\n",
       "      <td>NaN</td>\n",
       "      <td>NaN</td>\n",
       "      <td>NaN</td>\n",
       "      <td>NaN</td>\n",
       "    </tr>\n",
       "    <tr>\n",
       "      <th>2</th>\n",
       "      <td>3gracias bodysuit</td>\n",
       "      <td>lavanda/ash/coral</td>\n",
       "      <td>g</td>\n",
       "      <td>1.0</td>\n",
       "      <td>3gracias bodysuitlavanda/ash/coralg</td>\n",
       "      <td>3gracias bodysuit</td>\n",
       "      <td>lavanda/ash/coral</td>\n",
       "      <td>g</td>\n",
       "      <td>1.0</td>\n",
       "    </tr>\n",
       "    <tr>\n",
       "      <th>3</th>\n",
       "      <td>gracia bodysuit</td>\n",
       "      <td>lavanda</td>\n",
       "      <td>ch</td>\n",
       "      <td>2.0</td>\n",
       "      <td>gracia bodysuitlavandach</td>\n",
       "      <td>NaN</td>\n",
       "      <td>NaN</td>\n",
       "      <td>NaN</td>\n",
       "      <td>NaN</td>\n",
       "    </tr>\n",
       "    <tr>\n",
       "      <th>4</th>\n",
       "      <td>gracia bodysuit</td>\n",
       "      <td>lavanda</td>\n",
       "      <td>m</td>\n",
       "      <td>1.0</td>\n",
       "      <td>gracia bodysuitlavandam</td>\n",
       "      <td>NaN</td>\n",
       "      <td>NaN</td>\n",
       "      <td>NaN</td>\n",
       "      <td>NaN</td>\n",
       "    </tr>\n",
       "    <tr>\n",
       "      <th>...</th>\n",
       "      <td>...</td>\n",
       "      <td>...</td>\n",
       "      <td>...</td>\n",
       "      <td>...</td>\n",
       "      <td>...</td>\n",
       "      <td>...</td>\n",
       "      <td>...</td>\n",
       "      <td>...</td>\n",
       "      <td>...</td>\n",
       "    </tr>\n",
       "    <tr>\n",
       "      <th>101</th>\n",
       "      <td>consuelo bodysuit</td>\n",
       "      <td>negro</td>\n",
       "      <td>m</td>\n",
       "      <td>1.0</td>\n",
       "      <td>consuelo bodysuitnegrom</td>\n",
       "      <td>NaN</td>\n",
       "      <td>NaN</td>\n",
       "      <td>NaN</td>\n",
       "      <td>NaN</td>\n",
       "    </tr>\n",
       "    <tr>\n",
       "      <th>102</th>\n",
       "      <td>consuelo bodysuit</td>\n",
       "      <td>negro</td>\n",
       "      <td>g</td>\n",
       "      <td>1.0</td>\n",
       "      <td>consuelo bodysuitnegrog</td>\n",
       "      <td>consuelo bodysuit</td>\n",
       "      <td>negro</td>\n",
       "      <td>g</td>\n",
       "      <td>1.0</td>\n",
       "    </tr>\n",
       "    <tr>\n",
       "      <th>103</th>\n",
       "      <td>caña bodysuit</td>\n",
       "      <td>blanco</td>\n",
       "      <td>ch</td>\n",
       "      <td>2.0</td>\n",
       "      <td>caña bodysuitblancoch</td>\n",
       "      <td>caña bodysuit</td>\n",
       "      <td>blanco</td>\n",
       "      <td>ch</td>\n",
       "      <td>1.0</td>\n",
       "    </tr>\n",
       "    <tr>\n",
       "      <th>104</th>\n",
       "      <td>caña bodysuit</td>\n",
       "      <td>blanco</td>\n",
       "      <td>m</td>\n",
       "      <td>1.0</td>\n",
       "      <td>caña bodysuitblancom</td>\n",
       "      <td>NaN</td>\n",
       "      <td>NaN</td>\n",
       "      <td>NaN</td>\n",
       "      <td>NaN</td>\n",
       "    </tr>\n",
       "    <tr>\n",
       "      <th>105</th>\n",
       "      <td>caña bodysuit</td>\n",
       "      <td>blanco</td>\n",
       "      <td>g</td>\n",
       "      <td>2.0</td>\n",
       "      <td>caña bodysuitblancog</td>\n",
       "      <td>NaN</td>\n",
       "      <td>NaN</td>\n",
       "      <td>NaN</td>\n",
       "      <td>NaN</td>\n",
       "    </tr>\n",
       "  </tbody>\n",
       "</table>\n",
       "<p>106 rows × 9 columns</p>\n",
       "</div>"
      ],
      "text/plain": [
       "              MODELO_x            COLOR_x TALLA_x  CANTIDAD_x  \\\n",
       "0    3gracias bodysuit  lavanda/ash/coral      ch         1.0   \n",
       "1    3gracias bodysuit  lavanda/ash/coral      m          1.0   \n",
       "2    3gracias bodysuit  lavanda/ash/coral       g         1.0   \n",
       "3      gracia bodysuit            lavanda      ch         2.0   \n",
       "4      gracia bodysuit            lavanda      m          1.0   \n",
       "..                 ...                ...     ...         ...   \n",
       "101  consuelo bodysuit              negro       m         1.0   \n",
       "102  consuelo bodysuit              negro       g         1.0   \n",
       "103      caña bodysuit             blanco      ch         2.0   \n",
       "104      caña bodysuit             blanco       m         1.0   \n",
       "105      caña bodysuit             blanco       g         2.0   \n",
       "\n",
       "                                      all           MODELO_y  \\\n",
       "0    3gracias bodysuitlavanda/ash/coralch  3gracias bodysuit   \n",
       "1    3gracias bodysuitlavanda/ash/coralm                 NaN   \n",
       "2     3gracias bodysuitlavanda/ash/coralg  3gracias bodysuit   \n",
       "3                gracia bodysuitlavandach                NaN   \n",
       "4                gracia bodysuitlavandam                 NaN   \n",
       "..                                    ...                ...   \n",
       "101               consuelo bodysuitnegrom                NaN   \n",
       "102               consuelo bodysuitnegrog  consuelo bodysuit   \n",
       "103                 caña bodysuitblancoch      caña bodysuit   \n",
       "104                  caña bodysuitblancom                NaN   \n",
       "105                  caña bodysuitblancog                NaN   \n",
       "\n",
       "               COLOR_y TALLA_y  CANTIDAD_y  \n",
       "0    lavanda/ash/coral      ch         1.0  \n",
       "1                  NaN     NaN         NaN  \n",
       "2    lavanda/ash/coral       g         1.0  \n",
       "3                  NaN     NaN         NaN  \n",
       "4                  NaN     NaN         NaN  \n",
       "..                 ...     ...         ...  \n",
       "101                NaN     NaN         NaN  \n",
       "102              negro       g         1.0  \n",
       "103             blanco      ch         1.0  \n",
       "104                NaN     NaN         NaN  \n",
       "105                NaN     NaN         NaN  \n",
       "\n",
       "[106 rows x 9 columns]"
      ]
     },
     "execution_count": 34,
     "metadata": {},
     "output_type": "execute_result"
    }
   ],
   "source": [
    "common"
   ]
  },
  {
   "cell_type": "code",
   "execution_count": 35,
   "metadata": {},
   "outputs": [
    {
     "data": {
      "text/html": [
       "<div>\n",
       "<style scoped>\n",
       "    .dataframe tbody tr th:only-of-type {\n",
       "        vertical-align: middle;\n",
       "    }\n",
       "\n",
       "    .dataframe tbody tr th {\n",
       "        vertical-align: top;\n",
       "    }\n",
       "\n",
       "    .dataframe thead th {\n",
       "        text-align: right;\n",
       "    }\n",
       "</style>\n",
       "<table border=\"1\" class=\"dataframe\">\n",
       "  <thead>\n",
       "    <tr style=\"text-align: right;\">\n",
       "      <th></th>\n",
       "      <th>MODELO_x</th>\n",
       "      <th>COLOR_x</th>\n",
       "      <th>TALLA_x</th>\n",
       "      <th>CANTIDAD_x</th>\n",
       "      <th>all</th>\n",
       "      <th>CANTIDAD_y</th>\n",
       "    </tr>\n",
       "  </thead>\n",
       "  <tbody>\n",
       "    <tr>\n",
       "      <th>0</th>\n",
       "      <td>3gracias bodysuit</td>\n",
       "      <td>lavanda/ash/coral</td>\n",
       "      <td>ch</td>\n",
       "      <td>1.0</td>\n",
       "      <td>3gracias bodysuitlavanda/ash/coralch</td>\n",
       "      <td>1.0</td>\n",
       "    </tr>\n",
       "    <tr>\n",
       "      <th>1</th>\n",
       "      <td>3gracias bodysuit</td>\n",
       "      <td>lavanda/ash/coral</td>\n",
       "      <td>m</td>\n",
       "      <td>1.0</td>\n",
       "      <td>3gracias bodysuitlavanda/ash/coralm</td>\n",
       "      <td>NaN</td>\n",
       "    </tr>\n",
       "    <tr>\n",
       "      <th>2</th>\n",
       "      <td>3gracias bodysuit</td>\n",
       "      <td>lavanda/ash/coral</td>\n",
       "      <td>g</td>\n",
       "      <td>1.0</td>\n",
       "      <td>3gracias bodysuitlavanda/ash/coralg</td>\n",
       "      <td>1.0</td>\n",
       "    </tr>\n",
       "  </tbody>\n",
       "</table>\n",
       "</div>"
      ],
      "text/plain": [
       "            MODELO_x            COLOR_x TALLA_x  CANTIDAD_x  \\\n",
       "0  3gracias bodysuit  lavanda/ash/coral      ch         1.0   \n",
       "1  3gracias bodysuit  lavanda/ash/coral      m          1.0   \n",
       "2  3gracias bodysuit  lavanda/ash/coral       g         1.0   \n",
       "\n",
       "                                    all  CANTIDAD_y  \n",
       "0  3gracias bodysuitlavanda/ash/coralch         1.0  \n",
       "1  3gracias bodysuitlavanda/ash/coralm          NaN  \n",
       "2   3gracias bodysuitlavanda/ash/coralg         1.0  "
      ]
     },
     "execution_count": 35,
     "metadata": {},
     "output_type": "execute_result"
    }
   ],
   "source": [
    "# Cleaning of the new dataframe\n",
    "df_sold_caravana_June2019 = common.drop(['MODELO_y','COLOR_y','TALLA_y'], axis=1)\n",
    "df_sold_caravana_June2019.head(3)"
   ]
  },
  {
   "cell_type": "code",
   "execution_count": 36,
   "metadata": {},
   "outputs": [],
   "source": [
    "df_sold_caravana_June2019 = df_sold_caravana_June2019.rename({'MODELO_x': 'MODELO','COLOR_x':'COLOR','TALLA_x':'TALLA'}, axis=1)"
   ]
  },
  {
   "cell_type": "code",
   "execution_count": 37,
   "metadata": {},
   "outputs": [
    {
     "data": {
      "text/html": [
       "<div>\n",
       "<style scoped>\n",
       "    .dataframe tbody tr th:only-of-type {\n",
       "        vertical-align: middle;\n",
       "    }\n",
       "\n",
       "    .dataframe tbody tr th {\n",
       "        vertical-align: top;\n",
       "    }\n",
       "\n",
       "    .dataframe thead th {\n",
       "        text-align: right;\n",
       "    }\n",
       "</style>\n",
       "<table border=\"1\" class=\"dataframe\">\n",
       "  <thead>\n",
       "    <tr style=\"text-align: right;\">\n",
       "      <th></th>\n",
       "      <th>MODELO</th>\n",
       "      <th>COLOR</th>\n",
       "      <th>TALLA</th>\n",
       "      <th>CANTIDAD_x</th>\n",
       "      <th>all</th>\n",
       "      <th>CANTIDAD_y</th>\n",
       "    </tr>\n",
       "  </thead>\n",
       "  <tbody>\n",
       "    <tr>\n",
       "      <th>0</th>\n",
       "      <td>3gracias bodysuit</td>\n",
       "      <td>lavanda/ash/coral</td>\n",
       "      <td>ch</td>\n",
       "      <td>1.0</td>\n",
       "      <td>3gracias bodysuitlavanda/ash/coralch</td>\n",
       "      <td>1.0</td>\n",
       "    </tr>\n",
       "    <tr>\n",
       "      <th>1</th>\n",
       "      <td>3gracias bodysuit</td>\n",
       "      <td>lavanda/ash/coral</td>\n",
       "      <td>m</td>\n",
       "      <td>1.0</td>\n",
       "      <td>3gracias bodysuitlavanda/ash/coralm</td>\n",
       "      <td>NaN</td>\n",
       "    </tr>\n",
       "    <tr>\n",
       "      <th>2</th>\n",
       "      <td>3gracias bodysuit</td>\n",
       "      <td>lavanda/ash/coral</td>\n",
       "      <td>g</td>\n",
       "      <td>1.0</td>\n",
       "      <td>3gracias bodysuitlavanda/ash/coralg</td>\n",
       "      <td>1.0</td>\n",
       "    </tr>\n",
       "    <tr>\n",
       "      <th>3</th>\n",
       "      <td>gracia bodysuit</td>\n",
       "      <td>lavanda</td>\n",
       "      <td>ch</td>\n",
       "      <td>2.0</td>\n",
       "      <td>gracia bodysuitlavandach</td>\n",
       "      <td>NaN</td>\n",
       "    </tr>\n",
       "    <tr>\n",
       "      <th>4</th>\n",
       "      <td>gracia bodysuit</td>\n",
       "      <td>lavanda</td>\n",
       "      <td>m</td>\n",
       "      <td>1.0</td>\n",
       "      <td>gracia bodysuitlavandam</td>\n",
       "      <td>NaN</td>\n",
       "    </tr>\n",
       "    <tr>\n",
       "      <th>...</th>\n",
       "      <td>...</td>\n",
       "      <td>...</td>\n",
       "      <td>...</td>\n",
       "      <td>...</td>\n",
       "      <td>...</td>\n",
       "      <td>...</td>\n",
       "    </tr>\n",
       "    <tr>\n",
       "      <th>101</th>\n",
       "      <td>consuelo bodysuit</td>\n",
       "      <td>negro</td>\n",
       "      <td>m</td>\n",
       "      <td>1.0</td>\n",
       "      <td>consuelo bodysuitnegrom</td>\n",
       "      <td>NaN</td>\n",
       "    </tr>\n",
       "    <tr>\n",
       "      <th>102</th>\n",
       "      <td>consuelo bodysuit</td>\n",
       "      <td>negro</td>\n",
       "      <td>g</td>\n",
       "      <td>1.0</td>\n",
       "      <td>consuelo bodysuitnegrog</td>\n",
       "      <td>1.0</td>\n",
       "    </tr>\n",
       "    <tr>\n",
       "      <th>103</th>\n",
       "      <td>caña bodysuit</td>\n",
       "      <td>blanco</td>\n",
       "      <td>ch</td>\n",
       "      <td>2.0</td>\n",
       "      <td>caña bodysuitblancoch</td>\n",
       "      <td>1.0</td>\n",
       "    </tr>\n",
       "    <tr>\n",
       "      <th>104</th>\n",
       "      <td>caña bodysuit</td>\n",
       "      <td>blanco</td>\n",
       "      <td>m</td>\n",
       "      <td>1.0</td>\n",
       "      <td>caña bodysuitblancom</td>\n",
       "      <td>NaN</td>\n",
       "    </tr>\n",
       "    <tr>\n",
       "      <th>105</th>\n",
       "      <td>caña bodysuit</td>\n",
       "      <td>blanco</td>\n",
       "      <td>g</td>\n",
       "      <td>2.0</td>\n",
       "      <td>caña bodysuitblancog</td>\n",
       "      <td>NaN</td>\n",
       "    </tr>\n",
       "  </tbody>\n",
       "</table>\n",
       "<p>106 rows × 6 columns</p>\n",
       "</div>"
      ],
      "text/plain": [
       "                MODELO              COLOR TALLA  CANTIDAD_x  \\\n",
       "0    3gracias bodysuit  lavanda/ash/coral    ch         1.0   \n",
       "1    3gracias bodysuit  lavanda/ash/coral    m          1.0   \n",
       "2    3gracias bodysuit  lavanda/ash/coral     g         1.0   \n",
       "3      gracia bodysuit            lavanda    ch         2.0   \n",
       "4      gracia bodysuit            lavanda    m          1.0   \n",
       "..                 ...                ...   ...         ...   \n",
       "101  consuelo bodysuit              negro     m         1.0   \n",
       "102  consuelo bodysuit              negro     g         1.0   \n",
       "103      caña bodysuit             blanco    ch         2.0   \n",
       "104      caña bodysuit             blanco     m         1.0   \n",
       "105      caña bodysuit             blanco     g         2.0   \n",
       "\n",
       "                                      all  CANTIDAD_y  \n",
       "0    3gracias bodysuitlavanda/ash/coralch         1.0  \n",
       "1    3gracias bodysuitlavanda/ash/coralm          NaN  \n",
       "2     3gracias bodysuitlavanda/ash/coralg         1.0  \n",
       "3                gracia bodysuitlavandach         NaN  \n",
       "4                gracia bodysuitlavandam          NaN  \n",
       "..                                    ...         ...  \n",
       "101               consuelo bodysuitnegrom         NaN  \n",
       "102               consuelo bodysuitnegrog         1.0  \n",
       "103                 caña bodysuitblancoch         1.0  \n",
       "104                  caña bodysuitblancom         NaN  \n",
       "105                  caña bodysuitblancog         NaN  \n",
       "\n",
       "[106 rows x 6 columns]"
      ]
     },
     "execution_count": 37,
     "metadata": {},
     "output_type": "execute_result"
    }
   ],
   "source": [
    "df_sold_caravana_June2019"
   ]
  },
  {
   "cell_type": "code",
   "execution_count": 38,
   "metadata": {},
   "outputs": [
    {
     "data": {
      "text/html": [
       "<div>\n",
       "<style scoped>\n",
       "    .dataframe tbody tr th:only-of-type {\n",
       "        vertical-align: middle;\n",
       "    }\n",
       "\n",
       "    .dataframe tbody tr th {\n",
       "        vertical-align: top;\n",
       "    }\n",
       "\n",
       "    .dataframe thead th {\n",
       "        text-align: right;\n",
       "    }\n",
       "</style>\n",
       "<table border=\"1\" class=\"dataframe\">\n",
       "  <thead>\n",
       "    <tr style=\"text-align: right;\">\n",
       "      <th></th>\n",
       "      <th>MODELO</th>\n",
       "      <th>COLOR</th>\n",
       "      <th>TALLA</th>\n",
       "      <th>CANTIDAD_x</th>\n",
       "      <th>all</th>\n",
       "      <th>CANTIDAD_y</th>\n",
       "      <th>CANTIDAD_final</th>\n",
       "    </tr>\n",
       "  </thead>\n",
       "  <tbody>\n",
       "    <tr>\n",
       "      <th>0</th>\n",
       "      <td>3gracias bodysuit</td>\n",
       "      <td>lavanda/ash/coral</td>\n",
       "      <td>ch</td>\n",
       "      <td>1.0</td>\n",
       "      <td>3gracias bodysuitlavanda/ash/coralch</td>\n",
       "      <td>1.0</td>\n",
       "      <td>0.0</td>\n",
       "    </tr>\n",
       "    <tr>\n",
       "      <th>1</th>\n",
       "      <td>3gracias bodysuit</td>\n",
       "      <td>lavanda/ash/coral</td>\n",
       "      <td>m</td>\n",
       "      <td>1.0</td>\n",
       "      <td>3gracias bodysuitlavanda/ash/coralm</td>\n",
       "      <td>NaN</td>\n",
       "      <td>NaN</td>\n",
       "    </tr>\n",
       "  </tbody>\n",
       "</table>\n",
       "</div>"
      ],
      "text/plain": [
       "              MODELO              COLOR TALLA  CANTIDAD_x  \\\n",
       "0  3gracias bodysuit  lavanda/ash/coral    ch         1.0   \n",
       "1  3gracias bodysuit  lavanda/ash/coral    m          1.0   \n",
       "\n",
       "                                    all  CANTIDAD_y  CANTIDAD_final  \n",
       "0  3gracias bodysuitlavanda/ash/coralch         1.0             0.0  \n",
       "1  3gracias bodysuitlavanda/ash/coralm          NaN             NaN  "
      ]
     },
     "execution_count": 38,
     "metadata": {},
     "output_type": "execute_result"
    }
   ],
   "source": [
    "# Step4. Substract the returned items from the inventory and save it in a new\n",
    "# variable called CANTIDAD_final\n",
    "\n",
    "df_sold_caravana_June2019['CANTIDAD_final'] = df_sold_caravana_June2019['CANTIDAD_x'] - df_sold_caravana_June2019['CANTIDAD_y']\n",
    "df_sold_caravana_June2019.head(2)"
   ]
  },
  {
   "cell_type": "code",
   "execution_count": 39,
   "metadata": {},
   "outputs": [
    {
     "data": {
      "text/plain": [
       " 1.0    33\n",
       " 0.0    30\n",
       "-1.0     1\n",
       "Name: CANTIDAD_final, dtype: int64"
      ]
     },
     "execution_count": 39,
     "metadata": {},
     "output_type": "execute_result"
    }
   ],
   "source": [
    "df_sold_caravana_June2019['CANTIDAD_final'].value_counts()"
   ]
  },
  {
   "cell_type": "code",
   "execution_count": 40,
   "metadata": {},
   "outputs": [],
   "source": [
    "# Step 5. Fill the NaN (items not in common) with the inventory quantity\n",
    "\n",
    "df_sold_caravana_June2019['CANTIDAD_final'].fillna(df_sold_caravana_June2019['CANTIDAD_x'], inplace=True)"
   ]
  },
  {
   "cell_type": "code",
   "execution_count": 41,
   "metadata": {},
   "outputs": [
    {
     "data": {
      "text/plain": [
       "Index(['MODELO', 'COLOR', 'TALLA', 'CANTIDAD_x', 'all', 'CANTIDAD_y',\n",
       "       'CANTIDAD_final'],\n",
       "      dtype='object')"
      ]
     },
     "execution_count": 41,
     "metadata": {},
     "output_type": "execute_result"
    }
   ],
   "source": [
    "df_sold_caravana_June2019.columns"
   ]
  },
  {
   "cell_type": "code",
   "execution_count": 42,
   "metadata": {},
   "outputs": [
    {
     "data": {
      "text/html": [
       "<div>\n",
       "<style scoped>\n",
       "    .dataframe tbody tr th:only-of-type {\n",
       "        vertical-align: middle;\n",
       "    }\n",
       "\n",
       "    .dataframe tbody tr th {\n",
       "        vertical-align: top;\n",
       "    }\n",
       "\n",
       "    .dataframe thead th {\n",
       "        text-align: right;\n",
       "    }\n",
       "</style>\n",
       "<table border=\"1\" class=\"dataframe\">\n",
       "  <thead>\n",
       "    <tr style=\"text-align: right;\">\n",
       "      <th></th>\n",
       "      <th>MODELO</th>\n",
       "      <th>COLOR</th>\n",
       "      <th>TALLA</th>\n",
       "      <th>CANTIDAD_x</th>\n",
       "      <th>all</th>\n",
       "      <th>CANTIDAD_y</th>\n",
       "      <th>CANTIDAD_final</th>\n",
       "    </tr>\n",
       "  </thead>\n",
       "  <tbody>\n",
       "    <tr>\n",
       "      <th>0</th>\n",
       "      <td>3gracias bodysuit</td>\n",
       "      <td>lavanda/ash/coral</td>\n",
       "      <td>ch</td>\n",
       "      <td>1.0</td>\n",
       "      <td>3gracias bodysuitlavanda/ash/coralch</td>\n",
       "      <td>1.0</td>\n",
       "      <td>0.0</td>\n",
       "    </tr>\n",
       "    <tr>\n",
       "      <th>1</th>\n",
       "      <td>3gracias bodysuit</td>\n",
       "      <td>lavanda/ash/coral</td>\n",
       "      <td>m</td>\n",
       "      <td>1.0</td>\n",
       "      <td>3gracias bodysuitlavanda/ash/coralm</td>\n",
       "      <td>NaN</td>\n",
       "      <td>1.0</td>\n",
       "    </tr>\n",
       "    <tr>\n",
       "      <th>2</th>\n",
       "      <td>3gracias bodysuit</td>\n",
       "      <td>lavanda/ash/coral</td>\n",
       "      <td>g</td>\n",
       "      <td>1.0</td>\n",
       "      <td>3gracias bodysuitlavanda/ash/coralg</td>\n",
       "      <td>1.0</td>\n",
       "      <td>0.0</td>\n",
       "    </tr>\n",
       "    <tr>\n",
       "      <th>3</th>\n",
       "      <td>gracia bodysuit</td>\n",
       "      <td>lavanda</td>\n",
       "      <td>ch</td>\n",
       "      <td>2.0</td>\n",
       "      <td>gracia bodysuitlavandach</td>\n",
       "      <td>NaN</td>\n",
       "      <td>2.0</td>\n",
       "    </tr>\n",
       "    <tr>\n",
       "      <th>4</th>\n",
       "      <td>gracia bodysuit</td>\n",
       "      <td>lavanda</td>\n",
       "      <td>m</td>\n",
       "      <td>1.0</td>\n",
       "      <td>gracia bodysuitlavandam</td>\n",
       "      <td>NaN</td>\n",
       "      <td>1.0</td>\n",
       "    </tr>\n",
       "    <tr>\n",
       "      <th>...</th>\n",
       "      <td>...</td>\n",
       "      <td>...</td>\n",
       "      <td>...</td>\n",
       "      <td>...</td>\n",
       "      <td>...</td>\n",
       "      <td>...</td>\n",
       "      <td>...</td>\n",
       "    </tr>\n",
       "    <tr>\n",
       "      <th>101</th>\n",
       "      <td>consuelo bodysuit</td>\n",
       "      <td>negro</td>\n",
       "      <td>m</td>\n",
       "      <td>1.0</td>\n",
       "      <td>consuelo bodysuitnegrom</td>\n",
       "      <td>NaN</td>\n",
       "      <td>1.0</td>\n",
       "    </tr>\n",
       "    <tr>\n",
       "      <th>102</th>\n",
       "      <td>consuelo bodysuit</td>\n",
       "      <td>negro</td>\n",
       "      <td>g</td>\n",
       "      <td>1.0</td>\n",
       "      <td>consuelo bodysuitnegrog</td>\n",
       "      <td>1.0</td>\n",
       "      <td>0.0</td>\n",
       "    </tr>\n",
       "    <tr>\n",
       "      <th>103</th>\n",
       "      <td>caña bodysuit</td>\n",
       "      <td>blanco</td>\n",
       "      <td>ch</td>\n",
       "      <td>2.0</td>\n",
       "      <td>caña bodysuitblancoch</td>\n",
       "      <td>1.0</td>\n",
       "      <td>1.0</td>\n",
       "    </tr>\n",
       "    <tr>\n",
       "      <th>104</th>\n",
       "      <td>caña bodysuit</td>\n",
       "      <td>blanco</td>\n",
       "      <td>m</td>\n",
       "      <td>1.0</td>\n",
       "      <td>caña bodysuitblancom</td>\n",
       "      <td>NaN</td>\n",
       "      <td>1.0</td>\n",
       "    </tr>\n",
       "    <tr>\n",
       "      <th>105</th>\n",
       "      <td>caña bodysuit</td>\n",
       "      <td>blanco</td>\n",
       "      <td>g</td>\n",
       "      <td>2.0</td>\n",
       "      <td>caña bodysuitblancog</td>\n",
       "      <td>NaN</td>\n",
       "      <td>2.0</td>\n",
       "    </tr>\n",
       "  </tbody>\n",
       "</table>\n",
       "<p>106 rows × 7 columns</p>\n",
       "</div>"
      ],
      "text/plain": [
       "                MODELO              COLOR TALLA  CANTIDAD_x  \\\n",
       "0    3gracias bodysuit  lavanda/ash/coral    ch         1.0   \n",
       "1    3gracias bodysuit  lavanda/ash/coral    m          1.0   \n",
       "2    3gracias bodysuit  lavanda/ash/coral     g         1.0   \n",
       "3      gracia bodysuit            lavanda    ch         2.0   \n",
       "4      gracia bodysuit            lavanda    m          1.0   \n",
       "..                 ...                ...   ...         ...   \n",
       "101  consuelo bodysuit              negro     m         1.0   \n",
       "102  consuelo bodysuit              negro     g         1.0   \n",
       "103      caña bodysuit             blanco    ch         2.0   \n",
       "104      caña bodysuit             blanco     m         1.0   \n",
       "105      caña bodysuit             blanco     g         2.0   \n",
       "\n",
       "                                      all  CANTIDAD_y  CANTIDAD_final  \n",
       "0    3gracias bodysuitlavanda/ash/coralch         1.0             0.0  \n",
       "1    3gracias bodysuitlavanda/ash/coralm          NaN             1.0  \n",
       "2     3gracias bodysuitlavanda/ash/coralg         1.0             0.0  \n",
       "3                gracia bodysuitlavandach         NaN             2.0  \n",
       "4                gracia bodysuitlavandam          NaN             1.0  \n",
       "..                                    ...         ...             ...  \n",
       "101               consuelo bodysuitnegrom         NaN             1.0  \n",
       "102               consuelo bodysuitnegrog         1.0             0.0  \n",
       "103                 caña bodysuitblancoch         1.0             1.0  \n",
       "104                  caña bodysuitblancom         NaN             1.0  \n",
       "105                  caña bodysuitblancog         NaN             2.0  \n",
       "\n",
       "[106 rows x 7 columns]"
      ]
     },
     "execution_count": 42,
     "metadata": {},
     "output_type": "execute_result"
    }
   ],
   "source": [
    "df_sold_caravana_June2019"
   ]
  },
  {
   "cell_type": "code",
   "execution_count": 43,
   "metadata": {},
   "outputs": [],
   "source": [
    "df_sold_caravana_June2019.drop(columns=['CANTIDAD_x','all', 'CANTIDAD_y' ], inplace = True)"
   ]
  },
  {
   "cell_type": "code",
   "execution_count": 44,
   "metadata": {},
   "outputs": [
    {
     "data": {
      "text/html": [
       "<div>\n",
       "<style scoped>\n",
       "    .dataframe tbody tr th:only-of-type {\n",
       "        vertical-align: middle;\n",
       "    }\n",
       "\n",
       "    .dataframe tbody tr th {\n",
       "        vertical-align: top;\n",
       "    }\n",
       "\n",
       "    .dataframe thead th {\n",
       "        text-align: right;\n",
       "    }\n",
       "</style>\n",
       "<table border=\"1\" class=\"dataframe\">\n",
       "  <thead>\n",
       "    <tr style=\"text-align: right;\">\n",
       "      <th></th>\n",
       "      <th>MODELO</th>\n",
       "      <th>COLOR</th>\n",
       "      <th>TALLA</th>\n",
       "      <th>CANTIDAD_final</th>\n",
       "    </tr>\n",
       "  </thead>\n",
       "  <tbody>\n",
       "    <tr>\n",
       "      <th>0</th>\n",
       "      <td>3gracias bodysuit</td>\n",
       "      <td>lavanda/ash/coral</td>\n",
       "      <td>ch</td>\n",
       "      <td>0.0</td>\n",
       "    </tr>\n",
       "    <tr>\n",
       "      <th>1</th>\n",
       "      <td>3gracias bodysuit</td>\n",
       "      <td>lavanda/ash/coral</td>\n",
       "      <td>m</td>\n",
       "      <td>1.0</td>\n",
       "    </tr>\n",
       "    <tr>\n",
       "      <th>2</th>\n",
       "      <td>3gracias bodysuit</td>\n",
       "      <td>lavanda/ash/coral</td>\n",
       "      <td>g</td>\n",
       "      <td>0.0</td>\n",
       "    </tr>\n",
       "    <tr>\n",
       "      <th>3</th>\n",
       "      <td>gracia bodysuit</td>\n",
       "      <td>lavanda</td>\n",
       "      <td>ch</td>\n",
       "      <td>2.0</td>\n",
       "    </tr>\n",
       "    <tr>\n",
       "      <th>4</th>\n",
       "      <td>gracia bodysuit</td>\n",
       "      <td>lavanda</td>\n",
       "      <td>m</td>\n",
       "      <td>1.0</td>\n",
       "    </tr>\n",
       "    <tr>\n",
       "      <th>...</th>\n",
       "      <td>...</td>\n",
       "      <td>...</td>\n",
       "      <td>...</td>\n",
       "      <td>...</td>\n",
       "    </tr>\n",
       "    <tr>\n",
       "      <th>101</th>\n",
       "      <td>consuelo bodysuit</td>\n",
       "      <td>negro</td>\n",
       "      <td>m</td>\n",
       "      <td>1.0</td>\n",
       "    </tr>\n",
       "    <tr>\n",
       "      <th>102</th>\n",
       "      <td>consuelo bodysuit</td>\n",
       "      <td>negro</td>\n",
       "      <td>g</td>\n",
       "      <td>0.0</td>\n",
       "    </tr>\n",
       "    <tr>\n",
       "      <th>103</th>\n",
       "      <td>caña bodysuit</td>\n",
       "      <td>blanco</td>\n",
       "      <td>ch</td>\n",
       "      <td>1.0</td>\n",
       "    </tr>\n",
       "    <tr>\n",
       "      <th>104</th>\n",
       "      <td>caña bodysuit</td>\n",
       "      <td>blanco</td>\n",
       "      <td>m</td>\n",
       "      <td>1.0</td>\n",
       "    </tr>\n",
       "    <tr>\n",
       "      <th>105</th>\n",
       "      <td>caña bodysuit</td>\n",
       "      <td>blanco</td>\n",
       "      <td>g</td>\n",
       "      <td>2.0</td>\n",
       "    </tr>\n",
       "  </tbody>\n",
       "</table>\n",
       "<p>106 rows × 4 columns</p>\n",
       "</div>"
      ],
      "text/plain": [
       "                MODELO              COLOR TALLA  CANTIDAD_final\n",
       "0    3gracias bodysuit  lavanda/ash/coral    ch             0.0\n",
       "1    3gracias bodysuit  lavanda/ash/coral    m              1.0\n",
       "2    3gracias bodysuit  lavanda/ash/coral     g             0.0\n",
       "3      gracia bodysuit            lavanda    ch             2.0\n",
       "4      gracia bodysuit            lavanda    m              1.0\n",
       "..                 ...                ...   ...             ...\n",
       "101  consuelo bodysuit              negro     m             1.0\n",
       "102  consuelo bodysuit              negro     g             0.0\n",
       "103      caña bodysuit             blanco    ch             1.0\n",
       "104      caña bodysuit             blanco     m             1.0\n",
       "105      caña bodysuit             blanco     g             2.0\n",
       "\n",
       "[106 rows x 4 columns]"
      ]
     },
     "execution_count": 44,
     "metadata": {},
     "output_type": "execute_result"
    }
   ],
   "source": [
    "df_sold_caravana_June2019"
   ]
  },
  {
   "cell_type": "code",
   "execution_count": null,
   "metadata": {},
   "outputs": [],
   "source": [
    "#Defining previous steps in a function\n",
    "\n",
    "def merge_quantitites(ret, inv):\n",
    "    \"\"\"\n",
    "    Function to merge the quantities of real items, based on Returns and inventory files.\n",
    "    input: ret -> df containing the returns, \n",
    "           column names: ['MODELO', 'COLOR', 'TALLA', 'ret_CANTIDAD']\n",
    "           \n",
    "           inv -> df containing the inventory, \n",
    "           column names: ['MODELO', 'COLOR', 'TALLA', 'CANTIDAD']\n",
    "    \"\"\"\n",
    "    # Step 1. Create a new column (all) contaning all the three appended columns (MODELO, COLOR y TALLA)\n",
    "    ret['all'] = ret['MODELO']+ret['COLOR'] + ret['TALLA']\n",
    "    inv['all'] = inv['MODELO']+inv['COLOR'] + inv['TALLA']\n",
    "\n",
    "    # Step 2. left join considering the new column between inv (LEFT) and ret (RIGHT) \n",
    "    common = inv.merge(ret, on=['all'], how= 'left')\n",
    "    print('Size of common elements', common.shape)\n",
    "    print('Size of inv elements', inv.shape)\n",
    "    print('Size of return elements', ret.shape)\n",
    "    print('.................................')\n",
    "    \n",
    "    # Step 3. Data cleaning, removing the unnecessary columns\n",
    "    common = common.drop(['MODELO_y','COLOR_y','TALLA_y'], axis=1)\n",
    "    common = common.rename({'MODELO_x': 'MODELO','COLOR_x':'COLOR','TALLA_x':'TALLA'}, axis=1)\n",
    "    \n",
    "    # Step 4. Substract the returned items from the inventory and save it in a new\n",
    "    # variable called CANTIDAD_final\n",
    "    common['CANTIDAD_final'] = common['CANTIDAD'] - common['ret_CANTIDAD']\n",
    "\n",
    "    # Step 5. Fill the NaN (items not in common) with the inventory quantity\n",
    "    common['CANTIDAD_final'].fillna(common['CANTIDAD'], inplace=True)\n",
    "    \n",
    "    # Step 6. Rearrange of the final dataset\n",
    "    common = common[['MODELO', 'COLOR', 'TALLA', 'CANTIDAD_final']]\n",
    "    print('.................................')\n",
    "    print(common.head(2))\n",
    "    return common"
   ]
  },
  {
   "cell_type": "markdown",
   "metadata": {},
   "source": [
    "# Adding prices from B2C sales"
   ]
  },
  {
   "cell_type": "code",
   "execution_count": null,
   "metadata": {},
   "outputs": [],
   "source": [
    "#The inventories from the CARAVANA sales have no prices in them. We will match the models to the B2C sales datasets\n",
    "#in order to add prices to the CARAVANA sales"
   ]
  },
  {
   "cell_type": "code",
   "execution_count": 45,
   "metadata": {},
   "outputs": [],
   "source": [
    "df_SalesB2C_2019 = pd.read_csv('../datasets/Sales/B2C/SalesB2C_2019.csv', index_col=0)"
   ]
  },
  {
   "cell_type": "code",
   "execution_count": 46,
   "metadata": {},
   "outputs": [
    {
     "data": {
      "text/html": [
       "<div>\n",
       "<style scoped>\n",
       "    .dataframe tbody tr th:only-of-type {\n",
       "        vertical-align: middle;\n",
       "    }\n",
       "\n",
       "    .dataframe tbody tr th {\n",
       "        vertical-align: top;\n",
       "    }\n",
       "\n",
       "    .dataframe thead th {\n",
       "        text-align: right;\n",
       "    }\n",
       "</style>\n",
       "<table border=\"1\" class=\"dataframe\">\n",
       "  <thead>\n",
       "    <tr style=\"text-align: right;\">\n",
       "      <th></th>\n",
       "      <th>FECHA</th>\n",
       "      <th>CLIENTE</th>\n",
       "      <th>CANTIDAD</th>\n",
       "      <th>MODELO</th>\n",
       "      <th>COLOR</th>\n",
       "      <th>TALLA</th>\n",
       "      <th>PRECIO</th>\n",
       "      <th>DESCUENTO</th>\n",
       "      <th>TOTAL</th>\n",
       "      <th>PUNTO DE VENTA</th>\n",
       "    </tr>\n",
       "  </thead>\n",
       "  <tbody>\n",
       "    <tr>\n",
       "      <th>0</th>\n",
       "      <td>2019-06-05</td>\n",
       "      <td>KAREN (OAXACA)</td>\n",
       "      <td>1.0</td>\n",
       "      <td>lola</td>\n",
       "      <td>verde</td>\n",
       "      <td>M</td>\n",
       "      <td>490.0</td>\n",
       "      <td>0.15</td>\n",
       "      <td>416.5</td>\n",
       "      <td>SHOWROOM</td>\n",
       "    </tr>\n",
       "    <tr>\n",
       "      <th>1</th>\n",
       "      <td>2019-06-12</td>\n",
       "      <td>MA. FERNANDA ORTIZ</td>\n",
       "      <td>1.0</td>\n",
       "      <td>eros</td>\n",
       "      <td>lavanda</td>\n",
       "      <td>S</td>\n",
       "      <td>750.0</td>\n",
       "      <td>0.10</td>\n",
       "      <td>675.0</td>\n",
       "      <td>SHOWROOM</td>\n",
       "    </tr>\n",
       "    <tr>\n",
       "      <th>2</th>\n",
       "      <td>2019-06-12</td>\n",
       "      <td>MA. FERNANDA ORTIZ</td>\n",
       "      <td>1.0</td>\n",
       "      <td>lola</td>\n",
       "      <td>lavanda</td>\n",
       "      <td>M</td>\n",
       "      <td>650.0</td>\n",
       "      <td>0.10</td>\n",
       "      <td>585.0</td>\n",
       "      <td>SHOWROOM</td>\n",
       "    </tr>\n",
       "    <tr>\n",
       "      <th>3</th>\n",
       "      <td>2019-06-13</td>\n",
       "      <td>IRMA VILLANUEVA</td>\n",
       "      <td>1.0</td>\n",
       "      <td>eros</td>\n",
       "      <td>lavanda</td>\n",
       "      <td>L</td>\n",
       "      <td>750.0</td>\n",
       "      <td>0.00</td>\n",
       "      <td>750.0</td>\n",
       "      <td>SHOWROOM</td>\n",
       "    </tr>\n",
       "    <tr>\n",
       "      <th>4</th>\n",
       "      <td>2019-06-13</td>\n",
       "      <td>IRMA VILLANUEVA</td>\n",
       "      <td>1.0</td>\n",
       "      <td>consuelo bodysuit</td>\n",
       "      <td>cherry</td>\n",
       "      <td>L</td>\n",
       "      <td>1450.0</td>\n",
       "      <td>0.00</td>\n",
       "      <td>1450.0</td>\n",
       "      <td>SHOWROOM</td>\n",
       "    </tr>\n",
       "    <tr>\n",
       "      <th>...</th>\n",
       "      <td>...</td>\n",
       "      <td>...</td>\n",
       "      <td>...</td>\n",
       "      <td>...</td>\n",
       "      <td>...</td>\n",
       "      <td>...</td>\n",
       "      <td>...</td>\n",
       "      <td>...</td>\n",
       "      <td>...</td>\n",
       "      <td>...</td>\n",
       "    </tr>\n",
       "    <tr>\n",
       "      <th>249</th>\n",
       "      <td>2019-12-16</td>\n",
       "      <td>Manu demichelis</td>\n",
       "      <td>1.0</td>\n",
       "      <td>paloma bodysuit</td>\n",
       "      <td>tan</td>\n",
       "      <td>m</td>\n",
       "      <td>1565.0</td>\n",
       "      <td>0.00</td>\n",
       "      <td>1565.0</td>\n",
       "      <td>INSTAGRAM</td>\n",
       "    </tr>\n",
       "    <tr>\n",
       "      <th>250</th>\n",
       "      <td>2019-12-18</td>\n",
       "      <td>andrea fuga</td>\n",
       "      <td>1.0</td>\n",
       "      <td>pastora bodysuit</td>\n",
       "      <td>negro</td>\n",
       "      <td>M</td>\n",
       "      <td>1290.0</td>\n",
       "      <td>0.20</td>\n",
       "      <td>1032.0</td>\n",
       "      <td>INSTAGRAM</td>\n",
       "    </tr>\n",
       "    <tr>\n",
       "      <th>252</th>\n",
       "      <td>2019-12-19</td>\n",
       "      <td>Pina</td>\n",
       "      <td>1.0</td>\n",
       "      <td>caña  bodysuit</td>\n",
       "      <td>blanco</td>\n",
       "      <td>S</td>\n",
       "      <td>1800.0</td>\n",
       "      <td>0.30</td>\n",
       "      <td>1260.0</td>\n",
       "      <td>SHOWROOM</td>\n",
       "    </tr>\n",
       "    <tr>\n",
       "      <th>253</th>\n",
       "      <td>2019-12-20</td>\n",
       "      <td>PAU PLMR</td>\n",
       "      <td>1.0</td>\n",
       "      <td>emilia bodysuit</td>\n",
       "      <td>marsala</td>\n",
       "      <td>M</td>\n",
       "      <td>1565.0</td>\n",
       "      <td>0.00</td>\n",
       "      <td>1565.0</td>\n",
       "      <td>SHOWROOM</td>\n",
       "    </tr>\n",
       "    <tr>\n",
       "      <th>254</th>\n",
       "      <td>2019-12-20</td>\n",
       "      <td>MARIANA</td>\n",
       "      <td>1.0</td>\n",
       "      <td>consuelo bodysuit</td>\n",
       "      <td>cherry</td>\n",
       "      <td>M</td>\n",
       "      <td>1450.0</td>\n",
       "      <td>0.10</td>\n",
       "      <td>1305.0</td>\n",
       "      <td>SHOWROOM</td>\n",
       "    </tr>\n",
       "  </tbody>\n",
       "</table>\n",
       "<p>236 rows × 10 columns</p>\n",
       "</div>"
      ],
      "text/plain": [
       "          FECHA             CLIENTE  CANTIDAD             MODELO    COLOR  \\\n",
       "0    2019-06-05      KAREN (OAXACA)       1.0               lola    verde   \n",
       "1    2019-06-12  MA. FERNANDA ORTIZ       1.0               eros  lavanda   \n",
       "2    2019-06-12  MA. FERNANDA ORTIZ       1.0               lola  lavanda   \n",
       "3    2019-06-13     IRMA VILLANUEVA       1.0               eros  lavanda   \n",
       "4    2019-06-13     IRMA VILLANUEVA       1.0  consuelo bodysuit   cherry   \n",
       "..          ...                 ...       ...                ...      ...   \n",
       "249  2019-12-16     Manu demichelis       1.0    paloma bodysuit      tan   \n",
       "250  2019-12-18         andrea fuga       1.0   pastora bodysuit    negro   \n",
       "252  2019-12-19                Pina       1.0     caña  bodysuit   blanco   \n",
       "253  2019-12-20            PAU PLMR       1.0    emilia bodysuit  marsala   \n",
       "254  2019-12-20             MARIANA       1.0  consuelo bodysuit   cherry   \n",
       "\n",
       "    TALLA  PRECIO  DESCUENTO   TOTAL PUNTO DE VENTA  \n",
       "0       M   490.0       0.15   416.5       SHOWROOM  \n",
       "1       S   750.0       0.10   675.0       SHOWROOM  \n",
       "2       M   650.0       0.10   585.0       SHOWROOM  \n",
       "3       L   750.0       0.00   750.0       SHOWROOM  \n",
       "4       L  1450.0       0.00  1450.0       SHOWROOM  \n",
       "..    ...     ...        ...     ...            ...  \n",
       "249     m  1565.0       0.00  1565.0      INSTAGRAM  \n",
       "250     M  1290.0       0.20  1032.0      INSTAGRAM  \n",
       "252     S  1800.0       0.30  1260.0       SHOWROOM  \n",
       "253     M  1565.0       0.00  1565.0       SHOWROOM  \n",
       "254     M  1450.0       0.10  1305.0       SHOWROOM  \n",
       "\n",
       "[236 rows x 10 columns]"
      ]
     },
     "execution_count": 46,
     "metadata": {},
     "output_type": "execute_result"
    }
   ],
   "source": [
    "df_SalesB2C_2019"
   ]
  },
  {
   "cell_type": "code",
   "execution_count": 47,
   "metadata": {},
   "outputs": [
    {
     "data": {
      "text/plain": [
       "eros                 24\n",
       "pastora bodysuit     22\n",
       "emilia bodysuit      21\n",
       "lola                 21\n",
       "paloma bodysuit      12\n",
       "maca                 12\n",
       "apolo                11\n",
       "naranjo bodysuit      9\n",
       "candela               9\n",
       "consuelo bodysuit     9\n",
       "lucia                 8\n",
       "alma bodysuit         6\n",
       "venus bodysuit        4\n",
       "geminis top           4\n",
       "libra                 4\n",
       "aries                 4\n",
       "maca bottom           3\n",
       "jeronimo              3\n",
       "eros bodysuit         3\n",
       "maria                 3\n",
       "geminis bottom        3\n",
       "margot                2\n",
       "caña bodysuit         2\n",
       "sample                2\n",
       "dolores               2\n",
       "mara                  2\n",
       "maria top             2\n",
       "olivia bodysuit       2\n",
       "marcelo bodysuit      2\n",
       "maria bottom          2\n",
       "milo bodysuit         1\n",
       "3gracias bodysuit     1\n",
       "caña                  1\n",
       "lola bottom           1\n",
       "palma bodysuit        1\n",
       "caña  bodysuit        1\n",
       "leo bottom            1\n",
       " marcelo bodysuit     1\n",
       "alma                  1\n",
       "caña bottom           1\n",
       "caña top              1\n",
       "barreto bodysuit      1\n",
       "nina                  1\n",
       "bodysuit              1\n",
       "marcelo  bodysuit     1\n",
       "milo  bodysuit        1\n",
       "leo                   1\n",
       "top milo              1\n",
       "samples               1\n",
       "sabina                1\n",
       "leandro               1\n",
       "top lucia             1\n",
       "gracia bodysuit       1\n",
       "Name: MODELO, dtype: int64"
      ]
     },
     "execution_count": 47,
     "metadata": {},
     "output_type": "execute_result"
    }
   ],
   "source": [
    "df_SalesB2C_2019.MODELO.value_counts()"
   ]
  },
  {
   "cell_type": "code",
   "execution_count": 48,
   "metadata": {},
   "outputs": [
    {
     "data": {
      "text/plain": [
       "array(['lola', 'eros', 'consuelo bodysuit', 'apolo', 'maca',\n",
       "       'pastora bodysuit', 'emilia bodysuit', 'caña', 'maria', 'lucia',\n",
       "       'venus bodysuit', 'paloma bodysuit', 'geminis top',\n",
       "       'geminis bottom', 'naranjo bodysuit', 'aries', 'eros bodysuit',\n",
       "       'gracia bodysuit', 'nina', 'caña bottom', 'candela',\n",
       "       'alma bodysuit', 'barreto bodysuit', 'maria bottom',\n",
       "       '3gracias bodysuit', 'jeronimo', 'alma', 'marcelo  bodysuit',\n",
       "       'caña top', 'marcelo bodysuit', 'palma bodysuit',\n",
       "       'olivia bodysuit', 'maria top', 'leo bottom', 'maca bottom',\n",
       "       'lola bottom', 'milo bodysuit', 'milo  bodysuit', 'mara',\n",
       "       'caña bodysuit', 'bodysuit', 'dolores', 'top milo', 'samples',\n",
       "       'sabina', 'top lucia', 'libra', 'margot', 'leandro', 'leo',\n",
       "       'sample', ' marcelo bodysuit', 'caña  bodysuit'], dtype=object)"
      ]
     },
     "execution_count": 48,
     "metadata": {},
     "output_type": "execute_result"
    }
   ],
   "source": [
    "df_SalesB2C_2019.MODELO.unique()"
   ]
  },
  {
   "cell_type": "code",
   "execution_count": 49,
   "metadata": {},
   "outputs": [],
   "source": [
    "df_prices = df_SalesB2C_2019.drop(columns = ['FECHA', 'CLIENTE','CANTIDAD', 'COLOR', 'TALLA', 'DESCUENTO', 'TOTAL', 'PUNTO DE VENTA'])"
   ]
  },
  {
   "cell_type": "code",
   "execution_count": 50,
   "metadata": {},
   "outputs": [
    {
     "data": {
      "text/plain": [
       "(236, 2)"
      ]
     },
     "execution_count": 50,
     "metadata": {},
     "output_type": "execute_result"
    }
   ],
   "source": [
    "df_prices.shape"
   ]
  },
  {
   "cell_type": "code",
   "execution_count": 51,
   "metadata": {},
   "outputs": [
    {
     "data": {
      "text/html": [
       "<div>\n",
       "<style scoped>\n",
       "    .dataframe tbody tr th:only-of-type {\n",
       "        vertical-align: middle;\n",
       "    }\n",
       "\n",
       "    .dataframe tbody tr th {\n",
       "        vertical-align: top;\n",
       "    }\n",
       "\n",
       "    .dataframe thead th {\n",
       "        text-align: right;\n",
       "    }\n",
       "</style>\n",
       "<table border=\"1\" class=\"dataframe\">\n",
       "  <thead>\n",
       "    <tr style=\"text-align: right;\">\n",
       "      <th></th>\n",
       "      <th>MODELO</th>\n",
       "      <th>PRECIO</th>\n",
       "    </tr>\n",
       "  </thead>\n",
       "  <tbody>\n",
       "    <tr>\n",
       "      <th>0</th>\n",
       "      <td>lola</td>\n",
       "      <td>490.0</td>\n",
       "    </tr>\n",
       "    <tr>\n",
       "      <th>1</th>\n",
       "      <td>eros</td>\n",
       "      <td>750.0</td>\n",
       "    </tr>\n",
       "    <tr>\n",
       "      <th>2</th>\n",
       "      <td>lola</td>\n",
       "      <td>650.0</td>\n",
       "    </tr>\n",
       "    <tr>\n",
       "      <th>3</th>\n",
       "      <td>eros</td>\n",
       "      <td>750.0</td>\n",
       "    </tr>\n",
       "    <tr>\n",
       "      <th>4</th>\n",
       "      <td>consuelo bodysuit</td>\n",
       "      <td>1450.0</td>\n",
       "    </tr>\n",
       "  </tbody>\n",
       "</table>\n",
       "</div>"
      ],
      "text/plain": [
       "              MODELO  PRECIO\n",
       "0               lola   490.0\n",
       "1               eros   750.0\n",
       "2               lola   650.0\n",
       "3               eros   750.0\n",
       "4  consuelo bodysuit  1450.0"
      ]
     },
     "execution_count": 51,
     "metadata": {},
     "output_type": "execute_result"
    }
   ],
   "source": [
    "df_prices.head()"
   ]
  },
  {
   "cell_type": "code",
   "execution_count": 52,
   "metadata": {},
   "outputs": [],
   "source": [
    "uniques = df_prices[['MODELO']].drop_duplicates()"
   ]
  },
  {
   "cell_type": "code",
   "execution_count": 53,
   "metadata": {},
   "outputs": [
    {
     "data": {
      "text/plain": [
       "(53, 1)"
      ]
     },
     "execution_count": 53,
     "metadata": {},
     "output_type": "execute_result"
    }
   ],
   "source": [
    "uniques.shape"
   ]
  },
  {
   "cell_type": "code",
   "execution_count": 54,
   "metadata": {},
   "outputs": [],
   "source": [
    "df1 = df_sold_caravana_June2019.copy()\n",
    "df2 = df_prices.copy()\n",
    "\n",
    "\n",
    "rhs = (df1.MODELO\n",
    "          .apply(lambda x: df2[df2.MODELO.str.find(x).ge(0)]['PRECIO'])\n",
    "          .bfill(axis=1)\n",
    "          .iloc[:, 0])\n",
    "\n",
    "df_sold_caravana_June2019_price = (pd.concat([df1, rhs], axis=1, ignore_index=True))\n",
    " \n",
    "df_sold_caravana_June2019_price.rename(columns={0: 'MODELO', 1: 'COLOR', 2:'TALLA', 3: 'CANTIDAD', 4:'PRECIO'}, inplace = True)\n"
   ]
  },
  {
   "cell_type": "code",
   "execution_count": 55,
   "metadata": {},
   "outputs": [
    {
     "data": {
      "text/html": [
       "<div>\n",
       "<style scoped>\n",
       "    .dataframe tbody tr th:only-of-type {\n",
       "        vertical-align: middle;\n",
       "    }\n",
       "\n",
       "    .dataframe tbody tr th {\n",
       "        vertical-align: top;\n",
       "    }\n",
       "\n",
       "    .dataframe thead th {\n",
       "        text-align: right;\n",
       "    }\n",
       "</style>\n",
       "<table border=\"1\" class=\"dataframe\">\n",
       "  <thead>\n",
       "    <tr style=\"text-align: right;\">\n",
       "      <th></th>\n",
       "      <th>MODELO</th>\n",
       "      <th>COLOR</th>\n",
       "      <th>TALLA</th>\n",
       "      <th>CANTIDAD</th>\n",
       "      <th>PRECIO</th>\n",
       "    </tr>\n",
       "  </thead>\n",
       "  <tbody>\n",
       "    <tr>\n",
       "      <th>0</th>\n",
       "      <td>3gracias bodysuit</td>\n",
       "      <td>lavanda/ash/coral</td>\n",
       "      <td>ch</td>\n",
       "      <td>0.0</td>\n",
       "      <td>1890.0</td>\n",
       "    </tr>\n",
       "    <tr>\n",
       "      <th>1</th>\n",
       "      <td>3gracias bodysuit</td>\n",
       "      <td>lavanda/ash/coral</td>\n",
       "      <td>m</td>\n",
       "      <td>1.0</td>\n",
       "      <td>1890.0</td>\n",
       "    </tr>\n",
       "    <tr>\n",
       "      <th>2</th>\n",
       "      <td>3gracias bodysuit</td>\n",
       "      <td>lavanda/ash/coral</td>\n",
       "      <td>g</td>\n",
       "      <td>0.0</td>\n",
       "      <td>1890.0</td>\n",
       "    </tr>\n",
       "    <tr>\n",
       "      <th>3</th>\n",
       "      <td>gracia bodysuit</td>\n",
       "      <td>lavanda</td>\n",
       "      <td>ch</td>\n",
       "      <td>2.0</td>\n",
       "      <td>1890.0</td>\n",
       "    </tr>\n",
       "    <tr>\n",
       "      <th>4</th>\n",
       "      <td>gracia bodysuit</td>\n",
       "      <td>lavanda</td>\n",
       "      <td>m</td>\n",
       "      <td>1.0</td>\n",
       "      <td>1890.0</td>\n",
       "    </tr>\n",
       "  </tbody>\n",
       "</table>\n",
       "</div>"
      ],
      "text/plain": [
       "              MODELO              COLOR TALLA  CANTIDAD  PRECIO\n",
       "0  3gracias bodysuit  lavanda/ash/coral    ch       0.0  1890.0\n",
       "1  3gracias bodysuit  lavanda/ash/coral    m        1.0  1890.0\n",
       "2  3gracias bodysuit  lavanda/ash/coral     g       0.0  1890.0\n",
       "3    gracia bodysuit            lavanda    ch       2.0  1890.0\n",
       "4    gracia bodysuit            lavanda    m        1.0  1890.0"
      ]
     },
     "execution_count": 55,
     "metadata": {},
     "output_type": "execute_result"
    }
   ],
   "source": [
    "df_sold_caravana_June2019_price.head()"
   ]
  },
  {
   "cell_type": "code",
   "execution_count": 56,
   "metadata": {},
   "outputs": [
    {
     "data": {
      "text/html": [
       "<div>\n",
       "<style scoped>\n",
       "    .dataframe tbody tr th:only-of-type {\n",
       "        vertical-align: middle;\n",
       "    }\n",
       "\n",
       "    .dataframe tbody tr th {\n",
       "        vertical-align: top;\n",
       "    }\n",
       "\n",
       "    .dataframe thead th {\n",
       "        text-align: right;\n",
       "    }\n",
       "</style>\n",
       "<table border=\"1\" class=\"dataframe\">\n",
       "  <thead>\n",
       "    <tr style=\"text-align: right;\">\n",
       "      <th></th>\n",
       "      <th>Percentage_NaN</th>\n",
       "    </tr>\n",
       "  </thead>\n",
       "  <tbody>\n",
       "    <tr>\n",
       "      <th>PRECIO</th>\n",
       "      <td>39.6</td>\n",
       "    </tr>\n",
       "    <tr>\n",
       "      <th>MODELO</th>\n",
       "      <td>0.0</td>\n",
       "    </tr>\n",
       "    <tr>\n",
       "      <th>COLOR</th>\n",
       "      <td>0.0</td>\n",
       "    </tr>\n",
       "    <tr>\n",
       "      <th>TALLA</th>\n",
       "      <td>0.0</td>\n",
       "    </tr>\n",
       "    <tr>\n",
       "      <th>CANTIDAD</th>\n",
       "      <td>0.0</td>\n",
       "    </tr>\n",
       "  </tbody>\n",
       "</table>\n",
       "</div>"
      ],
      "text/plain": [
       "          Percentage_NaN\n",
       "PRECIO              39.6\n",
       "MODELO               0.0\n",
       "COLOR                0.0\n",
       "TALLA                0.0\n",
       "CANTIDAD             0.0"
      ]
     },
     "execution_count": 56,
     "metadata": {},
     "output_type": "execute_result"
    }
   ],
   "source": [
    "percentage_nullValues(df_sold_caravana_June2019_price)"
   ]
  },
  {
   "cell_type": "code",
   "execution_count": 57,
   "metadata": {},
   "outputs": [
    {
     "data": {
      "text/html": [
       "<div>\n",
       "<style scoped>\n",
       "    .dataframe tbody tr th:only-of-type {\n",
       "        vertical-align: middle;\n",
       "    }\n",
       "\n",
       "    .dataframe tbody tr th {\n",
       "        vertical-align: top;\n",
       "    }\n",
       "\n",
       "    .dataframe thead th {\n",
       "        text-align: right;\n",
       "    }\n",
       "</style>\n",
       "<table border=\"1\" class=\"dataframe\">\n",
       "  <thead>\n",
       "    <tr style=\"text-align: right;\">\n",
       "      <th></th>\n",
       "      <th>MODELO</th>\n",
       "      <th>COLOR</th>\n",
       "      <th>TALLA</th>\n",
       "      <th>CANTIDAD</th>\n",
       "      <th>PRECIO</th>\n",
       "    </tr>\n",
       "  </thead>\n",
       "  <tbody>\n",
       "    <tr>\n",
       "      <th>18</th>\n",
       "      <td>eros top</td>\n",
       "      <td>lavanda</td>\n",
       "      <td>ch</td>\n",
       "      <td>2.0</td>\n",
       "      <td>NaN</td>\n",
       "    </tr>\n",
       "    <tr>\n",
       "      <th>19</th>\n",
       "      <td>eros top</td>\n",
       "      <td>lavanda</td>\n",
       "      <td>m</td>\n",
       "      <td>2.0</td>\n",
       "      <td>NaN</td>\n",
       "    </tr>\n",
       "    <tr>\n",
       "      <th>20</th>\n",
       "      <td>eros top</td>\n",
       "      <td>lavanda</td>\n",
       "      <td>g</td>\n",
       "      <td>1.0</td>\n",
       "      <td>NaN</td>\n",
       "    </tr>\n",
       "    <tr>\n",
       "      <th>21</th>\n",
       "      <td>eros top</td>\n",
       "      <td>coral</td>\n",
       "      <td>ch</td>\n",
       "      <td>0.0</td>\n",
       "      <td>NaN</td>\n",
       "    </tr>\n",
       "    <tr>\n",
       "      <th>22</th>\n",
       "      <td>eros top</td>\n",
       "      <td>coral</td>\n",
       "      <td>m</td>\n",
       "      <td>2.0</td>\n",
       "      <td>NaN</td>\n",
       "    </tr>\n",
       "    <tr>\n",
       "      <th>23</th>\n",
       "      <td>eros top</td>\n",
       "      <td>coral</td>\n",
       "      <td>g</td>\n",
       "      <td>0.0</td>\n",
       "      <td>NaN</td>\n",
       "    </tr>\n",
       "    <tr>\n",
       "      <th>24</th>\n",
       "      <td>eros top</td>\n",
       "      <td>ash</td>\n",
       "      <td>ch</td>\n",
       "      <td>1.0</td>\n",
       "      <td>NaN</td>\n",
       "    </tr>\n",
       "    <tr>\n",
       "      <th>25</th>\n",
       "      <td>eros top</td>\n",
       "      <td>ash</td>\n",
       "      <td>m</td>\n",
       "      <td>1.0</td>\n",
       "      <td>NaN</td>\n",
       "    </tr>\n",
       "    <tr>\n",
       "      <th>26</th>\n",
       "      <td>eros top</td>\n",
       "      <td>ash</td>\n",
       "      <td>g</td>\n",
       "      <td>1.0</td>\n",
       "      <td>NaN</td>\n",
       "    </tr>\n",
       "    <tr>\n",
       "      <th>27</th>\n",
       "      <td>aries top</td>\n",
       "      <td>lavanda</td>\n",
       "      <td>ch</td>\n",
       "      <td>0.0</td>\n",
       "      <td>NaN</td>\n",
       "    </tr>\n",
       "    <tr>\n",
       "      <th>28</th>\n",
       "      <td>aries top</td>\n",
       "      <td>lavanda</td>\n",
       "      <td>m</td>\n",
       "      <td>2.0</td>\n",
       "      <td>NaN</td>\n",
       "    </tr>\n",
       "    <tr>\n",
       "      <th>29</th>\n",
       "      <td>aries top</td>\n",
       "      <td>lavanda</td>\n",
       "      <td>g</td>\n",
       "      <td>1.0</td>\n",
       "      <td>NaN</td>\n",
       "    </tr>\n",
       "    <tr>\n",
       "      <th>30</th>\n",
       "      <td>aries top</td>\n",
       "      <td>ash</td>\n",
       "      <td>ch</td>\n",
       "      <td>1.0</td>\n",
       "      <td>NaN</td>\n",
       "    </tr>\n",
       "    <tr>\n",
       "      <th>31</th>\n",
       "      <td>aries top</td>\n",
       "      <td>ash</td>\n",
       "      <td>m</td>\n",
       "      <td>2.0</td>\n",
       "      <td>NaN</td>\n",
       "    </tr>\n",
       "    <tr>\n",
       "      <th>32</th>\n",
       "      <td>aries top</td>\n",
       "      <td>ash</td>\n",
       "      <td>g</td>\n",
       "      <td>0.0</td>\n",
       "      <td>NaN</td>\n",
       "    </tr>\n",
       "    <tr>\n",
       "      <th>46</th>\n",
       "      <td>apolo bottom</td>\n",
       "      <td>negro</td>\n",
       "      <td>ch</td>\n",
       "      <td>0.0</td>\n",
       "      <td>NaN</td>\n",
       "    </tr>\n",
       "    <tr>\n",
       "      <th>47</th>\n",
       "      <td>apolo bottom</td>\n",
       "      <td>negro</td>\n",
       "      <td>m</td>\n",
       "      <td>1.0</td>\n",
       "      <td>NaN</td>\n",
       "    </tr>\n",
       "    <tr>\n",
       "      <th>48</th>\n",
       "      <td>apolo bottom</td>\n",
       "      <td>negro</td>\n",
       "      <td>g</td>\n",
       "      <td>0.0</td>\n",
       "      <td>NaN</td>\n",
       "    </tr>\n",
       "    <tr>\n",
       "      <th>49</th>\n",
       "      <td>apolo bottom</td>\n",
       "      <td>ash</td>\n",
       "      <td>ch</td>\n",
       "      <td>-1.0</td>\n",
       "      <td>NaN</td>\n",
       "    </tr>\n",
       "    <tr>\n",
       "      <th>50</th>\n",
       "      <td>apolo bottom</td>\n",
       "      <td>ash</td>\n",
       "      <td>m</td>\n",
       "      <td>0.0</td>\n",
       "      <td>NaN</td>\n",
       "    </tr>\n",
       "    <tr>\n",
       "      <th>51</th>\n",
       "      <td>apolo bottom</td>\n",
       "      <td>ash</td>\n",
       "      <td>g</td>\n",
       "      <td>0.0</td>\n",
       "      <td>NaN</td>\n",
       "    </tr>\n",
       "    <tr>\n",
       "      <th>58</th>\n",
       "      <td>florencia bodysuit</td>\n",
       "      <td>negro</td>\n",
       "      <td>ch</td>\n",
       "      <td>0.0</td>\n",
       "      <td>NaN</td>\n",
       "    </tr>\n",
       "    <tr>\n",
       "      <th>59</th>\n",
       "      <td>florencia bodysuit</td>\n",
       "      <td>negro</td>\n",
       "      <td>m</td>\n",
       "      <td>1.0</td>\n",
       "      <td>NaN</td>\n",
       "    </tr>\n",
       "    <tr>\n",
       "      <th>60</th>\n",
       "      <td>florencia bodysuit</td>\n",
       "      <td>negro</td>\n",
       "      <td>g</td>\n",
       "      <td>0.0</td>\n",
       "      <td>NaN</td>\n",
       "    </tr>\n",
       "    <tr>\n",
       "      <th>64</th>\n",
       "      <td>florencia bodysuit</td>\n",
       "      <td>ash/negro</td>\n",
       "      <td>ch</td>\n",
       "      <td>0.0</td>\n",
       "      <td>NaN</td>\n",
       "    </tr>\n",
       "    <tr>\n",
       "      <th>65</th>\n",
       "      <td>florencia bodysuit</td>\n",
       "      <td>ash/negro</td>\n",
       "      <td>m</td>\n",
       "      <td>1.0</td>\n",
       "      <td>NaN</td>\n",
       "    </tr>\n",
       "    <tr>\n",
       "      <th>66</th>\n",
       "      <td>florencia bodysuit</td>\n",
       "      <td>ash/negro</td>\n",
       "      <td>g</td>\n",
       "      <td>0.0</td>\n",
       "      <td>NaN</td>\n",
       "    </tr>\n",
       "    <tr>\n",
       "      <th>67</th>\n",
       "      <td>jeronimo bottom</td>\n",
       "      <td>negro</td>\n",
       "      <td>ch</td>\n",
       "      <td>0.0</td>\n",
       "      <td>NaN</td>\n",
       "    </tr>\n",
       "    <tr>\n",
       "      <th>68</th>\n",
       "      <td>jeronimo bottom</td>\n",
       "      <td>negro</td>\n",
       "      <td>m</td>\n",
       "      <td>1.0</td>\n",
       "      <td>NaN</td>\n",
       "    </tr>\n",
       "    <tr>\n",
       "      <th>69</th>\n",
       "      <td>jeronimo bottom</td>\n",
       "      <td>negro</td>\n",
       "      <td>g</td>\n",
       "      <td>0.0</td>\n",
       "      <td>NaN</td>\n",
       "    </tr>\n",
       "    <tr>\n",
       "      <th>70</th>\n",
       "      <td>piscis top</td>\n",
       "      <td>coral</td>\n",
       "      <td>ch</td>\n",
       "      <td>0.0</td>\n",
       "      <td>NaN</td>\n",
       "    </tr>\n",
       "    <tr>\n",
       "      <th>71</th>\n",
       "      <td>piscis top</td>\n",
       "      <td>coral</td>\n",
       "      <td>m</td>\n",
       "      <td>2.0</td>\n",
       "      <td>NaN</td>\n",
       "    </tr>\n",
       "    <tr>\n",
       "      <th>72</th>\n",
       "      <td>piscis top</td>\n",
       "      <td>coral</td>\n",
       "      <td>g</td>\n",
       "      <td>0.0</td>\n",
       "      <td>NaN</td>\n",
       "    </tr>\n",
       "    <tr>\n",
       "      <th>73</th>\n",
       "      <td>jeronimo bottom</td>\n",
       "      <td>coral</td>\n",
       "      <td>ch</td>\n",
       "      <td>1.0</td>\n",
       "      <td>NaN</td>\n",
       "    </tr>\n",
       "    <tr>\n",
       "      <th>74</th>\n",
       "      <td>jeronimo bottom</td>\n",
       "      <td>coral</td>\n",
       "      <td>m</td>\n",
       "      <td>2.0</td>\n",
       "      <td>NaN</td>\n",
       "    </tr>\n",
       "    <tr>\n",
       "      <th>75</th>\n",
       "      <td>jeronimo bottom</td>\n",
       "      <td>coral</td>\n",
       "      <td>g</td>\n",
       "      <td>1.0</td>\n",
       "      <td>NaN</td>\n",
       "    </tr>\n",
       "    <tr>\n",
       "      <th>91</th>\n",
       "      <td>eros top</td>\n",
       "      <td>cotton candy</td>\n",
       "      <td>ch</td>\n",
       "      <td>2.0</td>\n",
       "      <td>NaN</td>\n",
       "    </tr>\n",
       "    <tr>\n",
       "      <th>92</th>\n",
       "      <td>eros top</td>\n",
       "      <td>cotton candy</td>\n",
       "      <td>m</td>\n",
       "      <td>1.0</td>\n",
       "      <td>NaN</td>\n",
       "    </tr>\n",
       "    <tr>\n",
       "      <th>93</th>\n",
       "      <td>eros top</td>\n",
       "      <td>cotton candy</td>\n",
       "      <td>g</td>\n",
       "      <td>1.0</td>\n",
       "      <td>NaN</td>\n",
       "    </tr>\n",
       "    <tr>\n",
       "      <th>97</th>\n",
       "      <td>apolo bottom</td>\n",
       "      <td>cotton candy</td>\n",
       "      <td>ch</td>\n",
       "      <td>1.0</td>\n",
       "      <td>NaN</td>\n",
       "    </tr>\n",
       "    <tr>\n",
       "      <th>98</th>\n",
       "      <td>apolo bottom</td>\n",
       "      <td>cotton candy</td>\n",
       "      <td>m</td>\n",
       "      <td>1.0</td>\n",
       "      <td>NaN</td>\n",
       "    </tr>\n",
       "    <tr>\n",
       "      <th>99</th>\n",
       "      <td>apolo bottom</td>\n",
       "      <td>cotton candy</td>\n",
       "      <td>g</td>\n",
       "      <td>1.0</td>\n",
       "      <td>NaN</td>\n",
       "    </tr>\n",
       "  </tbody>\n",
       "</table>\n",
       "</div>"
      ],
      "text/plain": [
       "                MODELO         COLOR TALLA  CANTIDAD  PRECIO\n",
       "18            eros top       lavanda    ch       2.0     NaN\n",
       "19            eros top       lavanda    m        2.0     NaN\n",
       "20            eros top       lavanda     g       1.0     NaN\n",
       "21            eros top         coral    ch       0.0     NaN\n",
       "22            eros top         coral    m        2.0     NaN\n",
       "23            eros top         coral     g       0.0     NaN\n",
       "24            eros top           ash    ch       1.0     NaN\n",
       "25            eros top           ash    m        1.0     NaN\n",
       "26            eros top           ash     g       1.0     NaN\n",
       "27           aries top       lavanda    ch       0.0     NaN\n",
       "28           aries top       lavanda    m        2.0     NaN\n",
       "29           aries top       lavanda     g       1.0     NaN\n",
       "30           aries top           ash    ch       1.0     NaN\n",
       "31           aries top           ash    m        2.0     NaN\n",
       "32           aries top           ash     g       0.0     NaN\n",
       "46        apolo bottom         negro    ch       0.0     NaN\n",
       "47        apolo bottom         negro    m        1.0     NaN\n",
       "48        apolo bottom         negro     g       0.0     NaN\n",
       "49        apolo bottom           ash    ch      -1.0     NaN\n",
       "50        apolo bottom           ash     m       0.0     NaN\n",
       "51        apolo bottom           ash     g       0.0     NaN\n",
       "58  florencia bodysuit         negro    ch       0.0     NaN\n",
       "59  florencia bodysuit         negro    m        1.0     NaN\n",
       "60  florencia bodysuit         negro     g       0.0     NaN\n",
       "64  florencia bodysuit     ash/negro    ch       0.0     NaN\n",
       "65  florencia bodysuit     ash/negro    m        1.0     NaN\n",
       "66  florencia bodysuit     ash/negro     g       0.0     NaN\n",
       "67     jeronimo bottom         negro    ch       0.0     NaN\n",
       "68     jeronimo bottom         negro    m        1.0     NaN\n",
       "69     jeronimo bottom         negro     g       0.0     NaN\n",
       "70          piscis top         coral    ch       0.0     NaN\n",
       "71          piscis top         coral    m        2.0     NaN\n",
       "72          piscis top         coral     g       0.0     NaN\n",
       "73     jeronimo bottom         coral    ch       1.0     NaN\n",
       "74     jeronimo bottom         coral     m       2.0     NaN\n",
       "75     jeronimo bottom         coral     g       1.0     NaN\n",
       "91            eros top  cotton candy    ch       2.0     NaN\n",
       "92            eros top  cotton candy     m       1.0     NaN\n",
       "93            eros top  cotton candy     g       1.0     NaN\n",
       "97        apolo bottom  cotton candy    ch       1.0     NaN\n",
       "98        apolo bottom  cotton candy     m       1.0     NaN\n",
       "99        apolo bottom  cotton candy     g       1.0     NaN"
      ]
     },
     "execution_count": 57,
     "metadata": {},
     "output_type": "execute_result"
    }
   ],
   "source": [
    "df_sold_caravana_June2019_price[df_sold_caravana_June2019_price['PRECIO'].isna()]"
   ]
  },
  {
   "cell_type": "code",
   "execution_count": 58,
   "metadata": {},
   "outputs": [],
   "source": [
    "price_map = {'eros top': 750, 'aries top': 850, 'apolo bottom':750, 'jeronimo bottom': 845}\n",
    "df_sold_caravana_June2019_price['PRECIO'] = df_sold_caravana_June2019_price['PRECIO'].fillna(df_sold_caravana_June2019_price['MODELO'].map(price_map))"
   ]
  },
  {
   "cell_type": "code",
   "execution_count": 59,
   "metadata": {},
   "outputs": [
    {
     "data": {
      "text/html": [
       "<div>\n",
       "<style scoped>\n",
       "    .dataframe tbody tr th:only-of-type {\n",
       "        vertical-align: middle;\n",
       "    }\n",
       "\n",
       "    .dataframe tbody tr th {\n",
       "        vertical-align: top;\n",
       "    }\n",
       "\n",
       "    .dataframe thead th {\n",
       "        text-align: right;\n",
       "    }\n",
       "</style>\n",
       "<table border=\"1\" class=\"dataframe\">\n",
       "  <thead>\n",
       "    <tr style=\"text-align: right;\">\n",
       "      <th></th>\n",
       "      <th>MODELO</th>\n",
       "      <th>COLOR</th>\n",
       "      <th>TALLA</th>\n",
       "      <th>CANTIDAD</th>\n",
       "      <th>PRECIO</th>\n",
       "    </tr>\n",
       "  </thead>\n",
       "  <tbody>\n",
       "    <tr>\n",
       "      <th>58</th>\n",
       "      <td>florencia bodysuit</td>\n",
       "      <td>negro</td>\n",
       "      <td>ch</td>\n",
       "      <td>0.0</td>\n",
       "      <td>NaN</td>\n",
       "    </tr>\n",
       "    <tr>\n",
       "      <th>59</th>\n",
       "      <td>florencia bodysuit</td>\n",
       "      <td>negro</td>\n",
       "      <td>m</td>\n",
       "      <td>1.0</td>\n",
       "      <td>NaN</td>\n",
       "    </tr>\n",
       "    <tr>\n",
       "      <th>60</th>\n",
       "      <td>florencia bodysuit</td>\n",
       "      <td>negro</td>\n",
       "      <td>g</td>\n",
       "      <td>0.0</td>\n",
       "      <td>NaN</td>\n",
       "    </tr>\n",
       "    <tr>\n",
       "      <th>64</th>\n",
       "      <td>florencia bodysuit</td>\n",
       "      <td>ash/negro</td>\n",
       "      <td>ch</td>\n",
       "      <td>0.0</td>\n",
       "      <td>NaN</td>\n",
       "    </tr>\n",
       "    <tr>\n",
       "      <th>65</th>\n",
       "      <td>florencia bodysuit</td>\n",
       "      <td>ash/negro</td>\n",
       "      <td>m</td>\n",
       "      <td>1.0</td>\n",
       "      <td>NaN</td>\n",
       "    </tr>\n",
       "    <tr>\n",
       "      <th>66</th>\n",
       "      <td>florencia bodysuit</td>\n",
       "      <td>ash/negro</td>\n",
       "      <td>g</td>\n",
       "      <td>0.0</td>\n",
       "      <td>NaN</td>\n",
       "    </tr>\n",
       "    <tr>\n",
       "      <th>70</th>\n",
       "      <td>piscis top</td>\n",
       "      <td>coral</td>\n",
       "      <td>ch</td>\n",
       "      <td>0.0</td>\n",
       "      <td>NaN</td>\n",
       "    </tr>\n",
       "    <tr>\n",
       "      <th>71</th>\n",
       "      <td>piscis top</td>\n",
       "      <td>coral</td>\n",
       "      <td>m</td>\n",
       "      <td>2.0</td>\n",
       "      <td>NaN</td>\n",
       "    </tr>\n",
       "    <tr>\n",
       "      <th>72</th>\n",
       "      <td>piscis top</td>\n",
       "      <td>coral</td>\n",
       "      <td>g</td>\n",
       "      <td>0.0</td>\n",
       "      <td>NaN</td>\n",
       "    </tr>\n",
       "  </tbody>\n",
       "</table>\n",
       "</div>"
      ],
      "text/plain": [
       "                MODELO      COLOR TALLA  CANTIDAD  PRECIO\n",
       "58  florencia bodysuit      negro    ch       0.0     NaN\n",
       "59  florencia bodysuit      negro    m        1.0     NaN\n",
       "60  florencia bodysuit      negro     g       0.0     NaN\n",
       "64  florencia bodysuit  ash/negro    ch       0.0     NaN\n",
       "65  florencia bodysuit  ash/negro    m        1.0     NaN\n",
       "66  florencia bodysuit  ash/negro     g       0.0     NaN\n",
       "70          piscis top      coral    ch       0.0     NaN\n",
       "71          piscis top      coral    m        2.0     NaN\n",
       "72          piscis top      coral     g       0.0     NaN"
      ]
     },
     "execution_count": 59,
     "metadata": {},
     "output_type": "execute_result"
    }
   ],
   "source": [
    "df_sold_caravana_June2019_price[df_sold_caravana_June2019_price['PRECIO'].isna()]"
   ]
  },
  {
   "cell_type": "code",
   "execution_count": 60,
   "metadata": {},
   "outputs": [],
   "source": [
    "#as we don't have prices for the above models, we are going to assume the loss of 4 models in the count of sales in caravana\n",
    "df_sold_caravana_June2019_price = df_sold_caravana_June2019_price.dropna()"
   ]
  },
  {
   "cell_type": "code",
   "execution_count": 61,
   "metadata": {},
   "outputs": [
    {
     "data": {
      "text/html": [
       "<div>\n",
       "<style scoped>\n",
       "    .dataframe tbody tr th:only-of-type {\n",
       "        vertical-align: middle;\n",
       "    }\n",
       "\n",
       "    .dataframe tbody tr th {\n",
       "        vertical-align: top;\n",
       "    }\n",
       "\n",
       "    .dataframe thead th {\n",
       "        text-align: right;\n",
       "    }\n",
       "</style>\n",
       "<table border=\"1\" class=\"dataframe\">\n",
       "  <thead>\n",
       "    <tr style=\"text-align: right;\">\n",
       "      <th></th>\n",
       "      <th>Percentage_NaN</th>\n",
       "    </tr>\n",
       "  </thead>\n",
       "  <tbody>\n",
       "    <tr>\n",
       "      <th>MODELO</th>\n",
       "      <td>0.0</td>\n",
       "    </tr>\n",
       "    <tr>\n",
       "      <th>COLOR</th>\n",
       "      <td>0.0</td>\n",
       "    </tr>\n",
       "    <tr>\n",
       "      <th>TALLA</th>\n",
       "      <td>0.0</td>\n",
       "    </tr>\n",
       "    <tr>\n",
       "      <th>CANTIDAD</th>\n",
       "      <td>0.0</td>\n",
       "    </tr>\n",
       "    <tr>\n",
       "      <th>PRECIO</th>\n",
       "      <td>0.0</td>\n",
       "    </tr>\n",
       "  </tbody>\n",
       "</table>\n",
       "</div>"
      ],
      "text/plain": [
       "          Percentage_NaN\n",
       "MODELO               0.0\n",
       "COLOR                0.0\n",
       "TALLA                0.0\n",
       "CANTIDAD             0.0\n",
       "PRECIO               0.0"
      ]
     },
     "execution_count": 61,
     "metadata": {},
     "output_type": "execute_result"
    }
   ],
   "source": [
    "percentage_nullValues(df_sold_caravana_June2019_price)"
   ]
  },
  {
   "cell_type": "code",
   "execution_count": 62,
   "metadata": {},
   "outputs": [],
   "source": [
    "df_sold_caravana_June2019_price.to_csv('SalesCaravana_Jun2019')"
   ]
  },
  {
   "cell_type": "markdown",
   "metadata": {},
   "source": [
    "# FEATURE ENGINEERING"
   ]
  },
  {
   "cell_type": "code",
   "execution_count": null,
   "metadata": {},
   "outputs": [],
   "source": [
    "#Transforming categorical to numerical variable for size"
   ]
  },
  {
   "cell_type": "code",
   "execution_count": 64,
   "metadata": {},
   "outputs": [
    {
     "data": {
      "text/plain": [
       "array(['ch', 'm ', 'g', 'm'], dtype=object)"
      ]
     },
     "execution_count": 64,
     "metadata": {},
     "output_type": "execute_result"
    }
   ],
   "source": [
    "df_sold_caravana_June2019_price.TALLA.unique()"
   ]
  },
  {
   "cell_type": "code",
   "execution_count": 65,
   "metadata": {},
   "outputs": [],
   "source": [
    "#Step 1. Define map\n",
    "replace_map = {'TALLA': {'ch':1,'m': 2, 'g': 3, 'm ': 2}}"
   ]
  },
  {
   "cell_type": "code",
   "execution_count": 66,
   "metadata": {},
   "outputs": [
    {
     "data": {
      "text/html": [
       "<div>\n",
       "<style scoped>\n",
       "    .dataframe tbody tr th:only-of-type {\n",
       "        vertical-align: middle;\n",
       "    }\n",
       "\n",
       "    .dataframe tbody tr th {\n",
       "        vertical-align: top;\n",
       "    }\n",
       "\n",
       "    .dataframe thead th {\n",
       "        text-align: right;\n",
       "    }\n",
       "</style>\n",
       "<table border=\"1\" class=\"dataframe\">\n",
       "  <thead>\n",
       "    <tr style=\"text-align: right;\">\n",
       "      <th></th>\n",
       "      <th>MODELO</th>\n",
       "      <th>COLOR</th>\n",
       "      <th>TALLA</th>\n",
       "      <th>CANTIDAD</th>\n",
       "      <th>PRECIO</th>\n",
       "    </tr>\n",
       "  </thead>\n",
       "  <tbody>\n",
       "    <tr>\n",
       "      <th>0</th>\n",
       "      <td>3gracias bodysuit</td>\n",
       "      <td>lavanda/ash/coral</td>\n",
       "      <td>1</td>\n",
       "      <td>0.0</td>\n",
       "      <td>1890.0</td>\n",
       "    </tr>\n",
       "    <tr>\n",
       "      <th>1</th>\n",
       "      <td>3gracias bodysuit</td>\n",
       "      <td>lavanda/ash/coral</td>\n",
       "      <td>2</td>\n",
       "      <td>1.0</td>\n",
       "      <td>1890.0</td>\n",
       "    </tr>\n",
       "    <tr>\n",
       "      <th>2</th>\n",
       "      <td>3gracias bodysuit</td>\n",
       "      <td>lavanda/ash/coral</td>\n",
       "      <td>3</td>\n",
       "      <td>0.0</td>\n",
       "      <td>1890.0</td>\n",
       "    </tr>\n",
       "    <tr>\n",
       "      <th>3</th>\n",
       "      <td>gracia bodysuit</td>\n",
       "      <td>lavanda</td>\n",
       "      <td>1</td>\n",
       "      <td>2.0</td>\n",
       "      <td>1890.0</td>\n",
       "    </tr>\n",
       "    <tr>\n",
       "      <th>4</th>\n",
       "      <td>gracia bodysuit</td>\n",
       "      <td>lavanda</td>\n",
       "      <td>2</td>\n",
       "      <td>1.0</td>\n",
       "      <td>1890.0</td>\n",
       "    </tr>\n",
       "    <tr>\n",
       "      <th>...</th>\n",
       "      <td>...</td>\n",
       "      <td>...</td>\n",
       "      <td>...</td>\n",
       "      <td>...</td>\n",
       "      <td>...</td>\n",
       "    </tr>\n",
       "    <tr>\n",
       "      <th>101</th>\n",
       "      <td>consuelo bodysuit</td>\n",
       "      <td>negro</td>\n",
       "      <td>2</td>\n",
       "      <td>1.0</td>\n",
       "      <td>1450.0</td>\n",
       "    </tr>\n",
       "    <tr>\n",
       "      <th>102</th>\n",
       "      <td>consuelo bodysuit</td>\n",
       "      <td>negro</td>\n",
       "      <td>3</td>\n",
       "      <td>0.0</td>\n",
       "      <td>1450.0</td>\n",
       "    </tr>\n",
       "    <tr>\n",
       "      <th>103</th>\n",
       "      <td>caña bodysuit</td>\n",
       "      <td>blanco</td>\n",
       "      <td>1</td>\n",
       "      <td>1.0</td>\n",
       "      <td>2100.0</td>\n",
       "    </tr>\n",
       "    <tr>\n",
       "      <th>104</th>\n",
       "      <td>caña bodysuit</td>\n",
       "      <td>blanco</td>\n",
       "      <td>2</td>\n",
       "      <td>1.0</td>\n",
       "      <td>2100.0</td>\n",
       "    </tr>\n",
       "    <tr>\n",
       "      <th>105</th>\n",
       "      <td>caña bodysuit</td>\n",
       "      <td>blanco</td>\n",
       "      <td>3</td>\n",
       "      <td>2.0</td>\n",
       "      <td>2100.0</td>\n",
       "    </tr>\n",
       "  </tbody>\n",
       "</table>\n",
       "<p>97 rows × 5 columns</p>\n",
       "</div>"
      ],
      "text/plain": [
       "                MODELO              COLOR  TALLA  CANTIDAD  PRECIO\n",
       "0    3gracias bodysuit  lavanda/ash/coral      1       0.0  1890.0\n",
       "1    3gracias bodysuit  lavanda/ash/coral      2       1.0  1890.0\n",
       "2    3gracias bodysuit  lavanda/ash/coral      3       0.0  1890.0\n",
       "3      gracia bodysuit            lavanda      1       2.0  1890.0\n",
       "4      gracia bodysuit            lavanda      2       1.0  1890.0\n",
       "..                 ...                ...    ...       ...     ...\n",
       "101  consuelo bodysuit              negro      2       1.0  1450.0\n",
       "102  consuelo bodysuit              negro      3       0.0  1450.0\n",
       "103      caña bodysuit             blanco      1       1.0  2100.0\n",
       "104      caña bodysuit             blanco      2       1.0  2100.0\n",
       "105      caña bodysuit             blanco      3       2.0  2100.0\n",
       "\n",
       "[97 rows x 5 columns]"
      ]
     },
     "execution_count": 66,
     "metadata": {},
     "output_type": "execute_result"
    }
   ],
   "source": [
    "\n",
    "df_sold_caravana_June2019_replace = df_sold_caravana_June2019_price.copy()\n",
    "\n",
    "# Step 2. Replace the values with the corresponding map created\n",
    "df_sold_caravana_June2019_replace.replace(replace_map, inplace=True)\n",
    "\n",
    "df_sold_caravana_June2019_replace"
   ]
  },
  {
   "cell_type": "code",
   "execution_count": 67,
   "metadata": {},
   "outputs": [
    {
     "data": {
      "text/html": [
       "<div>\n",
       "<style scoped>\n",
       "    .dataframe tbody tr th:only-of-type {\n",
       "        vertical-align: middle;\n",
       "    }\n",
       "\n",
       "    .dataframe tbody tr th {\n",
       "        vertical-align: top;\n",
       "    }\n",
       "\n",
       "    .dataframe thead th {\n",
       "        text-align: right;\n",
       "    }\n",
       "</style>\n",
       "<table border=\"1\" class=\"dataframe\">\n",
       "  <thead>\n",
       "    <tr style=\"text-align: right;\">\n",
       "      <th></th>\n",
       "      <th>MODELO</th>\n",
       "      <th>COLOR</th>\n",
       "      <th>TALLA</th>\n",
       "      <th>CANTIDAD</th>\n",
       "      <th>PRECIO</th>\n",
       "    </tr>\n",
       "  </thead>\n",
       "  <tbody>\n",
       "    <tr>\n",
       "      <th>0</th>\n",
       "      <td>3gracias bodysuit</td>\n",
       "      <td>lavanda/ash/coral</td>\n",
       "      <td>1</td>\n",
       "      <td>0.0</td>\n",
       "      <td>1890.0</td>\n",
       "    </tr>\n",
       "    <tr>\n",
       "      <th>1</th>\n",
       "      <td>3gracias bodysuit</td>\n",
       "      <td>lavanda/ash/coral</td>\n",
       "      <td>2</td>\n",
       "      <td>1.0</td>\n",
       "      <td>1890.0</td>\n",
       "    </tr>\n",
       "    <tr>\n",
       "      <th>2</th>\n",
       "      <td>3gracias bodysuit</td>\n",
       "      <td>lavanda/ash/coral</td>\n",
       "      <td>3</td>\n",
       "      <td>0.0</td>\n",
       "      <td>1890.0</td>\n",
       "    </tr>\n",
       "    <tr>\n",
       "      <th>3</th>\n",
       "      <td>gracia bodysuit</td>\n",
       "      <td>lavanda</td>\n",
       "      <td>1</td>\n",
       "      <td>2.0</td>\n",
       "      <td>1890.0</td>\n",
       "    </tr>\n",
       "    <tr>\n",
       "      <th>4</th>\n",
       "      <td>gracia bodysuit</td>\n",
       "      <td>lavanda</td>\n",
       "      <td>2</td>\n",
       "      <td>1.0</td>\n",
       "      <td>1890.0</td>\n",
       "    </tr>\n",
       "    <tr>\n",
       "      <th>...</th>\n",
       "      <td>...</td>\n",
       "      <td>...</td>\n",
       "      <td>...</td>\n",
       "      <td>...</td>\n",
       "      <td>...</td>\n",
       "    </tr>\n",
       "    <tr>\n",
       "      <th>101</th>\n",
       "      <td>consuelo bodysuit</td>\n",
       "      <td>negro</td>\n",
       "      <td>2</td>\n",
       "      <td>1.0</td>\n",
       "      <td>1450.0</td>\n",
       "    </tr>\n",
       "    <tr>\n",
       "      <th>102</th>\n",
       "      <td>consuelo bodysuit</td>\n",
       "      <td>negro</td>\n",
       "      <td>3</td>\n",
       "      <td>0.0</td>\n",
       "      <td>1450.0</td>\n",
       "    </tr>\n",
       "    <tr>\n",
       "      <th>103</th>\n",
       "      <td>caña bodysuit</td>\n",
       "      <td>blanco</td>\n",
       "      <td>1</td>\n",
       "      <td>1.0</td>\n",
       "      <td>2100.0</td>\n",
       "    </tr>\n",
       "    <tr>\n",
       "      <th>104</th>\n",
       "      <td>caña bodysuit</td>\n",
       "      <td>blanco</td>\n",
       "      <td>2</td>\n",
       "      <td>1.0</td>\n",
       "      <td>2100.0</td>\n",
       "    </tr>\n",
       "    <tr>\n",
       "      <th>105</th>\n",
       "      <td>caña bodysuit</td>\n",
       "      <td>blanco</td>\n",
       "      <td>3</td>\n",
       "      <td>2.0</td>\n",
       "      <td>2100.0</td>\n",
       "    </tr>\n",
       "  </tbody>\n",
       "</table>\n",
       "<p>97 rows × 5 columns</p>\n",
       "</div>"
      ],
      "text/plain": [
       "                MODELO              COLOR  TALLA  CANTIDAD  PRECIO\n",
       "0    3gracias bodysuit  lavanda/ash/coral      1       0.0  1890.0\n",
       "1    3gracias bodysuit  lavanda/ash/coral      2       1.0  1890.0\n",
       "2    3gracias bodysuit  lavanda/ash/coral      3       0.0  1890.0\n",
       "3      gracia bodysuit            lavanda      1       2.0  1890.0\n",
       "4      gracia bodysuit            lavanda      2       1.0  1890.0\n",
       "..                 ...                ...    ...       ...     ...\n",
       "101  consuelo bodysuit              negro      2       1.0  1450.0\n",
       "102  consuelo bodysuit              negro      3       0.0  1450.0\n",
       "103      caña bodysuit             blanco      1       1.0  2100.0\n",
       "104      caña bodysuit             blanco      2       1.0  2100.0\n",
       "105      caña bodysuit             blanco      3       2.0  2100.0\n",
       "\n",
       "[97 rows x 5 columns]"
      ]
     },
     "execution_count": 67,
     "metadata": {},
     "output_type": "execute_result"
    }
   ],
   "source": [
    "df = df_sold_caravana_June2019_replace.copy()\n",
    "index_names = df[ (df['CANTIDAD'] == 0)  & ( df['CANTIDAD'] == -1)].index \n",
    "                                            \n",
    "df.drop(index_names, inplace = True)\n",
    "df"
   ]
  },
  {
   "cell_type": "code",
   "execution_count": 71,
   "metadata": {},
   "outputs": [
    {
     "data": {
      "text/html": [
       "<div>\n",
       "<style scoped>\n",
       "    .dataframe tbody tr th:only-of-type {\n",
       "        vertical-align: middle;\n",
       "    }\n",
       "\n",
       "    .dataframe tbody tr th {\n",
       "        vertical-align: top;\n",
       "    }\n",
       "\n",
       "    .dataframe thead th {\n",
       "        text-align: right;\n",
       "    }\n",
       "</style>\n",
       "<table border=\"1\" class=\"dataframe\">\n",
       "  <thead>\n",
       "    <tr style=\"text-align: right;\">\n",
       "      <th></th>\n",
       "      <th>MODELO</th>\n",
       "      <th>COLOR</th>\n",
       "      <th>TALLA</th>\n",
       "      <th>CANTIDAD</th>\n",
       "      <th>PRECIO</th>\n",
       "    </tr>\n",
       "  </thead>\n",
       "  <tbody>\n",
       "    <tr>\n",
       "      <th>0</th>\n",
       "      <td>3gracias bodysuit</td>\n",
       "      <td>lavanda/ash/coral</td>\n",
       "      <td>1</td>\n",
       "      <td>0.0</td>\n",
       "      <td>1890.0</td>\n",
       "    </tr>\n",
       "    <tr>\n",
       "      <th>1</th>\n",
       "      <td>3gracias bodysuit</td>\n",
       "      <td>lavanda/ash/coral</td>\n",
       "      <td>2</td>\n",
       "      <td>1.0</td>\n",
       "      <td>1890.0</td>\n",
       "    </tr>\n",
       "    <tr>\n",
       "      <th>2</th>\n",
       "      <td>3gracias bodysuit</td>\n",
       "      <td>lavanda/ash/coral</td>\n",
       "      <td>3</td>\n",
       "      <td>0.0</td>\n",
       "      <td>1890.0</td>\n",
       "    </tr>\n",
       "    <tr>\n",
       "      <th>3</th>\n",
       "      <td>gracia bodysuit</td>\n",
       "      <td>lavanda</td>\n",
       "      <td>1</td>\n",
       "      <td>2.0</td>\n",
       "      <td>1890.0</td>\n",
       "    </tr>\n",
       "    <tr>\n",
       "      <th>4</th>\n",
       "      <td>gracia bodysuit</td>\n",
       "      <td>lavanda</td>\n",
       "      <td>2</td>\n",
       "      <td>1.0</td>\n",
       "      <td>1890.0</td>\n",
       "    </tr>\n",
       "    <tr>\n",
       "      <th>...</th>\n",
       "      <td>...</td>\n",
       "      <td>...</td>\n",
       "      <td>...</td>\n",
       "      <td>...</td>\n",
       "      <td>...</td>\n",
       "    </tr>\n",
       "    <tr>\n",
       "      <th>101</th>\n",
       "      <td>consuelo bodysuit</td>\n",
       "      <td>negro</td>\n",
       "      <td>2</td>\n",
       "      <td>1.0</td>\n",
       "      <td>1450.0</td>\n",
       "    </tr>\n",
       "    <tr>\n",
       "      <th>102</th>\n",
       "      <td>consuelo bodysuit</td>\n",
       "      <td>negro</td>\n",
       "      <td>3</td>\n",
       "      <td>0.0</td>\n",
       "      <td>1450.0</td>\n",
       "    </tr>\n",
       "    <tr>\n",
       "      <th>103</th>\n",
       "      <td>caña bodysuit</td>\n",
       "      <td>blanco</td>\n",
       "      <td>1</td>\n",
       "      <td>1.0</td>\n",
       "      <td>2100.0</td>\n",
       "    </tr>\n",
       "    <tr>\n",
       "      <th>104</th>\n",
       "      <td>caña bodysuit</td>\n",
       "      <td>blanco</td>\n",
       "      <td>2</td>\n",
       "      <td>1.0</td>\n",
       "      <td>2100.0</td>\n",
       "    </tr>\n",
       "    <tr>\n",
       "      <th>105</th>\n",
       "      <td>caña bodysuit</td>\n",
       "      <td>blanco</td>\n",
       "      <td>3</td>\n",
       "      <td>2.0</td>\n",
       "      <td>2100.0</td>\n",
       "    </tr>\n",
       "  </tbody>\n",
       "</table>\n",
       "<p>96 rows × 5 columns</p>\n",
       "</div>"
      ],
      "text/plain": [
       "                MODELO              COLOR  TALLA  CANTIDAD  PRECIO\n",
       "0    3gracias bodysuit  lavanda/ash/coral      1       0.0  1890.0\n",
       "1    3gracias bodysuit  lavanda/ash/coral      2       1.0  1890.0\n",
       "2    3gracias bodysuit  lavanda/ash/coral      3       0.0  1890.0\n",
       "3      gracia bodysuit            lavanda      1       2.0  1890.0\n",
       "4      gracia bodysuit            lavanda      2       1.0  1890.0\n",
       "..                 ...                ...    ...       ...     ...\n",
       "101  consuelo bodysuit              negro      2       1.0  1450.0\n",
       "102  consuelo bodysuit              negro      3       0.0  1450.0\n",
       "103      caña bodysuit             blanco      1       1.0  2100.0\n",
       "104      caña bodysuit             blanco      2       1.0  2100.0\n",
       "105      caña bodysuit             blanco      3       2.0  2100.0\n",
       "\n",
       "[96 rows x 5 columns]"
      ]
     },
     "execution_count": 71,
     "metadata": {},
     "output_type": "execute_result"
    }
   ],
   "source": [
    "df = df_sold_caravana_June2019_replace.copy()\n",
    "index_names = df[ df['CANTIDAD'] == -1].index \n",
    "                                            \n",
    "df.drop(index_names, inplace = True)\n",
    "df"
   ]
  },
  {
   "cell_type": "code",
   "execution_count": 72,
   "metadata": {},
   "outputs": [
    {
     "data": {
      "text/plain": [
       "1.0    48\n",
       "0.0    24\n",
       "2.0    23\n",
       "4.0     1\n",
       "Name: CANTIDAD, dtype: int64"
      ]
     },
     "execution_count": 72,
     "metadata": {},
     "output_type": "execute_result"
    }
   ],
   "source": [
    "df['CANTIDAD'].value_counts()"
   ]
  },
  {
   "cell_type": "markdown",
   "metadata": {},
   "source": [
    "# VISUALISATIONS"
   ]
  },
  {
   "cell_type": "code",
   "execution_count": 74,
   "metadata": {},
   "outputs": [
    {
     "data": {
      "application/vnd.plotly.v1+json": {
       "config": {
        "plotlyServerURL": "https://plot.ly"
       },
       "data": [
        {
         "hoverlabel": {
          "namelength": 0
         },
         "hovertemplate": "MODELO=3gracias bodysuit<br>COLOR=%{x}<br>TALLA=%{y}<br>CANTIDAD=%{marker.size}",
         "legendgroup": "3gracias bodysuit",
         "marker": {
          "color": "#636efa",
          "size": [
           0,
           1,
           0
          ],
          "sizemode": "area",
          "sizeref": 0.01,
          "symbol": "circle"
         },
         "mode": "markers",
         "name": "3gracias bodysuit",
         "showlegend": true,
         "type": "scatter",
         "x": [
          "lavanda/ash/coral",
          "lavanda/ash/coral",
          "lavanda/ash/coral"
         ],
         "xaxis": "x",
         "y": [
          1,
          2,
          3
         ],
         "yaxis": "y"
        },
        {
         "hoverlabel": {
          "namelength": 0
         },
         "hovertemplate": "MODELO=gracia bodysuit<br>COLOR=%{x}<br>TALLA=%{y}<br>CANTIDAD=%{marker.size}",
         "legendgroup": "gracia bodysuit",
         "marker": {
          "color": "#EF553B",
          "size": [
           2,
           1,
           2
          ],
          "sizemode": "area",
          "sizeref": 0.01,
          "symbol": "circle"
         },
         "mode": "markers",
         "name": "gracia bodysuit",
         "showlegend": true,
         "type": "scatter",
         "x": [
          "lavanda",
          "lavanda",
          "lavanda"
         ],
         "xaxis": "x",
         "y": [
          1,
          2,
          3
         ],
         "yaxis": "y"
        },
        {
         "hoverlabel": {
          "namelength": 0
         },
         "hovertemplate": "MODELO=naranjo bodysuit<br>COLOR=%{x}<br>TALLA=%{y}<br>CANTIDAD=%{marker.size}",
         "legendgroup": "naranjo bodysuit",
         "marker": {
          "color": "#00cc96",
          "size": [
           0,
           2,
           0,
           0,
           2,
           1
          ],
          "sizemode": "area",
          "sizeref": 0.01,
          "symbol": "circle"
         },
         "mode": "markers",
         "name": "naranjo bodysuit",
         "showlegend": true,
         "type": "scatter",
         "x": [
          "ash",
          "ash",
          "ash",
          "coral",
          "coral",
          "coral"
         ],
         "xaxis": "x",
         "y": [
          1,
          2,
          3,
          1,
          2,
          3
         ],
         "yaxis": "y"
        },
        {
         "hoverlabel": {
          "namelength": 0
         },
         "hovertemplate": "MODELO=venus bodysuit<br>COLOR=%{x}<br>TALLA=%{y}<br>CANTIDAD=%{marker.size}",
         "legendgroup": "venus bodysuit",
         "marker": {
          "color": "#ab63fa",
          "size": [
           1,
           1,
           0,
           2,
           2,
           2,
           0,
           2,
           1
          ],
          "sizemode": "area",
          "sizeref": 0.01,
          "symbol": "circle"
         },
         "mode": "markers",
         "name": "venus bodysuit",
         "showlegend": true,
         "type": "scatter",
         "x": [
          "ash",
          "ash",
          "ash",
          "coral",
          "coral",
          "coral",
          "negro",
          "negro",
          "negro"
         ],
         "xaxis": "x",
         "y": [
          1,
          2,
          3,
          1,
          2,
          3,
          1,
          2,
          3
         ],
         "yaxis": "y"
        },
        {
         "hoverlabel": {
          "namelength": 0
         },
         "hovertemplate": "MODELO=eros top<br>COLOR=%{x}<br>TALLA=%{y}<br>CANTIDAD=%{marker.size}",
         "legendgroup": "eros top",
         "marker": {
          "color": "#FFA15A",
          "size": [
           2,
           2,
           1,
           0,
           2,
           0,
           1,
           1,
           1,
           2,
           1,
           1
          ],
          "sizemode": "area",
          "sizeref": 0.01,
          "symbol": "circle"
         },
         "mode": "markers",
         "name": "eros top",
         "showlegend": true,
         "type": "scatter",
         "x": [
          "lavanda",
          "lavanda",
          "lavanda",
          "coral",
          "coral",
          "coral",
          "ash",
          "ash",
          "ash",
          "cotton candy",
          "cotton candy",
          "cotton candy"
         ],
         "xaxis": "x",
         "y": [
          1,
          2,
          3,
          1,
          2,
          3,
          1,
          2,
          3,
          1,
          2,
          3
         ],
         "yaxis": "y"
        },
        {
         "hoverlabel": {
          "namelength": 0
         },
         "hovertemplate": "MODELO=aries top<br>COLOR=%{x}<br>TALLA=%{y}<br>CANTIDAD=%{marker.size}",
         "legendgroup": "aries top",
         "marker": {
          "color": "#19d3f3",
          "size": [
           0,
           2,
           1,
           1,
           2,
           0
          ],
          "sizemode": "area",
          "sizeref": 0.01,
          "symbol": "circle"
         },
         "mode": "markers",
         "name": "aries top",
         "showlegend": true,
         "type": "scatter",
         "x": [
          "lavanda",
          "lavanda",
          "lavanda",
          "ash",
          "ash",
          "ash"
         ],
         "xaxis": "x",
         "y": [
          1,
          2,
          3,
          1,
          2,
          3
         ],
         "yaxis": "y"
        },
        {
         "hoverlabel": {
          "namelength": 0
         },
         "hovertemplate": "MODELO=geminis top<br>COLOR=%{x}<br>TALLA=%{y}<br>CANTIDAD=%{marker.size}",
         "legendgroup": "geminis top",
         "marker": {
          "color": "#FF6692",
          "size": [
           1,
           2,
           2,
           1,
           4,
           1
          ],
          "sizemode": "area",
          "sizeref": 0.01,
          "symbol": "circle"
         },
         "mode": "markers",
         "name": "geminis top",
         "showlegend": true,
         "type": "scatter",
         "x": [
          "ash/negro",
          "ash/negro",
          "ash/negro",
          "ash/lavanda",
          "ash/lavanda",
          "ash/lavanda"
         ],
         "xaxis": "x",
         "y": [
          1,
          2,
          3,
          1,
          2,
          3
         ],
         "yaxis": "y"
        },
        {
         "hoverlabel": {
          "namelength": 0
         },
         "hovertemplate": "MODELO=geminis bottom<br>COLOR=%{x}<br>TALLA=%{y}<br>CANTIDAD=%{marker.size}",
         "legendgroup": "geminis bottom",
         "marker": {
          "color": "#B6E880",
          "size": [
           0
          ],
          "sizemode": "area",
          "sizeref": 0.01,
          "symbol": "circle"
         },
         "mode": "markers",
         "name": "geminis bottom",
         "showlegend": true,
         "type": "scatter",
         "x": [
          "ash/lavanda"
         ],
         "xaxis": "x",
         "y": [
          3
         ],
         "yaxis": "y"
        },
        {
         "hoverlabel": {
          "namelength": 0
         },
         "hovertemplate": "MODELO=lola bottom<br>COLOR=%{x}<br>TALLA=%{y}<br>CANTIDAD=%{marker.size}",
         "legendgroup": "lola bottom",
         "marker": {
          "color": "#FF97FF",
          "size": [
           2,
           1,
           1,
           1,
           0,
           0,
           2,
           1,
           1
          ],
          "sizemode": "area",
          "sizeref": 0.01,
          "symbol": "circle"
         },
         "mode": "markers",
         "name": "lola bottom",
         "showlegend": true,
         "type": "scatter",
         "x": [
          "lavanda",
          "lavanda",
          "lavanda",
          "ash",
          "ash",
          "ash",
          "cotton candy",
          "cotton candy",
          "cotton candy"
         ],
         "xaxis": "x",
         "y": [
          1,
          2,
          3,
          1,
          2,
          3,
          1,
          2,
          3
         ],
         "yaxis": "y"
        },
        {
         "hoverlabel": {
          "namelength": 0
         },
         "hovertemplate": "MODELO=apolo bottom<br>COLOR=%{x}<br>TALLA=%{y}<br>CANTIDAD=%{marker.size}",
         "legendgroup": "apolo bottom",
         "marker": {
          "color": "#FECB52",
          "size": [
           0,
           1,
           0,
           0,
           0,
           1,
           1,
           1
          ],
          "sizemode": "area",
          "sizeref": 0.01,
          "symbol": "circle"
         },
         "mode": "markers",
         "name": "apolo bottom",
         "showlegend": true,
         "type": "scatter",
         "x": [
          "negro",
          "negro",
          "negro",
          "ash",
          "ash",
          "cotton candy",
          "cotton candy",
          "cotton candy"
         ],
         "xaxis": "x",
         "y": [
          1,
          2,
          3,
          2,
          3,
          1,
          2,
          3
         ],
         "yaxis": "y"
        },
        {
         "hoverlabel": {
          "namelength": 0
         },
         "hovertemplate": "MODELO=maca bottom<br>COLOR=%{x}<br>TALLA=%{y}<br>CANTIDAD=%{marker.size}",
         "legendgroup": "maca bottom",
         "marker": {
          "color": "#636efa",
          "size": [
           1,
           1,
           1,
           1,
           2,
           1
          ],
          "sizemode": "area",
          "sizeref": 0.01,
          "symbol": "circle"
         },
         "mode": "markers",
         "name": "maca bottom",
         "showlegend": true,
         "type": "scatter",
         "x": [
          "ash",
          "ash",
          "ash",
          "coral",
          "coral",
          "coral"
         ],
         "xaxis": "x",
         "y": [
          1,
          2,
          3,
          1,
          2,
          3
         ],
         "yaxis": "y"
        },
        {
         "hoverlabel": {
          "namelength": 0
         },
         "hovertemplate": "MODELO=jeronimo bottom<br>COLOR=%{x}<br>TALLA=%{y}<br>CANTIDAD=%{marker.size}",
         "legendgroup": "jeronimo bottom",
         "marker": {
          "color": "#EF553B",
          "size": [
           0,
           1,
           0,
           1,
           2,
           1
          ],
          "sizemode": "area",
          "sizeref": 0.01,
          "symbol": "circle"
         },
         "mode": "markers",
         "name": "jeronimo bottom",
         "showlegend": true,
         "type": "scatter",
         "x": [
          "negro",
          "negro",
          "negro",
          "coral",
          "coral",
          "coral"
         ],
         "xaxis": "x",
         "y": [
          1,
          2,
          3,
          1,
          2,
          3
         ],
         "yaxis": "y"
        },
        {
         "hoverlabel": {
          "namelength": 0
         },
         "hovertemplate": "MODELO=emilia bodysuit<br>COLOR=%{x}<br>TALLA=%{y}<br>CANTIDAD=%{marker.size}",
         "legendgroup": "emilia bodysuit",
         "marker": {
          "color": "#00cc96",
          "size": [
           1,
           2,
           1,
           2,
           1,
           1
          ],
          "sizemode": "area",
          "sizeref": 0.01,
          "symbol": "circle"
         },
         "mode": "markers",
         "name": "emilia bodysuit",
         "showlegend": true,
         "type": "scatter",
         "x": [
          "cherry",
          "cherry",
          "cherry",
          "cotton candy",
          "cotton candy",
          "cotton candy"
         ],
         "xaxis": "x",
         "y": [
          1,
          2,
          3,
          1,
          2,
          3
         ],
         "yaxis": "y"
        },
        {
         "hoverlabel": {
          "namelength": 0
         },
         "hovertemplate": "MODELO=pastora bodysuit<br>COLOR=%{x}<br>TALLA=%{y}<br>CANTIDAD=%{marker.size}",
         "legendgroup": "pastora bodysuit",
         "marker": {
          "color": "#ab63fa",
          "size": [
           0,
           1,
           1,
           0,
           0,
           1,
           1,
           1,
           1
          ],
          "sizemode": "area",
          "sizeref": 0.01,
          "symbol": "circle"
         },
         "mode": "markers",
         "name": "pastora bodysuit",
         "showlegend": true,
         "type": "scatter",
         "x": [
          "cherry",
          "cherry",
          "cherry",
          "negro",
          "negro",
          "negro",
          "cotton candy",
          "cotton candy",
          "cotton candy"
         ],
         "xaxis": "x",
         "y": [
          1,
          2,
          3,
          1,
          2,
          3,
          1,
          2,
          3
         ],
         "yaxis": "y"
        },
        {
         "hoverlabel": {
          "namelength": 0
         },
         "hovertemplate": "MODELO=consuelo bodysuit<br>COLOR=%{x}<br>TALLA=%{y}<br>CANTIDAD=%{marker.size}",
         "legendgroup": "consuelo bodysuit",
         "marker": {
          "color": "#FFA15A",
          "size": [
           1,
           1,
           0
          ],
          "sizemode": "area",
          "sizeref": 0.01,
          "symbol": "circle"
         },
         "mode": "markers",
         "name": "consuelo bodysuit",
         "showlegend": true,
         "type": "scatter",
         "x": [
          "negro",
          "negro",
          "negro"
         ],
         "xaxis": "x",
         "y": [
          1,
          2,
          3
         ],
         "yaxis": "y"
        },
        {
         "hoverlabel": {
          "namelength": 0
         },
         "hovertemplate": "MODELO=caña bodysuit<br>COLOR=%{x}<br>TALLA=%{y}<br>CANTIDAD=%{marker.size}",
         "legendgroup": "caña bodysuit",
         "marker": {
          "color": "#19d3f3",
          "size": [
           1,
           1,
           2
          ],
          "sizemode": "area",
          "sizeref": 0.01,
          "symbol": "circle"
         },
         "mode": "markers",
         "name": "caña bodysuit",
         "showlegend": true,
         "type": "scatter",
         "x": [
          "blanco",
          "blanco",
          "blanco"
         ],
         "xaxis": "x",
         "y": [
          1,
          2,
          3
         ],
         "yaxis": "y"
        }
       ],
       "layout": {
        "legend": {
         "itemsizing": "constant",
         "title": {
          "text": "MODELO"
         },
         "tracegroupgap": 0
        },
        "margin": {
         "t": 60
        },
        "template": {
         "data": {
          "bar": [
           {
            "error_x": {
             "color": "#2a3f5f"
            },
            "error_y": {
             "color": "#2a3f5f"
            },
            "marker": {
             "line": {
              "color": "#E5ECF6",
              "width": 0.5
             }
            },
            "type": "bar"
           }
          ],
          "barpolar": [
           {
            "marker": {
             "line": {
              "color": "#E5ECF6",
              "width": 0.5
             }
            },
            "type": "barpolar"
           }
          ],
          "carpet": [
           {
            "aaxis": {
             "endlinecolor": "#2a3f5f",
             "gridcolor": "white",
             "linecolor": "white",
             "minorgridcolor": "white",
             "startlinecolor": "#2a3f5f"
            },
            "baxis": {
             "endlinecolor": "#2a3f5f",
             "gridcolor": "white",
             "linecolor": "white",
             "minorgridcolor": "white",
             "startlinecolor": "#2a3f5f"
            },
            "type": "carpet"
           }
          ],
          "choropleth": [
           {
            "colorbar": {
             "outlinewidth": 0,
             "ticks": ""
            },
            "type": "choropleth"
           }
          ],
          "contour": [
           {
            "colorbar": {
             "outlinewidth": 0,
             "ticks": ""
            },
            "colorscale": [
             [
              0,
              "#0d0887"
             ],
             [
              0.1111111111111111,
              "#46039f"
             ],
             [
              0.2222222222222222,
              "#7201a8"
             ],
             [
              0.3333333333333333,
              "#9c179e"
             ],
             [
              0.4444444444444444,
              "#bd3786"
             ],
             [
              0.5555555555555556,
              "#d8576b"
             ],
             [
              0.6666666666666666,
              "#ed7953"
             ],
             [
              0.7777777777777778,
              "#fb9f3a"
             ],
             [
              0.8888888888888888,
              "#fdca26"
             ],
             [
              1,
              "#f0f921"
             ]
            ],
            "type": "contour"
           }
          ],
          "contourcarpet": [
           {
            "colorbar": {
             "outlinewidth": 0,
             "ticks": ""
            },
            "type": "contourcarpet"
           }
          ],
          "heatmap": [
           {
            "colorbar": {
             "outlinewidth": 0,
             "ticks": ""
            },
            "colorscale": [
             [
              0,
              "#0d0887"
             ],
             [
              0.1111111111111111,
              "#46039f"
             ],
             [
              0.2222222222222222,
              "#7201a8"
             ],
             [
              0.3333333333333333,
              "#9c179e"
             ],
             [
              0.4444444444444444,
              "#bd3786"
             ],
             [
              0.5555555555555556,
              "#d8576b"
             ],
             [
              0.6666666666666666,
              "#ed7953"
             ],
             [
              0.7777777777777778,
              "#fb9f3a"
             ],
             [
              0.8888888888888888,
              "#fdca26"
             ],
             [
              1,
              "#f0f921"
             ]
            ],
            "type": "heatmap"
           }
          ],
          "heatmapgl": [
           {
            "colorbar": {
             "outlinewidth": 0,
             "ticks": ""
            },
            "colorscale": [
             [
              0,
              "#0d0887"
             ],
             [
              0.1111111111111111,
              "#46039f"
             ],
             [
              0.2222222222222222,
              "#7201a8"
             ],
             [
              0.3333333333333333,
              "#9c179e"
             ],
             [
              0.4444444444444444,
              "#bd3786"
             ],
             [
              0.5555555555555556,
              "#d8576b"
             ],
             [
              0.6666666666666666,
              "#ed7953"
             ],
             [
              0.7777777777777778,
              "#fb9f3a"
             ],
             [
              0.8888888888888888,
              "#fdca26"
             ],
             [
              1,
              "#f0f921"
             ]
            ],
            "type": "heatmapgl"
           }
          ],
          "histogram": [
           {
            "marker": {
             "colorbar": {
              "outlinewidth": 0,
              "ticks": ""
             }
            },
            "type": "histogram"
           }
          ],
          "histogram2d": [
           {
            "colorbar": {
             "outlinewidth": 0,
             "ticks": ""
            },
            "colorscale": [
             [
              0,
              "#0d0887"
             ],
             [
              0.1111111111111111,
              "#46039f"
             ],
             [
              0.2222222222222222,
              "#7201a8"
             ],
             [
              0.3333333333333333,
              "#9c179e"
             ],
             [
              0.4444444444444444,
              "#bd3786"
             ],
             [
              0.5555555555555556,
              "#d8576b"
             ],
             [
              0.6666666666666666,
              "#ed7953"
             ],
             [
              0.7777777777777778,
              "#fb9f3a"
             ],
             [
              0.8888888888888888,
              "#fdca26"
             ],
             [
              1,
              "#f0f921"
             ]
            ],
            "type": "histogram2d"
           }
          ],
          "histogram2dcontour": [
           {
            "colorbar": {
             "outlinewidth": 0,
             "ticks": ""
            },
            "colorscale": [
             [
              0,
              "#0d0887"
             ],
             [
              0.1111111111111111,
              "#46039f"
             ],
             [
              0.2222222222222222,
              "#7201a8"
             ],
             [
              0.3333333333333333,
              "#9c179e"
             ],
             [
              0.4444444444444444,
              "#bd3786"
             ],
             [
              0.5555555555555556,
              "#d8576b"
             ],
             [
              0.6666666666666666,
              "#ed7953"
             ],
             [
              0.7777777777777778,
              "#fb9f3a"
             ],
             [
              0.8888888888888888,
              "#fdca26"
             ],
             [
              1,
              "#f0f921"
             ]
            ],
            "type": "histogram2dcontour"
           }
          ],
          "mesh3d": [
           {
            "colorbar": {
             "outlinewidth": 0,
             "ticks": ""
            },
            "type": "mesh3d"
           }
          ],
          "parcoords": [
           {
            "line": {
             "colorbar": {
              "outlinewidth": 0,
              "ticks": ""
             }
            },
            "type": "parcoords"
           }
          ],
          "pie": [
           {
            "automargin": true,
            "type": "pie"
           }
          ],
          "scatter": [
           {
            "marker": {
             "colorbar": {
              "outlinewidth": 0,
              "ticks": ""
             }
            },
            "type": "scatter"
           }
          ],
          "scatter3d": [
           {
            "line": {
             "colorbar": {
              "outlinewidth": 0,
              "ticks": ""
             }
            },
            "marker": {
             "colorbar": {
              "outlinewidth": 0,
              "ticks": ""
             }
            },
            "type": "scatter3d"
           }
          ],
          "scattercarpet": [
           {
            "marker": {
             "colorbar": {
              "outlinewidth": 0,
              "ticks": ""
             }
            },
            "type": "scattercarpet"
           }
          ],
          "scattergeo": [
           {
            "marker": {
             "colorbar": {
              "outlinewidth": 0,
              "ticks": ""
             }
            },
            "type": "scattergeo"
           }
          ],
          "scattergl": [
           {
            "marker": {
             "colorbar": {
              "outlinewidth": 0,
              "ticks": ""
             }
            },
            "type": "scattergl"
           }
          ],
          "scattermapbox": [
           {
            "marker": {
             "colorbar": {
              "outlinewidth": 0,
              "ticks": ""
             }
            },
            "type": "scattermapbox"
           }
          ],
          "scatterpolar": [
           {
            "marker": {
             "colorbar": {
              "outlinewidth": 0,
              "ticks": ""
             }
            },
            "type": "scatterpolar"
           }
          ],
          "scatterpolargl": [
           {
            "marker": {
             "colorbar": {
              "outlinewidth": 0,
              "ticks": ""
             }
            },
            "type": "scatterpolargl"
           }
          ],
          "scatterternary": [
           {
            "marker": {
             "colorbar": {
              "outlinewidth": 0,
              "ticks": ""
             }
            },
            "type": "scatterternary"
           }
          ],
          "surface": [
           {
            "colorbar": {
             "outlinewidth": 0,
             "ticks": ""
            },
            "colorscale": [
             [
              0,
              "#0d0887"
             ],
             [
              0.1111111111111111,
              "#46039f"
             ],
             [
              0.2222222222222222,
              "#7201a8"
             ],
             [
              0.3333333333333333,
              "#9c179e"
             ],
             [
              0.4444444444444444,
              "#bd3786"
             ],
             [
              0.5555555555555556,
              "#d8576b"
             ],
             [
              0.6666666666666666,
              "#ed7953"
             ],
             [
              0.7777777777777778,
              "#fb9f3a"
             ],
             [
              0.8888888888888888,
              "#fdca26"
             ],
             [
              1,
              "#f0f921"
             ]
            ],
            "type": "surface"
           }
          ],
          "table": [
           {
            "cells": {
             "fill": {
              "color": "#EBF0F8"
             },
             "line": {
              "color": "white"
             }
            },
            "header": {
             "fill": {
              "color": "#C8D4E3"
             },
             "line": {
              "color": "white"
             }
            },
            "type": "table"
           }
          ]
         },
         "layout": {
          "annotationdefaults": {
           "arrowcolor": "#2a3f5f",
           "arrowhead": 0,
           "arrowwidth": 1
          },
          "coloraxis": {
           "colorbar": {
            "outlinewidth": 0,
            "ticks": ""
           }
          },
          "colorscale": {
           "diverging": [
            [
             0,
             "#8e0152"
            ],
            [
             0.1,
             "#c51b7d"
            ],
            [
             0.2,
             "#de77ae"
            ],
            [
             0.3,
             "#f1b6da"
            ],
            [
             0.4,
             "#fde0ef"
            ],
            [
             0.5,
             "#f7f7f7"
            ],
            [
             0.6,
             "#e6f5d0"
            ],
            [
             0.7,
             "#b8e186"
            ],
            [
             0.8,
             "#7fbc41"
            ],
            [
             0.9,
             "#4d9221"
            ],
            [
             1,
             "#276419"
            ]
           ],
           "sequential": [
            [
             0,
             "#0d0887"
            ],
            [
             0.1111111111111111,
             "#46039f"
            ],
            [
             0.2222222222222222,
             "#7201a8"
            ],
            [
             0.3333333333333333,
             "#9c179e"
            ],
            [
             0.4444444444444444,
             "#bd3786"
            ],
            [
             0.5555555555555556,
             "#d8576b"
            ],
            [
             0.6666666666666666,
             "#ed7953"
            ],
            [
             0.7777777777777778,
             "#fb9f3a"
            ],
            [
             0.8888888888888888,
             "#fdca26"
            ],
            [
             1,
             "#f0f921"
            ]
           ],
           "sequentialminus": [
            [
             0,
             "#0d0887"
            ],
            [
             0.1111111111111111,
             "#46039f"
            ],
            [
             0.2222222222222222,
             "#7201a8"
            ],
            [
             0.3333333333333333,
             "#9c179e"
            ],
            [
             0.4444444444444444,
             "#bd3786"
            ],
            [
             0.5555555555555556,
             "#d8576b"
            ],
            [
             0.6666666666666666,
             "#ed7953"
            ],
            [
             0.7777777777777778,
             "#fb9f3a"
            ],
            [
             0.8888888888888888,
             "#fdca26"
            ],
            [
             1,
             "#f0f921"
            ]
           ]
          },
          "colorway": [
           "#636efa",
           "#EF553B",
           "#00cc96",
           "#ab63fa",
           "#FFA15A",
           "#19d3f3",
           "#FF6692",
           "#B6E880",
           "#FF97FF",
           "#FECB52"
          ],
          "font": {
           "color": "#2a3f5f"
          },
          "geo": {
           "bgcolor": "white",
           "lakecolor": "white",
           "landcolor": "#E5ECF6",
           "showlakes": true,
           "showland": true,
           "subunitcolor": "white"
          },
          "hoverlabel": {
           "align": "left"
          },
          "hovermode": "closest",
          "mapbox": {
           "style": "light"
          },
          "paper_bgcolor": "white",
          "plot_bgcolor": "#E5ECF6",
          "polar": {
           "angularaxis": {
            "gridcolor": "white",
            "linecolor": "white",
            "ticks": ""
           },
           "bgcolor": "#E5ECF6",
           "radialaxis": {
            "gridcolor": "white",
            "linecolor": "white",
            "ticks": ""
           }
          },
          "scene": {
           "xaxis": {
            "backgroundcolor": "#E5ECF6",
            "gridcolor": "white",
            "gridwidth": 2,
            "linecolor": "white",
            "showbackground": true,
            "ticks": "",
            "zerolinecolor": "white"
           },
           "yaxis": {
            "backgroundcolor": "#E5ECF6",
            "gridcolor": "white",
            "gridwidth": 2,
            "linecolor": "white",
            "showbackground": true,
            "ticks": "",
            "zerolinecolor": "white"
           },
           "zaxis": {
            "backgroundcolor": "#E5ECF6",
            "gridcolor": "white",
            "gridwidth": 2,
            "linecolor": "white",
            "showbackground": true,
            "ticks": "",
            "zerolinecolor": "white"
           }
          },
          "shapedefaults": {
           "line": {
            "color": "#2a3f5f"
           }
          },
          "ternary": {
           "aaxis": {
            "gridcolor": "white",
            "linecolor": "white",
            "ticks": ""
           },
           "baxis": {
            "gridcolor": "white",
            "linecolor": "white",
            "ticks": ""
           },
           "bgcolor": "#E5ECF6",
           "caxis": {
            "gridcolor": "white",
            "linecolor": "white",
            "ticks": ""
           }
          },
          "title": {
           "x": 0.05
          },
          "xaxis": {
           "automargin": true,
           "gridcolor": "white",
           "linecolor": "white",
           "ticks": "",
           "title": {
            "standoff": 15
           },
           "zerolinecolor": "white",
           "zerolinewidth": 2
          },
          "yaxis": {
           "automargin": true,
           "gridcolor": "white",
           "linecolor": "white",
           "ticks": "",
           "title": {
            "standoff": 15
           },
           "zerolinecolor": "white",
           "zerolinewidth": 2
          }
         }
        },
        "xaxis": {
         "anchor": "y",
         "domain": [
          0,
          1
         ],
         "title": {
          "text": "COLOR"
         }
        },
        "yaxis": {
         "anchor": "x",
         "domain": [
          0,
          1
         ],
         "title": {
          "text": "TALLA"
         }
        }
       }
      },
      "text/html": [
       "<div>\n",
       "        \n",
       "        \n",
       "            <div id=\"35e4b931-0938-4609-ba7c-a07d3e47aa21\" class=\"plotly-graph-div\" style=\"height:525px; width:100%;\"></div>\n",
       "            <script type=\"text/javascript\">\n",
       "                require([\"plotly\"], function(Plotly) {\n",
       "                    window.PLOTLYENV=window.PLOTLYENV || {};\n",
       "                    \n",
       "                if (document.getElementById(\"35e4b931-0938-4609-ba7c-a07d3e47aa21\")) {\n",
       "                    Plotly.newPlot(\n",
       "                        '35e4b931-0938-4609-ba7c-a07d3e47aa21',\n",
       "                        [{\"hoverlabel\": {\"namelength\": 0}, \"hovertemplate\": \"MODELO=3gracias bodysuit<br>COLOR=%{x}<br>TALLA=%{y}<br>CANTIDAD=%{marker.size}\", \"legendgroup\": \"3gracias bodysuit\", \"marker\": {\"color\": \"#636efa\", \"size\": [0.0, 1.0, 0.0], \"sizemode\": \"area\", \"sizeref\": 0.01, \"symbol\": \"circle\"}, \"mode\": \"markers\", \"name\": \"3gracias bodysuit\", \"showlegend\": true, \"type\": \"scatter\", \"x\": [\"lavanda/ash/coral\", \"lavanda/ash/coral\", \"lavanda/ash/coral\"], \"xaxis\": \"x\", \"y\": [1, 2, 3], \"yaxis\": \"y\"}, {\"hoverlabel\": {\"namelength\": 0}, \"hovertemplate\": \"MODELO=gracia bodysuit<br>COLOR=%{x}<br>TALLA=%{y}<br>CANTIDAD=%{marker.size}\", \"legendgroup\": \"gracia bodysuit\", \"marker\": {\"color\": \"#EF553B\", \"size\": [2.0, 1.0, 2.0], \"sizemode\": \"area\", \"sizeref\": 0.01, \"symbol\": \"circle\"}, \"mode\": \"markers\", \"name\": \"gracia bodysuit\", \"showlegend\": true, \"type\": \"scatter\", \"x\": [\"lavanda\", \"lavanda\", \"lavanda\"], \"xaxis\": \"x\", \"y\": [1, 2, 3], \"yaxis\": \"y\"}, {\"hoverlabel\": {\"namelength\": 0}, \"hovertemplate\": \"MODELO=naranjo bodysuit<br>COLOR=%{x}<br>TALLA=%{y}<br>CANTIDAD=%{marker.size}\", \"legendgroup\": \"naranjo bodysuit\", \"marker\": {\"color\": \"#00cc96\", \"size\": [0.0, 2.0, 0.0, 0.0, 2.0, 1.0], \"sizemode\": \"area\", \"sizeref\": 0.01, \"symbol\": \"circle\"}, \"mode\": \"markers\", \"name\": \"naranjo bodysuit\", \"showlegend\": true, \"type\": \"scatter\", \"x\": [\"ash\", \"ash\", \"ash\", \"coral\", \"coral\", \"coral\"], \"xaxis\": \"x\", \"y\": [1, 2, 3, 1, 2, 3], \"yaxis\": \"y\"}, {\"hoverlabel\": {\"namelength\": 0}, \"hovertemplate\": \"MODELO=venus bodysuit<br>COLOR=%{x}<br>TALLA=%{y}<br>CANTIDAD=%{marker.size}\", \"legendgroup\": \"venus bodysuit\", \"marker\": {\"color\": \"#ab63fa\", \"size\": [1.0, 1.0, 0.0, 2.0, 2.0, 2.0, 0.0, 2.0, 1.0], \"sizemode\": \"area\", \"sizeref\": 0.01, \"symbol\": \"circle\"}, \"mode\": \"markers\", \"name\": \"venus bodysuit\", \"showlegend\": true, \"type\": \"scatter\", \"x\": [\"ash\", \"ash\", \"ash\", \"coral\", \"coral\", \"coral\", \"negro\", \"negro\", \"negro\"], \"xaxis\": \"x\", \"y\": [1, 2, 3, 1, 2, 3, 1, 2, 3], \"yaxis\": \"y\"}, {\"hoverlabel\": {\"namelength\": 0}, \"hovertemplate\": \"MODELO=eros top<br>COLOR=%{x}<br>TALLA=%{y}<br>CANTIDAD=%{marker.size}\", \"legendgroup\": \"eros top\", \"marker\": {\"color\": \"#FFA15A\", \"size\": [2.0, 2.0, 1.0, 0.0, 2.0, 0.0, 1.0, 1.0, 1.0, 2.0, 1.0, 1.0], \"sizemode\": \"area\", \"sizeref\": 0.01, \"symbol\": \"circle\"}, \"mode\": \"markers\", \"name\": \"eros top\", \"showlegend\": true, \"type\": \"scatter\", \"x\": [\"lavanda\", \"lavanda\", \"lavanda\", \"coral\", \"coral\", \"coral\", \"ash\", \"ash\", \"ash\", \"cotton candy\", \"cotton candy\", \"cotton candy\"], \"xaxis\": \"x\", \"y\": [1, 2, 3, 1, 2, 3, 1, 2, 3, 1, 2, 3], \"yaxis\": \"y\"}, {\"hoverlabel\": {\"namelength\": 0}, \"hovertemplate\": \"MODELO=aries top<br>COLOR=%{x}<br>TALLA=%{y}<br>CANTIDAD=%{marker.size}\", \"legendgroup\": \"aries top\", \"marker\": {\"color\": \"#19d3f3\", \"size\": [0.0, 2.0, 1.0, 1.0, 2.0, 0.0], \"sizemode\": \"area\", \"sizeref\": 0.01, \"symbol\": \"circle\"}, \"mode\": \"markers\", \"name\": \"aries top\", \"showlegend\": true, \"type\": \"scatter\", \"x\": [\"lavanda\", \"lavanda\", \"lavanda\", \"ash\", \"ash\", \"ash\"], \"xaxis\": \"x\", \"y\": [1, 2, 3, 1, 2, 3], \"yaxis\": \"y\"}, {\"hoverlabel\": {\"namelength\": 0}, \"hovertemplate\": \"MODELO=geminis top<br>COLOR=%{x}<br>TALLA=%{y}<br>CANTIDAD=%{marker.size}\", \"legendgroup\": \"geminis top\", \"marker\": {\"color\": \"#FF6692\", \"size\": [1.0, 2.0, 2.0, 1.0, 4.0, 1.0], \"sizemode\": \"area\", \"sizeref\": 0.01, \"symbol\": \"circle\"}, \"mode\": \"markers\", \"name\": \"geminis top\", \"showlegend\": true, \"type\": \"scatter\", \"x\": [\"ash/negro\", \"ash/negro\", \"ash/negro\", \"ash/lavanda\", \"ash/lavanda\", \"ash/lavanda\"], \"xaxis\": \"x\", \"y\": [1, 2, 3, 1, 2, 3], \"yaxis\": \"y\"}, {\"hoverlabel\": {\"namelength\": 0}, \"hovertemplate\": \"MODELO=geminis bottom<br>COLOR=%{x}<br>TALLA=%{y}<br>CANTIDAD=%{marker.size}\", \"legendgroup\": \"geminis bottom\", \"marker\": {\"color\": \"#B6E880\", \"size\": [0.0], \"sizemode\": \"area\", \"sizeref\": 0.01, \"symbol\": \"circle\"}, \"mode\": \"markers\", \"name\": \"geminis bottom\", \"showlegend\": true, \"type\": \"scatter\", \"x\": [\"ash/lavanda\"], \"xaxis\": \"x\", \"y\": [3], \"yaxis\": \"y\"}, {\"hoverlabel\": {\"namelength\": 0}, \"hovertemplate\": \"MODELO=lola bottom<br>COLOR=%{x}<br>TALLA=%{y}<br>CANTIDAD=%{marker.size}\", \"legendgroup\": \"lola bottom\", \"marker\": {\"color\": \"#FF97FF\", \"size\": [2.0, 1.0, 1.0, 1.0, 0.0, 0.0, 2.0, 1.0, 1.0], \"sizemode\": \"area\", \"sizeref\": 0.01, \"symbol\": \"circle\"}, \"mode\": \"markers\", \"name\": \"lola bottom\", \"showlegend\": true, \"type\": \"scatter\", \"x\": [\"lavanda\", \"lavanda\", \"lavanda\", \"ash\", \"ash\", \"ash\", \"cotton candy\", \"cotton candy\", \"cotton candy\"], \"xaxis\": \"x\", \"y\": [1, 2, 3, 1, 2, 3, 1, 2, 3], \"yaxis\": \"y\"}, {\"hoverlabel\": {\"namelength\": 0}, \"hovertemplate\": \"MODELO=apolo bottom<br>COLOR=%{x}<br>TALLA=%{y}<br>CANTIDAD=%{marker.size}\", \"legendgroup\": \"apolo bottom\", \"marker\": {\"color\": \"#FECB52\", \"size\": [0.0, 1.0, 0.0, 0.0, 0.0, 1.0, 1.0, 1.0], \"sizemode\": \"area\", \"sizeref\": 0.01, \"symbol\": \"circle\"}, \"mode\": \"markers\", \"name\": \"apolo bottom\", \"showlegend\": true, \"type\": \"scatter\", \"x\": [\"negro\", \"negro\", \"negro\", \"ash\", \"ash\", \"cotton candy\", \"cotton candy\", \"cotton candy\"], \"xaxis\": \"x\", \"y\": [1, 2, 3, 2, 3, 1, 2, 3], \"yaxis\": \"y\"}, {\"hoverlabel\": {\"namelength\": 0}, \"hovertemplate\": \"MODELO=maca bottom<br>COLOR=%{x}<br>TALLA=%{y}<br>CANTIDAD=%{marker.size}\", \"legendgroup\": \"maca bottom\", \"marker\": {\"color\": \"#636efa\", \"size\": [1.0, 1.0, 1.0, 1.0, 2.0, 1.0], \"sizemode\": \"area\", \"sizeref\": 0.01, \"symbol\": \"circle\"}, \"mode\": \"markers\", \"name\": \"maca bottom\", \"showlegend\": true, \"type\": \"scatter\", \"x\": [\"ash\", \"ash\", \"ash\", \"coral\", \"coral\", \"coral\"], \"xaxis\": \"x\", \"y\": [1, 2, 3, 1, 2, 3], \"yaxis\": \"y\"}, {\"hoverlabel\": {\"namelength\": 0}, \"hovertemplate\": \"MODELO=jeronimo bottom<br>COLOR=%{x}<br>TALLA=%{y}<br>CANTIDAD=%{marker.size}\", \"legendgroup\": \"jeronimo bottom\", \"marker\": {\"color\": \"#EF553B\", \"size\": [0.0, 1.0, 0.0, 1.0, 2.0, 1.0], \"sizemode\": \"area\", \"sizeref\": 0.01, \"symbol\": \"circle\"}, \"mode\": \"markers\", \"name\": \"jeronimo bottom\", \"showlegend\": true, \"type\": \"scatter\", \"x\": [\"negro\", \"negro\", \"negro\", \"coral\", \"coral\", \"coral\"], \"xaxis\": \"x\", \"y\": [1, 2, 3, 1, 2, 3], \"yaxis\": \"y\"}, {\"hoverlabel\": {\"namelength\": 0}, \"hovertemplate\": \"MODELO=emilia bodysuit<br>COLOR=%{x}<br>TALLA=%{y}<br>CANTIDAD=%{marker.size}\", \"legendgroup\": \"emilia bodysuit\", \"marker\": {\"color\": \"#00cc96\", \"size\": [1.0, 2.0, 1.0, 2.0, 1.0, 1.0], \"sizemode\": \"area\", \"sizeref\": 0.01, \"symbol\": \"circle\"}, \"mode\": \"markers\", \"name\": \"emilia bodysuit\", \"showlegend\": true, \"type\": \"scatter\", \"x\": [\"cherry\", \"cherry\", \"cherry\", \"cotton candy\", \"cotton candy\", \"cotton candy\"], \"xaxis\": \"x\", \"y\": [1, 2, 3, 1, 2, 3], \"yaxis\": \"y\"}, {\"hoverlabel\": {\"namelength\": 0}, \"hovertemplate\": \"MODELO=pastora bodysuit<br>COLOR=%{x}<br>TALLA=%{y}<br>CANTIDAD=%{marker.size}\", \"legendgroup\": \"pastora bodysuit\", \"marker\": {\"color\": \"#ab63fa\", \"size\": [0.0, 1.0, 1.0, 0.0, 0.0, 1.0, 1.0, 1.0, 1.0], \"sizemode\": \"area\", \"sizeref\": 0.01, \"symbol\": \"circle\"}, \"mode\": \"markers\", \"name\": \"pastora bodysuit\", \"showlegend\": true, \"type\": \"scatter\", \"x\": [\"cherry\", \"cherry\", \"cherry\", \"negro\", \"negro\", \"negro\", \"cotton candy\", \"cotton candy\", \"cotton candy\"], \"xaxis\": \"x\", \"y\": [1, 2, 3, 1, 2, 3, 1, 2, 3], \"yaxis\": \"y\"}, {\"hoverlabel\": {\"namelength\": 0}, \"hovertemplate\": \"MODELO=consuelo bodysuit<br>COLOR=%{x}<br>TALLA=%{y}<br>CANTIDAD=%{marker.size}\", \"legendgroup\": \"consuelo bodysuit\", \"marker\": {\"color\": \"#FFA15A\", \"size\": [1.0, 1.0, 0.0], \"sizemode\": \"area\", \"sizeref\": 0.01, \"symbol\": \"circle\"}, \"mode\": \"markers\", \"name\": \"consuelo bodysuit\", \"showlegend\": true, \"type\": \"scatter\", \"x\": [\"negro\", \"negro\", \"negro\"], \"xaxis\": \"x\", \"y\": [1, 2, 3], \"yaxis\": \"y\"}, {\"hoverlabel\": {\"namelength\": 0}, \"hovertemplate\": \"MODELO=ca\\u00f1a bodysuit<br>COLOR=%{x}<br>TALLA=%{y}<br>CANTIDAD=%{marker.size}\", \"legendgroup\": \"ca\\u00f1a bodysuit\", \"marker\": {\"color\": \"#19d3f3\", \"size\": [1.0, 1.0, 2.0], \"sizemode\": \"area\", \"sizeref\": 0.01, \"symbol\": \"circle\"}, \"mode\": \"markers\", \"name\": \"ca\\u00f1a bodysuit\", \"showlegend\": true, \"type\": \"scatter\", \"x\": [\"blanco\", \"blanco\", \"blanco\"], \"xaxis\": \"x\", \"y\": [1, 2, 3], \"yaxis\": \"y\"}],\n",
       "                        {\"legend\": {\"itemsizing\": \"constant\", \"title\": {\"text\": \"MODELO\"}, \"tracegroupgap\": 0}, \"margin\": {\"t\": 60}, \"template\": {\"data\": {\"bar\": [{\"error_x\": {\"color\": \"#2a3f5f\"}, \"error_y\": {\"color\": \"#2a3f5f\"}, \"marker\": {\"line\": {\"color\": \"#E5ECF6\", \"width\": 0.5}}, \"type\": \"bar\"}], \"barpolar\": [{\"marker\": {\"line\": {\"color\": \"#E5ECF6\", \"width\": 0.5}}, \"type\": \"barpolar\"}], \"carpet\": [{\"aaxis\": {\"endlinecolor\": \"#2a3f5f\", \"gridcolor\": \"white\", \"linecolor\": \"white\", \"minorgridcolor\": \"white\", \"startlinecolor\": \"#2a3f5f\"}, \"baxis\": {\"endlinecolor\": \"#2a3f5f\", \"gridcolor\": \"white\", \"linecolor\": \"white\", \"minorgridcolor\": \"white\", \"startlinecolor\": \"#2a3f5f\"}, \"type\": \"carpet\"}], \"choropleth\": [{\"colorbar\": {\"outlinewidth\": 0, \"ticks\": \"\"}, \"type\": \"choropleth\"}], \"contour\": [{\"colorbar\": {\"outlinewidth\": 0, \"ticks\": \"\"}, \"colorscale\": [[0.0, \"#0d0887\"], [0.1111111111111111, \"#46039f\"], [0.2222222222222222, \"#7201a8\"], [0.3333333333333333, \"#9c179e\"], [0.4444444444444444, \"#bd3786\"], [0.5555555555555556, \"#d8576b\"], [0.6666666666666666, \"#ed7953\"], [0.7777777777777778, \"#fb9f3a\"], [0.8888888888888888, \"#fdca26\"], [1.0, \"#f0f921\"]], \"type\": \"contour\"}], \"contourcarpet\": [{\"colorbar\": {\"outlinewidth\": 0, \"ticks\": \"\"}, \"type\": \"contourcarpet\"}], \"heatmap\": [{\"colorbar\": {\"outlinewidth\": 0, \"ticks\": \"\"}, \"colorscale\": [[0.0, \"#0d0887\"], [0.1111111111111111, \"#46039f\"], [0.2222222222222222, \"#7201a8\"], [0.3333333333333333, \"#9c179e\"], [0.4444444444444444, \"#bd3786\"], [0.5555555555555556, \"#d8576b\"], [0.6666666666666666, \"#ed7953\"], [0.7777777777777778, \"#fb9f3a\"], [0.8888888888888888, \"#fdca26\"], [1.0, \"#f0f921\"]], \"type\": \"heatmap\"}], \"heatmapgl\": [{\"colorbar\": {\"outlinewidth\": 0, \"ticks\": \"\"}, \"colorscale\": [[0.0, \"#0d0887\"], [0.1111111111111111, \"#46039f\"], [0.2222222222222222, \"#7201a8\"], [0.3333333333333333, \"#9c179e\"], [0.4444444444444444, \"#bd3786\"], [0.5555555555555556, \"#d8576b\"], [0.6666666666666666, \"#ed7953\"], [0.7777777777777778, \"#fb9f3a\"], [0.8888888888888888, \"#fdca26\"], [1.0, \"#f0f921\"]], \"type\": \"heatmapgl\"}], \"histogram\": [{\"marker\": {\"colorbar\": {\"outlinewidth\": 0, \"ticks\": \"\"}}, \"type\": \"histogram\"}], \"histogram2d\": [{\"colorbar\": {\"outlinewidth\": 0, \"ticks\": \"\"}, \"colorscale\": [[0.0, \"#0d0887\"], [0.1111111111111111, \"#46039f\"], [0.2222222222222222, \"#7201a8\"], [0.3333333333333333, \"#9c179e\"], [0.4444444444444444, \"#bd3786\"], [0.5555555555555556, \"#d8576b\"], [0.6666666666666666, \"#ed7953\"], [0.7777777777777778, \"#fb9f3a\"], [0.8888888888888888, \"#fdca26\"], [1.0, \"#f0f921\"]], \"type\": \"histogram2d\"}], \"histogram2dcontour\": [{\"colorbar\": {\"outlinewidth\": 0, \"ticks\": \"\"}, \"colorscale\": [[0.0, \"#0d0887\"], [0.1111111111111111, \"#46039f\"], [0.2222222222222222, \"#7201a8\"], [0.3333333333333333, \"#9c179e\"], [0.4444444444444444, \"#bd3786\"], [0.5555555555555556, \"#d8576b\"], [0.6666666666666666, \"#ed7953\"], [0.7777777777777778, \"#fb9f3a\"], [0.8888888888888888, \"#fdca26\"], [1.0, \"#f0f921\"]], \"type\": \"histogram2dcontour\"}], \"mesh3d\": [{\"colorbar\": {\"outlinewidth\": 0, \"ticks\": \"\"}, \"type\": \"mesh3d\"}], \"parcoords\": [{\"line\": {\"colorbar\": {\"outlinewidth\": 0, \"ticks\": \"\"}}, \"type\": \"parcoords\"}], \"pie\": [{\"automargin\": true, \"type\": \"pie\"}], \"scatter\": [{\"marker\": {\"colorbar\": {\"outlinewidth\": 0, \"ticks\": \"\"}}, \"type\": \"scatter\"}], \"scatter3d\": [{\"line\": {\"colorbar\": {\"outlinewidth\": 0, \"ticks\": \"\"}}, \"marker\": {\"colorbar\": {\"outlinewidth\": 0, \"ticks\": \"\"}}, \"type\": \"scatter3d\"}], \"scattercarpet\": [{\"marker\": {\"colorbar\": {\"outlinewidth\": 0, \"ticks\": \"\"}}, \"type\": \"scattercarpet\"}], \"scattergeo\": [{\"marker\": {\"colorbar\": {\"outlinewidth\": 0, \"ticks\": \"\"}}, \"type\": \"scattergeo\"}], \"scattergl\": [{\"marker\": {\"colorbar\": {\"outlinewidth\": 0, \"ticks\": \"\"}}, \"type\": \"scattergl\"}], \"scattermapbox\": [{\"marker\": {\"colorbar\": {\"outlinewidth\": 0, \"ticks\": \"\"}}, \"type\": \"scattermapbox\"}], \"scatterpolar\": [{\"marker\": {\"colorbar\": {\"outlinewidth\": 0, \"ticks\": \"\"}}, \"type\": \"scatterpolar\"}], \"scatterpolargl\": [{\"marker\": {\"colorbar\": {\"outlinewidth\": 0, \"ticks\": \"\"}}, \"type\": \"scatterpolargl\"}], \"scatterternary\": [{\"marker\": {\"colorbar\": {\"outlinewidth\": 0, \"ticks\": \"\"}}, \"type\": \"scatterternary\"}], \"surface\": [{\"colorbar\": {\"outlinewidth\": 0, \"ticks\": \"\"}, \"colorscale\": [[0.0, \"#0d0887\"], [0.1111111111111111, \"#46039f\"], [0.2222222222222222, \"#7201a8\"], [0.3333333333333333, \"#9c179e\"], [0.4444444444444444, \"#bd3786\"], [0.5555555555555556, \"#d8576b\"], [0.6666666666666666, \"#ed7953\"], [0.7777777777777778, \"#fb9f3a\"], [0.8888888888888888, \"#fdca26\"], [1.0, \"#f0f921\"]], \"type\": \"surface\"}], \"table\": [{\"cells\": {\"fill\": {\"color\": \"#EBF0F8\"}, \"line\": {\"color\": \"white\"}}, \"header\": {\"fill\": {\"color\": \"#C8D4E3\"}, \"line\": {\"color\": \"white\"}}, \"type\": \"table\"}]}, \"layout\": {\"annotationdefaults\": {\"arrowcolor\": \"#2a3f5f\", \"arrowhead\": 0, \"arrowwidth\": 1}, \"coloraxis\": {\"colorbar\": {\"outlinewidth\": 0, \"ticks\": \"\"}}, \"colorscale\": {\"diverging\": [[0, \"#8e0152\"], [0.1, \"#c51b7d\"], [0.2, \"#de77ae\"], [0.3, \"#f1b6da\"], [0.4, \"#fde0ef\"], [0.5, \"#f7f7f7\"], [0.6, \"#e6f5d0\"], [0.7, \"#b8e186\"], [0.8, \"#7fbc41\"], [0.9, \"#4d9221\"], [1, \"#276419\"]], \"sequential\": [[0.0, \"#0d0887\"], [0.1111111111111111, \"#46039f\"], [0.2222222222222222, \"#7201a8\"], [0.3333333333333333, \"#9c179e\"], [0.4444444444444444, \"#bd3786\"], [0.5555555555555556, \"#d8576b\"], [0.6666666666666666, \"#ed7953\"], [0.7777777777777778, \"#fb9f3a\"], [0.8888888888888888, \"#fdca26\"], [1.0, \"#f0f921\"]], \"sequentialminus\": [[0.0, \"#0d0887\"], [0.1111111111111111, \"#46039f\"], [0.2222222222222222, \"#7201a8\"], [0.3333333333333333, \"#9c179e\"], [0.4444444444444444, \"#bd3786\"], [0.5555555555555556, \"#d8576b\"], [0.6666666666666666, \"#ed7953\"], [0.7777777777777778, \"#fb9f3a\"], [0.8888888888888888, \"#fdca26\"], [1.0, \"#f0f921\"]]}, \"colorway\": [\"#636efa\", \"#EF553B\", \"#00cc96\", \"#ab63fa\", \"#FFA15A\", \"#19d3f3\", \"#FF6692\", \"#B6E880\", \"#FF97FF\", \"#FECB52\"], \"font\": {\"color\": \"#2a3f5f\"}, \"geo\": {\"bgcolor\": \"white\", \"lakecolor\": \"white\", \"landcolor\": \"#E5ECF6\", \"showlakes\": true, \"showland\": true, \"subunitcolor\": \"white\"}, \"hoverlabel\": {\"align\": \"left\"}, \"hovermode\": \"closest\", \"mapbox\": {\"style\": \"light\"}, \"paper_bgcolor\": \"white\", \"plot_bgcolor\": \"#E5ECF6\", \"polar\": {\"angularaxis\": {\"gridcolor\": \"white\", \"linecolor\": \"white\", \"ticks\": \"\"}, \"bgcolor\": \"#E5ECF6\", \"radialaxis\": {\"gridcolor\": \"white\", \"linecolor\": \"white\", \"ticks\": \"\"}}, \"scene\": {\"xaxis\": {\"backgroundcolor\": \"#E5ECF6\", \"gridcolor\": \"white\", \"gridwidth\": 2, \"linecolor\": \"white\", \"showbackground\": true, \"ticks\": \"\", \"zerolinecolor\": \"white\"}, \"yaxis\": {\"backgroundcolor\": \"#E5ECF6\", \"gridcolor\": \"white\", \"gridwidth\": 2, \"linecolor\": \"white\", \"showbackground\": true, \"ticks\": \"\", \"zerolinecolor\": \"white\"}, \"zaxis\": {\"backgroundcolor\": \"#E5ECF6\", \"gridcolor\": \"white\", \"gridwidth\": 2, \"linecolor\": \"white\", \"showbackground\": true, \"ticks\": \"\", \"zerolinecolor\": \"white\"}}, \"shapedefaults\": {\"line\": {\"color\": \"#2a3f5f\"}}, \"ternary\": {\"aaxis\": {\"gridcolor\": \"white\", \"linecolor\": \"white\", \"ticks\": \"\"}, \"baxis\": {\"gridcolor\": \"white\", \"linecolor\": \"white\", \"ticks\": \"\"}, \"bgcolor\": \"#E5ECF6\", \"caxis\": {\"gridcolor\": \"white\", \"linecolor\": \"white\", \"ticks\": \"\"}}, \"title\": {\"x\": 0.05}, \"xaxis\": {\"automargin\": true, \"gridcolor\": \"white\", \"linecolor\": \"white\", \"ticks\": \"\", \"title\": {\"standoff\": 15}, \"zerolinecolor\": \"white\", \"zerolinewidth\": 2}, \"yaxis\": {\"automargin\": true, \"gridcolor\": \"white\", \"linecolor\": \"white\", \"ticks\": \"\", \"title\": {\"standoff\": 15}, \"zerolinecolor\": \"white\", \"zerolinewidth\": 2}}}, \"xaxis\": {\"anchor\": \"y\", \"domain\": [0.0, 1.0], \"title\": {\"text\": \"COLOR\"}}, \"yaxis\": {\"anchor\": \"x\", \"domain\": [0.0, 1.0], \"title\": {\"text\": \"TALLA\"}}},\n",
       "                        {\"responsive\": true}\n",
       "                    ).then(function(){\n",
       "                            \n",
       "var gd = document.getElementById('35e4b931-0938-4609-ba7c-a07d3e47aa21');\n",
       "var x = new MutationObserver(function (mutations, observer) {{\n",
       "        var display = window.getComputedStyle(gd).display;\n",
       "        if (!display || display === 'none') {{\n",
       "            console.log([gd, 'removed!']);\n",
       "            Plotly.purge(gd);\n",
       "            observer.disconnect();\n",
       "        }}\n",
       "}});\n",
       "\n",
       "// Listen for the removal of the full notebook cells\n",
       "var notebookContainer = gd.closest('#notebook-container');\n",
       "if (notebookContainer) {{\n",
       "    x.observe(notebookContainer, {childList: true});\n",
       "}}\n",
       "\n",
       "// Listen for the clearing of the current output cell\n",
       "var outputEl = gd.closest('.output');\n",
       "if (outputEl) {{\n",
       "    x.observe(outputEl, {childList: true});\n",
       "}}\n",
       "\n",
       "                        })\n",
       "                };\n",
       "                });\n",
       "            </script>\n",
       "        </div>"
      ]
     },
     "metadata": {},
     "output_type": "display_data"
    }
   ],
   "source": [
    "# scatter plot for simultaneous size, model and color\n",
    "\n",
    "fig = px.scatter(df, x='COLOR', y='TALLA', \n",
    "                 color='MODELO',\n",
    "                 size= 'CANTIDAD',\n",
    "                )\n",
    "\n",
    "fig.show()"
   ]
  }
 ],
 "metadata": {
  "hide_input": false,
  "kernelspec": {
   "display_name": "Python 3",
   "language": "python",
   "name": "python3"
  },
  "language_info": {
   "codemirror_mode": {
    "name": "ipython",
    "version": 3
   },
   "file_extension": ".py",
   "mimetype": "text/x-python",
   "name": "python",
   "nbconvert_exporter": "python",
   "pygments_lexer": "ipython3",
   "version": "3.7.9"
  },
  "toc": {
   "base_numbering": 1,
   "nav_menu": {},
   "number_sections": true,
   "sideBar": true,
   "skip_h1_title": false,
   "title_cell": "Table of Contents",
   "title_sidebar": "Contents",
   "toc_cell": false,
   "toc_position": {},
   "toc_section_display": true,
   "toc_window_display": false
  }
 },
 "nbformat": 4,
 "nbformat_minor": 4
}
